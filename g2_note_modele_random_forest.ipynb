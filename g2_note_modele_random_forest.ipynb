{
 "cells": [
  {
   "cell_type": "code",
   "execution_count": 17,
   "id": "bf017611",
   "metadata": {},
   "outputs": [],
   "source": [
    "import os\n",
    "import sys\n",
    "import math\n",
    "from sklearn.model_selection import train_test_split, cross_val_score\n",
    "import numpy as np\n",
    "import pandas as pd\n",
    "import matplotlib.pyplot as plt\n",
    "import seaborn as sns\n",
    "from sklearn.ensemble import RandomForestRegressor\n",
    "from sklearn.metrics import mean_squared_error, mean_absolute_error\n",
    "from sklearn.feature_selection import SequentialFeatureSelector\n",
    "from sklearn.model_selection import GridSearchCV\n",
    "from sklearn.inspection import permutation_importance"
   ]
  },
  {
   "cell_type": "code",
   "execution_count": 18,
   "id": "ba258ebf",
   "metadata": {},
   "outputs": [],
   "source": [
    "sns.set_style('darkgrid')"
   ]
  },
  {
   "cell_type": "code",
   "execution_count": 83,
   "id": "6ab26d0b",
   "metadata": {},
   "outputs": [],
   "source": [
    "train = pd.read_csv(\"train_v2.csv\")\n",
    "test = pd.read_csv(\"test_v2.csv\")\n",
    "validation = pd.read_csv(\"validation_v2.csv\")"
   ]
  },
  {
   "cell_type": "raw",
   "id": "e8d66aec",
   "metadata": {},
   "source": [
    "test.drop(['temperature_initiator','temperature_target'], axis=1, inplace = True)\n",
    "train.drop(['temperature_initiator','temperature_target'], axis=1, inplace = True)\n",
    "validation.drop(['temperature_initiator','temperature_target'], axis=1, inplace = True)"
   ]
  },
  {
   "cell_type": "code",
   "execution_count": 85,
   "id": "24d7f4cd",
   "metadata": {},
   "outputs": [],
   "source": [
    "Y_train = train[['loc_initiator_x', 'loc_initiator_y']]\n",
    "X_train = train.drop([\"loc_initiator_x\",'loc_initiator_y'], axis=1, inplace=False)\n",
    "\n",
    "Y_test = test[['loc_initiator_x', 'loc_initiator_y']]\n",
    "X_test = test.drop([\"loc_initiator_x\",'loc_initiator_y'], axis=1, inplace=False)\n",
    "\n",
    "Y_val = validation[['loc_initiator_x', 'loc_initiator_y']]\n",
    "X_val = validation.drop([\"loc_initiator_x\",'loc_initiator_y'], axis=1, inplace=False)"
   ]
  },
  {
   "cell_type": "code",
   "execution_count": 86,
   "id": "d3b50943",
   "metadata": {},
   "outputs": [
    {
     "data": {
      "text/plain": [
       "GridSearchCV(estimator=RandomForestRegressor(),\n",
       "             param_grid={'max_depth': [3, 6, 9, 12, 20, 30],\n",
       "                         'n_estimators': [1, 100, 150, 200]})"
      ]
     },
     "execution_count": 86,
     "metadata": {},
     "output_type": "execute_result"
    }
   ],
   "source": [
    "parameters = {'max_depth':[3,6,9,12,20,30],\n",
    "              'n_estimators':[1,100,150,200]}\n",
    "reg = RandomForestRegressor()\n",
    "clf = GridSearchCV(reg, parameters)\n",
    "clf.fit(X_train, Y_train)"
   ]
  },
  {
   "cell_type": "code",
   "execution_count": 87,
   "id": "98e1e1a5",
   "metadata": {},
   "outputs": [
    {
     "data": {
      "text/plain": [
       "{'max_depth': 30, 'n_estimators': 100}"
      ]
     },
     "execution_count": 87,
     "metadata": {},
     "output_type": "execute_result"
    }
   ],
   "source": [
    "params_opti = clf.cv_results_['params'][clf.best_index_]\n",
    "params_opti"
   ]
  },
  {
   "cell_type": "code",
   "execution_count": 88,
   "id": "1da8b888",
   "metadata": {},
   "outputs": [],
   "source": [
    "reg = RandomForestRegressor(max_depth = params_opti['max_depth'], n_estimators = params_opti['n_estimators'])\n",
    "reg = reg.fit(X_train, Y_train)\n",
    "pred_test=reg.predict(X_test)\n",
    "pred_val=reg.predict(X_val)"
   ]
  },
  {
   "cell_type": "code",
   "execution_count": 89,
   "id": "fffe9d0f",
   "metadata": {},
   "outputs": [
    {
     "name": "stdout",
     "output_type": "stream",
     "text": [
      "mae test :  1.3493355878186981\n",
      "rmse test :  1.7730410262508787\n",
      "mae validation :  0.318311321452588\n",
      "rmse validation :  0.5820709847233342\n"
     ]
    }
   ],
   "source": [
    "print(\"mae test : \", mean_absolute_error(Y_test, pred_test))\n",
    "print(\"rmse test : \", np.sqrt(mean_squared_error(Y_test,pred_test)))\n",
    "print(\"mae validation : \", mean_absolute_error(Y_val, pred_val))\n",
    "print(\"rmse validation : \", np.sqrt(mean_squared_error(Y_val,pred_val)))"
   ]
  },
  {
   "cell_type": "code",
   "execution_count": 90,
   "id": "43671260",
   "metadata": {},
   "outputs": [
    {
     "data": {
      "text/plain": [
       "-0.49891526514149453"
      ]
     },
     "execution_count": 90,
     "metadata": {},
     "output_type": "execute_result"
    }
   ],
   "source": [
    "reg.score(X_test,Y_test)"
   ]
  },
  {
   "cell_type": "code",
   "execution_count": 91,
   "id": "5bcb6f03",
   "metadata": {},
   "outputs": [
    {
     "data": {
      "text/plain": [
       "0.8261673680135175"
      ]
     },
     "execution_count": 91,
     "metadata": {},
     "output_type": "execute_result"
    }
   ],
   "source": [
    "reg.score(X_val,Y_val)"
   ]
  },
  {
   "cell_type": "code",
   "execution_count": 92,
   "id": "e3f88bcc",
   "metadata": {},
   "outputs": [
    {
     "data": {
      "text/plain": [
       "nlos_indicator    0.020746\n",
       "t1                0.001204\n",
       "t2                0.001249\n",
       "t3                0.001322\n",
       "t4                0.001226\n",
       "skew              0.106312\n",
       "tof               0.212820\n",
       "tof_skew          0.051342\n",
       "range             0.190909\n",
       "range_skew        0.050871\n",
       "loc_target_x      0.014396\n",
       "loc_target_y      0.006043\n",
       "rssi_request      0.013071\n",
       "rssi_ack          0.007426\n",
       "rssi_data         0.015605\n",
       "rssi_mean         0.015028\n",
       "label_0           0.003284\n",
       "label_1           0.000000\n",
       "label_2           0.058107\n",
       "label_3           0.159557\n",
       "label_4           0.001090\n",
       "label_5           0.006710\n",
       "orientation       0.061682\n",
       "dtype: float64"
      ]
     },
     "execution_count": 92,
     "metadata": {},
     "output_type": "execute_result"
    }
   ],
   "source": [
    "pd.Series(reg.feature_importances_, index=list(X_train.columns))"
   ]
  },
  {
   "cell_type": "code",
   "execution_count": 93,
   "id": "d4e10ead",
   "metadata": {},
   "outputs": [
    {
     "data": {
      "image/png": "[encoded data removed]",
      "text/plain": [
       "<Figure size 720x504 with 1 Axes>"
      ]
     },
     "metadata": {},
     "output_type": "display_data"
    }
   ],
   "source": [
    "result = permutation_importance(reg, X_test, Y_test, n_repeats=10, random_state=42, n_jobs=2)\n",
    "forest_importances = pd.Series(result.importances_mean, index=list(X_train.columns))\n",
    "\n",
    "fig, ax = plt.subplots(figsize=(10, 7))\n",
    "forest_importances.plot.bar(yerr=result.importances_std, ax=ax)\n",
    "ax.set_title(\"Feature importances using permutation on full model\")\n",
    "ax.set_ylabel(\"Mean accuracy decrease\")\n",
    "fig.tight_layout()\n",
    "plt.show()"
   ]
  },
  {
   "cell_type": "code",
   "execution_count": null,
   "id": "a783cb5a",
   "metadata": {},
   "outputs": [],
   "source": []
  }
 ],
 "metadata": {
  "kernelspec": {
   "display_name": "Python 3 (ipykernel)",
   "language": "python",
   "name": "python3"
  },
  "language_info": {
   "codemirror_mode": {
    "name": "ipython",
    "version": 3
   },
   "file_extension": ".py",
   "mimetype": "text/x-python",
   "name": "python",
   "nbconvert_exporter": "python",
   "pygments_lexer": "ipython3",
   "version": "3.9.7"
  }
 },
 "nbformat": 4,
 "nbformat_minor": 5
}
