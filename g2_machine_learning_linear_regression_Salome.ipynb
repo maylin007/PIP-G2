{
 "cells": [
  {
   "cell_type": "code",
   "execution_count": 12,
   "metadata": {},
   "outputs": [
    {
     "data": {
      "text/plain": [
       "'\\nCreated on 05/01/2023\\nGroup 2\\nAuthors: S.V.\\nLicense: this code is released under the CeCILL 2.1 license. See\\nhttps://www.cecill.info/licenses/Licence_CeCILL_V2.1-en.txt\\n'"
      ]
     },
     "execution_count": 12,
     "metadata": {},
     "output_type": "execute_result"
    }
   ],
   "source": [
    "\"\"\"\n",
    "Created on 05/01/2023\n",
    "Group 2\n",
    "Authors: S.V.\n",
    "License: this code is released under the CeCILL 2.1 license. See\n",
    "https://www.cecill.info/licenses/Licence_CeCILL_V2.1-en.txt\n",
    "\"\"\""
   ]
  },
  {
   "cell_type": "code",
   "execution_count": 47,
   "metadata": {},
   "outputs": [],
   "source": [
    "import os\n",
    "import sys\n",
    "import math\n",
    "from sklearn.model_selection import train_test_split, cross_val_score\n",
    "from sklearn.linear_model import LinearRegression\n",
    "from sklearn.metrics import mean_squared_error, r2_score\n",
    "import pandas as pd\n",
    "import matplotlib.pyplot as plt\n",
    "import seaborn as sns\n",
    "import numpy as np"
   ]
  },
  {
   "cell_type": "code",
   "execution_count": 48,
   "metadata": {
    "scrolled": true
   },
   "outputs": [
    {
     "data": {
      "text/html": [
       "<div>\n",
       "<style scoped>\n",
       "    .dataframe tbody tr th:only-of-type {\n",
       "        vertical-align: middle;\n",
       "    }\n",
       "\n",
       "    .dataframe tbody tr th {\n",
       "        vertical-align: top;\n",
       "    }\n",
       "\n",
       "    .dataframe thead th {\n",
       "        text-align: right;\n",
       "    }\n",
       "</style>\n",
       "<table border=\"1\" class=\"dataframe\">\n",
       "  <thead>\n",
       "    <tr style=\"text-align: right;\">\n",
       "      <th></th>\n",
       "      <th>nlos_indicator</th>\n",
       "      <th>t1</th>\n",
       "      <th>t2</th>\n",
       "      <th>t3</th>\n",
       "      <th>t4</th>\n",
       "      <th>skew</th>\n",
       "      <th>tof</th>\n",
       "      <th>tof_skew</th>\n",
       "      <th>range</th>\n",
       "      <th>range_skew</th>\n",
       "      <th>...</th>\n",
       "      <th>loc_target_y</th>\n",
       "      <th>course_dist</th>\n",
       "      <th>temperature_initiator</th>\n",
       "      <th>temperature_target</th>\n",
       "      <th>timestamp</th>\n",
       "      <th>rssi_request</th>\n",
       "      <th>rssi_ack</th>\n",
       "      <th>rssi_data</th>\n",
       "      <th>rssi_mean</th>\n",
       "      <th>orientation</th>\n",
       "    </tr>\n",
       "  </thead>\n",
       "  <tbody>\n",
       "    <tr>\n",
       "      <th>0</th>\n",
       "      <td>2.783982</td>\n",
       "      <td>946218857614</td>\n",
       "      <td>946490292658</td>\n",
       "      <td>946594234510</td>\n",
       "      <td>946322802711</td>\n",
       "      <td>-2.368804</td>\n",
       "      <td>1622</td>\n",
       "      <td>1745.608935</td>\n",
       "      <td>7.607739</td>\n",
       "      <td>8.187508</td>\n",
       "      <td>...</td>\n",
       "      <td>7.931</td>\n",
       "      <td>0.000000</td>\n",
       "      <td>30.980000</td>\n",
       "      <td>30.220001</td>\n",
       "      <td>1654929794228</td>\n",
       "      <td>-80.136574</td>\n",
       "      <td>-80.077130</td>\n",
       "      <td>-79.836296</td>\n",
       "      <td>-80.016667</td>\n",
       "      <td>270.0</td>\n",
       "    </tr>\n",
       "    <tr>\n",
       "      <th>1</th>\n",
       "      <td>2.920485</td>\n",
       "      <td>1009474709646</td>\n",
       "      <td>1009746235572</td>\n",
       "      <td>1009850439822</td>\n",
       "      <td>1009578917162</td>\n",
       "      <td>-1.045965</td>\n",
       "      <td>1633</td>\n",
       "      <td>1687.497019</td>\n",
       "      <td>7.659333</td>\n",
       "      <td>7.914943</td>\n",
       "      <td>...</td>\n",
       "      <td>7.931</td>\n",
       "      <td>0.000000</td>\n",
       "      <td>30.980000</td>\n",
       "      <td>29.840002</td>\n",
       "      <td>1654929795219</td>\n",
       "      <td>-80.267769</td>\n",
       "      <td>-79.988684</td>\n",
       "      <td>-79.835720</td>\n",
       "      <td>-80.030724</td>\n",
       "      <td>270.0</td>\n",
       "    </tr>\n",
       "    <tr>\n",
       "      <th>2</th>\n",
       "      <td>2.536090</td>\n",
       "      <td>1072923068046</td>\n",
       "      <td>1073194681670</td>\n",
       "      <td>1073299179662</td>\n",
       "      <td>1073027569304</td>\n",
       "      <td>-0.799856</td>\n",
       "      <td>1633</td>\n",
       "      <td>1674.791667</td>\n",
       "      <td>7.659333</td>\n",
       "      <td>7.855350</td>\n",
       "      <td>...</td>\n",
       "      <td>7.931</td>\n",
       "      <td>0.000000</td>\n",
       "      <td>30.980000</td>\n",
       "      <td>29.840002</td>\n",
       "      <td>1654929796210</td>\n",
       "      <td>-79.964310</td>\n",
       "      <td>-79.850138</td>\n",
       "      <td>-79.693502</td>\n",
       "      <td>-79.835983</td>\n",
       "      <td>270.0</td>\n",
       "    </tr>\n",
       "    <tr>\n",
       "      <th>3</th>\n",
       "      <td>2.857669</td>\n",
       "      <td>36731534990</td>\n",
       "      <td>37003232943</td>\n",
       "      <td>37107270798</td>\n",
       "      <td>36835576116</td>\n",
       "      <td>-0.984438</td>\n",
       "      <td>1635</td>\n",
       "      <td>1686.709409</td>\n",
       "      <td>7.668714</td>\n",
       "      <td>7.911249</td>\n",
       "      <td>...</td>\n",
       "      <td>7.931</td>\n",
       "      <td>0.000000</td>\n",
       "      <td>30.980000</td>\n",
       "      <td>29.840002</td>\n",
       "      <td>1654929797201</td>\n",
       "      <td>-80.040833</td>\n",
       "      <td>-79.818313</td>\n",
       "      <td>-79.849525</td>\n",
       "      <td>-79.902890</td>\n",
       "      <td>270.0</td>\n",
       "    </tr>\n",
       "    <tr>\n",
       "      <th>4</th>\n",
       "      <td>2.263103</td>\n",
       "      <td>99923195534</td>\n",
       "      <td>100194974620</td>\n",
       "      <td>100298828942</td>\n",
       "      <td>100027053147</td>\n",
       "      <td>-0.769092</td>\n",
       "      <td>1645</td>\n",
       "      <td>1685.436774</td>\n",
       "      <td>7.715617</td>\n",
       "      <td>7.905280</td>\n",
       "      <td>...</td>\n",
       "      <td>7.931</td>\n",
       "      <td>0.000000</td>\n",
       "      <td>30.980000</td>\n",
       "      <td>29.840002</td>\n",
       "      <td>1654929798190</td>\n",
       "      <td>-79.999908</td>\n",
       "      <td>-80.102552</td>\n",
       "      <td>-80.022316</td>\n",
       "      <td>-80.041592</td>\n",
       "      <td>270.0</td>\n",
       "    </tr>\n",
       "    <tr>\n",
       "      <th>...</th>\n",
       "      <td>...</td>\n",
       "      <td>...</td>\n",
       "      <td>...</td>\n",
       "      <td>...</td>\n",
       "      <td>...</td>\n",
       "      <td>...</td>\n",
       "      <td>...</td>\n",
       "      <td>...</td>\n",
       "      <td>...</td>\n",
       "      <td>...</td>\n",
       "      <td>...</td>\n",
       "      <td>...</td>\n",
       "      <td>...</td>\n",
       "      <td>...</td>\n",
       "      <td>...</td>\n",
       "      <td>...</td>\n",
       "      <td>...</td>\n",
       "      <td>...</td>\n",
       "      <td>...</td>\n",
       "      <td>...</td>\n",
       "      <td>...</td>\n",
       "    </tr>\n",
       "    <tr>\n",
       "      <th>3941</th>\n",
       "      <td>3.075243</td>\n",
       "      <td>301428484750</td>\n",
       "      <td>302000434919</td>\n",
       "      <td>302102988430</td>\n",
       "      <td>301531040251</td>\n",
       "      <td>-9.382925</td>\n",
       "      <td>995</td>\n",
       "      <td>1476.125937</td>\n",
       "      <td>4.666893</td>\n",
       "      <td>6.923540</td>\n",
       "      <td>...</td>\n",
       "      <td>2.793</td>\n",
       "      <td>6.999961</td>\n",
       "      <td>41.810001</td>\n",
       "      <td>46.939999</td>\n",
       "      <td>1654930833773</td>\n",
       "      <td>-80.229179</td>\n",
       "      <td>-79.428015</td>\n",
       "      <td>-79.342829</td>\n",
       "      <td>-79.666674</td>\n",
       "      <td>119.0</td>\n",
       "    </tr>\n",
       "    <tr>\n",
       "      <th>3942</th>\n",
       "      <td>3.085177</td>\n",
       "      <td>375355600014</td>\n",
       "      <td>375928251294</td>\n",
       "      <td>376031194254</td>\n",
       "      <td>375458544956</td>\n",
       "      <td>-8.306196</td>\n",
       "      <td>991</td>\n",
       "      <td>1418.532184</td>\n",
       "      <td>4.648132</td>\n",
       "      <td>6.653405</td>\n",
       "      <td>...</td>\n",
       "      <td>2.793</td>\n",
       "      <td>6.999961</td>\n",
       "      <td>41.525002</td>\n",
       "      <td>47.319996</td>\n",
       "      <td>1654930834930</td>\n",
       "      <td>-80.196487</td>\n",
       "      <td>-79.576395</td>\n",
       "      <td>-79.985511</td>\n",
       "      <td>-79.919464</td>\n",
       "      <td>119.0</td>\n",
       "    </tr>\n",
       "    <tr>\n",
       "      <th>3943</th>\n",
       "      <td>2.674524</td>\n",
       "      <td>449294310542</td>\n",
       "      <td>449867663034</td>\n",
       "      <td>449970544782</td>\n",
       "      <td>449397194279</td>\n",
       "      <td>-8.952233</td>\n",
       "      <td>994</td>\n",
       "      <td>1455.010695</td>\n",
       "      <td>4.662203</td>\n",
       "      <td>6.824502</td>\n",
       "      <td>...</td>\n",
       "      <td>2.793</td>\n",
       "      <td>6.999961</td>\n",
       "      <td>41.810001</td>\n",
       "      <td>46.939999</td>\n",
       "      <td>1654930836088</td>\n",
       "      <td>-80.158638</td>\n",
       "      <td>-79.435472</td>\n",
       "      <td>-79.234453</td>\n",
       "      <td>-79.609521</td>\n",
       "      <td>119.0</td>\n",
       "    </tr>\n",
       "    <tr>\n",
       "      <th>3944</th>\n",
       "      <td>2.727551</td>\n",
       "      <td>523279420046</td>\n",
       "      <td>523853474064</td>\n",
       "      <td>523955982478</td>\n",
       "      <td>523381930458</td>\n",
       "      <td>-8.490778</td>\n",
       "      <td>999</td>\n",
       "      <td>1434.188082</td>\n",
       "      <td>4.685655</td>\n",
       "      <td>6.726837</td>\n",
       "      <td>...</td>\n",
       "      <td>2.793</td>\n",
       "      <td>6.999961</td>\n",
       "      <td>41.240002</td>\n",
       "      <td>46.559998</td>\n",
       "      <td>1654930837246</td>\n",
       "      <td>-80.229492</td>\n",
       "      <td>-79.554364</td>\n",
       "      <td>-79.599858</td>\n",
       "      <td>-79.794571</td>\n",
       "      <td>119.0</td>\n",
       "    </tr>\n",
       "    <tr>\n",
       "      <th>3945</th>\n",
       "      <td>2.676824</td>\n",
       "      <td>597204949646</td>\n",
       "      <td>597779704639</td>\n",
       "      <td>597883435662</td>\n",
       "      <td>597308682642</td>\n",
       "      <td>-9.936671</td>\n",
       "      <td>986</td>\n",
       "      <td>1501.870529</td>\n",
       "      <td>4.624680</td>\n",
       "      <td>7.044291</td>\n",
       "      <td>...</td>\n",
       "      <td>2.793</td>\n",
       "      <td>6.999961</td>\n",
       "      <td>41.525002</td>\n",
       "      <td>46.939999</td>\n",
       "      <td>1654930838402</td>\n",
       "      <td>-79.617264</td>\n",
       "      <td>-79.487352</td>\n",
       "      <td>-79.358943</td>\n",
       "      <td>-79.487853</td>\n",
       "      <td>119.0</td>\n",
       "    </tr>\n",
       "  </tbody>\n",
       "</table>\n",
       "<p>3946 rows × 24 columns</p>\n",
       "</div>"
      ],
      "text/plain": [
       "      nlos_indicator             t1             t2             t3  \\\n",
       "0           2.783982   946218857614   946490292658   946594234510   \n",
       "1           2.920485  1009474709646  1009746235572  1009850439822   \n",
       "2           2.536090  1072923068046  1073194681670  1073299179662   \n",
       "3           2.857669    36731534990    37003232943    37107270798   \n",
       "4           2.263103    99923195534   100194974620   100298828942   \n",
       "...              ...            ...            ...            ...   \n",
       "3941        3.075243   301428484750   302000434919   302102988430   \n",
       "3942        3.085177   375355600014   375928251294   376031194254   \n",
       "3943        2.674524   449294310542   449867663034   449970544782   \n",
       "3944        2.727551   523279420046   523853474064   523955982478   \n",
       "3945        2.676824   597204949646   597779704639   597883435662   \n",
       "\n",
       "                 t4      skew   tof     tof_skew     range  range_skew  ...  \\\n",
       "0      946322802711 -2.368804  1622  1745.608935  7.607739    8.187508  ...   \n",
       "1     1009578917162 -1.045965  1633  1687.497019  7.659333    7.914943  ...   \n",
       "2     1073027569304 -0.799856  1633  1674.791667  7.659333    7.855350  ...   \n",
       "3       36835576116 -0.984438  1635  1686.709409  7.668714    7.911249  ...   \n",
       "4      100027053147 -0.769092  1645  1685.436774  7.715617    7.905280  ...   \n",
       "...             ...       ...   ...          ...       ...         ...  ...   \n",
       "3941   301531040251 -9.382925   995  1476.125937  4.666893    6.923540  ...   \n",
       "3942   375458544956 -8.306196   991  1418.532184  4.648132    6.653405  ...   \n",
       "3943   449397194279 -8.952233   994  1455.010695  4.662203    6.824502  ...   \n",
       "3944   523381930458 -8.490778   999  1434.188082  4.685655    6.726837  ...   \n",
       "3945   597308682642 -9.936671   986  1501.870529  4.624680    7.044291  ...   \n",
       "\n",
       "      loc_target_y  course_dist  temperature_initiator  temperature_target  \\\n",
       "0            7.931     0.000000              30.980000           30.220001   \n",
       "1            7.931     0.000000              30.980000           29.840002   \n",
       "2            7.931     0.000000              30.980000           29.840002   \n",
       "3            7.931     0.000000              30.980000           29.840002   \n",
       "4            7.931     0.000000              30.980000           29.840002   \n",
       "...            ...          ...                    ...                 ...   \n",
       "3941         2.793     6.999961              41.810001           46.939999   \n",
       "3942         2.793     6.999961              41.525002           47.319996   \n",
       "3943         2.793     6.999961              41.810001           46.939999   \n",
       "3944         2.793     6.999961              41.240002           46.559998   \n",
       "3945         2.793     6.999961              41.525002           46.939999   \n",
       "\n",
       "          timestamp  rssi_request   rssi_ack  rssi_data  rssi_mean  \\\n",
       "0     1654929794228    -80.136574 -80.077130 -79.836296 -80.016667   \n",
       "1     1654929795219    -80.267769 -79.988684 -79.835720 -80.030724   \n",
       "2     1654929796210    -79.964310 -79.850138 -79.693502 -79.835983   \n",
       "3     1654929797201    -80.040833 -79.818313 -79.849525 -79.902890   \n",
       "4     1654929798190    -79.999908 -80.102552 -80.022316 -80.041592   \n",
       "...             ...           ...        ...        ...        ...   \n",
       "3941  1654930833773    -80.229179 -79.428015 -79.342829 -79.666674   \n",
       "3942  1654930834930    -80.196487 -79.576395 -79.985511 -79.919464   \n",
       "3943  1654930836088    -80.158638 -79.435472 -79.234453 -79.609521   \n",
       "3944  1654930837246    -80.229492 -79.554364 -79.599858 -79.794571   \n",
       "3945  1654930838402    -79.617264 -79.487352 -79.358943 -79.487853   \n",
       "\n",
       "      orientation  \n",
       "0           270.0  \n",
       "1           270.0  \n",
       "2           270.0  \n",
       "3           270.0  \n",
       "4           270.0  \n",
       "...           ...  \n",
       "3941        119.0  \n",
       "3942        119.0  \n",
       "3943        119.0  \n",
       "3944        119.0  \n",
       "3945        119.0  \n",
       "\n",
       "[3946 rows x 24 columns]"
      ]
     },
     "execution_count": 48,
     "metadata": {},
     "output_type": "execute_result"
    }
   ],
   "source": [
    "data = pd.read_csv(\"data_v2.csv\", )\n",
    "\n",
    "# deleting useless variables\n",
    "data = data.drop(['Unnamed: 0', 'target', 'distance', 'seqnum', 'loc_initiator_z', 'loc_target_z', 'protocol', 'ranging_unit', 'initiator', 'register_dump_CIR'], axis=1)\n",
    "data"
   ]
  },
  {
   "cell_type": "code",
   "execution_count": 49,
   "metadata": {},
   "outputs": [
    {
     "data": {
      "image/png": "[encoded data removed]",
      "text/plain": [
       "<Figure size 432x288 with 1 Axes>"
      ]
     },
     "metadata": {
      "needs_background": "light"
     },
     "output_type": "display_data"
    },
    {
     "name": "stdout",
     "output_type": "stream",
     "text": [
      "a =  -0.5548735684921144  et b =  3.6697196927161606\n",
      "loc_iniatiator_y =  -0.5548735684921144  * loc_initiator_x +  3.6697196927161606\n"
     ]
    },
    {
     "data": {
      "image/png": "[encoded data removed]",
      "text/plain": [
       "<Figure size 432x288 with 1 Axes>"
      ]
     },
     "metadata": {
      "needs_background": "light"
     },
     "output_type": "display_data"
    }
   ],
   "source": [
    "# Linear Regression to have x as a function of y of the form x=a*y+b\n",
    "# with x : loc_initiator_y and y : loc_initiator_x\n",
    "# a= -0.5548 et b= 3.6679\n",
    "\n",
    "from scipy import stats\n",
    "\n",
    "def predict(y):\n",
    "    return slope * y + intercept\n",
    "\n",
    "X =  data.loc_initiator_y\n",
    "Y =  data.loc_initiator_x\n",
    "\n",
    "axes = plt.axes()\n",
    "axes.grid()\n",
    "plt.scatter(X,Y)\n",
    "plt.show()\n",
    "\n",
    "slope, intercept, r_value, p_value, std_err = stats.linregress(X, Y)\n",
    "\n",
    "fitLine = predict(X)\n",
    "plt.plot(X, fitLine, c='r')\n",
    "\n",
    "print(\"a = \", slope, \" et b = \", intercept)\n",
    "print(\"loc_iniatiator_y = \", slope, \" * loc_initiator_x + \", intercept)"
   ]
  },
  {
   "cell_type": "markdown",
   "metadata": {},
   "source": [
    "# Linear regression"
   ]
  },
  {
   "cell_type": "code",
   "execution_count": 52,
   "metadata": {},
   "outputs": [
    {
     "name": "stdout",
     "output_type": "stream",
     "text": [
      "(3156, 22)\n",
      "(790, 22)\n",
      "(3156,)\n",
      "(790,)\n"
     ]
    }
   ],
   "source": [
    "X = data.drop(['loc_initiator_y', 'loc_initiator_x'], axis=1)\n",
    "y = data.loc_initiator_y\n",
    "\n",
    "# train base and test base\n",
    "from sklearn.model_selection import train_test_split\n",
    " \n",
    "X_train, X_test, y_train, y_test = train_test_split(X, y, test_size = 0.2, random_state=5)\n",
    "print(X_train.shape)\n",
    "print(X_test.shape)\n",
    "print(y_train.shape)\n",
    "print(y_test.shape)"
   ]
  },
  {
   "cell_type": "code",
   "execution_count": 53,
   "metadata": {},
   "outputs": [
    {
     "data": {
      "text/plain": [
       "LinearRegression()"
      ]
     },
     "execution_count": 53,
     "metadata": {},
     "output_type": "execute_result"
    }
   ],
   "source": [
    "# model training\n",
    "from sklearn.linear_model import LinearRegression\n",
    "from sklearn.metrics import mean_squared_error\n",
    " \n",
    "linear_model = LinearRegression()\n",
    "linear_model.fit(X_train, y_train)"
   ]
  },
  {
   "cell_type": "code",
   "execution_count": 54,
   "metadata": {},
   "outputs": [
    {
     "name": "stdout",
     "output_type": "stream",
     "text": [
      "Model performance based on training set : \n",
      "--------------------------------------\n",
      "The mean squared error is 0.0001597630491868412\n",
      "The R-squared is 0.9999999918225138\n",
      "\n",
      "\n",
      "Model performance based on testing set : \n",
      "--------------------------------------\n",
      "The mean squared error is 0.00016783871690380709\n",
      "The R-squared is 0.9999999912369404\n"
     ]
    }
   ],
   "source": [
    "# Evaluation of the training set\n",
    "from sklearn.metrics import r2_score\n",
    "y_train_predict = linear_model.predict(X_train)\n",
    "rmse_train = (np.sqrt(mean_squared_error(y_train, y_train_predict)))\n",
    "r2_train = r2_score(y_train, y_train_predict)\n",
    " \n",
    "print(\"Model performance based on training set : \")\n",
    "print(\"--------------------------------------\")\n",
    "print(\"The mean squared error is {}\".format(rmse_train))\n",
    "print(\"The R-squared is {}\".format(r2_train))\n",
    "print(\"\\n\")\n",
    " \n",
    "# model evaluation for testing set\n",
    "y_test_predict = linear_model.predict(X_test)\n",
    "rmse_test = (np.sqrt(mean_squared_error(y_test, y_test_predict)))\n",
    "r2_test = r2_score(y_test, y_test_predict)\n",
    " \n",
    "print(\"Model performance based on testing set : \")\n",
    "print(\"--------------------------------------\")\n",
    "print(\"The mean squared error is {}\".format(rmse_test))\n",
    "print(\"The R-squared is {}\".format(r2_test))\n"
   ]
  },
  {
   "cell_type": "code",
   "execution_count": 38,
   "metadata": {},
   "outputs": [],
   "source": [
    "a = linear_model.coef_\n",
    "b = linear_model.intercept_"
   ]
  },
  {
   "cell_type": "code",
   "execution_count": 39,
   "metadata": {},
   "outputs": [
    {
     "data": {
      "text/plain": [
       "array([ 5.70206931e-07, -7.50675143e-06,  7.50672576e-06, -7.50672577e-06,\n",
       "        7.50675144e-06, -4.21201931e-04, -6.91669598e-06, -8.07808803e-06,\n",
       "       -4.92867253e-07, -1.30128888e-07, -2.75993217e-05,  3.87703844e-06,\n",
       "       -1.47446958e-05,  8.74493676e-01,  1.05651852e-05, -9.69554682e-06,\n",
       "       -5.63766417e-10,  1.02293367e-06,  1.30723774e-06, -4.00554461e-06,\n",
       "       -5.58457723e-07,  2.49567667e-07])"
      ]
     },
     "execution_count": 39,
     "metadata": {},
     "output_type": "execute_result"
    }
   ],
   "source": [
    "a"
   ]
  },
  {
   "cell_type": "markdown",
   "metadata": {},
   "source": [
    "The MSE is approximatly equal to 0 and the R-squared approximatly 1, this means that the difference between what we predict and what we have is very small."
   ]
  },
  {
   "cell_type": "markdown",
   "metadata": {},
   "source": [
    "### Graphics"
   ]
  },
  {
   "cell_type": "code",
   "execution_count": 55,
   "metadata": {},
   "outputs": [
    {
     "data": {
      "image/png": "[encoded data removed]",
      "text/plain": [
       "<Figure size 432x288 with 1 Axes>"
      ]
     },
     "metadata": {
      "needs_background": "light"
     },
     "output_type": "display_data"
    }
   ],
   "source": [
    "plt.plot(y, linear_model.predict(X),'.')\n",
    "plt.title(\"Linear regression\")\n",
    "plt.show()"
   ]
  },
  {
   "cell_type": "code",
   "execution_count": 58,
   "metadata": {},
   "outputs": [
    {
     "data": {
      "image/png": "[encoded data removed]",
      "text/plain": [
       "<Figure size 432x288 with 1 Axes>"
      ]
     },
     "metadata": {
      "needs_background": "light"
     },
     "output_type": "display_data"
    }
   ],
   "source": [
    "plt.plot(y, y-linear_model.predict(X), '.', label=\"data\")\n",
    "#plt.plot(X, a * X + b, \"r-\", label=\"regression\")\n",
    "plt.title(\"Linear regression with residuals\")\n",
    "plt.legend(loc=\"lower right\")\n",
    "plt.show()"
   ]
  },
  {
   "cell_type": "markdown",
   "metadata": {},
   "source": [
    "## With only features"
   ]
  },
  {
   "cell_type": "code",
   "execution_count": 61,
   "metadata": {},
   "outputs": [
    {
     "name": "stdout",
     "output_type": "stream",
     "text": [
      "(3156, 14)\n",
      "(790, 14)\n",
      "(3156,)\n",
      "(790,)\n"
     ]
    }
   ],
   "source": [
    "X = data[['nlos_indicator', 't1', 't2', 't3', 't4', 'skew', 'tof', 'tof_skew', 'loc_target_x', 'loc_target_y', 'rssi_request', 'rssi_ack', 'rssi_data', 'rssi_mean']]\n",
    "y = data.loc_initiator_y\n",
    "\n",
    "# train base and test base\n",
    "from sklearn.model_selection import train_test_split\n",
    " \n",
    "X_train, X_test, y_train, y_test = train_test_split(X, y, test_size = 0.2, random_state=5)\n",
    "print(X_train.shape)\n",
    "print(X_test.shape)\n",
    "print(y_train.shape)\n",
    "print(y_test.shape)"
   ]
  },
  {
   "cell_type": "code",
   "execution_count": 62,
   "metadata": {},
   "outputs": [
    {
     "data": {
      "text/plain": [
       "LinearRegression()"
      ]
     },
     "execution_count": 62,
     "metadata": {},
     "output_type": "execute_result"
    }
   ],
   "source": [
    "# model training\n",
    "from sklearn.linear_model import LinearRegression\n",
    "from sklearn.metrics import mean_squared_error\n",
    " \n",
    "linear_model = LinearRegression()\n",
    "linear_model.fit(X_train, y_train)"
   ]
  },
  {
   "cell_type": "code",
   "execution_count": 63,
   "metadata": {},
   "outputs": [
    {
     "name": "stdout",
     "output_type": "stream",
     "text": [
      "Model performance based on training set : \n",
      "--------------------------------------\n",
      "The mean squared error is 1.4393399858019735\n",
      "The R-squared is 0.3362662209838744\n",
      "\n",
      "\n",
      "Model performance based on testing set : \n",
      "--------------------------------------\n",
      "The mean squared error is 1.435676906594996\n",
      "The R-squared is 0.3588127254129654\n"
     ]
    }
   ],
   "source": [
    "# Evaluation of the training set\n",
    "from sklearn.metrics import r2_score\n",
    "y_train_predict = linear_model.predict(X_train)\n",
    "rmse_train = (np.sqrt(mean_squared_error(y_train, y_train_predict)))\n",
    "r2_train = r2_score(y_train, y_train_predict)\n",
    " \n",
    "print(\"Model performance based on training set : \")\n",
    "print(\"--------------------------------------\")\n",
    "print(\"The mean squared error is {}\".format(rmse_train))\n",
    "print(\"The R-squared is {}\".format(r2_train))\n",
    "print(\"\\n\")\n",
    " \n",
    "# model evaluation for testing set\n",
    "y_test_predict = linear_model.predict(X_test)\n",
    "rmse_test = (np.sqrt(mean_squared_error(y_test, y_test_predict)))\n",
    "r2_test = r2_score(y_test, y_test_predict)\n",
    " \n",
    "print(\"Model performance based on testing set : \")\n",
    "print(\"--------------------------------------\")\n",
    "print(\"The mean squared error is {}\".format(rmse_test))\n",
    "print(\"The R-squared is {}\".format(r2_test))\n"
   ]
  },
  {
   "cell_type": "code",
   "execution_count": 78,
   "metadata": {},
   "outputs": [
    {
     "data": {
      "image/png": "[encoded data removed]",
      "text/plain": [
       "<Figure size 432x288 with 1 Axes>"
      ]
     },
     "metadata": {
      "needs_background": "light"
     },
     "output_type": "display_data"
    }
   ],
   "source": [
    "a = linear_model.coef_\n",
    "b = linear_model.intercept_\n",
    "plt.plot(y, y-linear_model.predict(X), '.', label=\"data\")\n",
    "#plt.plot(X, a * X + b, \"r-\", label=\"regression\")\n",
    "plt.title(\"Linear regression with residuals\")\n",
    "plt.legend(loc=\"lower right\")\n",
    "plt.show()"
   ]
  }
 ],
 "metadata": {
  "kernelspec": {
   "display_name": "Python 3",
   "language": "python",
   "name": "python3"
  },
  "language_info": {
   "codemirror_mode": {
    "name": "ipython",
    "version": 3
   },
   "file_extension": ".py",
   "mimetype": "text/x-python",
   "name": "python",
   "nbconvert_exporter": "python",
   "pygments_lexer": "ipython3",
   "version": "3.8.3"
  }
 },
 "nbformat": 4,
 "nbformat_minor": 4
}
