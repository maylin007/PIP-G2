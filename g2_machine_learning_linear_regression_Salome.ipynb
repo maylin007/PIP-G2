{
 "cells": [
  {
   "cell_type": "code",
   "execution_count": 1,
   "metadata": {},
   "outputs": [
    {
     "data": {
      "text/plain": [
       "'\\nCreated on 05/01/2023\\nGroup 2\\nAuthors: S.V.\\nLicense: this code is released under the CeCILL 2.1 license. See\\nhttps://www.cecill.info/licenses/Licence_CeCILL_V2.1-en.txt\\n'"
      ]
     },
     "execution_count": 1,
     "metadata": {},
     "output_type": "execute_result"
    }
   ],
   "source": [
    "\"\"\"\n",
    "Created on 05/01/2023\n",
    "Group 2\n",
    "Authors: S.V.\n",
    "License: this code is released under the CeCILL 2.1 license. See\n",
    "https://www.cecill.info/licenses/Licence_CeCILL_V2.1-en.txt\n",
    "\"\"\""
   ]
  },
  {
   "cell_type": "code",
   "execution_count": 2,
   "metadata": {},
   "outputs": [],
   "source": [
    "import os\n",
    "import sys\n",
    "import math\n",
    "from sklearn.model_selection import train_test_split, cross_val_score\n",
    "from sklearn.linear_model import LinearRegression\n",
    "from sklearn.metrics import mean_squared_error, r2_score\n",
    "import pandas as pd\n",
    "import matplotlib.pyplot as plt\n",
    "import seaborn as sns\n",
    "import numpy as np"
   ]
  },
  {
   "cell_type": "code",
   "execution_count": 3,
   "metadata": {
    "scrolled": true
   },
   "outputs": [
    {
     "data": {
      "text/html": [
       "<div>\n",
       "<style scoped>\n",
       "    .dataframe tbody tr th:only-of-type {\n",
       "        vertical-align: middle;\n",
       "    }\n",
       "\n",
       "    .dataframe tbody tr th {\n",
       "        vertical-align: top;\n",
       "    }\n",
       "\n",
       "    .dataframe thead th {\n",
       "        text-align: right;\n",
       "    }\n",
       "</style>\n",
       "<table border=\"1\" class=\"dataframe\">\n",
       "  <thead>\n",
       "    <tr style=\"text-align: right;\">\n",
       "      <th></th>\n",
       "      <th>target</th>\n",
       "      <th>nlos_indicator</th>\n",
       "      <th>t1</th>\n",
       "      <th>t2</th>\n",
       "      <th>t3</th>\n",
       "      <th>t4</th>\n",
       "      <th>skew</th>\n",
       "      <th>tof</th>\n",
       "      <th>tof_skew</th>\n",
       "      <th>range</th>\n",
       "      <th>...</th>\n",
       "      <th>course_dist</th>\n",
       "      <th>temperature_initiator</th>\n",
       "      <th>temperature_target</th>\n",
       "      <th>timestamp</th>\n",
       "      <th>seqnum</th>\n",
       "      <th>rssi_request</th>\n",
       "      <th>rssi_ack</th>\n",
       "      <th>rssi_data</th>\n",
       "      <th>rssi_mean</th>\n",
       "      <th>orientation</th>\n",
       "    </tr>\n",
       "  </thead>\n",
       "  <tbody>\n",
       "    <tr>\n",
       "      <th>0</th>\n",
       "      <td>100</td>\n",
       "      <td>2.783982</td>\n",
       "      <td>946218857614</td>\n",
       "      <td>946490292658</td>\n",
       "      <td>946594234510</td>\n",
       "      <td>946322802711</td>\n",
       "      <td>-2.368804</td>\n",
       "      <td>1622</td>\n",
       "      <td>1745.608935</td>\n",
       "      <td>7.607739</td>\n",
       "      <td>...</td>\n",
       "      <td>0.000000</td>\n",
       "      <td>30.980000</td>\n",
       "      <td>30.220001</td>\n",
       "      <td>1654929794228</td>\n",
       "      <td>4</td>\n",
       "      <td>-80.136574</td>\n",
       "      <td>-80.077130</td>\n",
       "      <td>-79.836296</td>\n",
       "      <td>-80.016667</td>\n",
       "      <td>270.0</td>\n",
       "    </tr>\n",
       "    <tr>\n",
       "      <th>1</th>\n",
       "      <td>100</td>\n",
       "      <td>2.920485</td>\n",
       "      <td>1009474709646</td>\n",
       "      <td>1009746235572</td>\n",
       "      <td>1009850439822</td>\n",
       "      <td>1009578917162</td>\n",
       "      <td>-1.045965</td>\n",
       "      <td>1633</td>\n",
       "      <td>1687.497019</td>\n",
       "      <td>7.659333</td>\n",
       "      <td>...</td>\n",
       "      <td>0.000000</td>\n",
       "      <td>30.980000</td>\n",
       "      <td>29.840002</td>\n",
       "      <td>1654929795219</td>\n",
       "      <td>10</td>\n",
       "      <td>-80.267769</td>\n",
       "      <td>-79.988684</td>\n",
       "      <td>-79.835720</td>\n",
       "      <td>-80.030724</td>\n",
       "      <td>270.0</td>\n",
       "    </tr>\n",
       "    <tr>\n",
       "      <th>2</th>\n",
       "      <td>100</td>\n",
       "      <td>2.536090</td>\n",
       "      <td>1072923068046</td>\n",
       "      <td>1073194681670</td>\n",
       "      <td>1073299179662</td>\n",
       "      <td>1073027569304</td>\n",
       "      <td>-0.799856</td>\n",
       "      <td>1633</td>\n",
       "      <td>1674.791667</td>\n",
       "      <td>7.659333</td>\n",
       "      <td>...</td>\n",
       "      <td>0.000000</td>\n",
       "      <td>30.980000</td>\n",
       "      <td>29.840002</td>\n",
       "      <td>1654929796210</td>\n",
       "      <td>16</td>\n",
       "      <td>-79.964310</td>\n",
       "      <td>-79.850138</td>\n",
       "      <td>-79.693502</td>\n",
       "      <td>-79.835983</td>\n",
       "      <td>270.0</td>\n",
       "    </tr>\n",
       "    <tr>\n",
       "      <th>3</th>\n",
       "      <td>100</td>\n",
       "      <td>2.857669</td>\n",
       "      <td>36731534990</td>\n",
       "      <td>37003232943</td>\n",
       "      <td>37107270798</td>\n",
       "      <td>36835576116</td>\n",
       "      <td>-0.984438</td>\n",
       "      <td>1635</td>\n",
       "      <td>1686.709409</td>\n",
       "      <td>7.668714</td>\n",
       "      <td>...</td>\n",
       "      <td>0.000000</td>\n",
       "      <td>30.980000</td>\n",
       "      <td>29.840002</td>\n",
       "      <td>1654929797201</td>\n",
       "      <td>22</td>\n",
       "      <td>-80.040833</td>\n",
       "      <td>-79.818313</td>\n",
       "      <td>-79.849525</td>\n",
       "      <td>-79.902890</td>\n",
       "      <td>270.0</td>\n",
       "    </tr>\n",
       "    <tr>\n",
       "      <th>4</th>\n",
       "      <td>100</td>\n",
       "      <td>2.263103</td>\n",
       "      <td>99923195534</td>\n",
       "      <td>100194974620</td>\n",
       "      <td>100298828942</td>\n",
       "      <td>100027053147</td>\n",
       "      <td>-0.769092</td>\n",
       "      <td>1645</td>\n",
       "      <td>1685.436774</td>\n",
       "      <td>7.715617</td>\n",
       "      <td>...</td>\n",
       "      <td>0.000000</td>\n",
       "      <td>30.980000</td>\n",
       "      <td>29.840002</td>\n",
       "      <td>1654929798190</td>\n",
       "      <td>28</td>\n",
       "      <td>-79.999908</td>\n",
       "      <td>-80.102552</td>\n",
       "      <td>-80.022316</td>\n",
       "      <td>-80.041592</td>\n",
       "      <td>270.0</td>\n",
       "    </tr>\n",
       "    <tr>\n",
       "      <th>...</th>\n",
       "      <td>...</td>\n",
       "      <td>...</td>\n",
       "      <td>...</td>\n",
       "      <td>...</td>\n",
       "      <td>...</td>\n",
       "      <td>...</td>\n",
       "      <td>...</td>\n",
       "      <td>...</td>\n",
       "      <td>...</td>\n",
       "      <td>...</td>\n",
       "      <td>...</td>\n",
       "      <td>...</td>\n",
       "      <td>...</td>\n",
       "      <td>...</td>\n",
       "      <td>...</td>\n",
       "      <td>...</td>\n",
       "      <td>...</td>\n",
       "      <td>...</td>\n",
       "      <td>...</td>\n",
       "      <td>...</td>\n",
       "      <td>...</td>\n",
       "    </tr>\n",
       "    <tr>\n",
       "      <th>3941</th>\n",
       "      <td>184</td>\n",
       "      <td>3.075243</td>\n",
       "      <td>301428484750</td>\n",
       "      <td>302000434919</td>\n",
       "      <td>302102988430</td>\n",
       "      <td>301531040251</td>\n",
       "      <td>-9.382925</td>\n",
       "      <td>995</td>\n",
       "      <td>1476.125937</td>\n",
       "      <td>4.666893</td>\n",
       "      <td>...</td>\n",
       "      <td>6.999961</td>\n",
       "      <td>41.810001</td>\n",
       "      <td>46.939999</td>\n",
       "      <td>1654930833773</td>\n",
       "      <td>4231</td>\n",
       "      <td>-80.229179</td>\n",
       "      <td>-79.428015</td>\n",
       "      <td>-79.342829</td>\n",
       "      <td>-79.666674</td>\n",
       "      <td>119.0</td>\n",
       "    </tr>\n",
       "    <tr>\n",
       "      <th>3942</th>\n",
       "      <td>184</td>\n",
       "      <td>3.085177</td>\n",
       "      <td>375355600014</td>\n",
       "      <td>375928251294</td>\n",
       "      <td>376031194254</td>\n",
       "      <td>375458544956</td>\n",
       "      <td>-8.306196</td>\n",
       "      <td>991</td>\n",
       "      <td>1418.532184</td>\n",
       "      <td>4.648132</td>\n",
       "      <td>...</td>\n",
       "      <td>6.999961</td>\n",
       "      <td>41.525002</td>\n",
       "      <td>47.319996</td>\n",
       "      <td>1654930834930</td>\n",
       "      <td>4237</td>\n",
       "      <td>-80.196487</td>\n",
       "      <td>-79.576395</td>\n",
       "      <td>-79.985511</td>\n",
       "      <td>-79.919464</td>\n",
       "      <td>119.0</td>\n",
       "    </tr>\n",
       "    <tr>\n",
       "      <th>3943</th>\n",
       "      <td>184</td>\n",
       "      <td>2.674524</td>\n",
       "      <td>449294310542</td>\n",
       "      <td>449867663034</td>\n",
       "      <td>449970544782</td>\n",
       "      <td>449397194279</td>\n",
       "      <td>-8.952233</td>\n",
       "      <td>994</td>\n",
       "      <td>1455.010695</td>\n",
       "      <td>4.662203</td>\n",
       "      <td>...</td>\n",
       "      <td>6.999961</td>\n",
       "      <td>41.810001</td>\n",
       "      <td>46.939999</td>\n",
       "      <td>1654930836088</td>\n",
       "      <td>4243</td>\n",
       "      <td>-80.158638</td>\n",
       "      <td>-79.435472</td>\n",
       "      <td>-79.234453</td>\n",
       "      <td>-79.609521</td>\n",
       "      <td>119.0</td>\n",
       "    </tr>\n",
       "    <tr>\n",
       "      <th>3944</th>\n",
       "      <td>184</td>\n",
       "      <td>2.727551</td>\n",
       "      <td>523279420046</td>\n",
       "      <td>523853474064</td>\n",
       "      <td>523955982478</td>\n",
       "      <td>523381930458</td>\n",
       "      <td>-8.490778</td>\n",
       "      <td>999</td>\n",
       "      <td>1434.188082</td>\n",
       "      <td>4.685655</td>\n",
       "      <td>...</td>\n",
       "      <td>6.999961</td>\n",
       "      <td>41.240002</td>\n",
       "      <td>46.559998</td>\n",
       "      <td>1654930837246</td>\n",
       "      <td>4249</td>\n",
       "      <td>-80.229492</td>\n",
       "      <td>-79.554364</td>\n",
       "      <td>-79.599858</td>\n",
       "      <td>-79.794571</td>\n",
       "      <td>119.0</td>\n",
       "    </tr>\n",
       "    <tr>\n",
       "      <th>3945</th>\n",
       "      <td>184</td>\n",
       "      <td>2.676824</td>\n",
       "      <td>597204949646</td>\n",
       "      <td>597779704639</td>\n",
       "      <td>597883435662</td>\n",
       "      <td>597308682642</td>\n",
       "      <td>-9.936671</td>\n",
       "      <td>986</td>\n",
       "      <td>1501.870529</td>\n",
       "      <td>4.624680</td>\n",
       "      <td>...</td>\n",
       "      <td>6.999961</td>\n",
       "      <td>41.525002</td>\n",
       "      <td>46.939999</td>\n",
       "      <td>1654930838402</td>\n",
       "      <td>4255</td>\n",
       "      <td>-79.617264</td>\n",
       "      <td>-79.487352</td>\n",
       "      <td>-79.358943</td>\n",
       "      <td>-79.487853</td>\n",
       "      <td>119.0</td>\n",
       "    </tr>\n",
       "  </tbody>\n",
       "</table>\n",
       "<p>3946 rows × 28 columns</p>\n",
       "</div>"
      ],
      "text/plain": [
       "      target  nlos_indicator             t1             t2             t3  \\\n",
       "0        100        2.783982   946218857614   946490292658   946594234510   \n",
       "1        100        2.920485  1009474709646  1009746235572  1009850439822   \n",
       "2        100        2.536090  1072923068046  1073194681670  1073299179662   \n",
       "3        100        2.857669    36731534990    37003232943    37107270798   \n",
       "4        100        2.263103    99923195534   100194974620   100298828942   \n",
       "...      ...             ...            ...            ...            ...   \n",
       "3941     184        3.075243   301428484750   302000434919   302102988430   \n",
       "3942     184        3.085177   375355600014   375928251294   376031194254   \n",
       "3943     184        2.674524   449294310542   449867663034   449970544782   \n",
       "3944     184        2.727551   523279420046   523853474064   523955982478   \n",
       "3945     184        2.676824   597204949646   597779704639   597883435662   \n",
       "\n",
       "                 t4      skew   tof     tof_skew     range  ...  course_dist  \\\n",
       "0      946322802711 -2.368804  1622  1745.608935  7.607739  ...     0.000000   \n",
       "1     1009578917162 -1.045965  1633  1687.497019  7.659333  ...     0.000000   \n",
       "2     1073027569304 -0.799856  1633  1674.791667  7.659333  ...     0.000000   \n",
       "3       36835576116 -0.984438  1635  1686.709409  7.668714  ...     0.000000   \n",
       "4      100027053147 -0.769092  1645  1685.436774  7.715617  ...     0.000000   \n",
       "...             ...       ...   ...          ...       ...  ...          ...   \n",
       "3941   301531040251 -9.382925   995  1476.125937  4.666893  ...     6.999961   \n",
       "3942   375458544956 -8.306196   991  1418.532184  4.648132  ...     6.999961   \n",
       "3943   449397194279 -8.952233   994  1455.010695  4.662203  ...     6.999961   \n",
       "3944   523381930458 -8.490778   999  1434.188082  4.685655  ...     6.999961   \n",
       "3945   597308682642 -9.936671   986  1501.870529  4.624680  ...     6.999961   \n",
       "\n",
       "      temperature_initiator  temperature_target      timestamp  seqnum  \\\n",
       "0                 30.980000           30.220001  1654929794228       4   \n",
       "1                 30.980000           29.840002  1654929795219      10   \n",
       "2                 30.980000           29.840002  1654929796210      16   \n",
       "3                 30.980000           29.840002  1654929797201      22   \n",
       "4                 30.980000           29.840002  1654929798190      28   \n",
       "...                     ...                 ...            ...     ...   \n",
       "3941              41.810001           46.939999  1654930833773    4231   \n",
       "3942              41.525002           47.319996  1654930834930    4237   \n",
       "3943              41.810001           46.939999  1654930836088    4243   \n",
       "3944              41.240002           46.559998  1654930837246    4249   \n",
       "3945              41.525002           46.939999  1654930838402    4255   \n",
       "\n",
       "      rssi_request   rssi_ack  rssi_data  rssi_mean  orientation  \n",
       "0       -80.136574 -80.077130 -79.836296 -80.016667        270.0  \n",
       "1       -80.267769 -79.988684 -79.835720 -80.030724        270.0  \n",
       "2       -79.964310 -79.850138 -79.693502 -79.835983        270.0  \n",
       "3       -80.040833 -79.818313 -79.849525 -79.902890        270.0  \n",
       "4       -79.999908 -80.102552 -80.022316 -80.041592        270.0  \n",
       "...            ...        ...        ...        ...          ...  \n",
       "3941    -80.229179 -79.428015 -79.342829 -79.666674        119.0  \n",
       "3942    -80.196487 -79.576395 -79.985511 -79.919464        119.0  \n",
       "3943    -80.158638 -79.435472 -79.234453 -79.609521        119.0  \n",
       "3944    -80.229492 -79.554364 -79.599858 -79.794571        119.0  \n",
       "3945    -79.617264 -79.487352 -79.358943 -79.487853        119.0  \n",
       "\n",
       "[3946 rows x 28 columns]"
      ]
     },
     "execution_count": 3,
     "metadata": {},
     "output_type": "execute_result"
    }
   ],
   "source": [
    "data = pd.read_csv(\"data_v2.csv\", )\n",
    "\n",
    "# deleting useless variables\n",
    "data = data.drop(['Unnamed: 0', 'loc_initiator_z', 'protocol', 'ranging_unit', 'initiator', 'register_dump_CIR'], axis=1)\n",
    "data"
   ]
  },
  {
   "cell_type": "code",
   "execution_count": 4,
   "metadata": {},
   "outputs": [
    {
     "data": {
      "image/png": "[encoded data removed]",
      "text/plain": [
       "<Figure size 432x288 with 1 Axes>"
      ]
     },
     "metadata": {
      "needs_background": "light"
     },
     "output_type": "display_data"
    },
    {
     "name": "stdout",
     "output_type": "stream",
     "text": [
      "a =  -0.5548735684921144  et b =  3.6697196927161606\n",
      "loc_iniatiator_y =  -0.5548735684921144  * loc_initiator_x +  3.6697196927161606\n"
     ]
    },
    {
     "data": {
      "image/png": "[encoded data removed]",
      "text/plain": [
       "<Figure size 432x288 with 1 Axes>"
      ]
     },
     "metadata": {
      "needs_background": "light"
     },
     "output_type": "display_data"
    }
   ],
   "source": [
    "# Linear Regression to have x as a function of y of the form x=a*y+b\n",
    "# with x : loc_initiator_y and y : loc_initiator_x\n",
    "# a= -0.5548 et b= 3.6679\n",
    "\n",
    "from scipy import stats\n",
    "\n",
    "def predict(y):\n",
    "    return slope * y + intercept\n",
    "\n",
    "X =  data.loc_initiator_y\n",
    "Y =  data.loc_initiator_x\n",
    "\n",
    "axes = plt.axes()\n",
    "axes.grid()\n",
    "plt.scatter(X,Y)\n",
    "plt.show()\n",
    "\n",
    "slope, intercept, r_value, p_value, std_err = stats.linregress(X, Y)\n",
    "\n",
    "fitLine = predict(X)\n",
    "plt.plot(X, fitLine, c='r')\n",
    "\n",
    "print(\"a = \", slope, \" et b = \", intercept)\n",
    "print(\"loc_iniatiator_y = \", slope, \" * loc_initiator_x + \", intercept)"
   ]
  },
  {
   "cell_type": "markdown",
   "metadata": {},
   "source": [
    "# Linear regression"
   ]
  },
  {
   "cell_type": "markdown",
   "metadata": {},
   "source": [
    "### Train the model"
   ]
  },
  {
   "cell_type": "code",
   "execution_count": 5,
   "metadata": {},
   "outputs": [
    {
     "name": "stdout",
     "output_type": "stream",
     "text": [
      "Training set shape : (3157, 28)\n",
      "Testing set shape : (789, 28)\n"
     ]
    },
    {
     "data": {
      "text/plain": [
       "LinearRegression()"
      ]
     },
     "execution_count": 5,
     "metadata": {},
     "output_type": "execute_result"
    }
   ],
   "source": [
    "# Variable names\n",
    "columns = data.columns.tolist()\n",
    "columns = [c for c in columns if c not in [\"loc_initiator_y\", \"loc_initiator_x\"]]  # remove variable names from loc_initiator_y and loc_initiator_x \n",
    "\n",
    "# The variable we'll be predicting on\n",
    "variable_predict = \"loc_initiator_y\"\n",
    "\n",
    "# Generate the training set\n",
    "train = data.sample(frac=0.8, random_state=1)  # random_state : to be able to replicate results\n",
    "\n",
    "# Select anything not in the training set and put it in the testing set\n",
    "test = data.loc[~data.index.isin(train.index)]\n",
    "\n",
    "# Print the shapes of both sets\n",
    "print(\"Training set shape :\", train.shape)\n",
    "print(\"Testing set shape :\", test.shape)\n",
    "\n",
    "# Initialize the model class\n",
    "lin_model = LinearRegression()\n",
    "\n",
    "# Fit the model to the training data\n",
    "lin_model.fit(train[columns], train[variable_predict])"
   ]
  },
  {
   "cell_type": "markdown",
   "metadata": {},
   "source": [
    "### Do predictions"
   ]
  },
  {
   "cell_type": "code",
   "execution_count": 6,
   "metadata": {},
   "outputs": [
    {
     "name": "stdout",
     "output_type": "stream",
     "text": [
      "Predictions : [2.88027531 2.88029711 2.88029377 2.96793827 2.9679498  3.05482426\n",
      " 3.14214265 3.2297417  3.31707758 3.404727   3.40471908 3.40471185\n",
      " 3.49202498 3.57968266 3.57967694 3.57966481 3.66696611 3.66696246\n",
      " 3.66699661 3.75425881 3.75429163 3.75430997 3.75431095 3.75431475\n",
      " 3.84196633 3.92925287 4.01688896 4.01688217 4.01689149 4.10423266\n",
      " 4.10422352 4.10420463 4.19184774 4.1918957  4.27917272 4.36680955\n",
      " 4.36685052 4.3668224  4.45417668 4.54103363 4.62911377 4.71599259\n",
      " 4.71599963 4.80405288 4.89094253 4.89096095 4.97900593 4.97901939\n",
      " 4.97899855 4.97899948 4.97898351 4.97900706 5.06588267 5.06591044\n",
      " 5.15398422 5.15398292 5.24085784 5.24084967 5.24087328 5.41583853\n",
      " 5.50312368 5.67806189 5.67805364 5.67804608 5.76571932 5.76572337\n",
      " 5.76571635 5.8529885  5.85305353 5.85302662 5.94107057 5.94109159\n",
      " 5.94110123 6.02795789 6.11526548 6.11529445 6.20295899 6.29023035\n",
      " 6.29026415 6.29022618 6.29023739 6.29026455 6.46521861 6.5528283\n",
      " 6.55283636 6.64017678 6.64015749 6.6401473  6.64015423 6.72704111\n",
      " 6.81508802 6.9019796  7.07692869 7.07693507 7.16500811 7.16502029\n",
      " 7.25190274 7.25190336 7.25189893 7.33999271 7.51416728 7.60182754\n",
      " 7.6018484  7.68911363 7.77676009 7.77678616 7.86409254 7.86407102\n",
      " 7.95174162 7.95172939 8.03904311 8.03903024 8.12668094 8.21397458\n",
      " 8.21399705 8.21395529 8.21397697 8.38892785 8.4762378  8.56385674\n",
      " 8.65118999 8.65119626 8.65119332 8.73885307 8.7388751  8.82616682\n",
      " 8.82619489 8.91380822 8.91382014 2.79301757 2.79299574 2.79301427\n",
      " 2.88028872 2.88029714 2.88029315 2.96795049 2.9679451  2.96794764\n",
      " 3.05481341 3.0548049  3.14209727 3.14210766 3.14208523 3.14210102\n",
      " 3.22976225 3.2297586  3.31706781 3.31707027 3.40470424 3.4046981\n",
      " 3.40469614 3.40470969 3.40471742 3.49205955 3.49201145 3.57968531\n",
      " 3.57968237 3.57967132 3.75430406 3.84193522 3.84195621 3.92928483\n",
      " 4.10421887 4.10422158 4.1918624  4.1918922  4.27915733 4.27915274\n",
      " 4.27918181 4.36681164 4.45412946 4.45413328 4.45414342 4.45415261\n",
      " 4.54101739 4.54102696 4.54102858 4.62908146 4.62910441 4.71595728\n",
      " 4.71598884 4.8040379  4.80404387 4.8040324  4.80404815 4.89091905\n",
      " 4.89094182 4.89095062 4.89092849 4.89092429 4.97901159 5.06590587\n",
      " 5.06590311 5.06590642 5.06590369 5.06587981 5.15396766 5.15396921\n",
      " 5.2408413  5.32815376 5.41580481 5.41580109 5.41581411 5.50310458\n",
      " 5.5907527  5.59076526 5.59076138 5.59075758 5.67806037 5.76572136\n",
      " 5.76570168 5.85305661 5.8530488  6.02797724 6.02796087 6.11526555\n",
      " 6.11526094 6.20293262 6.20291814 6.29020923 6.29021737 6.29024149\n",
      " 6.37785658 6.46519156 6.46519767 6.46519335 6.46518123 6.55283787\n",
      " 6.55283226 6.5528324  6.64016235 6.72704657 6.72706056 6.72703758\n",
      " 6.8150994  6.81510402 6.9019926  6.90197146 6.90197428 6.99005743\n",
      " 7.07693218 7.07694145 7.25190666 7.25190302 7.25189518 7.33999744\n",
      " 7.3399776  7.42686361 7.42687374 7.42688508 7.51413945 7.51416022\n",
      " 7.60180505 7.6018155  7.68911723 7.68913404 7.68912305 7.77675513\n",
      " 7.9517376  8.12669134 8.12668089 8.12668206 8.12669425 8.21398026\n",
      " 8.30131077 8.301303   8.3013151  8.38894837 8.38895411 8.47624587\n",
      " 8.56390712 8.56390037 8.56390706 8.65122076 8.65121174 8.65120816\n",
      " 8.6512208  8.73886072 8.73885764 8.73886989 8.82618039 8.82615623\n",
      " 8.91380894 3.92915022 4.10421158 4.27902669 4.71598126 4.80403093\n",
      " 4.80402692 4.89092367 4.97901902 4.97892071 5.24084848 5.32814349\n",
      " 5.32814254 5.32815277 5.32814011 5.41579456 5.41579764 5.5031019\n",
      " 5.50309358 5.59075875 5.67807409 5.6780594  5.76570294 5.76570935\n",
      " 5.76570093 5.76570042 5.76570539 5.85300332 5.85301379 5.94110025\n",
      " 5.94105594 5.94109637 5.9410883  5.94110722 6.0279669  6.02795088\n",
      " 6.2029306  6.20295605 6.20294863 6.29023101 6.29023325 6.29022606\n",
      " 6.37788423 6.46518528 6.55281591 6.64013171 6.64014977 6.72701708\n",
      " 6.72704811 6.7270163  6.81510616 6.90199946 6.90197336 6.99004887\n",
      " 7.07693719 7.07693879 7.07693545 7.07692753 7.07694847 7.16502174\n",
      " 7.16501307 7.1650032  7.25187109 7.25187851 7.25189255 7.25188351\n",
      " 7.51418516 7.51416544 7.60181656 7.68912157 7.68914118 7.77678247\n",
      " 7.77674996 7.7767628  7.77677139 7.86407785 7.95172069 7.95172894\n",
      " 7.95171615 8.03906071 8.1266969  8.12667859 8.21395512 8.21398789\n",
      " 8.30130607 8.3013276  8.30131635 8.3889348  8.38893152 8.47624232\n",
      " 8.47627113 8.65122087 8.65122107 8.65119467 8.73884244 8.73886776\n",
      " 8.73885722 8.91382606 8.9138266  2.79299358 2.79302138 2.79303655\n",
      " 2.88030933 2.88030821 2.88033025 2.88032646 2.96791895 3.14215858\n",
      " 3.14210678 3.14215667 3.22977747 3.22977826 3.22975088 3.22976579\n",
      " 3.22977237 3.31705624 3.31704484 3.31709287 3.40471222 3.49202067\n",
      " 3.57968536 3.66700232 3.75432021 3.75427878 3.75430736 3.84193231\n",
      " 4.01691976 4.10423876 4.10421029 4.10423008 4.10423795 4.27914393\n",
      " 4.36682817 4.54106972 4.54101883 4.7159854  4.80404603 4.89093112\n",
      " 4.89091575 4.97901351 5.06590482 5.06590202 5.24085647 5.41579857\n",
      " 5.41578123 5.50314838 5.59075441 5.59076766 5.76576133 5.85301288\n",
      " 5.85302562 5.85301769 5.85301902 5.94110619 5.94107972 6.02797148\n",
      " 6.02799487 6.11528043 6.11530573 6.20294587 6.20293035 6.20290992\n",
      " 6.20293732 6.20295846 6.29023279 6.29026768 6.2902191  6.46520467\n",
      " 6.46520746 6.55286988 6.55284267 6.55285258 6.5528618  6.55283413\n",
      " 6.64014434 6.64016128 6.64016356 6.64017019 6.72705007 6.72705695\n",
      " 6.81508798 6.81510317 6.99005882 6.99010334 7.07695109 7.1650435\n",
      " 7.16503705 7.16502371 7.25192727 7.33998357 7.51418409 7.60185897\n",
      " 7.68912968 7.68911372 7.77676284 7.86408786 7.86408919 7.86408593\n",
      " 7.95170585 7.95172607 7.95174387 8.12668924 8.21402292 8.2140114\n",
      " 8.21398122 8.30128558 8.38893906 8.38895588 8.38894732 8.47627695\n",
      " 8.5638908  8.5639165  8.6512331  8.65119192 8.65120329 8.73886112\n",
      " 8.73886602 8.73886456 8.82616411 8.82615453 8.91382514 8.91381054\n",
      " 8.91381531 2.79305001 2.79305432 2.79305467 2.88029215 2.88029565\n",
      " 2.88027819 2.96799373 2.96796137 3.05479901 3.05480602 3.05481323\n",
      " 3.0547966  3.14215551 3.22982131 3.22985117 3.22982762 3.31709883\n",
      " 3.31711802 3.31711986 3.49201368 3.57970117 3.66697186 3.66700305\n",
      " 3.66700745 3.66701889 3.75427576 3.75429587 3.84196474 3.8419492\n",
      " 3.92924282 3.92930099 3.92930985 4.01689197 4.01690847 4.01687945\n",
      " 4.19181092 4.19184527 4.27914193 4.36678995 4.36679519 4.45410079\n",
      " 4.5410006  4.71594947 4.80403368 4.80404424 4.89092779 4.97902226\n",
      " 4.97900588 4.97901571 5.06589454 5.06589565 5.06589159 5.06588789\n",
      " 5.15397502 5.153975   5.15397025 5.32817502 5.41580158 5.4157986\n",
      " 5.41580144 5.41580465 5.50311545 5.50311276 5.50312352 5.59077072\n",
      " 5.76571121 5.85300508 5.85304034 5.94108623 5.94109878 5.94109568\n",
      " 6.11528225 6.11529979 6.20292635 6.29023371 6.37788489 6.3778839\n",
      " 6.46519373 6.46518963 6.46519566 6.46519376 6.55285166 6.55284287\n",
      " 6.64015765 6.72702591 6.72702104 6.7270201  6.81509762 6.9019869\n",
      " 6.90197599 6.99006784 6.99005321 6.99005683 6.99005914 7.07695177\n",
      " 7.07695183 7.07694358 7.07694043 7.16501956 7.25189773 7.25189183\n",
      " 7.25189724 7.33996408 7.51415206 7.60180073 7.60181859 7.6891068\n",
      " 7.68912234 7.77676102 7.77675711 7.77676608 7.86407853 7.86407788\n",
      " 7.86407391 7.95172502 8.03903519 8.12667101 8.21397789 8.30127573\n",
      " 8.38894136 8.38893209 8.388944   8.47623279 8.47624657 8.56389351\n",
      " 8.56389794 8.56389041 8.65118966 8.73887363 8.73882517 8.73882895\n",
      " 8.82614313 8.91380237 8.91380389 8.91379966 2.79297848 2.79301298\n",
      " 2.88029308 2.88030012 2.96793885 2.96793787 3.05482896 3.14213182\n",
      " 3.14213481 3.14212622 3.31708346 3.3170723  3.31707874 3.49203551\n",
      " 3.57968414 3.57969761 3.66700726 3.66700638 3.75429552 3.75429338\n",
      " 3.75429481 3.84194255 3.84194656 3.84195397 3.92926486 3.92925221\n",
      " 3.92924979 4.0169218  4.01691649 4.01690505 4.10423066 4.10421951\n",
      " 4.19185993 4.19187194 4.19188462 4.27916836 4.27918994 4.27916943\n",
      " 4.36681853 4.3668227  4.45414335 4.45414653 4.54102917 4.62908983\n",
      " 4.62911441 4.62910889 4.71598183 4.71600089 4.804048   4.89094773\n",
      " 4.89094431 4.89095593 4.97902702 4.97902398 4.97901498 5.15397903\n",
      " 5.24087253 5.32816435 5.32818453 5.41581641 5.50311967 5.50312658\n",
      " 5.59077486 5.59077836 5.67807827 5.76572344 5.85302961 5.85303628\n",
      " 5.85303509 5.94110292 5.94111361 5.94111763 5.94111028 6.02798662\n",
      " 6.0280089  6.11529938 6.2029471  6.20294287 6.20293021 6.29024776\n",
      " 6.29024771 6.29023847 6.29024209 6.37788686 6.64016023 6.64016524\n",
      " 6.72703479 6.8151096  6.81511045 6.81511242 6.90200255 6.90199308\n",
      " 6.90201018 6.99006322 6.99007175 6.99005821 7.07695654 7.07694692\n",
      " 7.16503301 7.16503067 7.16502237 7.25192554 7.33997701 7.3399803\n",
      " 7.42685714 7.42687686 7.51416766 7.6018129  7.60181824 7.60180723\n",
      " 7.60179804 7.6018078  7.60182935 7.68912419 7.68912129 7.77676632\n",
      " 7.77677883 7.7767761  7.86408739 7.86408109 7.9517318  8.0390509\n",
      " 8.03903697 8.03904698 8.03904714 8.21401107 8.21400254 8.21400913\n",
      " 8.30129047 8.30131553 8.38896286 8.38896234 8.38895517 8.3889486\n",
      " 8.47625705 8.47625154 8.56390783 8.56390235 8.6512222  8.65122605\n",
      " 8.65121981 8.65121667 8.65120224 8.73886248 8.73887218 8.7388638\n",
      " 8.82618284 8.91381643 8.91383938]\n",
      "Mean squared error : 2.7038915015382414e-08\n"
     ]
    }
   ],
   "source": [
    "# Generate our predictions for the test set\n",
    "lin_predictions = lin_model.predict(test[columns])\n",
    "print(\"Predictions :\", lin_predictions)\n",
    "\n",
    "# Compute error between our test predictions and the actual values\n",
    "lin_mse = mean_squared_error(lin_predictions, test[variable_predict])\n",
    "print(\"Mean squared error :\", lin_mse)"
   ]
  },
  {
   "cell_type": "markdown",
   "metadata": {},
   "source": [
    "We have mean squared error equal to 0, so the model doesn't seem to have any error."
   ]
  },
  {
   "cell_type": "markdown",
   "metadata": {},
   "source": [
    "## Other method  (the best)"
   ]
  },
  {
   "cell_type": "code",
   "execution_count": 18,
   "metadata": {},
   "outputs": [
    {
     "name": "stdout",
     "output_type": "stream",
     "text": [
      "(3156, 26)\n",
      "(790, 26)\n",
      "(3156,)\n",
      "(790,)\n"
     ]
    }
   ],
   "source": [
    "X = data.drop(['loc_initiator_y', 'loc_initiator_x'], axis=1)\n",
    "y = data.loc_initiator_y\n",
    "\n",
    "# train base and test base\n",
    "from sklearn.model_selection import train_test_split\n",
    " \n",
    "X_train, X_test, y_train, y_test = train_test_split(X, y, test_size = 0.2, random_state=5)\n",
    "print(X_train.shape)\n",
    "print(X_test.shape)\n",
    "print(y_train.shape)\n",
    "print(y_test.shape)"
   ]
  },
  {
   "cell_type": "code",
   "execution_count": 19,
   "metadata": {},
   "outputs": [
    {
     "data": {
      "text/plain": [
       "LinearRegression()"
      ]
     },
     "execution_count": 19,
     "metadata": {},
     "output_type": "execute_result"
    }
   ],
   "source": [
    "# model training\n",
    "from sklearn.linear_model import LinearRegression\n",
    "from sklearn.metrics import mean_squared_error\n",
    " \n",
    "linear_model = LinearRegression()\n",
    "linear_model.fit(X_train, y_train)"
   ]
  },
  {
   "cell_type": "code",
   "execution_count": 20,
   "metadata": {},
   "outputs": [
    {
     "name": "stdout",
     "output_type": "stream",
     "text": [
      "Model performance based on training set : \n",
      "--------------------------------------\n",
      "The mean squared error is 0.00015962095203407649\n",
      "The R-squared is 0.9999999918370538\n",
      "\n",
      "\n",
      "Model performance based on testing set : \n",
      "--------------------------------------\n",
      "The mean squared error is 0.00016800929857083187\n",
      "The R-squared is 0.9999999912191188\n"
     ]
    }
   ],
   "source": [
    "# Evaluation of the training set\n",
    "from sklearn.metrics import r2_score\n",
    "y_train_predict = linear_model.predict(X_train)\n",
    "rmse_train = (np.sqrt(mean_squared_error(y_train, y_train_predict)))\n",
    "r2_train = r2_score(y_train, y_train_predict)\n",
    " \n",
    "print(\"Model performance based on training set : \")\n",
    "print(\"--------------------------------------\")\n",
    "print(\"The mean squared error is {}\".format(rmse_train))\n",
    "print(\"The R-squared is {}\".format(r2_train))\n",
    "print(\"\\n\")\n",
    " \n",
    "# model evaluation for testing set\n",
    "y_test_predict = linear_model.predict(X_test)\n",
    "rmse_test = (np.sqrt(mean_squared_error(y_test, y_test_predict)))\n",
    "r2_test = r2_score(y_test, y_test_predict)\n",
    " \n",
    "print(\"Model performance based on testing set : \")\n",
    "print(\"--------------------------------------\")\n",
    "print(\"The mean squared error is {}\".format(rmse_test))\n",
    "print(\"The R-squared is {}\".format(r2_test))\n"
   ]
  },
  {
   "cell_type": "code",
   "execution_count": 32,
   "metadata": {},
   "outputs": [],
   "source": [
    "a = linear_model.coef_\n",
    "b = linear_model.intercept_"
   ]
  },
  {
   "cell_type": "code",
   "execution_count": 43,
   "metadata": {},
   "outputs": [
    {
     "data": {
      "text/plain": [
       "array([-6.17236319e-07,  5.60854588e-07, -8.22230079e-06,  8.22227376e-06,\n",
       "       -8.22227377e-06,  8.22230080e-06, -4.79497305e-04, -7.18405406e-06,\n",
       "        8.36711249e-07,  2.23516607e-06, -2.10901331e-06, -2.17035053e-03,\n",
       "        1.36457170e-05, -2.87471568e-05,  2.51371771e-03, -2.15003100e-03,\n",
       "        8.74484960e-01,  3.43222851e-06, -1.28636752e-05, -2.89289379e-09,\n",
       "        6.09270026e-07,  6.93553799e-07,  1.56965596e-06, -2.78421350e-06,\n",
       "       -1.73667969e-07,  4.72895374e-07])"
      ]
     },
     "execution_count": 43,
     "metadata": {},
     "output_type": "execute_result"
    }
   ],
   "source": [
    "a"
   ]
  },
  {
   "cell_type": "markdown",
   "metadata": {},
   "source": [
    "The MSE is approximatly equal to 0 and the R-squared approximatly 1, this means that the difference between what we predict and what we have is very small."
   ]
  },
  {
   "cell_type": "markdown",
   "metadata": {},
   "source": [
    "### Graphics"
   ]
  },
  {
   "cell_type": "code",
   "execution_count": 35,
   "metadata": {},
   "outputs": [
    {
     "data": {
      "image/png": "[encoded data removed]",
      "text/plain": [
       "<Figure size 432x288 with 1 Axes>"
      ]
     },
     "metadata": {
      "needs_background": "light"
     },
     "output_type": "display_data"
    }
   ],
   "source": [
    "plt.plot(y, linear_model.predict(X),'.')\n",
    "plt.title(\"Linear regression\")\n",
    "plt.show()"
   ]
  },
  {
   "cell_type": "code",
   "execution_count": 45,
   "metadata": {},
   "outputs": [
    {
     "data": {
      "image/png": "[encoded data removed]",
      "text/plain": [
       "<Figure size 432x288 with 1 Axes>"
      ]
     },
     "metadata": {
      "needs_background": "light"
     },
     "output_type": "display_data"
    }
   ],
   "source": [
    "plt.plot(y, y-linear_model.predict(X), '.', label=\"data\")\n",
    "#plt.plot(X, a * X + b, \"r-\", label=\"regression\")\n",
    "plt.title(\"Linear regression with residuals\")\n",
    "plt.legend(loc=\"lower right\")\n",
    "plt.show()"
   ]
  }
 ],
 "metadata": {
  "kernelspec": {
   "display_name": "Python 3",
   "language": "python",
   "name": "python3"
  },
  "language_info": {
   "codemirror_mode": {
    "name": "ipython",
    "version": 3
   },
   "file_extension": ".py",
   "mimetype": "text/x-python",
   "name": "python",
   "nbconvert_exporter": "python",
   "pygments_lexer": "ipython3",
   "version": "3.8.3"
  }
 },
 "nbformat": 4,
 "nbformat_minor": 4
}
