{
 "cells": [
  {
   "cell_type": "code",
   "execution_count": 1,
   "metadata": {},
   "outputs": [
    {
     "data": {
      "text/plain": [
       "'\\nCreated on 05/01/2023\\nGroup 2\\nAuthors: S.V.\\nLicense: this code is released under the CeCILL 2.1 license. See\\nhttps://www.cecill.info/licenses/Licence_CeCILL_V2.1-en.txt\\n'"
      ]
     },
     "execution_count": 1,
     "metadata": {},
     "output_type": "execute_result"
    }
   ],
   "source": [
    "\"\"\"\n",
    "Created on 05/01/2023\n",
    "Group 2\n",
    "Authors: S.V.\n",
    "License: this code is released under the CeCILL 2.1 license. See\n",
    "https://www.cecill.info/licenses/Licence_CeCILL_V2.1-en.txt\n",
    "\"\"\""
   ]
  },
  {
   "cell_type": "code",
   "execution_count": 281,
   "metadata": {},
   "outputs": [],
   "source": [
    "import os\n",
    "import sys\n",
    "import math\n",
    "from sklearn.model_selection import train_test_split, cross_val_score, cross_val_predict, GridSearchCV\n",
    "from sklearn.linear_model import LinearRegression\n",
    "from sklearn.metrics import mean_squared_error, r2_score, mean_absolute_error\n",
    "from sklearn.ensemble import GradientBoostingRegressor\n",
    "import pandas as pd\n",
    "import matplotlib.pyplot as plt\n",
    "import seaborn as sns\n",
    "import numpy as np"
   ]
  },
  {
   "cell_type": "code",
   "execution_count": 255,
   "metadata": {
    "scrolled": true
   },
   "outputs": [
    {
     "data": {
      "text/html": [
       "<div>\n",
       "<style scoped>\n",
       "    .dataframe tbody tr th:only-of-type {\n",
       "        vertical-align: middle;\n",
       "    }\n",
       "\n",
       "    .dataframe tbody tr th {\n",
       "        vertical-align: top;\n",
       "    }\n",
       "\n",
       "    .dataframe thead th {\n",
       "        text-align: right;\n",
       "    }\n",
       "</style>\n",
       "<table border=\"1\" class=\"dataframe\">\n",
       "  <thead>\n",
       "    <tr style=\"text-align: right;\">\n",
       "      <th></th>\n",
       "      <th>target</th>\n",
       "      <th>nlos_indicator</th>\n",
       "      <th>t1</th>\n",
       "      <th>t2</th>\n",
       "      <th>t3</th>\n",
       "      <th>t4</th>\n",
       "      <th>skew</th>\n",
       "      <th>tof</th>\n",
       "      <th>tof_skew</th>\n",
       "      <th>range</th>\n",
       "      <th>...</th>\n",
       "      <th>loc_target_x</th>\n",
       "      <th>loc_target_y</th>\n",
       "      <th>loc_target_z</th>\n",
       "      <th>temperature_initiator</th>\n",
       "      <th>temperature_target</th>\n",
       "      <th>rssi_request</th>\n",
       "      <th>rssi_ack</th>\n",
       "      <th>rssi_data</th>\n",
       "      <th>rssi_mean</th>\n",
       "      <th>orientation</th>\n",
       "    </tr>\n",
       "  </thead>\n",
       "  <tbody>\n",
       "    <tr>\n",
       "      <th>0</th>\n",
       "      <td>100</td>\n",
       "      <td>2.783982</td>\n",
       "      <td>946218857614</td>\n",
       "      <td>946490292658</td>\n",
       "      <td>946594234510</td>\n",
       "      <td>946322802711</td>\n",
       "      <td>-2.368804</td>\n",
       "      <td>1622</td>\n",
       "      <td>1745.608935</td>\n",
       "      <td>7.607739</td>\n",
       "      <td>...</td>\n",
       "      <td>-3.962</td>\n",
       "      <td>7.931</td>\n",
       "      <td>2.65</td>\n",
       "      <td>30.980000</td>\n",
       "      <td>30.220001</td>\n",
       "      <td>-80.136574</td>\n",
       "      <td>-80.077130</td>\n",
       "      <td>-79.836296</td>\n",
       "      <td>-80.016667</td>\n",
       "      <td>270.0</td>\n",
       "    </tr>\n",
       "    <tr>\n",
       "      <th>1</th>\n",
       "      <td>100</td>\n",
       "      <td>2.920485</td>\n",
       "      <td>1009474709646</td>\n",
       "      <td>1009746235572</td>\n",
       "      <td>1009850439822</td>\n",
       "      <td>1009578917162</td>\n",
       "      <td>-1.045965</td>\n",
       "      <td>1633</td>\n",
       "      <td>1687.497019</td>\n",
       "      <td>7.659333</td>\n",
       "      <td>...</td>\n",
       "      <td>-3.962</td>\n",
       "      <td>7.931</td>\n",
       "      <td>2.65</td>\n",
       "      <td>30.980000</td>\n",
       "      <td>29.840002</td>\n",
       "      <td>-80.267769</td>\n",
       "      <td>-79.988684</td>\n",
       "      <td>-79.835720</td>\n",
       "      <td>-80.030724</td>\n",
       "      <td>270.0</td>\n",
       "    </tr>\n",
       "    <tr>\n",
       "      <th>2</th>\n",
       "      <td>100</td>\n",
       "      <td>2.536090</td>\n",
       "      <td>1072923068046</td>\n",
       "      <td>1073194681670</td>\n",
       "      <td>1073299179662</td>\n",
       "      <td>1073027569304</td>\n",
       "      <td>-0.799856</td>\n",
       "      <td>1633</td>\n",
       "      <td>1674.791667</td>\n",
       "      <td>7.659333</td>\n",
       "      <td>...</td>\n",
       "      <td>-3.962</td>\n",
       "      <td>7.931</td>\n",
       "      <td>2.65</td>\n",
       "      <td>30.980000</td>\n",
       "      <td>29.840002</td>\n",
       "      <td>-79.964310</td>\n",
       "      <td>-79.850138</td>\n",
       "      <td>-79.693502</td>\n",
       "      <td>-79.835983</td>\n",
       "      <td>270.0</td>\n",
       "    </tr>\n",
       "    <tr>\n",
       "      <th>3</th>\n",
       "      <td>100</td>\n",
       "      <td>2.857669</td>\n",
       "      <td>36731534990</td>\n",
       "      <td>37003232943</td>\n",
       "      <td>37107270798</td>\n",
       "      <td>36835576116</td>\n",
       "      <td>-0.984438</td>\n",
       "      <td>1635</td>\n",
       "      <td>1686.709409</td>\n",
       "      <td>7.668714</td>\n",
       "      <td>...</td>\n",
       "      <td>-3.962</td>\n",
       "      <td>7.931</td>\n",
       "      <td>2.65</td>\n",
       "      <td>30.980000</td>\n",
       "      <td>29.840002</td>\n",
       "      <td>-80.040833</td>\n",
       "      <td>-79.818313</td>\n",
       "      <td>-79.849525</td>\n",
       "      <td>-79.902890</td>\n",
       "      <td>270.0</td>\n",
       "    </tr>\n",
       "    <tr>\n",
       "      <th>4</th>\n",
       "      <td>100</td>\n",
       "      <td>2.263103</td>\n",
       "      <td>99923195534</td>\n",
       "      <td>100194974620</td>\n",
       "      <td>100298828942</td>\n",
       "      <td>100027053147</td>\n",
       "      <td>-0.769092</td>\n",
       "      <td>1645</td>\n",
       "      <td>1685.436774</td>\n",
       "      <td>7.715617</td>\n",
       "      <td>...</td>\n",
       "      <td>-3.962</td>\n",
       "      <td>7.931</td>\n",
       "      <td>2.65</td>\n",
       "      <td>30.980000</td>\n",
       "      <td>29.840002</td>\n",
       "      <td>-79.999908</td>\n",
       "      <td>-80.102552</td>\n",
       "      <td>-80.022316</td>\n",
       "      <td>-80.041592</td>\n",
       "      <td>270.0</td>\n",
       "    </tr>\n",
       "    <tr>\n",
       "      <th>...</th>\n",
       "      <td>...</td>\n",
       "      <td>...</td>\n",
       "      <td>...</td>\n",
       "      <td>...</td>\n",
       "      <td>...</td>\n",
       "      <td>...</td>\n",
       "      <td>...</td>\n",
       "      <td>...</td>\n",
       "      <td>...</td>\n",
       "      <td>...</td>\n",
       "      <td>...</td>\n",
       "      <td>...</td>\n",
       "      <td>...</td>\n",
       "      <td>...</td>\n",
       "      <td>...</td>\n",
       "      <td>...</td>\n",
       "      <td>...</td>\n",
       "      <td>...</td>\n",
       "      <td>...</td>\n",
       "      <td>...</td>\n",
       "      <td>...</td>\n",
       "    </tr>\n",
       "    <tr>\n",
       "      <th>3941</th>\n",
       "      <td>184</td>\n",
       "      <td>3.075243</td>\n",
       "      <td>301428484750</td>\n",
       "      <td>302000434919</td>\n",
       "      <td>302102988430</td>\n",
       "      <td>301531040251</td>\n",
       "      <td>-9.382925</td>\n",
       "      <td>995</td>\n",
       "      <td>1476.125937</td>\n",
       "      <td>4.666893</td>\n",
       "      <td>...</td>\n",
       "      <td>2.120</td>\n",
       "      <td>2.793</td>\n",
       "      <td>2.65</td>\n",
       "      <td>41.810001</td>\n",
       "      <td>46.939999</td>\n",
       "      <td>-80.229179</td>\n",
       "      <td>-79.428015</td>\n",
       "      <td>-79.342829</td>\n",
       "      <td>-79.666674</td>\n",
       "      <td>119.0</td>\n",
       "    </tr>\n",
       "    <tr>\n",
       "      <th>3942</th>\n",
       "      <td>184</td>\n",
       "      <td>3.085177</td>\n",
       "      <td>375355600014</td>\n",
       "      <td>375928251294</td>\n",
       "      <td>376031194254</td>\n",
       "      <td>375458544956</td>\n",
       "      <td>-8.306196</td>\n",
       "      <td>991</td>\n",
       "      <td>1418.532184</td>\n",
       "      <td>4.648132</td>\n",
       "      <td>...</td>\n",
       "      <td>2.120</td>\n",
       "      <td>2.793</td>\n",
       "      <td>2.65</td>\n",
       "      <td>41.525002</td>\n",
       "      <td>47.319996</td>\n",
       "      <td>-80.196487</td>\n",
       "      <td>-79.576395</td>\n",
       "      <td>-79.985511</td>\n",
       "      <td>-79.919464</td>\n",
       "      <td>119.0</td>\n",
       "    </tr>\n",
       "    <tr>\n",
       "      <th>3943</th>\n",
       "      <td>184</td>\n",
       "      <td>2.674524</td>\n",
       "      <td>449294310542</td>\n",
       "      <td>449867663034</td>\n",
       "      <td>449970544782</td>\n",
       "      <td>449397194279</td>\n",
       "      <td>-8.952233</td>\n",
       "      <td>994</td>\n",
       "      <td>1455.010695</td>\n",
       "      <td>4.662203</td>\n",
       "      <td>...</td>\n",
       "      <td>2.120</td>\n",
       "      <td>2.793</td>\n",
       "      <td>2.65</td>\n",
       "      <td>41.810001</td>\n",
       "      <td>46.939999</td>\n",
       "      <td>-80.158638</td>\n",
       "      <td>-79.435472</td>\n",
       "      <td>-79.234453</td>\n",
       "      <td>-79.609521</td>\n",
       "      <td>119.0</td>\n",
       "    </tr>\n",
       "    <tr>\n",
       "      <th>3944</th>\n",
       "      <td>184</td>\n",
       "      <td>2.727551</td>\n",
       "      <td>523279420046</td>\n",
       "      <td>523853474064</td>\n",
       "      <td>523955982478</td>\n",
       "      <td>523381930458</td>\n",
       "      <td>-8.490778</td>\n",
       "      <td>999</td>\n",
       "      <td>1434.188082</td>\n",
       "      <td>4.685655</td>\n",
       "      <td>...</td>\n",
       "      <td>2.120</td>\n",
       "      <td>2.793</td>\n",
       "      <td>2.65</td>\n",
       "      <td>41.240002</td>\n",
       "      <td>46.559998</td>\n",
       "      <td>-80.229492</td>\n",
       "      <td>-79.554364</td>\n",
       "      <td>-79.599858</td>\n",
       "      <td>-79.794571</td>\n",
       "      <td>119.0</td>\n",
       "    </tr>\n",
       "    <tr>\n",
       "      <th>3945</th>\n",
       "      <td>184</td>\n",
       "      <td>2.676824</td>\n",
       "      <td>597204949646</td>\n",
       "      <td>597779704639</td>\n",
       "      <td>597883435662</td>\n",
       "      <td>597308682642</td>\n",
       "      <td>-9.936671</td>\n",
       "      <td>986</td>\n",
       "      <td>1501.870529</td>\n",
       "      <td>4.624680</td>\n",
       "      <td>...</td>\n",
       "      <td>2.120</td>\n",
       "      <td>2.793</td>\n",
       "      <td>2.65</td>\n",
       "      <td>41.525002</td>\n",
       "      <td>46.939999</td>\n",
       "      <td>-79.617264</td>\n",
       "      <td>-79.487352</td>\n",
       "      <td>-79.358943</td>\n",
       "      <td>-79.487853</td>\n",
       "      <td>119.0</td>\n",
       "    </tr>\n",
       "  </tbody>\n",
       "</table>\n",
       "<p>3946 rows × 23 columns</p>\n",
       "</div>"
      ],
      "text/plain": [
       "      target  nlos_indicator             t1             t2             t3  \\\n",
       "0        100        2.783982   946218857614   946490292658   946594234510   \n",
       "1        100        2.920485  1009474709646  1009746235572  1009850439822   \n",
       "2        100        2.536090  1072923068046  1073194681670  1073299179662   \n",
       "3        100        2.857669    36731534990    37003232943    37107270798   \n",
       "4        100        2.263103    99923195534   100194974620   100298828942   \n",
       "...      ...             ...            ...            ...            ...   \n",
       "3941     184        3.075243   301428484750   302000434919   302102988430   \n",
       "3942     184        3.085177   375355600014   375928251294   376031194254   \n",
       "3943     184        2.674524   449294310542   449867663034   449970544782   \n",
       "3944     184        2.727551   523279420046   523853474064   523955982478   \n",
       "3945     184        2.676824   597204949646   597779704639   597883435662   \n",
       "\n",
       "                 t4      skew   tof     tof_skew     range  ...  loc_target_x  \\\n",
       "0      946322802711 -2.368804  1622  1745.608935  7.607739  ...        -3.962   \n",
       "1     1009578917162 -1.045965  1633  1687.497019  7.659333  ...        -3.962   \n",
       "2     1073027569304 -0.799856  1633  1674.791667  7.659333  ...        -3.962   \n",
       "3       36835576116 -0.984438  1635  1686.709409  7.668714  ...        -3.962   \n",
       "4      100027053147 -0.769092  1645  1685.436774  7.715617  ...        -3.962   \n",
       "...             ...       ...   ...          ...       ...  ...           ...   \n",
       "3941   301531040251 -9.382925   995  1476.125937  4.666893  ...         2.120   \n",
       "3942   375458544956 -8.306196   991  1418.532184  4.648132  ...         2.120   \n",
       "3943   449397194279 -8.952233   994  1455.010695  4.662203  ...         2.120   \n",
       "3944   523381930458 -8.490778   999  1434.188082  4.685655  ...         2.120   \n",
       "3945   597308682642 -9.936671   986  1501.870529  4.624680  ...         2.120   \n",
       "\n",
       "      loc_target_y  loc_target_z  temperature_initiator  temperature_target  \\\n",
       "0            7.931          2.65              30.980000           30.220001   \n",
       "1            7.931          2.65              30.980000           29.840002   \n",
       "2            7.931          2.65              30.980000           29.840002   \n",
       "3            7.931          2.65              30.980000           29.840002   \n",
       "4            7.931          2.65              30.980000           29.840002   \n",
       "...            ...           ...                    ...                 ...   \n",
       "3941         2.793          2.65              41.810001           46.939999   \n",
       "3942         2.793          2.65              41.525002           47.319996   \n",
       "3943         2.793          2.65              41.810001           46.939999   \n",
       "3944         2.793          2.65              41.240002           46.559998   \n",
       "3945         2.793          2.65              41.525002           46.939999   \n",
       "\n",
       "      rssi_request   rssi_ack  rssi_data  rssi_mean  orientation  \n",
       "0       -80.136574 -80.077130 -79.836296 -80.016667        270.0  \n",
       "1       -80.267769 -79.988684 -79.835720 -80.030724        270.0  \n",
       "2       -79.964310 -79.850138 -79.693502 -79.835983        270.0  \n",
       "3       -80.040833 -79.818313 -79.849525 -79.902890        270.0  \n",
       "4       -79.999908 -80.102552 -80.022316 -80.041592        270.0  \n",
       "...            ...        ...        ...        ...          ...  \n",
       "3941    -80.229179 -79.428015 -79.342829 -79.666674        119.0  \n",
       "3942    -80.196487 -79.576395 -79.985511 -79.919464        119.0  \n",
       "3943    -80.158638 -79.435472 -79.234453 -79.609521        119.0  \n",
       "3944    -80.229492 -79.554364 -79.599858 -79.794571        119.0  \n",
       "3945    -79.617264 -79.487352 -79.358943 -79.487853        119.0  \n",
       "\n",
       "[3946 rows x 23 columns]"
      ]
     },
     "execution_count": 255,
     "metadata": {},
     "output_type": "execute_result"
    }
   ],
   "source": [
    "data = pd.read_csv(\"data_v6.csv\")\n",
    "\n",
    "# deleting useless variables\n",
    "#data = data.drop(['target', 'distance', 'seqnum', 'loc_initiator_z', 'loc_target_z', 'protocol', 'ranging_unit', 'initiator', 'register_dump_CIR'], axis=1)\n",
    "data"
   ]
  },
  {
   "cell_type": "code",
   "execution_count": 256,
   "metadata": {},
   "outputs": [
    {
     "data": {
      "image/png": "[encoded data removed]",
      "text/plain": [
       "<Figure size 432x288 with 1 Axes>"
      ]
     },
     "metadata": {
      "needs_background": "light"
     },
     "output_type": "display_data"
    },
    {
     "name": "stdout",
     "output_type": "stream",
     "text": [
      "a =  -0.5548735684921144  et b =  3.6697196927161606\n",
      "loc_iniatiator_y =  -0.5548735684921144  * loc_initiator_x +  3.6697196927161606\n"
     ]
    },
    {
     "data": {
      "image/png": "[encoded data removed]",
      "text/plain": [
       "<Figure size 432x288 with 1 Axes>"
      ]
     },
     "metadata": {
      "needs_background": "light"
     },
     "output_type": "display_data"
    }
   ],
   "source": [
    "# Linear Regression to have x as a function of y of the form x=a*y+b\n",
    "# with x : loc_initiator_y and y : loc_initiator_x\n",
    "# a= -0.5548 et b= 3.6679\n",
    "\n",
    "from scipy import stats\n",
    "\n",
    "def predict(y):\n",
    "    return slope * y + intercept\n",
    "\n",
    "X =  data.loc_initiator_y\n",
    "Y =  data.loc_initiator_x\n",
    "\n",
    "axes = plt.axes()\n",
    "axes.grid()\n",
    "plt.scatter(X,Y)\n",
    "plt.show()\n",
    "\n",
    "slope, intercept, r_value, p_value, std_err = stats.linregress(X, Y)\n",
    "\n",
    "fitLine = predict(X)\n",
    "plt.plot(X, fitLine, c='r')\n",
    "\n",
    "print(\"a = \", slope, \" et b = \", intercept)\n",
    "print(\"loc_iniatiator_y = \", slope, \" * loc_initiator_x + \", intercept)"
   ]
  },
  {
   "cell_type": "markdown",
   "metadata": {},
   "source": [
    "# Linear regression"
   ]
  },
  {
   "cell_type": "code",
   "execution_count": 257,
   "metadata": {},
   "outputs": [
    {
     "name": "stdout",
     "output_type": "stream",
     "text": [
      "(2428, 21)\n",
      "(810, 21)\n",
      "(2428,)\n",
      "(810,)\n"
     ]
    }
   ],
   "source": [
    "# data without target 184\n",
    "data_lr = data.drop(data[(data['target'] == 184)].index)   \n",
    "X = data_lr.drop(['loc_initiator_y', 'loc_initiator_x'], axis=1)\n",
    "y = data_lr.loc_initiator_y\n",
    "\n",
    "# train base and test base\n",
    "from sklearn.model_selection import train_test_split\n",
    " \n",
    "X_train, X_test, y_train, y_test = train_test_split(X, y, test_size = 0.25, random_state=5)\n",
    "print(X_train.shape)\n",
    "print(X_test.shape)\n",
    "print(y_train.shape)\n",
    "print(y_test.shape)"
   ]
  },
  {
   "cell_type": "code",
   "execution_count": 258,
   "metadata": {},
   "outputs": [
    {
     "data": {
      "text/plain": [
       "LinearRegression()"
      ]
     },
     "execution_count": 258,
     "metadata": {},
     "output_type": "execute_result"
    }
   ],
   "source": [
    "# model training\n",
    "from sklearn.linear_model import LinearRegression\n",
    "from sklearn.metrics import mean_squared_error\n",
    " \n",
    "linear_model = LinearRegression()\n",
    "linear_model.fit(X_train, y_train)"
   ]
  },
  {
   "cell_type": "code",
   "execution_count": 285,
   "metadata": {},
   "outputs": [
    {
     "name": "stdout",
     "output_type": "stream",
     "text": [
      "Model performance based on training set : \n",
      "--------------------------------------\n",
      "The mean squared error is 1.518637609818013\n",
      "The mean absolute error  is 1.2388001904374655\n",
      "The R-squared is 0.25583511399856107\n",
      "\n",
      "\n",
      "Model performance based on testing set : \n",
      "--------------------------------------\n",
      "The mean squared error is 1.5254611614903306\n",
      "The mean absolute error  is 1.240434424981892\n",
      "The R-squared is 0.26479051656359776\n"
     ]
    }
   ],
   "source": [
    "# Evaluation of the training set\n",
    "from sklearn.metrics import r2_score\n",
    "y_train_predict = linear_model.predict(X_train)\n",
    "rmse_train = (np.sqrt(mean_squared_error(y_train, y_train_predict)))\n",
    "mae_train = mean_absolute_error(y_train, y_train_predict)\n",
    "r2_train = r2_score(y_train, y_train_predict)\n",
    " \n",
    "print(\"Model performance based on training set : \")\n",
    "print(\"--------------------------------------\")\n",
    "print(\"The mean squared error is {}\".format(rmse_train))\n",
    "print(\"The mean absolute error  is {}\".format(mae_train))\n",
    "print(\"The R-squared is {}\".format(r2_train))\n",
    "print(\"\\n\")\n",
    " \n",
    "# model evaluation for testing set\n",
    "y_test_predict = linear_model.predict(X_test)\n",
    "rmse_test = (np.sqrt(mean_squared_error(y_test, y_test_predict)))\n",
    "mae_test = mean_absolute_error(y_test, y_test_predict)\n",
    "r2_test = r2_score(y_test, y_test_predict)\n",
    " \n",
    "print(\"Model performance based on testing set : \")\n",
    "print(\"--------------------------------------\")\n",
    "print(\"The mean squared error is {}\".format(rmse_test))\n",
    "print(\"The mean absolute error  is {}\".format(mae_test))\n",
    "print(\"The R-squared is {}\".format(r2_test))\n"
   ]
  },
  {
   "cell_type": "code",
   "execution_count": 260,
   "metadata": {},
   "outputs": [],
   "source": [
    "a = linear_model.coef_\n",
    "b = linear_model.intercept_"
   ]
  },
  {
   "cell_type": "markdown",
   "metadata": {},
   "source": [
    "The MSE is approximatly equal to 1 and the R-squared approximatly 1, this means that the difference between what we predict and what we have is very small."
   ]
  },
  {
   "cell_type": "markdown",
   "metadata": {},
   "source": [
    "### Graphics"
   ]
  },
  {
   "cell_type": "code",
   "execution_count": 261,
   "metadata": {},
   "outputs": [
    {
     "data": {
      "image/png": "[encoded data removed]",
      "text/plain": [
       "<Figure size 432x288 with 1 Axes>"
      ]
     },
     "metadata": {
      "needs_background": "light"
     },
     "output_type": "display_data"
    }
   ],
   "source": [
    "plt.plot(y, linear_model.predict(X),'.')\n",
    "plt.title(\"Linear regression\")\n",
    "plt.show()"
   ]
  },
  {
   "cell_type": "code",
   "execution_count": 262,
   "metadata": {},
   "outputs": [
    {
     "data": {
      "image/png": "[encoded data removed]",
      "text/plain": [
       "<Figure size 432x288 with 1 Axes>"
      ]
     },
     "metadata": {
      "needs_background": "light"
     },
     "output_type": "display_data"
    }
   ],
   "source": [
    "plt.plot(y, y-linear_model.predict(X), '.', label=\"data\")\n",
    "#plt.plot(X, a * X + b, \"r-\", label=\"regression\")\n",
    "plt.title(\"Linear regression with residuals\")\n",
    "plt.legend(loc=\"lower right\")\n",
    "plt.show()"
   ]
  },
  {
   "cell_type": "markdown",
   "metadata": {},
   "source": [
    "## With only interesting features"
   ]
  },
  {
   "cell_type": "code",
   "execution_count": 279,
   "metadata": {},
   "outputs": [
    {
     "name": "stdout",
     "output_type": "stream",
     "text": [
      "(2428, 14)\n",
      "(810, 14)\n",
      "(2428,)\n",
      "(810,)\n"
     ]
    }
   ],
   "source": [
    "X = data_lr[['nlos_indicator', 't1', 't2', 't3', 't4', 'skew', 'tof', 'tof_skew', 'loc_target_x', 'loc_target_y', 'rssi_request', 'rssi_ack', 'rssi_data', 'rssi_mean']]\n",
    "Y = data_lr.loc_initiator_y\n",
    "\n",
    "# train base and test base\n",
    "from sklearn.model_selection import train_test_split\n",
    " \n",
    "X_train, X_test, Y_train, Y_test = train_test_split(X, Y, test_size = 0.25, random_state=5)\n",
    "print(X_train.shape)\n",
    "print(X_test.shape)\n",
    "print(Y_train.shape)\n",
    "print(Y_test.shape)\n"
   ]
  },
  {
   "cell_type": "code",
   "execution_count": 264,
   "metadata": {},
   "outputs": [
    {
     "data": {
      "text/plain": [
       "LinearRegression()"
      ]
     },
     "execution_count": 264,
     "metadata": {},
     "output_type": "execute_result"
    }
   ],
   "source": [
    "# model training\n",
    "from sklearn.linear_model import LinearRegression\n",
    "from sklearn.metrics import mean_squared_error\n",
    " \n",
    "linear_model = LinearRegression()\n",
    "linear_model.fit(X_train, Y_train)"
   ]
  },
  {
   "cell_type": "code",
   "execution_count": 265,
   "metadata": {},
   "outputs": [
    {
     "data": {
      "image/png": "[encoded data removed]",
      "text/plain": [
       "<Figure size 432x288 with 1 Axes>"
      ]
     },
     "metadata": {
      "needs_background": "light"
     },
     "output_type": "display_data"
    }
   ],
   "source": [
    "plt.plot(Y, linear_model.predict(X),'.')\n",
    "plt.title(\"Linear regression\")\n",
    "plt.show()"
   ]
  },
  {
   "cell_type": "code",
   "execution_count": 286,
   "metadata": {},
   "outputs": [
    {
     "name": "stdout",
     "output_type": "stream",
     "text": [
      "Model performance based on training set : \n",
      "--------------------------------------\n",
      "The mean squared error is 1.518637609818013\n",
      "The mean absolute error  is 1.2388001904374655\n",
      "The R-squared is 0.25583511399856107\n",
      "\n",
      "\n",
      "Model performance based on testing set : \n",
      "--------------------------------------\n",
      "The mean squared error is 1.5254611614903306\n",
      "The mean absolute error  is 1.240434424981892\n",
      "The R-squared is 0.26479051656359776\n"
     ]
    }
   ],
   "source": [
    "# Evaluation of the training set\n",
    "from sklearn.metrics import r2_score\n",
    "Y_train_predict = linear_model.predict(X_train)\n",
    "rmse_train = (np.sqrt(mean_squared_error(Y_train, Y_train_predict)))\n",
    "mae_train = mean_absolute_error(y_train, y_train_predict)\n",
    "r2_train = r2_score(Y_train, Y_train_predict)\n",
    " \n",
    "print(\"Model performance based on training set : \")\n",
    "print(\"--------------------------------------\")\n",
    "print(\"The mean squared error is {}\".format(rmse_train))\n",
    "print(\"The mean absolute error  is {}\".format(mae_train))\n",
    "print(\"The R-squared is {}\".format(r2_train))\n",
    "print(\"\\n\")\n",
    " \n",
    "# model evaluation for testing set\n",
    "Y_test_predict = linear_model.predict(X_test)\n",
    "rmse_test = (np.sqrt(mean_squared_error(Y_test, Y_test_predict)))\n",
    "mae_train = mean_absolute_error(y_test, y_test_predict)\n",
    "r2_test = r2_score(Y_test, Y_test_predict)\n",
    " \n",
    "print(\"Model performance based on testing set : \")\n",
    "print(\"--------------------------------------\")\n",
    "print(\"The mean squared error is {}\".format(rmse_test))\n",
    "print(\"The mean absolute error  is {}\".format(mae_test))\n",
    "print(\"The R-squared is {}\".format(r2_test))\n"
   ]
  },
  {
   "cell_type": "code",
   "execution_count": 267,
   "metadata": {},
   "outputs": [
    {
     "data": {
      "image/png": "[encoded data removed]",
      "text/plain": [
       "<Figure size 432x288 with 1 Axes>"
      ]
     },
     "metadata": {
      "needs_background": "light"
     },
     "output_type": "display_data"
    }
   ],
   "source": [
    "a = linear_model.coef_\n",
    "b = linear_model.intercept_\n",
    "plt.plot(Y, Y-linear_model.predict(X), '.', label=\"data\")\n",
    "#plt.plot(X, a * X + b, \"r-\", label=\"regression\")\n",
    "plt.title(\"Linear regression with predictions\")\n",
    "plt.legend(loc=\"lower right\")\n",
    "plt.show()"
   ]
  },
  {
   "cell_type": "markdown",
   "metadata": {},
   "source": [
    "## Cross-validation"
   ]
  },
  {
   "cell_type": "code",
   "execution_count": 268,
   "metadata": {},
   "outputs": [
    {
     "name": "stdout",
     "output_type": "stream",
     "text": [
      "r2 / variance :  0.24551239088898388\n",
      "Residual sum of squares: 2.33\n"
     ]
    }
   ],
   "source": [
    "X_train, X_test, y_train, y_test = train_test_split(X, Y, test_size = 0.25, random_state=5)\n",
    "model = LinearRegression()\n",
    "parameters = {'fit_intercept':[True,False], 'normalize':[True,False], 'copy_X':[True, False]}\n",
    "grid = GridSearchCV(model,parameters, cv=None)\n",
    "grid.fit(X_train, y_train)\n",
    "print (\"r2 / variance : \", grid.best_score_)\n",
    "print(\"Residual sum of squares: %.2f\"\n",
    "              % np.mean((grid.predict(X_test) - y_test) ** 2))"
   ]
  },
  {
   "cell_type": "code",
   "execution_count": 269,
   "metadata": {},
   "outputs": [
    {
     "name": "stdout",
     "output_type": "stream",
     "text": [
      " Results from Grid Search \n",
      "\n",
      " The best estimator across all searched params :\n",
      " LinearRegression()\n",
      "\n",
      " The best score across all searched params :\n",
      " 0.24551239088898388\n",
      "\n",
      " The best parameters across all searched params :\n",
      " {'copy_X': True, 'fit_intercept': True, 'normalize': False}\n"
     ]
    }
   ],
   "source": [
    "print(\" Results from Grid Search \")\n",
    "print(\"\\n The best estimator across all searched params :\\n\", grid.best_estimator_)\n",
    "print(\"\\n The best score across all searched params :\\n\", grid.best_score_)\n",
    "print(\"\\n The best parameters across all searched params :\\n\", grid.best_params_)"
   ]
  },
  {
   "cell_type": "markdown",
   "metadata": {},
   "source": [
    "### Score"
   ]
  },
  {
   "cell_type": "code",
   "execution_count": 275,
   "metadata": {},
   "outputs": [],
   "source": [
    "def score_distanceM(Xobserve,Yobserve,Xprevu,Yprevu):\n",
    "    X=(Xobserve-Xprevu)**2\n",
    "    Y=(Yobserve-Yprevu)**2\n",
    "    return np.mean(np.sqrt(X+Y))"
   ]
  },
  {
   "cell_type": "code",
   "execution_count": 280,
   "metadata": {},
   "outputs": [
    {
     "ename": "ValueError",
     "evalue": "Expected 2D array, got 1D array instead:\narray=[2.793 2.793 2.793 ... 8.914 8.914 8.914].\nReshape your data either using array.reshape(-1, 1) if your data has a single feature or array.reshape(1, -1) if it contains a single sample.",
     "output_type": "error",
     "traceback": [
      "\u001b[0;31m---------------------------------------------------------------------------\u001b[0m",
      "\u001b[0;31mValueError\u001b[0m                                Traceback (most recent call last)",
      "\u001b[0;32m<ipython-input-280-5a334b50f410>\u001b[0m in \u001b[0;36m<module>\u001b[0;34m\u001b[0m\n\u001b[1;32m      1\u001b[0m \u001b[0mX_pred\u001b[0m \u001b[0;34m=\u001b[0m \u001b[0mlinear_model\u001b[0m\u001b[0;34m.\u001b[0m\u001b[0mpredict\u001b[0m\u001b[0;34m(\u001b[0m\u001b[0mX\u001b[0m\u001b[0;34m)\u001b[0m\u001b[0;34m\u001b[0m\u001b[0;34m\u001b[0m\u001b[0m\n\u001b[0;32m----> 2\u001b[0;31m \u001b[0mY_pred\u001b[0m \u001b[0;34m=\u001b[0m \u001b[0mlinear_model\u001b[0m\u001b[0;34m.\u001b[0m\u001b[0mpredict\u001b[0m\u001b[0;34m(\u001b[0m\u001b[0mY\u001b[0m\u001b[0;34m)\u001b[0m\u001b[0;34m\u001b[0m\u001b[0;34m\u001b[0m\u001b[0m\n\u001b[0m",
      "\u001b[0;32m/opt/anaconda3/lib/python3.8/site-packages/sklearn/linear_model/_base.py\u001b[0m in \u001b[0;36mpredict\u001b[0;34m(self, X)\u001b[0m\n\u001b[1;32m    234\u001b[0m             \u001b[0mReturns\u001b[0m \u001b[0mpredicted\u001b[0m \u001b[0mvalues\u001b[0m\u001b[0;34m.\u001b[0m\u001b[0;34m\u001b[0m\u001b[0;34m\u001b[0m\u001b[0m\n\u001b[1;32m    235\u001b[0m         \"\"\"\n\u001b[0;32m--> 236\u001b[0;31m         \u001b[0;32mreturn\u001b[0m \u001b[0mself\u001b[0m\u001b[0;34m.\u001b[0m\u001b[0m_decision_function\u001b[0m\u001b[0;34m(\u001b[0m\u001b[0mX\u001b[0m\u001b[0;34m)\u001b[0m\u001b[0;34m\u001b[0m\u001b[0;34m\u001b[0m\u001b[0m\n\u001b[0m\u001b[1;32m    237\u001b[0m \u001b[0;34m\u001b[0m\u001b[0m\n\u001b[1;32m    238\u001b[0m     \u001b[0m_preprocess_data\u001b[0m \u001b[0;34m=\u001b[0m \u001b[0mstaticmethod\u001b[0m\u001b[0;34m(\u001b[0m\u001b[0m_preprocess_data\u001b[0m\u001b[0;34m)\u001b[0m\u001b[0;34m\u001b[0m\u001b[0;34m\u001b[0m\u001b[0m\n",
      "\u001b[0;32m/opt/anaconda3/lib/python3.8/site-packages/sklearn/linear_model/_base.py\u001b[0m in \u001b[0;36m_decision_function\u001b[0;34m(self, X)\u001b[0m\n\u001b[1;32m    216\u001b[0m         \u001b[0mcheck_is_fitted\u001b[0m\u001b[0;34m(\u001b[0m\u001b[0mself\u001b[0m\u001b[0;34m)\u001b[0m\u001b[0;34m\u001b[0m\u001b[0;34m\u001b[0m\u001b[0m\n\u001b[1;32m    217\u001b[0m \u001b[0;34m\u001b[0m\u001b[0m\n\u001b[0;32m--> 218\u001b[0;31m         \u001b[0mX\u001b[0m \u001b[0;34m=\u001b[0m \u001b[0mcheck_array\u001b[0m\u001b[0;34m(\u001b[0m\u001b[0mX\u001b[0m\u001b[0;34m,\u001b[0m \u001b[0maccept_sparse\u001b[0m\u001b[0;34m=\u001b[0m\u001b[0;34m[\u001b[0m\u001b[0;34m'csr'\u001b[0m\u001b[0;34m,\u001b[0m \u001b[0;34m'csc'\u001b[0m\u001b[0;34m,\u001b[0m \u001b[0;34m'coo'\u001b[0m\u001b[0;34m]\u001b[0m\u001b[0;34m)\u001b[0m\u001b[0;34m\u001b[0m\u001b[0;34m\u001b[0m\u001b[0m\n\u001b[0m\u001b[1;32m    219\u001b[0m         return safe_sparse_dot(X, self.coef_.T,\n\u001b[1;32m    220\u001b[0m                                dense_output=True) + self.intercept_\n",
      "\u001b[0;32m/opt/anaconda3/lib/python3.8/site-packages/sklearn/utils/validation.py\u001b[0m in \u001b[0;36minner_f\u001b[0;34m(*args, **kwargs)\u001b[0m\n\u001b[1;32m     71\u001b[0m                           FutureWarning)\n\u001b[1;32m     72\u001b[0m         \u001b[0mkwargs\u001b[0m\u001b[0;34m.\u001b[0m\u001b[0mupdate\u001b[0m\u001b[0;34m(\u001b[0m\u001b[0;34m{\u001b[0m\u001b[0mk\u001b[0m\u001b[0;34m:\u001b[0m \u001b[0marg\u001b[0m \u001b[0;32mfor\u001b[0m \u001b[0mk\u001b[0m\u001b[0;34m,\u001b[0m \u001b[0marg\u001b[0m \u001b[0;32min\u001b[0m \u001b[0mzip\u001b[0m\u001b[0;34m(\u001b[0m\u001b[0msig\u001b[0m\u001b[0;34m.\u001b[0m\u001b[0mparameters\u001b[0m\u001b[0;34m,\u001b[0m \u001b[0margs\u001b[0m\u001b[0;34m)\u001b[0m\u001b[0;34m}\u001b[0m\u001b[0;34m)\u001b[0m\u001b[0;34m\u001b[0m\u001b[0;34m\u001b[0m\u001b[0m\n\u001b[0;32m---> 73\u001b[0;31m         \u001b[0;32mreturn\u001b[0m \u001b[0mf\u001b[0m\u001b[0;34m(\u001b[0m\u001b[0;34m**\u001b[0m\u001b[0mkwargs\u001b[0m\u001b[0;34m)\u001b[0m\u001b[0;34m\u001b[0m\u001b[0;34m\u001b[0m\u001b[0m\n\u001b[0m\u001b[1;32m     74\u001b[0m     \u001b[0;32mreturn\u001b[0m \u001b[0minner_f\u001b[0m\u001b[0;34m\u001b[0m\u001b[0;34m\u001b[0m\u001b[0m\n\u001b[1;32m     75\u001b[0m \u001b[0;34m\u001b[0m\u001b[0m\n",
      "\u001b[0;32m/opt/anaconda3/lib/python3.8/site-packages/sklearn/utils/validation.py\u001b[0m in \u001b[0;36mcheck_array\u001b[0;34m(array, accept_sparse, accept_large_sparse, dtype, order, copy, force_all_finite, ensure_2d, allow_nd, ensure_min_samples, ensure_min_features, estimator)\u001b[0m\n\u001b[1;32m    618\u001b[0m             \u001b[0;31m# If input is 1D raise error\u001b[0m\u001b[0;34m\u001b[0m\u001b[0;34m\u001b[0m\u001b[0;34m\u001b[0m\u001b[0m\n\u001b[1;32m    619\u001b[0m             \u001b[0;32mif\u001b[0m \u001b[0marray\u001b[0m\u001b[0;34m.\u001b[0m\u001b[0mndim\u001b[0m \u001b[0;34m==\u001b[0m \u001b[0;36m1\u001b[0m\u001b[0;34m:\u001b[0m\u001b[0;34m\u001b[0m\u001b[0;34m\u001b[0m\u001b[0m\n\u001b[0;32m--> 620\u001b[0;31m                 raise ValueError(\n\u001b[0m\u001b[1;32m    621\u001b[0m                     \u001b[0;34m\"Expected 2D array, got 1D array instead:\\narray={}.\\n\"\u001b[0m\u001b[0;34m\u001b[0m\u001b[0;34m\u001b[0m\u001b[0m\n\u001b[1;32m    622\u001b[0m                     \u001b[0;34m\"Reshape your data either using array.reshape(-1, 1) if \"\u001b[0m\u001b[0;34m\u001b[0m\u001b[0;34m\u001b[0m\u001b[0m\n",
      "\u001b[0;31mValueError\u001b[0m: Expected 2D array, got 1D array instead:\narray=[2.793 2.793 2.793 ... 8.914 8.914 8.914].\nReshape your data either using array.reshape(-1, 1) if your data has a single feature or array.reshape(1, -1) if it contains a single sample."
     ]
    }
   ],
   "source": [
    "X_pred = linear_model.predict(X)\n",
    "Y_pred = linear_model.predict(Y)"
   ]
  },
  {
   "cell_type": "markdown",
   "metadata": {},
   "source": [
    "## Other"
   ]
  },
  {
   "cell_type": "code",
   "execution_count": 204,
   "metadata": {},
   "outputs": [],
   "source": [
    "x = X_train\n",
    "y = Y_train"
   ]
  },
  {
   "cell_type": "code",
   "execution_count": 216,
   "metadata": {},
   "outputs": [
    {
     "name": "stdout",
     "output_type": "stream",
     "text": [
      "x : (2959, 21)\n",
      "y : (2959,)\n",
      "score [0.99820321 0.99323248 0.81018536 0.99814981 0.99648156]\n",
      "mean : 0.959, standard deviation : 0.075\n",
      "prediction (2959,)\n"
     ]
    }
   ],
   "source": [
    "print(\"x :\", x.shape)\n",
    "print(\"y :\", y.shape)\n",
    "\n",
    "\n",
    "lr = LinearRegression()\n",
    "scores = cross_val_score(lr, x, y, cv=5)\n",
    "print(\"score\", scores)\n",
    "print(\"mean : %0.03f, standard deviation : %0.03f\" % (scores.mean(), scores.std()))\n",
    "\n",
    "prediction = cross_val_predict(lr, x , y, cv=10)\n",
    "print(\"prediction\", prediction.shape)"
   ]
  },
  {
   "cell_type": "code",
   "execution_count": 217,
   "metadata": {},
   "outputs": [
    {
     "name": "stdout",
     "output_type": "stream",
     "text": [
      "x : (2959, 21)\n",
      "y : (2959,)\n",
      "score [0.99820321 0.99323248 0.81018536 0.99814981 0.99648156]\n",
      "moyenne : 0.959, deviation : 0.075\n",
      "prediction (2959,)\n"
     ]
    }
   ],
   "source": [
    "X_train, X_test, Y_train, Y_test = train_test_split(X, Y, test_size=0.25, random_state=0)\n",
    "#X_train = np.mat(X_train)\n",
    "\n",
    "x = X_train\n",
    "y = Y_train\n",
    "\n",
    "print(\"x :\", x.shape)\n",
    "print(\"y :\", y.shape)\n",
    "\n",
    "lr = LinearRegression()\n",
    "scores = cross_val_score(lr, x, y, cv=5)\n",
    "print(\"score\", scores)\n",
    "print(\"moyenne : %0.03f, deviation : %0.03f\" % (scores.mean(), scores.std()))\n",
    "\n",
    "prediction = cross_val_predict(lr,x ,y ,  cv=10)\n",
    "print(\"prediction\", prediction.shape)"
   ]
  },
  {
   "cell_type": "code",
   "execution_count": 218,
   "metadata": {},
   "outputs": [
    {
     "name": "stdout",
     "output_type": "stream",
     "text": [
      "Coefficients: \n",
      " [ 4.68768689e-02 -3.49225795e-03 -6.81267494e-02  6.81267435e-02\n",
      " -6.81267469e-02  6.81267528e-02 -1.56228743e+00 -1.33538767e+00\n",
      " -1.26064366e+00  2.62246928e+02  2.62221793e+02 -6.31647074e-01\n",
      "  9.29493971e-01 -5.08125278e+02 -5.69790568e-01  3.04456505e-01\n",
      "  5.52148795e-02 -2.93533453e-02 -2.79721719e-02 -7.03546955e-04\n",
      " -2.05743934e-02]\n"
     ]
    },
    {
     "ename": "ValueError",
     "evalue": "matmul: Input operand 1 has a mismatch in its core dimension 0, with gufunc signature (n?,k),(k,m?)->(n?,m?) (size 21 is different from 987)",
     "output_type": "error",
     "traceback": [
      "\u001b[0;31m---------------------------------------------------------------------------\u001b[0m",
      "\u001b[0;31mValueError\u001b[0m                                Traceback (most recent call last)",
      "\u001b[0;32m<ipython-input-218-736af9494228>\u001b[0m in \u001b[0;36m<module>\u001b[0;34m\u001b[0m\n\u001b[1;32m      6\u001b[0m \u001b[0mprint\u001b[0m\u001b[0;34m(\u001b[0m\u001b[0;34m'Coefficients: \\n'\u001b[0m\u001b[0;34m,\u001b[0m \u001b[0mlr\u001b[0m\u001b[0;34m.\u001b[0m\u001b[0mcoef_\u001b[0m\u001b[0;34m)\u001b[0m\u001b[0;34m\u001b[0m\u001b[0;34m\u001b[0m\u001b[0m\n\u001b[1;32m      7\u001b[0m \u001b[0;34m\u001b[0m\u001b[0m\n\u001b[0;32m----> 8\u001b[0;31m \u001b[0mY_pred\u001b[0m \u001b[0;34m=\u001b[0m \u001b[0mlr\u001b[0m\u001b[0;34m.\u001b[0m\u001b[0mpredict\u001b[0m\u001b[0;34m(\u001b[0m\u001b[0mnp\u001b[0m\u001b[0;34m.\u001b[0m\u001b[0mmat\u001b[0m\u001b[0;34m(\u001b[0m\u001b[0mX_test\u001b[0m\u001b[0;34m)\u001b[0m\u001b[0;34m.\u001b[0m\u001b[0mT\u001b[0m\u001b[0;34m)\u001b[0m\u001b[0;34m\u001b[0m\u001b[0;34m\u001b[0m\u001b[0m\n\u001b[0m\u001b[1;32m      9\u001b[0m \u001b[0;34m\u001b[0m\u001b[0m\n\u001b[1;32m     10\u001b[0m \u001b[0;31m# The mean squared error\u001b[0m\u001b[0;34m\u001b[0m\u001b[0;34m\u001b[0m\u001b[0;34m\u001b[0m\u001b[0m\n",
      "\u001b[0;32m/opt/anaconda3/lib/python3.8/site-packages/sklearn/linear_model/_base.py\u001b[0m in \u001b[0;36mpredict\u001b[0;34m(self, X)\u001b[0m\n\u001b[1;32m    234\u001b[0m             \u001b[0mReturns\u001b[0m \u001b[0mpredicted\u001b[0m \u001b[0mvalues\u001b[0m\u001b[0;34m.\u001b[0m\u001b[0;34m\u001b[0m\u001b[0;34m\u001b[0m\u001b[0m\n\u001b[1;32m    235\u001b[0m         \"\"\"\n\u001b[0;32m--> 236\u001b[0;31m         \u001b[0;32mreturn\u001b[0m \u001b[0mself\u001b[0m\u001b[0;34m.\u001b[0m\u001b[0m_decision_function\u001b[0m\u001b[0;34m(\u001b[0m\u001b[0mX\u001b[0m\u001b[0;34m)\u001b[0m\u001b[0;34m\u001b[0m\u001b[0;34m\u001b[0m\u001b[0m\n\u001b[0m\u001b[1;32m    237\u001b[0m \u001b[0;34m\u001b[0m\u001b[0m\n\u001b[1;32m    238\u001b[0m     \u001b[0m_preprocess_data\u001b[0m \u001b[0;34m=\u001b[0m \u001b[0mstaticmethod\u001b[0m\u001b[0;34m(\u001b[0m\u001b[0m_preprocess_data\u001b[0m\u001b[0;34m)\u001b[0m\u001b[0;34m\u001b[0m\u001b[0;34m\u001b[0m\u001b[0m\n",
      "\u001b[0;32m/opt/anaconda3/lib/python3.8/site-packages/sklearn/linear_model/_base.py\u001b[0m in \u001b[0;36m_decision_function\u001b[0;34m(self, X)\u001b[0m\n\u001b[1;32m    217\u001b[0m \u001b[0;34m\u001b[0m\u001b[0m\n\u001b[1;32m    218\u001b[0m         \u001b[0mX\u001b[0m \u001b[0;34m=\u001b[0m \u001b[0mcheck_array\u001b[0m\u001b[0;34m(\u001b[0m\u001b[0mX\u001b[0m\u001b[0;34m,\u001b[0m \u001b[0maccept_sparse\u001b[0m\u001b[0;34m=\u001b[0m\u001b[0;34m[\u001b[0m\u001b[0;34m'csr'\u001b[0m\u001b[0;34m,\u001b[0m \u001b[0;34m'csc'\u001b[0m\u001b[0;34m,\u001b[0m \u001b[0;34m'coo'\u001b[0m\u001b[0;34m]\u001b[0m\u001b[0;34m)\u001b[0m\u001b[0;34m\u001b[0m\u001b[0;34m\u001b[0m\u001b[0m\n\u001b[0;32m--> 219\u001b[0;31m         return safe_sparse_dot(X, self.coef_.T,\n\u001b[0m\u001b[1;32m    220\u001b[0m                                dense_output=True) + self.intercept_\n\u001b[1;32m    221\u001b[0m \u001b[0;34m\u001b[0m\u001b[0m\n",
      "\u001b[0;32m/opt/anaconda3/lib/python3.8/site-packages/sklearn/utils/validation.py\u001b[0m in \u001b[0;36minner_f\u001b[0;34m(*args, **kwargs)\u001b[0m\n\u001b[1;32m     71\u001b[0m                           FutureWarning)\n\u001b[1;32m     72\u001b[0m         \u001b[0mkwargs\u001b[0m\u001b[0;34m.\u001b[0m\u001b[0mupdate\u001b[0m\u001b[0;34m(\u001b[0m\u001b[0;34m{\u001b[0m\u001b[0mk\u001b[0m\u001b[0;34m:\u001b[0m \u001b[0marg\u001b[0m \u001b[0;32mfor\u001b[0m \u001b[0mk\u001b[0m\u001b[0;34m,\u001b[0m \u001b[0marg\u001b[0m \u001b[0;32min\u001b[0m \u001b[0mzip\u001b[0m\u001b[0;34m(\u001b[0m\u001b[0msig\u001b[0m\u001b[0;34m.\u001b[0m\u001b[0mparameters\u001b[0m\u001b[0;34m,\u001b[0m \u001b[0margs\u001b[0m\u001b[0;34m)\u001b[0m\u001b[0;34m}\u001b[0m\u001b[0;34m)\u001b[0m\u001b[0;34m\u001b[0m\u001b[0;34m\u001b[0m\u001b[0m\n\u001b[0;32m---> 73\u001b[0;31m         \u001b[0;32mreturn\u001b[0m \u001b[0mf\u001b[0m\u001b[0;34m(\u001b[0m\u001b[0;34m**\u001b[0m\u001b[0mkwargs\u001b[0m\u001b[0;34m)\u001b[0m\u001b[0;34m\u001b[0m\u001b[0;34m\u001b[0m\u001b[0m\n\u001b[0m\u001b[1;32m     74\u001b[0m     \u001b[0;32mreturn\u001b[0m \u001b[0minner_f\u001b[0m\u001b[0;34m\u001b[0m\u001b[0;34m\u001b[0m\u001b[0m\n\u001b[1;32m     75\u001b[0m \u001b[0;34m\u001b[0m\u001b[0m\n",
      "\u001b[0;32m/opt/anaconda3/lib/python3.8/site-packages/sklearn/utils/extmath.py\u001b[0m in \u001b[0;36msafe_sparse_dot\u001b[0;34m(a, b, dense_output)\u001b[0m\n\u001b[1;32m    151\u001b[0m             \u001b[0mret\u001b[0m \u001b[0;34m=\u001b[0m \u001b[0mnp\u001b[0m\u001b[0;34m.\u001b[0m\u001b[0mdot\u001b[0m\u001b[0;34m(\u001b[0m\u001b[0ma\u001b[0m\u001b[0;34m,\u001b[0m \u001b[0mb\u001b[0m\u001b[0;34m)\u001b[0m\u001b[0;34m\u001b[0m\u001b[0;34m\u001b[0m\u001b[0m\n\u001b[1;32m    152\u001b[0m     \u001b[0;32melse\u001b[0m\u001b[0;34m:\u001b[0m\u001b[0;34m\u001b[0m\u001b[0;34m\u001b[0m\u001b[0m\n\u001b[0;32m--> 153\u001b[0;31m         \u001b[0mret\u001b[0m \u001b[0;34m=\u001b[0m \u001b[0ma\u001b[0m \u001b[0;34m@\u001b[0m \u001b[0mb\u001b[0m\u001b[0;34m\u001b[0m\u001b[0;34m\u001b[0m\u001b[0m\n\u001b[0m\u001b[1;32m    154\u001b[0m \u001b[0;34m\u001b[0m\u001b[0m\n\u001b[1;32m    155\u001b[0m     if (sparse.issparse(a) and sparse.issparse(b)\n",
      "\u001b[0;31mValueError\u001b[0m: matmul: Input operand 1 has a mismatch in its core dimension 0, with gufunc signature (n?,k),(k,m?)->(n?,m?) (size 21 is different from 987)"
     ]
    }
   ],
   "source": [
    "from sklearn.metrics import mean_squared_error, r2_score\n",
    "\n",
    "lr = LinearRegression()\n",
    "lr.fit(X_train,Y_train)\n",
    "\n",
    "print('Coefficients: \\n', lr.coef_)\n",
    "\n",
    "Y_pred = lr.predict(np.mat(X_test).T)\n",
    "\n",
    "# The mean squared error\n",
    "print('Mean squared error: %.2f'\n",
    "      % mean_squared_error(Y_test, Y_pred))"
   ]
  }
 ],
 "metadata": {
  "kernelspec": {
   "display_name": "Python 3",
   "language": "python",
   "name": "python3"
  },
  "language_info": {
   "codemirror_mode": {
    "name": "ipython",
    "version": 3
   },
   "file_extension": ".py",
   "mimetype": "text/x-python",
   "name": "python",
   "nbconvert_exporter": "python",
   "pygments_lexer": "ipython3",
   "version": "3.8.3"
  }
 },
 "nbformat": 4,
 "nbformat_minor": 4
}
