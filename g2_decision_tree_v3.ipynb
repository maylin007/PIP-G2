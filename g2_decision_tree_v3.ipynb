{
  "cells": [
    {
      "cell_type": "markdown",
      "source": [
        "**Created on 11/01/2022**\n",
        "\n",
        "**Group 2**\n",
        "\n",
        "**Authors: Paul Fiche**\n",
        "\n",
        "**License: this code is released under the CeCILL 2.1 license. See https://www.cecill.info/licenses/Licence_CeCILL_V2.1-en.txt**"
      ],
      "metadata": {
        "id": "S31gc8Il4pT-"
      }
    },
    {
      "cell_type": "code",
      "execution_count": null,
      "metadata": {
        "colab": {
          "base_uri": "https://localhost:8080/"
        },
        "id": "NBclx4O8P2bq",
        "outputId": "02dd50d5-2dfb-4b27-89d5-e67ac8a526fb"
      },
      "outputs": [
        {
          "output_type": "stream",
          "name": "stdout",
          "text": [
            "Drive already mounted at /content/drive; to attempt to forcibly remount, call drive.mount(\"/content/drive\", force_remount=True).\n"
          ]
        }
      ],
      "source": [
        "import os\n",
        "import sys\n",
        "import math\n",
        "from sklearn.model_selection import train_test_split, cross_val_score\n",
        "from sklearn.model_selection import GridSearchCV\n",
        "from sklearn.metrics import mean_absolute_error,mean_squared_error\n",
        "import numpy as np\n",
        "import pandas as pd\n",
        "import matplotlib.pyplot as plt\n",
        "from google.colab import drive\n",
        "from sklearn import tree\n",
        "from sklearn.feature_selection import SequentialFeatureSelector\n",
        "\n",
        "drive.mount('/content/drive')"
      ]
    },
    {
      "cell_type": "code",
      "execution_count": null,
      "metadata": {
        "id": "ghCU8vMsP-5P"
      },
      "outputs": [],
      "source": [
        "def score_distanceM(Xobserve:list,Yobserve:list,Xprevu:list,Yprevu:list)-> float:\n",
        "  X=(Xobserve-Xprevu)**2\n",
        "  Y=(Yobserve-Yprevu)**2\n",
        "  return np.mean(np.sqrt(X+Y))"
      ]
    },
    {
      "cell_type": "code",
      "execution_count": null,
      "metadata": {
        "colab": {
          "base_uri": "https://localhost:8080/"
        },
        "id": "EBD1XhdcQBj2",
        "outputId": "f8afdaa4-9d10-4886-89cc-0f7e3c24ea29"
      },
      "outputs": [
        {
          "output_type": "stream",
          "name": "stdout",
          "text": [
            "/content/drive/MyDrive\n"
          ]
        }
      ],
      "source": [
        "cd /content/drive/MyDrive"
      ]
    },
    {
      "cell_type": "markdown",
      "source": [
        "opening the dataset"
      ],
      "metadata": {
        "id": "Kk-AQCx2OYBm"
      }
    },
    {
      "cell_type": "code",
      "execution_count": null,
      "metadata": {
        "id": "8QoCGMJohVAA"
      },
      "outputs": [],
      "source": [
        "test=pd.read_csv('test_tableau_31.csv')\n",
        "train=pd.read_csv('train_tableau_31.csv')"
      ]
    },
    {
      "cell_type": "markdown",
      "source": [
        "removing target and seqnum variables"
      ],
      "metadata": {
        "id": "paIbTAvby3P5"
      }
    },
    {
      "cell_type": "code",
      "source": [
        "variable_sans_target=test.columns.tolist()\n",
        "del variable_sans_target[variable_sans_target.index('Unnamed: 0')]\n",
        "del variable_sans_target[variable_sans_target.index('target')]\n",
        "del variable_sans_target[variable_sans_target.index('target2')]\n",
        "del variable_sans_target[variable_sans_target.index('target3')]\n",
        "del variable_sans_target[variable_sans_target.index('seqnum')]\n",
        "del variable_sans_target[variable_sans_target.index('seqnum2')]\n",
        "del variable_sans_target[variable_sans_target.index('seqnum3')]"
      ],
      "metadata": {
        "id": "sXwEr95VkBFP"
      },
      "execution_count": null,
      "outputs": []
    },
    {
      "cell_type": "code",
      "source": [
        "test=test[variable_sans_target]\n",
        "train=train[variable_sans_target]"
      ],
      "metadata": {
        "id": "xdcS7WixkmFR"
      },
      "execution_count": null,
      "outputs": []
    },
    {
      "cell_type": "markdown",
      "source": [
        "data distribution"
      ],
      "metadata": {
        "id": "wxDD5ahWObPF"
      }
    },
    {
      "cell_type": "code",
      "execution_count": null,
      "metadata": {
        "id": "RB-gjq6DRBAY"
      },
      "outputs": [],
      "source": [
        "variable=train.columns.tolist()\n",
        "del variable[variable.index('loc_initiator_x')]\n",
        "del variable[variable.index('loc_initiator_y')]\n",
        "X=train[variable]\n",
        "X_test=test[variable]\n",
        "y_test=test[['loc_initiator_x','loc_initiator_y']]"
      ]
    },
    {
      "cell_type": "markdown",
      "source": [
        "first test of the decision tree without variable selection"
      ],
      "metadata": {
        "id": "u25EUM2nOeQe"
      }
    },
    {
      "cell_type": "code",
      "execution_count": null,
      "metadata": {
        "colab": {
          "base_uri": "https://localhost:8080/"
        },
        "id": "2z0L2LlDiTIX",
        "outputId": "ecaf5fee-9dbd-400f-830d-b410b92ad151"
      },
      "outputs": [
        {
          "output_type": "stream",
          "name": "stdout",
          "text": [
            "validation croisee : [0.99664731 0.99644903 0.9962282  0.99646208 0.99651508]\n",
            "\n",
            "score :  0.9958082450966995\n",
            "\n",
            "RMSE sur  validation:  0.099019\n",
            "\n",
            "MAE sur  validation:  0.094157\n",
            "\n",
            "score distance validation :  0.14109085761716242\n",
            "\n",
            "RMSE sur  test:  2.035351\n",
            "\n",
            "MAE sur  test:  0.630918\n",
            "score distance test :  0.9475991319607061\n"
          ]
        }
      ],
      "source": [
        "y=train[['loc_initiator_x','loc_initiator_y']]\n",
        "\n",
        "X_train, X_validation, y_train, y_validation = train_test_split(X, y, test_size=0.33, random_state=42)\n",
        "\n",
        "clf=tree.DecisionTreeRegressor()\n",
        "clf= clf.fit(X_train, y_train)\n",
        "\n",
        "scores = cross_val_score(clf, X, y, cv=5)\n",
        "\n",
        "y_predict=clf.predict(X_validation)\n",
        "\n",
        "print('validation croisee :',scores)\n",
        "print()\n",
        "print( 'score : ', clf.score(X_validation,y_validation) )\n",
        "\n",
        "\n",
        "print()\n",
        "print(\"RMSE sur  validation: % f\" %(mean_squared_error(y_predict,y_validation)))\n",
        "print()\n",
        "print(\"MAE sur  validation: % f\" %(mean_absolute_error(y_predict,y_validation)))\n",
        "print()\n",
        "print('score distance validation : ',score_distanceM(y_validation.loc_initiator_x, y_validation.loc_initiator_y,y_predict[:,0],y_predict[:,1]))\n",
        "y_predict=clf.predict(X_test)\n",
        "\n",
        "print()\n",
        "print(\"RMSE sur  test: % f\" %(mean_squared_error(y_predict,y_test)))\n",
        "print()\n",
        "print(\"MAE sur  test: % f\" %(mean_absolute_error(y_predict,y_test)))\n",
        "\n",
        "print('score distance test : ',score_distanceM(y_test.loc_initiator_x, y_test.loc_initiator_y,y_predict[:,0],y_predict[:,1]))\n"
      ]
    },
    {
      "cell_type": "markdown",
      "source": [
        "The average error distance is 0.94m"
      ],
      "metadata": {
        "id": "KQzx5olTO1Xy"
      }
    },
    {
      "cell_type": "markdown",
      "source": [
        "##Selection de feature"
      ],
      "metadata": {
        "id": "Khxd7I4cPEgc"
      }
    },
    {
      "cell_type": "code",
      "execution_count": null,
      "metadata": {
        "id": "c_XPLZo9m6ah"
      },
      "outputs": [],
      "source": [
        "list_variable=variable\n",
        "clf = tree.DecisionTreeRegressor()\n",
        "sfs = SequentialFeatureSelector(clf, direction='backward',cv=3)\n",
        "sfs.fit(X_train, y_train)\n",
        "target_opt=[]\n",
        "bool_choix=sfs.get_support()\n",
        "for i in range(len(bool_choix)):\n",
        "  if bool_choix[i]:\n",
        "    target_opt.append(list_variable[i])"
      ]
    },
    {
      "cell_type": "code",
      "source": [
        "print(target_opt)"
      ],
      "metadata": {
        "colab": {
          "base_uri": "https://localhost:8080/"
        },
        "id": "DEjbb0pChVFW",
        "outputId": "b79eb90b-9d16-49e0-eba7-d9fc632c31b3"
      },
      "execution_count": null,
      "outputs": [
        {
          "output_type": "stream",
          "name": "stdout",
          "text": [
            "['nlos_indicator', 'skew', 'tof', 'loc_target_x', 'loc_target_y', 'rssi_data', 'nlos_indicator2', 'skew2', 'range2', 'loc_target_x2', 'loc_target_y2', 'nlos_indicator3', 'tof3', 'range_skew3', 'loc_target_x3', 'rssi_request3', 'rssi_data3', 'orientation3', 'origin', 'rotation']\n"
          ]
        }
      ]
    },
    {
      "cell_type": "markdown",
      "metadata": {
        "id": "xrXgY4cGtlSH"
      },
      "source": [
        "the selected features are : ['nlos_indicator', 'skew', 'tof', 'loc_target_x', 'loc_target_y', 'rssi_data', 'nlos_indicator2', 'skew2', 'range2', 'loc_target_x2', 'loc_target_y2', 'nlos_indicator3', 'tof3', 'range_skew3', 'loc_target_x3', 'rssi_request3', 'rssi_data3', 'orientation3', 'origin', 'rotation']"
      ]
    },
    {
      "cell_type": "markdown",
      "source": [
        "Testing the model after feature selection"
      ],
      "metadata": {
        "id": "9Hzclm0mPOoa"
      }
    },
    {
      "cell_type": "code",
      "execution_count": null,
      "metadata": {
        "colab": {
          "base_uri": "https://localhost:8080/"
        },
        "id": "JF0Ib9ZIonQx",
        "outputId": "aa051fe9-f20b-45e9-d8d3-98fd230c2f5b"
      },
      "outputs": [
        {
          "output_type": "stream",
          "name": "stdout",
          "text": [
            "validation croisee : [0.99690804 0.99644916 0.99683247 0.99697377 0.99719655]\n",
            "\n",
            "score :  0.9965513747172567\n",
            "\n",
            "RMSE sur  validation:  0.082977\n",
            "\n",
            "MAE sur  validation:  0.090596\n",
            "\n",
            "score distance validation :  0.13587308861323572\n",
            "\n",
            "RMSE sur  test:  1.272337\n",
            "\n",
            "MAE sur  test:  0.491778\n",
            "score distance test :  0.7433733219902908\n"
          ]
        }
      ],
      "source": [
        "X=train[target_opt]\n",
        "X_test=test[target_opt]\n",
        "y_test=test[['loc_initiator_x','loc_initiator_y']]\n",
        "y=train[['loc_initiator_x','loc_initiator_y']]\n",
        "\n",
        "\n",
        "X_train, X_validation, y_train, y_validation = train_test_split(X, y, test_size=0.33, random_state=42)\n",
        "\n",
        "clf=tree.DecisionTreeRegressor()\n",
        "clf= clf.fit(X_train, y_train)\n",
        "\n",
        "scores = cross_val_score(clf, X, y, cv=5)\n",
        "\n",
        "y_predict=clf.predict(X_validation)\n",
        "\n",
        "print('cross_val_score :',scores)\n",
        "print()\n",
        "print( 'score : ', clf.score(X_validation,y_validation) )\n",
        "\n",
        "\n",
        "print()\n",
        "print(\"RMSE sur  validation: % f\" %(mean_squared_error(y_predict,y_validation)))\n",
        "print()\n",
        "print(\"MAE sur  validation: % f\" %(mean_absolute_error(y_predict,y_validation)))\n",
        "print()\n",
        "print('score distance validation : ',score_distanceM(y_validation.loc_initiator_x, y_validation.loc_initiator_y,y_predict[:,0],y_predict[:,1]))\n",
        "y_predict=clf.predict(X_test)\n",
        "\n",
        "print()\n",
        "print(\"RMSE sur  test: % f\" %(mean_squared_error(y_predict,y_test)))\n",
        "print()\n",
        "print(\"MAE sur  test: % f\" %(mean_absolute_error(y_predict,y_test)))\n",
        "\n",
        "print('score distance test : ',score_distanceM(y_test.loc_initiator_x, y_test.loc_initiator_y,y_predict[:,0],y_predict[:,1]))"
      ]
    },
    {
      "cell_type": "markdown",
      "source": [
        "After feature selection we have an average error distance of 0.74m"
      ],
      "metadata": {
        "id": "-SFAkPlDPUp4"
      }
    },
    {
      "cell_type": "markdown",
      "metadata": {
        "id": "UzFKtEE5pKrY"
      },
      "source": [
        "\n",
        "##Selection of optimum parameters"
      ]
    },
    {
      "cell_type": "code",
      "execution_count": null,
      "metadata": {
        "colab": {
          "background_save": true
        },
        "id": "vD00nyiIpKQ_",
        "outputId": "f07ff689-a0cb-4aa2-9516-866eb6814b78"
      },
      "outputs": [
        {
          "name": "stderr",
          "output_type": "stream",
          "text": [
            "/usr/local/lib/python3.8/dist-packages/sklearn/model_selection/_validation.py:372: FitFailedWarning: \n",
            "35 fits failed out of a total of 80.\n",
            "The score on these train-test partitions for these parameters will be set to nan.\n",
            "If these failures are not expected, you can try to debug them by setting error_score='raise'.\n",
            "\n",
            "Below are more details about the failures:\n",
            "--------------------------------------------------------------------------------\n",
            "15 fits failed with the following error:\n",
            "Traceback (most recent call last):\n",
            "  File \"/usr/local/lib/python3.8/dist-packages/sklearn/model_selection/_validation.py\", line 680, in _fit_and_score\n",
            "    estimator.fit(X_train, y_train, **fit_params)\n",
            "  File \"/usr/local/lib/python3.8/dist-packages/sklearn/tree/_classes.py\", line 1315, in fit\n",
            "    super().fit(\n",
            "  File \"/usr/local/lib/python3.8/dist-packages/sklearn/tree/_classes.py\", line 281, in fit\n",
            "    raise ValueError(\n",
            "ValueError: Invalid value for max_features. Allowed string values are 'auto', 'sqrt' or 'log2'.\n",
            "\n",
            "--------------------------------------------------------------------------------\n",
            "20 fits failed with the following error:\n",
            "Traceback (most recent call last):\n",
            "  File \"/usr/local/lib/python3.8/dist-packages/sklearn/model_selection/_validation.py\", line 680, in _fit_and_score\n",
            "    estimator.fit(X_train, y_train, **fit_params)\n",
            "  File \"/usr/local/lib/python3.8/dist-packages/sklearn/tree/_classes.py\", line 1315, in fit\n",
            "    super().fit(\n",
            "  File \"/usr/local/lib/python3.8/dist-packages/sklearn/tree/_classes.py\", line 178, in fit\n",
            "    raise ValueError(\n",
            "ValueError: Some value(s) of y are negative which is not allowed for Poisson regression.\n",
            "\n",
            "  warnings.warn(some_fits_failed_message, FitFailedWarning)\n",
            "/usr/local/lib/python3.8/dist-packages/sklearn/model_selection/_search.py:969: UserWarning: One or more of the test scores are non-finite: [0.99645212 0.9885587  0.99060934        nan 0.99023685 0.98395446\n",
            " 0.98622513        nan 0.99577004 0.98915247 0.98863236        nan\n",
            "        nan        nan        nan        nan]\n",
            "  warnings.warn(\n"
          ]
        },
        {
          "name": "stdout",
          "output_type": "stream",
          "text": [
            "Best parameters found:  {'criterion': 'squared_error', 'max_features': 'auto'}\n",
            "Best parameters score:  0.9964521215329507\n"
          ]
        }
      ],
      "source": [
        "param_grid = {'criterion': ['squared_error', 'friedman_mse', 'absolute_error', 'poisson'],\n",
        "              'max_features':['auto', 'sqrt', 'log2','None']\n",
        "              }\n",
        "\n",
        "# create an instance of GridSearchCV\n",
        "grid_search = GridSearchCV(clf, param_grid, cv=5)\n",
        "\n",
        "# fit the grid search to the data\n",
        "grid_search.fit(X_train, y_train)\n",
        "\n",
        "# print the best parameters\n",
        "print(\"Best parameters found: \", grid_search.best_params_)\n",
        "print(\"Best parameters score: \", grid_search.best_score_)"
      ]
    },
    {
      "cell_type": "code",
      "execution_count": null,
      "metadata": {
        "colab": {
          "base_uri": "https://localhost:8080/"
        },
        "id": "bGyZDaxqpWLS",
        "outputId": "2d6c4a17-c921-4cbb-d76a-0fe1264ff3da"
      },
      "outputs": [
        {
          "output_type": "stream",
          "name": "stdout",
          "text": [
            "validation croisee : [0.99702554 0.99655626 0.99684563 0.99722526 0.99702595]\n",
            "\n",
            "score :  0.996520034169056\n",
            "\n",
            "RMSE sur  validation:  0.083290\n",
            "\n",
            "MAE sur  validation:  0.089787\n",
            "\n",
            "score distance validation :  0.13492581063764444\n",
            "\n",
            "RMSE sur  test:  1.281078\n",
            "\n",
            "MAE sur  test:  0.491169\n",
            "score distance test :  0.7422029410954255\n"
          ]
        }
      ],
      "source": [
        "X=train[target_opt]\n",
        "X_test=test[target_opt]\n",
        "y_test=test[['loc_initiator_x','loc_initiator_y']]\n",
        "y=train[['loc_initiator_x','loc_initiator_y']]\n",
        "\n",
        "\n",
        "X_train, X_validation, y_train, y_validation = train_test_split(X, y, test_size=0.33, random_state=42)\n",
        "\n",
        "clf=tree.DecisionTreeRegressor(criterion='squared_error',max_features='auto')\n",
        "clf= clf.fit(X_train, y_train)\n",
        "\n",
        "scores = cross_val_score(clf, X, y, cv=5)\n",
        "\n",
        "y_predict=clf.predict(X_validation)\n",
        "\n",
        "print('cross_val_score :',scores)\n",
        "print()\n",
        "print( 'score : ', clf.score(X_validation,y_validation) )\n",
        "\n",
        "\n",
        "print()\n",
        "print(\"RMSE sur  validation: % f\" %(mean_squared_error(y_predict,y_validation)))\n",
        "print()\n",
        "print(\"MAE sur  validation: % f\" %(mean_absolute_error(y_predict,y_validation)))\n",
        "print()\n",
        "print('score distance validation : ',score_distanceM(y_validation.loc_initiator_x, y_validation.loc_initiator_y,y_predict[:,0],y_predict[:,1]))\n",
        "y_predict=clf.predict(X_test)\n",
        "\n",
        "print()\n",
        "print(\"RMSE sur  test: % f\" %(mean_squared_error(y_predict,y_test)))\n",
        "print()\n",
        "print(\"MAE sur  test: % f\" %(mean_absolute_error(y_predict,y_test)))\n",
        "\n",
        "print('score distance test : ',score_distanceM(y_test.loc_initiator_x, y_test.loc_initiator_y,y_predict[:,0],y_predict[:,1]))"
      ]
    },
    {
      "cell_type": "markdown",
      "source": [
        "The score has improved, the average error distance is 0.74 m"
      ],
      "metadata": {
        "id": "VbFQtQ8ZUmdV"
      }
    },
    {
      "cell_type": "markdown",
      "source": [
        "#Last test on the whole dataset"
      ],
      "metadata": {
        "id": "9rE2ZU8ytWUe"
      }
    },
    {
      "cell_type": "code",
      "source": [
        "def split(df,num_capteur):\n",
        "   test=df[(df['target']==num_capteur)|(df['target2']==num_capteur)|(df['target3']==num_capteur)]\n",
        "   train=df[(df['target']!=num_capteur)&(df['target2']!=num_capteur)&(df['target3']!=num_capteur)]\n",
        "   return(test,train)"
      ],
      "metadata": {
        "id": "sFWwSzIothlE"
      },
      "execution_count": null,
      "outputs": []
    },
    {
      "cell_type": "code",
      "source": [
        "df=pd.read_csv('complet_v2.csv')\n",
        "liste_capteur=df.target.unique()\n",
        "MAE=[]\n",
        "RMSE=[]\n",
        "mean_dist=[]\n",
        "for i in liste_capteur:\n",
        "  test,train=split(df,i)\n",
        "  X=train[target_opt]\n",
        "  X_test=test[target_opt]\n",
        "  y_test=test[['loc_initiator_x','loc_initiator_y']]\n",
        "  y=train[['loc_initiator_x','loc_initiator_y']]\n",
        "  clf=tree.DecisionTreeRegressor(criterion='squared_error',max_features='auto')\n",
        "  clf= clf.fit(X, y)\n",
        "  y_predict=clf.predict(X_test)\n",
        "  RMSE.append(mean_squared_error(y_predict,y_test))\n",
        "  MAE.append(mean_absolute_error(y_predict,y_test))\n",
        "  mean_dist.append(score_distanceM(y_test.loc_initiator_x, y_test.loc_initiator_y,y_predict[:,0],y_predict[:,1]))\n"
      ],
      "metadata": {
        "id": "eEHII3kWtvdd"
      },
      "execution_count": null,
      "outputs": []
    },
    {
      "cell_type": "code",
      "source": [
        "df_final=pd.DataFrame({'target':liste_capteur,'MAE':MAE,'RMSE':RMSE,'mean_dist':mean_dist})"
      ],
      "metadata": {
        "id": "tNeNulGWwBOb"
      },
      "execution_count": null,
      "outputs": []
    },
    {
      "cell_type": "code",
      "source": [
        "df_final"
      ],
      "metadata": {
        "colab": {
          "base_uri": "https://localhost:8080/",
          "height": 238
        },
        "id": "oYAvZ1QQwfZv",
        "outputId": "4d037b0c-13dd-42d3-840a-c814a0776506"
      },
      "execution_count": null,
      "outputs": [
        {
          "output_type": "execute_result",
          "data": {
            "text/plain": [
              "   target       MAE       RMSE  mean_dist\n",
              "0   184.0  0.828399   4.637785   1.314304\n",
              "1   180.0  0.852413   3.142882   1.321900\n",
              "2   100.0  1.365222   8.682892   2.082386\n",
              "3   101.0  0.962734   3.742541   1.494385\n",
              "4   171.0  0.481488   1.458683   0.721338\n",
              "5   150.0  3.158024  25.935063   4.824079"
            ],
            "text/html": [
              "\n",
              "  <div id=\"df-fb1059cf-f0d6-4a61-9381-00c1a8451392\">\n",
              "    <div class=\"colab-df-container\">\n",
              "      <div>\n",
              "<style scoped>\n",
              "    .dataframe tbody tr th:only-of-type {\n",
              "        vertical-align: middle;\n",
              "    }\n",
              "\n",
              "    .dataframe tbody tr th {\n",
              "        vertical-align: top;\n",
              "    }\n",
              "\n",
              "    .dataframe thead th {\n",
              "        text-align: right;\n",
              "    }\n",
              "</style>\n",
              "<table border=\"1\" class=\"dataframe\">\n",
              "  <thead>\n",
              "    <tr style=\"text-align: right;\">\n",
              "      <th></th>\n",
              "      <th>target</th>\n",
              "      <th>MAE</th>\n",
              "      <th>RMSE</th>\n",
              "      <th>mean_dist</th>\n",
              "    </tr>\n",
              "  </thead>\n",
              "  <tbody>\n",
              "    <tr>\n",
              "      <th>0</th>\n",
              "      <td>184.0</td>\n",
              "      <td>0.828399</td>\n",
              "      <td>4.637785</td>\n",
              "      <td>1.314304</td>\n",
              "    </tr>\n",
              "    <tr>\n",
              "      <th>1</th>\n",
              "      <td>180.0</td>\n",
              "      <td>0.852413</td>\n",
              "      <td>3.142882</td>\n",
              "      <td>1.321900</td>\n",
              "    </tr>\n",
              "    <tr>\n",
              "      <th>2</th>\n",
              "      <td>100.0</td>\n",
              "      <td>1.365222</td>\n",
              "      <td>8.682892</td>\n",
              "      <td>2.082386</td>\n",
              "    </tr>\n",
              "    <tr>\n",
              "      <th>3</th>\n",
              "      <td>101.0</td>\n",
              "      <td>0.962734</td>\n",
              "      <td>3.742541</td>\n",
              "      <td>1.494385</td>\n",
              "    </tr>\n",
              "    <tr>\n",
              "      <th>4</th>\n",
              "      <td>171.0</td>\n",
              "      <td>0.481488</td>\n",
              "      <td>1.458683</td>\n",
              "      <td>0.721338</td>\n",
              "    </tr>\n",
              "    <tr>\n",
              "      <th>5</th>\n",
              "      <td>150.0</td>\n",
              "      <td>3.158024</td>\n",
              "      <td>25.935063</td>\n",
              "      <td>4.824079</td>\n",
              "    </tr>\n",
              "  </tbody>\n",
              "</table>\n",
              "</div>\n",
              "      <button class=\"colab-df-convert\" onclick=\"convertToInteractive('df-fb1059cf-f0d6-4a61-9381-00c1a8451392')\"\n",
              "              title=\"Convert this dataframe to an interactive table.\"\n",
              "              style=\"display:none;\">\n",
              "        \n",
              "  <svg xmlns=\"http://www.w3.org/2000/svg\" height=\"24px\"viewBox=\"0 0 24 24\"\n",
              "       width=\"24px\">\n",
              "    <path d=\"M0 0h24v24H0V0z\" fill=\"none\"/>\n",
              "    <path d=\"M18.56 5.44l.94 2.06.94-2.06 2.06-.94-2.06-.94-.94-2.06-.94 2.06-2.06.94zm-11 1L8.5 8.5l.94-2.06 2.06-.94-2.06-.94L8.5 2.5l-.94 2.06-2.06.94zm10 10l.94 2.06.94-2.06 2.06-.94-2.06-.94-.94-2.06-.94 2.06-2.06.94z\"/><path d=\"M17.41 7.96l-1.37-1.37c-.4-.4-.92-.59-1.43-.59-.52 0-1.04.2-1.43.59L10.3 9.45l-7.72 7.72c-.78.78-.78 2.05 0 2.83L4 21.41c.39.39.9.59 1.41.59.51 0 1.02-.2 1.41-.59l7.78-7.78 2.81-2.81c.8-.78.8-2.07 0-2.86zM5.41 20L4 18.59l7.72-7.72 1.47 1.35L5.41 20z\"/>\n",
              "  </svg>\n",
              "      </button>\n",
              "      \n",
              "  <style>\n",
              "    .colab-df-container {\n",
              "      display:flex;\n",
              "      flex-wrap:wrap;\n",
              "      gap: 12px;\n",
              "    }\n",
              "\n",
              "    .colab-df-convert {\n",
              "      background-color: #E8F0FE;\n",
              "      border: none;\n",
              "      border-radius: 50%;\n",
              "      cursor: pointer;\n",
              "      display: none;\n",
              "      fill: #1967D2;\n",
              "      height: 32px;\n",
              "      padding: 0 0 0 0;\n",
              "      width: 32px;\n",
              "    }\n",
              "\n",
              "    .colab-df-convert:hover {\n",
              "      background-color: #E2EBFA;\n",
              "      box-shadow: 0px 1px 2px rgba(60, 64, 67, 0.3), 0px 1px 3px 1px rgba(60, 64, 67, 0.15);\n",
              "      fill: #174EA6;\n",
              "    }\n",
              "\n",
              "    [theme=dark] .colab-df-convert {\n",
              "      background-color: #3B4455;\n",
              "      fill: #D2E3FC;\n",
              "    }\n",
              "\n",
              "    [theme=dark] .colab-df-convert:hover {\n",
              "      background-color: #434B5C;\n",
              "      box-shadow: 0px 1px 3px 1px rgba(0, 0, 0, 0.15);\n",
              "      filter: drop-shadow(0px 1px 2px rgba(0, 0, 0, 0.3));\n",
              "      fill: #FFFFFF;\n",
              "    }\n",
              "  </style>\n",
              "\n",
              "      <script>\n",
              "        const buttonEl =\n",
              "          document.querySelector('#df-fb1059cf-f0d6-4a61-9381-00c1a8451392 button.colab-df-convert');\n",
              "        buttonEl.style.display =\n",
              "          google.colab.kernel.accessAllowed ? 'block' : 'none';\n",
              "\n",
              "        async function convertToInteractive(key) {\n",
              "          const element = document.querySelector('#df-fb1059cf-f0d6-4a61-9381-00c1a8451392');\n",
              "          const dataTable =\n",
              "            await google.colab.kernel.invokeFunction('convertToInteractive',\n",
              "                                                     [key], {});\n",
              "          if (!dataTable) return;\n",
              "\n",
              "          const docLinkHtml = 'Like what you see? Visit the ' +\n",
              "            '<a target=\"_blank\" href=https://colab.research.google.com/notebooks/data_table.ipynb>data table notebook</a>'\n",
              "            + ' to learn more about interactive tables.';\n",
              "          element.innerHTML = '';\n",
              "          dataTable['output_type'] = 'display_data';\n",
              "          await google.colab.output.renderOutput(dataTable, element);\n",
              "          const docLink = document.createElement('div');\n",
              "          docLink.innerHTML = docLinkHtml;\n",
              "          element.appendChild(docLink);\n",
              "        }\n",
              "      </script>\n",
              "    </div>\n",
              "  </div>\n",
              "  "
            ]
          },
          "metadata": {},
          "execution_count": 109
        }
      ]
    }
  ],
  "metadata": {
    "colab": {
      "provenance": []
    },
    "kernelspec": {
      "display_name": "Python 3",
      "name": "python3"
    },
    "language_info": {
      "name": "python"
    }
  },
  "nbformat": 4,
  "nbformat_minor": 0
}