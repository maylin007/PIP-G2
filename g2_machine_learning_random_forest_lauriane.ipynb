{
 "cells": [
  {
   "cell_type": "markdown",
   "id": "c09b78cf",
   "metadata": {},
   "source": [
    "**Created on 05/01/2022**\n",
    "\n",
    "**Group 2**\n",
    "\n",
    "**Authors: LaurianeBompay**\n",
    "\n",
    "**License: this code is released under the CeCILL 2.1 license. See\n",
    "https://www.cecill.info/licenses/Licence_CeCILL_V2.1-en.txt**\n"
   ]
  },
  {
   "cell_type": "code",
   "execution_count": 9,
   "id": "24186320",
   "metadata": {},
   "outputs": [],
   "source": [
    "import os\n",
    "import sys\n",
    "import math\n",
    "from sklearn.model_selection import train_test_split, cross_val_score\n",
    "import numpy as np\n",
    "import pandas as pd\n",
    "import matplotlib.pyplot as plt\n",
    "import seaborn as sns\n",
    "from sklearn.ensemble import RandomForestRegressor\n",
    "from sklearn.metrics import mean_squared_error, mean_absolute_error\n",
    "from sklearn.feature_selection import SequentialFeatureSelector"
   ]
  },
  {
   "cell_type": "code",
   "execution_count": 10,
   "id": "bcc8f777",
   "metadata": {},
   "outputs": [],
   "source": [
    "sns.set_style('darkgrid')"
   ]
  },
  {
   "cell_type": "code",
   "execution_count": 94,
   "id": "6c5506b8",
   "metadata": {},
   "outputs": [],
   "source": [
    "#data importation \n",
    "data_1 = pd.read_csv(\"data_v6.csv\")\n",
    "#data_0 = pd.read_csv(\"positions.csv\")"
   ]
  },
  {
   "cell_type": "markdown",
   "id": "652adecd",
   "metadata": {},
   "source": [
    "Il faudra changer l'imporation des données quand on aura le jeu de données avec les changements de repaires."
   ]
  },
  {
   "cell_type": "raw",
   "id": "a2e84b2c",
   "metadata": {},
   "source": [
    "#add orientation\n",
    "extract_orientation = data_0[['node_id','orientation']]\n",
    "extract_orientation.rename(columns={\"node_id\": \"target\"}, inplace=True)\n",
    "data_1 = data_1.merge(extract_orientation, how='left', on = 'target')"
   ]
  },
  {
   "cell_type": "code",
   "execution_count": 95,
   "id": "2d0c6c1e",
   "metadata": {},
   "outputs": [
    {
     "data": {
      "text/html": [
       "<div>\n",
       "<style scoped>\n",
       "    .dataframe tbody tr th:only-of-type {\n",
       "        vertical-align: middle;\n",
       "    }\n",
       "\n",
       "    .dataframe tbody tr th {\n",
       "        vertical-align: top;\n",
       "    }\n",
       "\n",
       "    .dataframe thead th {\n",
       "        text-align: right;\n",
       "    }\n",
       "</style>\n",
       "<table border=\"1\" class=\"dataframe\">\n",
       "  <thead>\n",
       "    <tr style=\"text-align: right;\">\n",
       "      <th></th>\n",
       "      <th>target</th>\n",
       "      <th>nlos_indicator</th>\n",
       "      <th>t1</th>\n",
       "      <th>t2</th>\n",
       "      <th>t3</th>\n",
       "      <th>t4</th>\n",
       "      <th>skew</th>\n",
       "      <th>tof</th>\n",
       "      <th>tof_skew</th>\n",
       "      <th>range</th>\n",
       "      <th>...</th>\n",
       "      <th>loc_target_x</th>\n",
       "      <th>loc_target_y</th>\n",
       "      <th>loc_target_z</th>\n",
       "      <th>temperature_initiator</th>\n",
       "      <th>temperature_target</th>\n",
       "      <th>rssi_request</th>\n",
       "      <th>rssi_ack</th>\n",
       "      <th>rssi_data</th>\n",
       "      <th>rssi_mean</th>\n",
       "      <th>orientation</th>\n",
       "    </tr>\n",
       "  </thead>\n",
       "  <tbody>\n",
       "    <tr>\n",
       "      <th>count</th>\n",
       "      <td>3946.000000</td>\n",
       "      <td>3946.000000</td>\n",
       "      <td>3.946000e+03</td>\n",
       "      <td>3.946000e+03</td>\n",
       "      <td>3.946000e+03</td>\n",
       "      <td>3.946000e+03</td>\n",
       "      <td>3946.000000</td>\n",
       "      <td>3946.000000</td>\n",
       "      <td>3946.000000</td>\n",
       "      <td>3946.000000</td>\n",
       "      <td>...</td>\n",
       "      <td>3946.000000</td>\n",
       "      <td>3946.000000</td>\n",
       "      <td>3946.000000</td>\n",
       "      <td>3946.000000</td>\n",
       "      <td>3946.000000</td>\n",
       "      <td>3946.000000</td>\n",
       "      <td>3946.000000</td>\n",
       "      <td>3946.000000</td>\n",
       "      <td>3946.000000</td>\n",
       "      <td>3946.000000</td>\n",
       "    </tr>\n",
       "    <tr>\n",
       "      <th>mean</th>\n",
       "      <td>148.315256</td>\n",
       "      <td>7.215384</td>\n",
       "      <td>5.505930e+11</td>\n",
       "      <td>5.509284e+11</td>\n",
       "      <td>5.510320e+11</td>\n",
       "      <td>5.506966e+11</td>\n",
       "      <td>-2.755970</td>\n",
       "      <td>999.946275</td>\n",
       "      <td>1142.269047</td>\n",
       "      <td>4.690093</td>\n",
       "      <td>...</td>\n",
       "      <td>1.452085</td>\n",
       "      <td>5.878422</td>\n",
       "      <td>2.651427</td>\n",
       "      <td>39.577380</td>\n",
       "      <td>39.555326</td>\n",
       "      <td>-81.090100</td>\n",
       "      <td>-80.970815</td>\n",
       "      <td>-80.836828</td>\n",
       "      <td>-80.965914</td>\n",
       "      <td>81.495692</td>\n",
       "    </tr>\n",
       "    <tr>\n",
       "      <th>std</th>\n",
       "      <td>35.805126</td>\n",
       "      <td>19.476255</td>\n",
       "      <td>3.164409e+11</td>\n",
       "      <td>3.164412e+11</td>\n",
       "      <td>3.164412e+11</td>\n",
       "      <td>3.164409e+11</td>\n",
       "      <td>3.762459</td>\n",
       "      <td>674.344209</td>\n",
       "      <td>646.710484</td>\n",
       "      <td>3.162907</td>\n",
       "      <td>...</td>\n",
       "      <td>5.091560</td>\n",
       "      <td>2.249992</td>\n",
       "      <td>0.003063</td>\n",
       "      <td>2.341864</td>\n",
       "      <td>3.782210</td>\n",
       "      <td>5.635798</td>\n",
       "      <td>5.072976</td>\n",
       "      <td>4.818267</td>\n",
       "      <td>5.131755</td>\n",
       "      <td>96.093454</td>\n",
       "    </tr>\n",
       "    <tr>\n",
       "      <th>min</th>\n",
       "      <td>100.000000</td>\n",
       "      <td>0.000000</td>\n",
       "      <td>6.062043e+07</td>\n",
       "      <td>2.633300e+08</td>\n",
       "      <td>3.679996e+08</td>\n",
       "      <td>1.652910e+08</td>\n",
       "      <td>-11.659438</td>\n",
       "      <td>-613.000000</td>\n",
       "      <td>-152.480214</td>\n",
       "      <td>-2.875181</td>\n",
       "      <td>...</td>\n",
       "      <td>-3.962000</td>\n",
       "      <td>2.793000</td>\n",
       "      <td>2.650000</td>\n",
       "      <td>30.410000</td>\n",
       "      <td>27.559999</td>\n",
       "      <td>-120.000000</td>\n",
       "      <td>-120.000000</td>\n",
       "      <td>-120.000000</td>\n",
       "      <td>-120.000000</td>\n",
       "      <td>0.000000</td>\n",
       "    </tr>\n",
       "    <tr>\n",
       "      <th>25%</th>\n",
       "      <td>101.000000</td>\n",
       "      <td>2.956510</td>\n",
       "      <td>2.778704e+11</td>\n",
       "      <td>2.782606e+11</td>\n",
       "      <td>2.783633e+11</td>\n",
       "      <td>2.779731e+11</td>\n",
       "      <td>-5.783573</td>\n",
       "      <td>655.250000</td>\n",
       "      <td>715.863760</td>\n",
       "      <td>3.073348</td>\n",
       "      <td>...</td>\n",
       "      <td>-3.132000</td>\n",
       "      <td>4.339000</td>\n",
       "      <td>2.650000</td>\n",
       "      <td>38.959999</td>\n",
       "      <td>36.680000</td>\n",
       "      <td>-79.967224</td>\n",
       "      <td>-79.988684</td>\n",
       "      <td>-79.884079</td>\n",
       "      <td>-79.886862</td>\n",
       "      <td>0.000000</td>\n",
       "    </tr>\n",
       "    <tr>\n",
       "      <th>50%</th>\n",
       "      <td>171.000000</td>\n",
       "      <td>3.524929</td>\n",
       "      <td>5.528798e+11</td>\n",
       "      <td>5.532044e+11</td>\n",
       "      <td>5.533074e+11</td>\n",
       "      <td>5.529824e+11</td>\n",
       "      <td>-1.784294</td>\n",
       "      <td>898.000000</td>\n",
       "      <td>998.316717</td>\n",
       "      <td>4.211930</td>\n",
       "      <td>...</td>\n",
       "      <td>-1.190000</td>\n",
       "      <td>4.578000</td>\n",
       "      <td>2.650000</td>\n",
       "      <td>40.384998</td>\n",
       "      <td>39.340000</td>\n",
       "      <td>-79.230034</td>\n",
       "      <td>-79.305238</td>\n",
       "      <td>-79.218111</td>\n",
       "      <td>-79.237715</td>\n",
       "      <td>90.000000</td>\n",
       "    </tr>\n",
       "    <tr>\n",
       "      <th>75%</th>\n",
       "      <td>180.000000</td>\n",
       "      <td>4.342234</td>\n",
       "      <td>8.238901e+11</td>\n",
       "      <td>8.243201e+11</td>\n",
       "      <td>8.244236e+11</td>\n",
       "      <td>8.239937e+11</td>\n",
       "      <td>0.338401</td>\n",
       "      <td>1222.000000</td>\n",
       "      <td>1355.367840</td>\n",
       "      <td>5.731602</td>\n",
       "      <td>...</td>\n",
       "      <td>6.169000</td>\n",
       "      <td>7.931000</td>\n",
       "      <td>2.650000</td>\n",
       "      <td>41.240002</td>\n",
       "      <td>42.380001</td>\n",
       "      <td>-78.659598</td>\n",
       "      <td>-78.701023</td>\n",
       "      <td>-78.666953</td>\n",
       "      <td>-78.686799</td>\n",
       "      <td>119.000000</td>\n",
       "    </tr>\n",
       "    <tr>\n",
       "      <th>max</th>\n",
       "      <td>184.000000</td>\n",
       "      <td>342.462982</td>\n",
       "      <td>1.099128e+12</td>\n",
       "      <td>1.099376e+12</td>\n",
       "      <td>1.099479e+12</td>\n",
       "      <td>1.099231e+12</td>\n",
       "      <td>4.829899</td>\n",
       "      <td>2636.000000</td>\n",
       "      <td>2860.190262</td>\n",
       "      <td>12.363750</td>\n",
       "      <td>...</td>\n",
       "      <td>11.442000</td>\n",
       "      <td>9.249000</td>\n",
       "      <td>2.658000</td>\n",
       "      <td>42.380001</td>\n",
       "      <td>47.320004</td>\n",
       "      <td>-77.162437</td>\n",
       "      <td>-77.516188</td>\n",
       "      <td>-77.428716</td>\n",
       "      <td>-77.478065</td>\n",
       "      <td>270.000000</td>\n",
       "    </tr>\n",
       "  </tbody>\n",
       "</table>\n",
       "<p>8 rows × 23 columns</p>\n",
       "</div>"
      ],
      "text/plain": [
       "            target  nlos_indicator            t1            t2            t3  \\\n",
       "count  3946.000000     3946.000000  3.946000e+03  3.946000e+03  3.946000e+03   \n",
       "mean    148.315256        7.215384  5.505930e+11  5.509284e+11  5.510320e+11   \n",
       "std      35.805126       19.476255  3.164409e+11  3.164412e+11  3.164412e+11   \n",
       "min     100.000000        0.000000  6.062043e+07  2.633300e+08  3.679996e+08   \n",
       "25%     101.000000        2.956510  2.778704e+11  2.782606e+11  2.783633e+11   \n",
       "50%     171.000000        3.524929  5.528798e+11  5.532044e+11  5.533074e+11   \n",
       "75%     180.000000        4.342234  8.238901e+11  8.243201e+11  8.244236e+11   \n",
       "max     184.000000      342.462982  1.099128e+12  1.099376e+12  1.099479e+12   \n",
       "\n",
       "                 t4         skew          tof     tof_skew        range  ...  \\\n",
       "count  3.946000e+03  3946.000000  3946.000000  3946.000000  3946.000000  ...   \n",
       "mean   5.506966e+11    -2.755970   999.946275  1142.269047     4.690093  ...   \n",
       "std    3.164409e+11     3.762459   674.344209   646.710484     3.162907  ...   \n",
       "min    1.652910e+08   -11.659438  -613.000000  -152.480214    -2.875181  ...   \n",
       "25%    2.779731e+11    -5.783573   655.250000   715.863760     3.073348  ...   \n",
       "50%    5.529824e+11    -1.784294   898.000000   998.316717     4.211930  ...   \n",
       "75%    8.239937e+11     0.338401  1222.000000  1355.367840     5.731602  ...   \n",
       "max    1.099231e+12     4.829899  2636.000000  2860.190262    12.363750  ...   \n",
       "\n",
       "       loc_target_x  loc_target_y  loc_target_z  temperature_initiator  \\\n",
       "count   3946.000000   3946.000000   3946.000000            3946.000000   \n",
       "mean       1.452085      5.878422      2.651427              39.577380   \n",
       "std        5.091560      2.249992      0.003063               2.341864   \n",
       "min       -3.962000      2.793000      2.650000              30.410000   \n",
       "25%       -3.132000      4.339000      2.650000              38.959999   \n",
       "50%       -1.190000      4.578000      2.650000              40.384998   \n",
       "75%        6.169000      7.931000      2.650000              41.240002   \n",
       "max       11.442000      9.249000      2.658000              42.380001   \n",
       "\n",
       "       temperature_target  rssi_request     rssi_ack    rssi_data  \\\n",
       "count         3946.000000   3946.000000  3946.000000  3946.000000   \n",
       "mean            39.555326    -81.090100   -80.970815   -80.836828   \n",
       "std              3.782210      5.635798     5.072976     4.818267   \n",
       "min             27.559999   -120.000000  -120.000000  -120.000000   \n",
       "25%             36.680000    -79.967224   -79.988684   -79.884079   \n",
       "50%             39.340000    -79.230034   -79.305238   -79.218111   \n",
       "75%             42.380001    -78.659598   -78.701023   -78.666953   \n",
       "max             47.320004    -77.162437   -77.516188   -77.428716   \n",
       "\n",
       "         rssi_mean  orientation  \n",
       "count  3946.000000  3946.000000  \n",
       "mean    -80.965914    81.495692  \n",
       "std       5.131755    96.093454  \n",
       "min    -120.000000     0.000000  \n",
       "25%     -79.886862     0.000000  \n",
       "50%     -79.237715    90.000000  \n",
       "75%     -78.686799   119.000000  \n",
       "max     -77.478065   270.000000  \n",
       "\n",
       "[8 rows x 23 columns]"
      ]
     },
     "execution_count": 95,
     "metadata": {},
     "output_type": "execute_result"
    }
   ],
   "source": [
    "data_1.describe()"
   ]
  },
  {
   "cell_type": "code",
   "execution_count": 96,
   "id": "552421d2",
   "metadata": {},
   "outputs": [
    {
     "data": {
      "text/html": [
       "<div>\n",
       "<style scoped>\n",
       "    .dataframe tbody tr th:only-of-type {\n",
       "        vertical-align: middle;\n",
       "    }\n",
       "\n",
       "    .dataframe tbody tr th {\n",
       "        vertical-align: top;\n",
       "    }\n",
       "\n",
       "    .dataframe thead th {\n",
       "        text-align: right;\n",
       "    }\n",
       "</style>\n",
       "<table border=\"1\" class=\"dataframe\">\n",
       "  <thead>\n",
       "    <tr style=\"text-align: right;\">\n",
       "      <th></th>\n",
       "      <th>target</th>\n",
       "      <th>nlos_indicator</th>\n",
       "      <th>t1</th>\n",
       "      <th>t2</th>\n",
       "      <th>t3</th>\n",
       "      <th>t4</th>\n",
       "      <th>skew</th>\n",
       "      <th>tof</th>\n",
       "      <th>tof_skew</th>\n",
       "      <th>range</th>\n",
       "      <th>...</th>\n",
       "      <th>loc_target_x</th>\n",
       "      <th>loc_target_y</th>\n",
       "      <th>loc_target_z</th>\n",
       "      <th>temperature_initiator</th>\n",
       "      <th>temperature_target</th>\n",
       "      <th>rssi_request</th>\n",
       "      <th>rssi_ack</th>\n",
       "      <th>rssi_data</th>\n",
       "      <th>rssi_mean</th>\n",
       "      <th>orientation</th>\n",
       "    </tr>\n",
       "  </thead>\n",
       "  <tbody>\n",
       "    <tr>\n",
       "      <th>0</th>\n",
       "      <td>100</td>\n",
       "      <td>2.783982</td>\n",
       "      <td>946218857614</td>\n",
       "      <td>946490292658</td>\n",
       "      <td>946594234510</td>\n",
       "      <td>946322802711</td>\n",
       "      <td>-2.368804</td>\n",
       "      <td>1622</td>\n",
       "      <td>1745.608935</td>\n",
       "      <td>7.607739</td>\n",
       "      <td>...</td>\n",
       "      <td>-3.962</td>\n",
       "      <td>7.931</td>\n",
       "      <td>2.65</td>\n",
       "      <td>30.98</td>\n",
       "      <td>30.220001</td>\n",
       "      <td>-80.136574</td>\n",
       "      <td>-80.077130</td>\n",
       "      <td>-79.836296</td>\n",
       "      <td>-80.016667</td>\n",
       "      <td>270.0</td>\n",
       "    </tr>\n",
       "    <tr>\n",
       "      <th>1</th>\n",
       "      <td>100</td>\n",
       "      <td>2.920485</td>\n",
       "      <td>1009474709646</td>\n",
       "      <td>1009746235572</td>\n",
       "      <td>1009850439822</td>\n",
       "      <td>1009578917162</td>\n",
       "      <td>-1.045965</td>\n",
       "      <td>1633</td>\n",
       "      <td>1687.497019</td>\n",
       "      <td>7.659333</td>\n",
       "      <td>...</td>\n",
       "      <td>-3.962</td>\n",
       "      <td>7.931</td>\n",
       "      <td>2.65</td>\n",
       "      <td>30.98</td>\n",
       "      <td>29.840002</td>\n",
       "      <td>-80.267769</td>\n",
       "      <td>-79.988684</td>\n",
       "      <td>-79.835720</td>\n",
       "      <td>-80.030724</td>\n",
       "      <td>270.0</td>\n",
       "    </tr>\n",
       "    <tr>\n",
       "      <th>2</th>\n",
       "      <td>100</td>\n",
       "      <td>2.536090</td>\n",
       "      <td>1072923068046</td>\n",
       "      <td>1073194681670</td>\n",
       "      <td>1073299179662</td>\n",
       "      <td>1073027569304</td>\n",
       "      <td>-0.799856</td>\n",
       "      <td>1633</td>\n",
       "      <td>1674.791667</td>\n",
       "      <td>7.659333</td>\n",
       "      <td>...</td>\n",
       "      <td>-3.962</td>\n",
       "      <td>7.931</td>\n",
       "      <td>2.65</td>\n",
       "      <td>30.98</td>\n",
       "      <td>29.840002</td>\n",
       "      <td>-79.964310</td>\n",
       "      <td>-79.850138</td>\n",
       "      <td>-79.693502</td>\n",
       "      <td>-79.835983</td>\n",
       "      <td>270.0</td>\n",
       "    </tr>\n",
       "    <tr>\n",
       "      <th>3</th>\n",
       "      <td>100</td>\n",
       "      <td>2.857669</td>\n",
       "      <td>36731534990</td>\n",
       "      <td>37003232943</td>\n",
       "      <td>37107270798</td>\n",
       "      <td>36835576116</td>\n",
       "      <td>-0.984438</td>\n",
       "      <td>1635</td>\n",
       "      <td>1686.709409</td>\n",
       "      <td>7.668714</td>\n",
       "      <td>...</td>\n",
       "      <td>-3.962</td>\n",
       "      <td>7.931</td>\n",
       "      <td>2.65</td>\n",
       "      <td>30.98</td>\n",
       "      <td>29.840002</td>\n",
       "      <td>-80.040833</td>\n",
       "      <td>-79.818313</td>\n",
       "      <td>-79.849525</td>\n",
       "      <td>-79.902890</td>\n",
       "      <td>270.0</td>\n",
       "    </tr>\n",
       "    <tr>\n",
       "      <th>4</th>\n",
       "      <td>100</td>\n",
       "      <td>2.263103</td>\n",
       "      <td>99923195534</td>\n",
       "      <td>100194974620</td>\n",
       "      <td>100298828942</td>\n",
       "      <td>100027053147</td>\n",
       "      <td>-0.769092</td>\n",
       "      <td>1645</td>\n",
       "      <td>1685.436774</td>\n",
       "      <td>7.715617</td>\n",
       "      <td>...</td>\n",
       "      <td>-3.962</td>\n",
       "      <td>7.931</td>\n",
       "      <td>2.65</td>\n",
       "      <td>30.98</td>\n",
       "      <td>29.840002</td>\n",
       "      <td>-79.999908</td>\n",
       "      <td>-80.102552</td>\n",
       "      <td>-80.022316</td>\n",
       "      <td>-80.041592</td>\n",
       "      <td>270.0</td>\n",
       "    </tr>\n",
       "  </tbody>\n",
       "</table>\n",
       "<p>5 rows × 23 columns</p>\n",
       "</div>"
      ],
      "text/plain": [
       "   target  nlos_indicator             t1             t2             t3  \\\n",
       "0     100        2.783982   946218857614   946490292658   946594234510   \n",
       "1     100        2.920485  1009474709646  1009746235572  1009850439822   \n",
       "2     100        2.536090  1072923068046  1073194681670  1073299179662   \n",
       "3     100        2.857669    36731534990    37003232943    37107270798   \n",
       "4     100        2.263103    99923195534   100194974620   100298828942   \n",
       "\n",
       "              t4      skew   tof     tof_skew     range  ...  loc_target_x  \\\n",
       "0   946322802711 -2.368804  1622  1745.608935  7.607739  ...        -3.962   \n",
       "1  1009578917162 -1.045965  1633  1687.497019  7.659333  ...        -3.962   \n",
       "2  1073027569304 -0.799856  1633  1674.791667  7.659333  ...        -3.962   \n",
       "3    36835576116 -0.984438  1635  1686.709409  7.668714  ...        -3.962   \n",
       "4   100027053147 -0.769092  1645  1685.436774  7.715617  ...        -3.962   \n",
       "\n",
       "   loc_target_y  loc_target_z  temperature_initiator  temperature_target  \\\n",
       "0         7.931          2.65                  30.98           30.220001   \n",
       "1         7.931          2.65                  30.98           29.840002   \n",
       "2         7.931          2.65                  30.98           29.840002   \n",
       "3         7.931          2.65                  30.98           29.840002   \n",
       "4         7.931          2.65                  30.98           29.840002   \n",
       "\n",
       "   rssi_request   rssi_ack  rssi_data  rssi_mean  orientation  \n",
       "0    -80.136574 -80.077130 -79.836296 -80.016667        270.0  \n",
       "1    -80.267769 -79.988684 -79.835720 -80.030724        270.0  \n",
       "2    -79.964310 -79.850138 -79.693502 -79.835983        270.0  \n",
       "3    -80.040833 -79.818313 -79.849525 -79.902890        270.0  \n",
       "4    -79.999908 -80.102552 -80.022316 -80.041592        270.0  \n",
       "\n",
       "[5 rows x 23 columns]"
      ]
     },
     "execution_count": 96,
     "metadata": {},
     "output_type": "execute_result"
    }
   ],
   "source": [
    "data_1.head()"
   ]
  },
  {
   "cell_type": "markdown",
   "id": "0514fe16",
   "metadata": {},
   "source": [
    "## <center>Remplacement des -inf</center>"
   ]
  },
  {
   "cell_type": "code",
   "execution_count": 97,
   "id": "275c6197",
   "metadata": {},
   "outputs": [],
   "source": [
    "data_1.replace([-np.inf], -120, inplace=True)"
   ]
  },
  {
   "cell_type": "markdown",
   "id": "baf46b52",
   "metadata": {},
   "source": [
    "Les -inf sont dans les rssi et indique que le signal est très mauvais (ce n'est pas un nan) donc on remplace par -120 car c'est la valeur qui indique un mauvais signal (voir la doc sur les rssi)"
   ]
  },
  {
   "cell_type": "raw",
   "id": "39df3096",
   "metadata": {},
   "source": [
    "#data selection\n",
    "data_1.drop('ranging_unit', axis=1, inplace=True)\n",
    "data_1.drop('register_dump_CIR', axis=1, inplace=True)\n",
    "data_1.drop('initiator', axis=1, inplace=True)\n",
    "data_1.drop('protocol', axis=1, inplace=True)\n",
    "data_1.drop('loc_initiator_z', axis=1, inplace=True)"
   ]
  },
  {
   "cell_type": "markdown",
   "id": "a2b6ec83",
   "metadata": {},
   "source": [
    "## <center>Test du modèle random forest pour determiner le position (x,y)</center>"
   ]
  },
  {
   "cell_type": "code",
   "execution_count": 98,
   "id": "7bdaa927",
   "metadata": {},
   "outputs": [],
   "source": [
    "def score_distanceM(Xobserve:float, Yobserve:float, Xprevu:float, Yprevu:float) -> float:\n",
    "    X=(Xobserve-Xprevu)**2\n",
    "    Y=(Yobserve-Yprevu)**2\n",
    "    return np.mean(np.sqrt(X+Y))"
   ]
  },
  {
   "cell_type": "markdown",
   "id": "ea316652",
   "metadata": {},
   "source": [
    "### Selection des variables pour la prédiction de position"
   ]
  },
  {
   "cell_type": "raw",
   "id": "b675070b",
   "metadata": {},
   "source": [
    "data_for_pred = data_1.drop(['target',\n",
    "                             'ranging_error',\n",
    "                             'distance',\n",
    "                             'timestamp',\n",
    "                             'course_dist',\n",
    "                             'temperature_initiator',\n",
    "                             'temperature_target',\n",
    "                             'seqnum'],axis=1, inplace=False)"
   ]
  },
  {
   "cell_type": "code",
   "execution_count": 99,
   "id": "7bca6e47",
   "metadata": {},
   "outputs": [],
   "source": [
    "data_test_train = data_1[data_1['target']!=184]\n",
    "data_validation = data_1[data_1['target']==184]"
   ]
  },
  {
   "cell_type": "markdown",
   "id": "b1142b09",
   "metadata": {},
   "source": [
    "On supprime target pour la prediction"
   ]
  },
  {
   "cell_type": "code",
   "execution_count": 100,
   "id": "02f92586",
   "metadata": {},
   "outputs": [],
   "source": [
    "data_for_pred = data_test_train.drop('target',axis=1,inplace=False)"
   ]
  },
  {
   "cell_type": "code",
   "execution_count": 101,
   "id": "c558d3a4",
   "metadata": {},
   "outputs": [],
   "source": [
    "var = data_for_pred.columns.to_list()\n",
    "y=data_for_pred[['loc_initiator_x','loc_initiator_y']]"
   ]
  },
  {
   "cell_type": "code",
   "execution_count": 102,
   "id": "8168ed82",
   "metadata": {},
   "outputs": [],
   "source": [
    "#ceration of test and train\n",
    "test,train = train_test_split(data_for_pred, test_size=0.25, train_size=0.75, shuffle=True)\n",
    "Y_train = train[['loc_initiator_x', 'loc_initiator_y']]\n",
    "X_train = train.drop([\"loc_initiator_x\",'loc_initiator_y'], axis=1, inplace=False)\n",
    "\n",
    "Y_test = test[['loc_initiator_x', 'loc_initiator_y']]\n",
    "X_test = test.drop([\"loc_initiator_x\",'loc_initiator_y'], axis=1, inplace=False)"
   ]
  },
  {
   "cell_type": "code",
   "execution_count": 103,
   "id": "a680ddca",
   "metadata": {},
   "outputs": [
    {
     "data": {
      "text/html": [
       "<div>\n",
       "<style scoped>\n",
       "    .dataframe tbody tr th:only-of-type {\n",
       "        vertical-align: middle;\n",
       "    }\n",
       "\n",
       "    .dataframe tbody tr th {\n",
       "        vertical-align: top;\n",
       "    }\n",
       "\n",
       "    .dataframe thead th {\n",
       "        text-align: right;\n",
       "    }\n",
       "</style>\n",
       "<table border=\"1\" class=\"dataframe\">\n",
       "  <thead>\n",
       "    <tr style=\"text-align: right;\">\n",
       "      <th></th>\n",
       "      <th>nlos_indicator</th>\n",
       "      <th>t1</th>\n",
       "      <th>t2</th>\n",
       "      <th>t3</th>\n",
       "      <th>t4</th>\n",
       "      <th>skew</th>\n",
       "      <th>tof</th>\n",
       "      <th>tof_skew</th>\n",
       "      <th>range</th>\n",
       "      <th>range_skew</th>\n",
       "      <th>loc_target_x</th>\n",
       "      <th>loc_target_y</th>\n",
       "      <th>loc_target_z</th>\n",
       "      <th>temperature_initiator</th>\n",
       "      <th>temperature_target</th>\n",
       "      <th>rssi_request</th>\n",
       "      <th>rssi_ack</th>\n",
       "      <th>rssi_data</th>\n",
       "      <th>rssi_mean</th>\n",
       "      <th>orientation</th>\n",
       "    </tr>\n",
       "  </thead>\n",
       "  <tbody>\n",
       "    <tr>\n",
       "      <th>count</th>\n",
       "      <td>810.000000</td>\n",
       "      <td>8.100000e+02</td>\n",
       "      <td>8.100000e+02</td>\n",
       "      <td>8.100000e+02</td>\n",
       "      <td>8.100000e+02</td>\n",
       "      <td>810.000000</td>\n",
       "      <td>810.000000</td>\n",
       "      <td>810.000000</td>\n",
       "      <td>810.000000</td>\n",
       "      <td>810.000000</td>\n",
       "      <td>810.000000</td>\n",
       "      <td>810.000000</td>\n",
       "      <td>810.000000</td>\n",
       "      <td>810.000000</td>\n",
       "      <td>810.000000</td>\n",
       "      <td>810.000000</td>\n",
       "      <td>810.000000</td>\n",
       "      <td>810.000000</td>\n",
       "      <td>810.000000</td>\n",
       "      <td>810.000000</td>\n",
       "    </tr>\n",
       "    <tr>\n",
       "      <th>mean</th>\n",
       "      <td>7.758751</td>\n",
       "      <td>5.548865e+11</td>\n",
       "      <td>5.552396e+11</td>\n",
       "      <td>5.553434e+11</td>\n",
       "      <td>5.549903e+11</td>\n",
       "      <td>-1.319876</td>\n",
       "      <td>1155.897531</td>\n",
       "      <td>1224.171106</td>\n",
       "      <td>5.421558</td>\n",
       "      <td>5.741785</td>\n",
       "      <td>1.228963</td>\n",
       "      <td>6.507926</td>\n",
       "      <td>2.651758</td>\n",
       "      <td>39.612334</td>\n",
       "      <td>38.336049</td>\n",
       "      <td>-81.377275</td>\n",
       "      <td>-81.208532</td>\n",
       "      <td>-81.122099</td>\n",
       "      <td>-81.235969</td>\n",
       "      <td>72.111111</td>\n",
       "    </tr>\n",
       "    <tr>\n",
       "      <th>std</th>\n",
       "      <td>18.561870</td>\n",
       "      <td>3.164043e+11</td>\n",
       "      <td>3.164034e+11</td>\n",
       "      <td>3.164034e+11</td>\n",
       "      <td>3.164043e+11</td>\n",
       "      <td>2.381359</td>\n",
       "      <td>594.228746</td>\n",
       "      <td>643.268630</td>\n",
       "      <td>2.787138</td>\n",
       "      <td>3.017152</td>\n",
       "      <td>5.557563</td>\n",
       "      <td>1.904184</td>\n",
       "      <td>0.003315</td>\n",
       "      <td>2.310238</td>\n",
       "      <td>2.859626</td>\n",
       "      <td>5.736409</td>\n",
       "      <td>5.120797</td>\n",
       "      <td>4.992328</td>\n",
       "      <td>5.248359</td>\n",
       "      <td>103.553012</td>\n",
       "    </tr>\n",
       "    <tr>\n",
       "      <th>min</th>\n",
       "      <td>0.000000</td>\n",
       "      <td>6.268428e+08</td>\n",
       "      <td>8.283915e+08</td>\n",
       "      <td>9.327546e+08</td>\n",
       "      <td>7.312068e+08</td>\n",
       "      <td>-7.137176</td>\n",
       "      <td>469.000000</td>\n",
       "      <td>348.384619</td>\n",
       "      <td>2.199772</td>\n",
       "      <td>1.634044</td>\n",
       "      <td>-3.962000</td>\n",
       "      <td>4.339000</td>\n",
       "      <td>2.650000</td>\n",
       "      <td>30.695000</td>\n",
       "      <td>27.559999</td>\n",
       "      <td>-120.000000</td>\n",
       "      <td>-120.000000</td>\n",
       "      <td>-103.579258</td>\n",
       "      <td>-108.566670</td>\n",
       "      <td>0.000000</td>\n",
       "    </tr>\n",
       "    <tr>\n",
       "      <th>25%</th>\n",
       "      <td>2.943314</td>\n",
       "      <td>2.703406e+11</td>\n",
       "      <td>2.706816e+11</td>\n",
       "      <td>2.707857e+11</td>\n",
       "      <td>2.704440e+11</td>\n",
       "      <td>-2.430331</td>\n",
       "      <td>781.000000</td>\n",
       "      <td>818.488401</td>\n",
       "      <td>3.663159</td>\n",
       "      <td>3.838993</td>\n",
       "      <td>-3.132000</td>\n",
       "      <td>4.578000</td>\n",
       "      <td>2.650000</td>\n",
       "      <td>38.959999</td>\n",
       "      <td>36.680000</td>\n",
       "      <td>-80.065222</td>\n",
       "      <td>-80.075474</td>\n",
       "      <td>-79.990964</td>\n",
       "      <td>-80.005868</td>\n",
       "      <td>0.000000</td>\n",
       "    </tr>\n",
       "    <tr>\n",
       "      <th>50%</th>\n",
       "      <td>3.615961</td>\n",
       "      <td>5.663431e+11</td>\n",
       "      <td>5.667284e+11</td>\n",
       "      <td>5.668324e+11</td>\n",
       "      <td>5.664470e+11</td>\n",
       "      <td>-1.322839</td>\n",
       "      <td>966.000000</td>\n",
       "      <td>1028.855649</td>\n",
       "      <td>4.530873</td>\n",
       "      <td>4.825688</td>\n",
       "      <td>-1.190000</td>\n",
       "      <td>7.657000</td>\n",
       "      <td>2.650000</td>\n",
       "      <td>40.385000</td>\n",
       "      <td>38.959999</td>\n",
       "      <td>-79.294838</td>\n",
       "      <td>-79.355877</td>\n",
       "      <td>-79.267259</td>\n",
       "      <td>-79.315251</td>\n",
       "      <td>0.000000</td>\n",
       "    </tr>\n",
       "    <tr>\n",
       "      <th>75%</th>\n",
       "      <td>4.736987</td>\n",
       "      <td>8.158251e+11</td>\n",
       "      <td>8.162775e+11</td>\n",
       "      <td>8.163805e+11</td>\n",
       "      <td>8.159281e+11</td>\n",
       "      <td>0.553746</td>\n",
       "      <td>1262.000000</td>\n",
       "      <td>1414.566979</td>\n",
       "      <td>5.919215</td>\n",
       "      <td>6.634807</td>\n",
       "      <td>6.169000</td>\n",
       "      <td>7.931000</td>\n",
       "      <td>2.650000</td>\n",
       "      <td>41.240002</td>\n",
       "      <td>40.099998</td>\n",
       "      <td>-78.676682</td>\n",
       "      <td>-78.721373</td>\n",
       "      <td>-78.696164</td>\n",
       "      <td>-78.710010</td>\n",
       "      <td>90.000000</td>\n",
       "    </tr>\n",
       "    <tr>\n",
       "      <th>max</th>\n",
       "      <td>223.071976</td>\n",
       "      <td>1.098396e+12</td>\n",
       "      <td>1.098835e+12</td>\n",
       "      <td>1.098939e+12</td>\n",
       "      <td>1.098501e+12</td>\n",
       "      <td>4.337680</td>\n",
       "      <td>2622.000000</td>\n",
       "      <td>2847.656344</td>\n",
       "      <td>12.298084</td>\n",
       "      <td>13.356490</td>\n",
       "      <td>11.442000</td>\n",
       "      <td>9.249000</td>\n",
       "      <td>2.658000</td>\n",
       "      <td>42.380001</td>\n",
       "      <td>43.520000</td>\n",
       "      <td>-77.186188</td>\n",
       "      <td>-77.591353</td>\n",
       "      <td>-77.528628</td>\n",
       "      <td>-77.478065</td>\n",
       "      <td>270.000000</td>\n",
       "    </tr>\n",
       "  </tbody>\n",
       "</table>\n",
       "</div>"
      ],
      "text/plain": [
       "       nlos_indicator            t1            t2            t3            t4  \\\n",
       "count      810.000000  8.100000e+02  8.100000e+02  8.100000e+02  8.100000e+02   \n",
       "mean         7.758751  5.548865e+11  5.552396e+11  5.553434e+11  5.549903e+11   \n",
       "std         18.561870  3.164043e+11  3.164034e+11  3.164034e+11  3.164043e+11   \n",
       "min          0.000000  6.268428e+08  8.283915e+08  9.327546e+08  7.312068e+08   \n",
       "25%          2.943314  2.703406e+11  2.706816e+11  2.707857e+11  2.704440e+11   \n",
       "50%          3.615961  5.663431e+11  5.667284e+11  5.668324e+11  5.664470e+11   \n",
       "75%          4.736987  8.158251e+11  8.162775e+11  8.163805e+11  8.159281e+11   \n",
       "max        223.071976  1.098396e+12  1.098835e+12  1.098939e+12  1.098501e+12   \n",
       "\n",
       "             skew          tof     tof_skew       range  range_skew  \\\n",
       "count  810.000000   810.000000   810.000000  810.000000  810.000000   \n",
       "mean    -1.319876  1155.897531  1224.171106    5.421558    5.741785   \n",
       "std      2.381359   594.228746   643.268630    2.787138    3.017152   \n",
       "min     -7.137176   469.000000   348.384619    2.199772    1.634044   \n",
       "25%     -2.430331   781.000000   818.488401    3.663159    3.838993   \n",
       "50%     -1.322839   966.000000  1028.855649    4.530873    4.825688   \n",
       "75%      0.553746  1262.000000  1414.566979    5.919215    6.634807   \n",
       "max      4.337680  2622.000000  2847.656344   12.298084   13.356490   \n",
       "\n",
       "       loc_target_x  loc_target_y  loc_target_z  temperature_initiator  \\\n",
       "count    810.000000    810.000000    810.000000             810.000000   \n",
       "mean       1.228963      6.507926      2.651758              39.612334   \n",
       "std        5.557563      1.904184      0.003315               2.310238   \n",
       "min       -3.962000      4.339000      2.650000              30.695000   \n",
       "25%       -3.132000      4.578000      2.650000              38.959999   \n",
       "50%       -1.190000      7.657000      2.650000              40.385000   \n",
       "75%        6.169000      7.931000      2.650000              41.240002   \n",
       "max       11.442000      9.249000      2.658000              42.380001   \n",
       "\n",
       "       temperature_target  rssi_request    rssi_ack   rssi_data   rssi_mean  \\\n",
       "count          810.000000    810.000000  810.000000  810.000000  810.000000   \n",
       "mean            38.336049    -81.377275  -81.208532  -81.122099  -81.235969   \n",
       "std              2.859626      5.736409    5.120797    4.992328    5.248359   \n",
       "min             27.559999   -120.000000 -120.000000 -103.579258 -108.566670   \n",
       "25%             36.680000    -80.065222  -80.075474  -79.990964  -80.005868   \n",
       "50%             38.959999    -79.294838  -79.355877  -79.267259  -79.315251   \n",
       "75%             40.099998    -78.676682  -78.721373  -78.696164  -78.710010   \n",
       "max             43.520000    -77.186188  -77.591353  -77.528628  -77.478065   \n",
       "\n",
       "       orientation  \n",
       "count   810.000000  \n",
       "mean     72.111111  \n",
       "std     103.553012  \n",
       "min       0.000000  \n",
       "25%       0.000000  \n",
       "50%       0.000000  \n",
       "75%      90.000000  \n",
       "max     270.000000  "
      ]
     },
     "execution_count": 103,
     "metadata": {},
     "output_type": "execute_result"
    }
   ],
   "source": [
    "X_train.describe()"
   ]
  },
  {
   "cell_type": "markdown",
   "id": "ed29e45d",
   "metadata": {},
   "source": [
    "#### Premier modele avec toutes les variables"
   ]
  },
  {
   "cell_type": "code",
   "execution_count": 171,
   "id": "c72a0401",
   "metadata": {},
   "outputs": [],
   "source": [
    "reg = RandomForestRegressor()\n",
    "reg = reg.fit(X_train, Y_train)\n",
    "predic_rf=reg.predict(X_test)"
   ]
  },
  {
   "cell_type": "code",
   "execution_count": 172,
   "id": "5a7c9057",
   "metadata": {},
   "outputs": [
    {
     "data": {
      "text/plain": [
       "0.982905784296583"
      ]
     },
     "execution_count": 172,
     "metadata": {},
     "output_type": "execute_result"
    }
   ],
   "source": [
    "reg.score(X_test,Y_test)"
   ]
  },
  {
   "cell_type": "code",
   "execution_count": 173,
   "id": "bc2ee06e",
   "metadata": {},
   "outputs": [
    {
     "data": {
      "text/plain": [
       "0.18593445963418734"
      ]
     },
     "execution_count": 173,
     "metadata": {},
     "output_type": "execute_result"
    }
   ],
   "source": [
    "np.sqrt(mean_squared_error(Y_test,predic_rf))"
   ]
  },
  {
   "cell_type": "code",
   "execution_count": 107,
   "id": "13fd0f0b",
   "metadata": {},
   "outputs": [
    {
     "data": {
      "text/plain": [
       "0.15482342668863283"
      ]
     },
     "execution_count": 107,
     "metadata": {},
     "output_type": "execute_result"
    }
   ],
   "source": [
    "mean_absolute_error(Y_test, predic_rf)"
   ]
  },
  {
   "cell_type": "code",
   "execution_count": 108,
   "id": "353b5fab",
   "metadata": {},
   "outputs": [
    {
     "data": {
      "text/plain": [
       "0.22775072590645778"
      ]
     },
     "execution_count": 108,
     "metadata": {},
     "output_type": "execute_result"
    }
   ],
   "source": [
    "score_distanceM(Xobserve = Y_test['loc_initiator_x'],\n",
    "                Yobserve = Y_test['loc_initiator_y'],\n",
    "                Xprevu = predic_rf[:,0],\n",
    "                Yprevu = predic_rf[:,1])"
   ]
  },
  {
   "cell_type": "markdown",
   "id": "e034efd8",
   "metadata": {},
   "source": [
    "#### Affichage de ce premier modele"
   ]
  },
  {
   "cell_type": "code",
   "execution_count": 109,
   "id": "925a8281",
   "metadata": {},
   "outputs": [],
   "source": [
    "predic_position = pd.DataFrame(predic_rf, columns=['loc_initiator_x','loc_initiator_y'])"
   ]
  },
  {
   "cell_type": "code",
   "execution_count": 110,
   "id": "2c144af3",
   "metadata": {},
   "outputs": [
    {
     "data": {
      "image/png": "[encoded data removed]",
      "text/plain": [
       "<Figure size 720x504 with 1 Axes>"
      ]
     },
     "metadata": {},
     "output_type": "display_data"
    }
   ],
   "source": [
    "plt.figure(figsize=(10, 7))\n",
    "plt.plot(predic_position['loc_initiator_x'],predic_position['loc_initiator_y'],'*r',label='initiator')\n",
    "plt.plot(data_for_pred['loc_target_x'],data_for_pred['loc_target_y'],\"*b\", label='target')\n",
    "plt.xlabel(\"x location\", fontsize=16)\n",
    "plt.ylabel(\"y location\", fontsize=16)\n",
    "plt.legend(loc='center right', bbox_to_anchor=(1, 0.5))\n",
    "plt.title('Predictive positions of initiator (in red)', fontsize=20);"
   ]
  },
  {
   "cell_type": "code",
   "execution_count": 155,
   "id": "7e7d4b30",
   "metadata": {},
   "outputs": [
    {
     "name": "stdout",
     "output_type": "stream",
     "text": [
      "orientation 0.002814468664887493\n",
      "False 0.002814468664887493\n"
     ]
    }
   ],
   "source": [
    "from sklearn.metrics import accuracy_score\n",
    "list_variable=list(data_for_pred.columns)\n",
    "list_variable_tabou=list_variable\n",
    "variable=[]\n",
    "score=0\n",
    "data_for_pred=data_for_pred.sample(frac=1).reset_index(drop=True)\n",
    "while len(list_variable_tabou)>0:\n",
    "    y=data_for_pred[['loc_initiator_x','loc_initiator_y']]\n",
    "    variable_en_cour=False\n",
    "    for i in list_variable_tabou:\n",
    "        X=data_for_pred[variable+[i]]\n",
    "        x_train, x_test, y_train, y_test = train_test_split(X, y, test_size=0.25)\n",
    "        clf = RandomForestRegressor()\n",
    "        clf= clf.fit(x_train, y_train)\n",
    "        score_test=clf.score(x_test,y_test)\n",
    "    if score_test>score:\n",
    "        score=score_test\n",
    "        variable_en_cour=i\n",
    "    if not(variable_en_cour):\n",
    "        list_variable_tabou=[]\n",
    "    else:\n",
    "        variable.append(variable_en_cour)\n",
    "        del list_variable_tabou[list_variable_tabou.index(variable_en_cour)]\n",
    "    print(variable_en_cour,score)"
   ]
  },
  {
   "cell_type": "markdown",
   "id": "9e079803",
   "metadata": {},
   "source": [
    "Cet algo me dit qu'il faut garder juste orientation... Ça semble faux."
   ]
  },
  {
   "cell_type": "code",
   "execution_count": 112,
   "id": "972eaab1",
   "metadata": {},
   "outputs": [
    {
     "data": {
      "text/plain": [
       "SequentialFeatureSelector(estimator=RandomForestRegressor())"
      ]
     },
     "execution_count": 112,
     "metadata": {},
     "output_type": "execute_result"
    }
   ],
   "source": [
    "reg = RandomForestRegressor()\n",
    "sfs = SequentialFeatureSelector(reg, direction='forward')\n",
    "sfs.fit(X_train, Y_train)"
   ]
  },
  {
   "cell_type": "code",
   "execution_count": 159,
   "id": "236569e5",
   "metadata": {},
   "outputs": [
    {
     "name": "stdout",
     "output_type": "stream",
     "text": [
      "tof\n",
      "tof_skew\n",
      "range\n",
      "range_skew\n",
      "loc_target_x\n",
      "loc_target_y\n",
      "loc_target_z\n",
      "temperature_initiator\n",
      "temperature_target\n",
      "orientation\n"
     ]
    }
   ],
   "source": [
    "var_select = sfs.get_support()\n",
    "list_var_select=['loc_initiator_x','loc_initiator_y']\n",
    "list_variable = X_train.columns.to_list()\n",
    "for i in range(len(list_variable)) :\n",
    "    if var_select[i]:\n",
    "        list_var_select.append(list_variable[i])\n",
    "        print(list_variable[i])"
   ]
  },
  {
   "cell_type": "markdown",
   "id": "4f343d9b",
   "metadata": {},
   "source": [
    "#### Deuxième modèle avec les variables sélectionnées : nlos_indicator, skew, tof, tof_skew, loc_target_y, rssi_data,rssi_mean"
   ]
  },
  {
   "cell_type": "code",
   "execution_count": 160,
   "id": "54ac0237",
   "metadata": {},
   "outputs": [],
   "source": [
    "data_for_pred_select = data_for_pred[list_var_select]"
   ]
  },
  {
   "cell_type": "code",
   "execution_count": 161,
   "id": "8490b5a4",
   "metadata": {},
   "outputs": [],
   "source": [
    "#ceration of test and train with selected variables\n",
    "test,train = train_test_split(data_for_pred_select, test_size=0.3, train_size=0.7, shuffle=True)\n",
    "Y_train = train[['loc_initiator_x', 'loc_initiator_y']]\n",
    "X_train = train.drop([\"loc_initiator_x\",'loc_initiator_y'], axis=1, inplace=False)\n",
    "\n",
    "Y_test = test[['loc_initiator_x', 'loc_initiator_y']]\n",
    "X_test = test.drop([\"loc_initiator_x\",'loc_initiator_y'], axis=1, inplace=False)"
   ]
  },
  {
   "cell_type": "code",
   "execution_count": 162,
   "id": "62944b3d",
   "metadata": {},
   "outputs": [
    {
     "data": {
      "text/plain": [
       "0.9829291008543619"
      ]
     },
     "execution_count": 162,
     "metadata": {},
     "output_type": "execute_result"
    }
   ],
   "source": [
    "reg = RandomForestRegressor()\n",
    "reg = reg.fit(X_train, Y_train)\n",
    "predic_rf_2=reg.predict(X_test)\n",
    "reg.score(X_test,Y_test)"
   ]
  },
  {
   "cell_type": "code",
   "execution_count": 167,
   "id": "c66a089c",
   "metadata": {},
   "outputs": [
    {
     "data": {
      "text/plain": [
       "0.18580858368726327"
      ]
     },
     "execution_count": 167,
     "metadata": {},
     "output_type": "execute_result"
    }
   ],
   "source": [
    "np.sqrt(mean_squared_error(Y_test,predic_rf_2))"
   ]
  },
  {
   "cell_type": "code",
   "execution_count": 168,
   "id": "e9cddd04",
   "metadata": {},
   "outputs": [
    {
     "data": {
      "text/plain": [
       "0.11392514342453675"
      ]
     },
     "execution_count": 168,
     "metadata": {},
     "output_type": "execute_result"
    }
   ],
   "source": [
    "mean_absolute_error(Y_test,predic_rf_2)"
   ]
  },
  {
   "cell_type": "code",
   "execution_count": 164,
   "id": "9f5558ef",
   "metadata": {},
   "outputs": [
    {
     "data": {
      "text/plain": [
       "0.16759230540769005"
      ]
     },
     "execution_count": 164,
     "metadata": {},
     "output_type": "execute_result"
    }
   ],
   "source": [
    "score_distanceM(Xobserve = Y_test['loc_initiator_x'],\n",
    "                Yobserve = Y_test['loc_initiator_y'],\n",
    "                Xprevu = predic_rf_2[:,0],\n",
    "                Yprevu = predic_rf_2[:,1])"
   ]
  },
  {
   "cell_type": "code",
   "execution_count": 165,
   "id": "86dc5b20",
   "metadata": {},
   "outputs": [],
   "source": [
    "predic_position_2 = pd.DataFrame(predic_rf_2, columns=['loc_initiator_x','loc_initiator_y'])"
   ]
  },
  {
   "cell_type": "code",
   "execution_count": 120,
   "id": "864072f7",
   "metadata": {},
   "outputs": [
    {
     "data": {
      "image/png": "[encoded data removed]",
      "text/plain": [
       "<Figure size 720x504 with 1 Axes>"
      ]
     },
     "metadata": {},
     "output_type": "display_data"
    }
   ],
   "source": [
    "plt.figure(figsize=(10, 7))\n",
    "plt.plot(predic_position_2['loc_initiator_x'],predic_position_2['loc_initiator_y'],'*r')\n",
    "plt.plot(data_for_pred['loc_target_x'],data_for_pred['loc_target_y'],\"*b\")\n",
    "plt.xlabel(\"x location\", fontsize=16)\n",
    "plt.ylabel(\"y location\", fontsize=16)\n",
    "plt.title('Predictive positions of initiator (in red)', fontsize=20);"
   ]
  },
  {
   "cell_type": "markdown",
   "id": "08e928a7",
   "metadata": {},
   "source": [
    "### Validation croisée"
   ]
  },
  {
   "cell_type": "code",
   "execution_count": 121,
   "id": "6b84966a",
   "metadata": {},
   "outputs": [],
   "source": [
    "Y = data_for_pred[['loc_initiator_x', 'loc_initiator_y']]\n",
    "X = data_for_pred.drop([\"loc_initiator_x\",'loc_initiator_y'], axis=1, inplace=False)"
   ]
  },
  {
   "cell_type": "code",
   "execution_count": 122,
   "id": "1d95d6a7",
   "metadata": {},
   "outputs": [
    {
     "data": {
      "text/plain": [
       "array([0.98294727, 0.98387906, 0.98085585, 0.98312538, 0.98559146])"
      ]
     },
     "execution_count": 122,
     "metadata": {},
     "output_type": "execute_result"
    }
   ],
   "source": [
    "reg = RandomForestRegressor()\n",
    "cross_val_score(reg, X, Y, cv=5)"
   ]
  },
  {
   "cell_type": "markdown",
   "id": "0f6b0c0b",
   "metadata": {},
   "source": [
    "## <center>Affichage du score de RandomForest en fonction des paramètres</center>"
   ]
  },
  {
   "cell_type": "markdown",
   "id": "4f1ac75c",
   "metadata": {},
   "source": [
    "#### On va faire varier n_estimators qui correspond au nombre d'arbres de décisions utilisés."
   ]
  },
  {
   "cell_type": "code",
   "execution_count": 123,
   "id": "5352c2d4",
   "metadata": {},
   "outputs": [],
   "source": [
    "scores_estimators = []"
   ]
  },
  {
   "cell_type": "code",
   "execution_count": 124,
   "id": "24595743",
   "metadata": {},
   "outputs": [],
   "source": [
    "reg_50 = RandomForestRegressor(n_estimators = 1)\n",
    "reg_50 = reg_50.fit(X_train, Y_train)\n",
    "scores_estimators.append(reg_50.score(X_test,Y_test))"
   ]
  },
  {
   "cell_type": "code",
   "execution_count": 125,
   "id": "ea651d31",
   "metadata": {},
   "outputs": [],
   "source": [
    "reg_100 = RandomForestRegressor(n_estimators = 100)\n",
    "reg = reg_100.fit(X_train, Y_train)\n",
    "scores_estimators.append(reg_100.score(X_test,Y_test))"
   ]
  },
  {
   "cell_type": "code",
   "execution_count": 126,
   "id": "d74c22d5",
   "metadata": {},
   "outputs": [],
   "source": [
    "reg_150 = RandomForestRegressor(n_estimators = 150)\n",
    "reg_150 = reg_150.fit(X_train, Y_train)\n",
    "scores_estimators.append(reg_150.score(X_test,Y_test))"
   ]
  },
  {
   "cell_type": "code",
   "execution_count": 127,
   "id": "043b442c",
   "metadata": {},
   "outputs": [],
   "source": [
    "reg_200 = RandomForestRegressor(n_estimators = 200)\n",
    "reg_200 = reg_200.fit(X_train, Y_train)\n",
    "scores_estimators.append(reg_200.score(X_test,Y_test))"
   ]
  },
  {
   "cell_type": "code",
   "execution_count": 128,
   "id": "01e306c7",
   "metadata": {},
   "outputs": [
    {
     "data": {
      "text/plain": [
       "[0.9486673129696435,\n",
       " 0.9770360738010422,\n",
       " 0.9769944005116884,\n",
       " 0.9771612492514468]"
      ]
     },
     "execution_count": 128,
     "metadata": {},
     "output_type": "execute_result"
    }
   ],
   "source": [
    "scores_estimators"
   ]
  },
  {
   "cell_type": "code",
   "execution_count": 129,
   "id": "8b0f7f77",
   "metadata": {},
   "outputs": [
    {
     "name": "stderr",
     "output_type": "stream",
     "text": [
      "/home/sid2019-6/anaconda3/lib/python3.9/site-packages/seaborn/_decorators.py:36: FutureWarning: Pass the following variables as keyword args: x, y. From version 0.12, the only valid positional argument will be `data`, and passing other arguments without an explicit keyword will result in an error or misinterpretation.\n",
      "  warnings.warn(\n"
     ]
    },
    {
     "data": {
      "text/plain": [
       "Text(0.5, 1.0, 'Scores with different number of trees')"
      ]
     },
     "execution_count": 129,
     "metadata": {},
     "output_type": "execute_result"
    },
    {
     "data": {
      "image/png": "[encoded data removed]",
      "text/plain": [
       "<Figure size 432x288 with 1 Axes>"
      ]
     },
     "metadata": {},
     "output_type": "display_data"
    }
   ],
   "source": [
    "sns.barplot(['1_tree','100_trees','150_trees', '200_trees'],scores_estimators)\n",
    "plt.text(-0.1, round(scores_estimators[0],2), round(scores_estimators[0],2), horizontalalignment='left', weight='semibold')\n",
    "plt.text(0.9,round(scores_estimators[1],2), round(scores_estimators[1],2), horizontalalignment='left', weight='semibold')\n",
    "plt.text(1.9, round(scores_estimators[2],2), round(scores_estimators[2],2), horizontalalignment='left', weight='semibold')\n",
    "plt.text(2.9, round(scores_estimators[3],2), round(scores_estimators[3],2), horizontalalignment='left', weight='semibold')\n",
    "plt.title(\"Scores with different number of trees\",fontsize=15)"
   ]
  },
  {
   "cell_type": "markdown",
   "id": "9b851e09",
   "metadata": {},
   "source": [
    "À partir de 100 arbres, le score ne change plus. 100 arbres est la valeur par défaut de RandomForest"
   ]
  },
  {
   "cell_type": "markdown",
   "id": "d6e14862",
   "metadata": {},
   "source": [
    "#### On va faire varier max_depth qui correspond au nombre d'arbres de décisions utilisés."
   ]
  },
  {
   "cell_type": "code",
   "execution_count": 130,
   "id": "ef840fb9",
   "metadata": {},
   "outputs": [],
   "source": [
    "scores_depth = []"
   ]
  },
  {
   "cell_type": "code",
   "execution_count": 131,
   "id": "ba2bc448",
   "metadata": {},
   "outputs": [],
   "source": [
    "reg_3 = RandomForestRegressor(max_depth = 3)\n",
    "reg_3 = reg_3.fit(X_train, Y_train)\n",
    "scores_depth.append(reg_3.score(X_test,Y_test))"
   ]
  },
  {
   "cell_type": "code",
   "execution_count": 132,
   "id": "f2520492",
   "metadata": {},
   "outputs": [],
   "source": [
    "reg_15 = RandomForestRegressor(max_depth = 6)\n",
    "reg_15 = reg_15.fit(X_train, Y_train)\n",
    "scores_depth.append(reg_15.score(X_test,Y_test))"
   ]
  },
  {
   "cell_type": "code",
   "execution_count": 133,
   "id": "9d6205ec",
   "metadata": {},
   "outputs": [],
   "source": [
    "reg_30 = RandomForestRegressor(max_depth = 9)\n",
    "reg_30 = reg_30.fit(X_train, Y_train)\n",
    "scores_depth.append(reg_30.score(X_test,Y_test))"
   ]
  },
  {
   "cell_type": "code",
   "execution_count": 134,
   "id": "599f0bc8",
   "metadata": {},
   "outputs": [],
   "source": [
    "reg_300 = RandomForestRegressor(max_depth = 12)\n",
    "reg_300 = reg_300.fit(X_train, Y_train)\n",
    "scores_depth.append(reg_300.score(X_test,Y_test))"
   ]
  },
  {
   "cell_type": "code",
   "execution_count": 135,
   "id": "67ad9999",
   "metadata": {},
   "outputs": [
    {
     "name": "stderr",
     "output_type": "stream",
     "text": [
      "/home/sid2019-6/anaconda3/lib/python3.9/site-packages/seaborn/_decorators.py:36: FutureWarning: Pass the following variables as keyword args: x, y. From version 0.12, the only valid positional argument will be `data`, and passing other arguments without an explicit keyword will result in an error or misinterpretation.\n",
      "  warnings.warn(\n"
     ]
    },
    {
     "data": {
      "text/plain": [
       "Text(0.5, 1.0, 'Scores with different maximum depth')"
      ]
     },
     "execution_count": 135,
     "metadata": {},
     "output_type": "execute_result"
    },
    {
     "data": {
      "image/png": "[encoded data removed]",
      "text/plain": [
       "<Figure size 432x288 with 1 Axes>"
      ]
     },
     "metadata": {},
     "output_type": "display_data"
    }
   ],
   "source": [
    "sns.barplot(['max_depth_3','max_depth_6','max_depth_9','max_depth_12'],scores_depth)\n",
    "plt.text(-0.1, round(scores_depth[0],2), round(scores_depth[0],2), horizontalalignment='left', weight='semibold')\n",
    "plt.text(0.9,round(scores_depth[1],2), round(scores_depth[1],2), horizontalalignment='left', weight='semibold')\n",
    "plt.text(1.9, round(scores_depth[2],2), round(scores_depth[2],2), horizontalalignment='left', weight='semibold')\n",
    "plt.text(2.9, round(scores_depth[3],2), round(scores_depth[3],2), horizontalalignment='left', weight='semibold')\n",
    "plt.title(\"Scores with different maximum depth\",fontsize=15)"
   ]
  },
  {
   "cell_type": "markdown",
   "id": "65888544",
   "metadata": {},
   "source": [
    "#### On va faire varier max_depth et n_estimators en même temps "
   ]
  },
  {
   "cell_type": "code",
   "execution_count": 136,
   "id": "15ece13a",
   "metadata": {},
   "outputs": [],
   "source": [
    "list_estimators = [1,100,150,200]\n",
    "list_depth = [3,6,9,12]"
   ]
  },
  {
   "cell_type": "code",
   "execution_count": 137,
   "id": "afef6e1a",
   "metadata": {},
   "outputs": [],
   "source": [
    "dic_score = {} #{max_depth : n_estimators}\n",
    "for i in range(len(list_estimators)):\n",
    "    n_estimator = list_estimators[i]\n",
    "    list_score = []\n",
    "    for j in range(len(list_estimators)):\n",
    "        max_depth = list_depth[j]\n",
    "        reg = RandomForestRegressor(max_depth = max_depth,n_estimators=n_estimator)\n",
    "        reg = reg.fit(X_train, Y_train)\n",
    "        list_score.append(reg.score(X_test,Y_test))\n",
    "    dic_score[n_estimator]=list_score"
   ]
  },
  {
   "cell_type": "code",
   "execution_count": 138,
   "id": "eb419a9c",
   "metadata": {},
   "outputs": [
    {
     "data": {
      "text/plain": [
       "{1: [0.9355727234692016,\n",
       "  0.9446478315112572,\n",
       "  0.9470611018698167,\n",
       "  0.9475373681940766],\n",
       " 100: [0.9392821882545387,\n",
       "  0.9587129779662993,\n",
       "  0.9724803553262511,\n",
       "  0.9762079291414989],\n",
       " 150: [0.9383721013770535,\n",
       "  0.9590397470686223,\n",
       "  0.972542669554783,\n",
       "  0.976987527407264],\n",
       " 200: [0.9396201776919233,\n",
       "  0.9586763112271939,\n",
       "  0.9727263307352566,\n",
       "  0.9765692035468316]}"
      ]
     },
     "execution_count": 138,
     "metadata": {},
     "output_type": "execute_result"
    }
   ],
   "source": [
    "dic_score"
   ]
  },
  {
   "cell_type": "code",
   "execution_count": 153,
   "id": "19241fe7",
   "metadata": {},
   "outputs": [
    {
     "data": {
      "image/png": "[encoded data removed]",
      "text/plain": [
       "<Figure size 936x936 with 4 Axes>"
      ]
     },
     "metadata": {},
     "output_type": "display_data"
    }
   ],
   "source": [
    "fig = plt.figure(figsize=(13,13))\n",
    "i=1\n",
    "for key in dic_score.keys() :\n",
    "    ax = fig.add_subplot(2,2,i)\n",
    "    bar1 = sns.barplot(x = list_depth,\n",
    "                       y = dic_score[key])  \n",
    "    plt.text(-0.1, round(dic_score[key][0],2), round(dic_score[key][0],2), horizontalalignment='left', weight='semibold')\n",
    "    plt.text(0.9,round(dic_score[key][1],2), round(dic_score[key][1],2), horizontalalignment='left', weight='semibold')\n",
    "    plt.text(1.9, round(dic_score[key][2],2), round(dic_score[key][2],2), horizontalalignment='left', weight='semibold')\n",
    "    plt.text(2.9, round(dic_score[key][3],2), round(dic_score[key][3],2), horizontalalignment='left', weight='semibold')\n",
    "    ax.set_xlabel(\"Max depth\")       \n",
    "    ax.set_ylabel(\"Predictive score\")     \n",
    "    ax.set_yticks(np.arange(0, 1,0.2))       \n",
    "    ax.set_title(\"Predictive score following the maximum \\ndepth allowed for \"+str(key)+\" trees\")   \n",
    "    i+=1"
   ]
  },
  {
   "cell_type": "code",
   "execution_count": 140,
   "id": "a79c3a18",
   "metadata": {},
   "outputs": [
    {
     "data": {
      "image/png": "[encoded data removed]",
      "text/plain": [
       "<Figure size 936x936 with 4 Axes>"
      ]
     },
     "metadata": {},
     "output_type": "display_data"
    }
   ],
   "source": [
    "fig = plt.figure(figsize=(13,13))\n",
    "k=1\n",
    "for i in range(len(list_estimators)):\n",
    "    n_estimator = list_estimators[i]\n",
    "    list_erreur= []\n",
    "    for j in range(len(list_depth)):\n",
    "        max_depth = list_depth[j]\n",
    "        reg = RandomForestRegressor(max_depth = max_depth,n_estimators=n_estimator)\n",
    "        reg = reg.fit(X_train, Y_train)\n",
    "        predic=reg.predict(X_test)\n",
    "        list_erreur.append(score_distanceM(Xobserve = Y_test['loc_initiator_x'],\n",
    "                Yobserve = Y_test['loc_initiator_y'],\n",
    "                Xprevu = predic[:,0],\n",
    "                Yprevu = predic[:,1]))\n",
    "    ax = fig.add_subplot(2,2,k)\n",
    "    bar = sns.barplot(x = list_depth,\n",
    "                      y = list_erreur)  \n",
    "    plt.text(-0.1, round(list_erreur[0],2), round(list_erreur[0],2), horizontalalignment='left', weight='semibold')\n",
    "    plt.text(0.9,round(list_erreur[1],2), round(list_erreur[1],2), horizontalalignment='left', weight='semibold')\n",
    "    plt.text(1.9, round(list_erreur[2],2), round(list_erreur[2],2), horizontalalignment='left', weight='semibold')\n",
    "    plt.text(2.9, round(list_erreur[3],2), round(list_erreur[3],2), horizontalalignment='left', weight='semibold')\n",
    "    ax.set_xlabel(\"Max depth\")       \n",
    "    ax.set_ylabel(\"Predictive error\")     \n",
    "    ax.set_yticks(np.arange(0, max(list_erreur),0.2))       \n",
    "    ax.set_title(\"Predictive error (paul's function) following the maximum \\ndepth allowed for \"+str(n_estimator)+\" trees\")   \n",
    "    k+=1"
   ]
  },
  {
   "cell_type": "markdown",
   "id": "12791c90",
   "metadata": {},
   "source": [
    "Le maximum de profondeur a un effet sur la prédiction alors que le nombre d'arbre n'a pas beaucoup d'influence. Globalement, on observe la même évolution que ce soit pour 1 arbre ou 200 mais le score augment quand on augmente le maximum de profondeur."
   ]
  },
  {
   "cell_type": "code",
   "execution_count": 141,
   "id": "d8b399cc",
   "metadata": {},
   "outputs": [],
   "source": [
    "from sklearn.model_selection import GridSearchCV"
   ]
  },
  {
   "cell_type": "code",
   "execution_count": 142,
   "id": "2666a830",
   "metadata": {},
   "outputs": [
    {
     "data": {
      "text/plain": [
       "GridSearchCV(estimator=RandomForestRegressor(),\n",
       "             param_grid={'max_depth': [3, 6, 9, 12, 20, 30],\n",
       "                         'n_estimators': [1, 100, 150, 200]})"
      ]
     },
     "execution_count": 142,
     "metadata": {},
     "output_type": "execute_result"
    }
   ],
   "source": [
    "parameters = {'max_depth':[3,6,9,12,20,30],\n",
    "              'n_estimators':[1,100,150,200]}\n",
    "reg = RandomForestRegressor()\n",
    "clf = GridSearchCV(reg, parameters)\n",
    "clf.fit(X, Y)"
   ]
  },
  {
   "cell_type": "code",
   "execution_count": 143,
   "id": "39738775",
   "metadata": {},
   "outputs": [
    {
     "data": {
      "text/plain": [
       "{'mean_fit_time': array([0.01681643, 0.74471698, 1.07946811, 1.32736211, 0.01426663,\n",
       "        1.12320642, 1.74438462, 2.31482205, 0.02173562, 1.5599813 ,\n",
       "        2.4201685 , 3.06949368, 0.02137289, 1.83146319, 2.67337604,\n",
       "        3.45837278, 0.0207952 , 1.89006376, 2.74737082, 3.51032658,\n",
       "        0.02954912, 1.74154844, 2.62335048, 3.46676412]),\n",
       " 'std_fit_time': array([0.00117024, 0.06857795, 0.09725745, 0.07650705, 0.0002355 ,\n",
       "        0.04805734, 0.13377413, 0.033876  , 0.00112847, 0.0443622 ,\n",
       "        0.06246358, 0.06533691, 0.00091975, 0.02482095, 0.07883652,\n",
       "        0.09560448, 0.00098502, 0.11132622, 0.1093986 , 0.11726258,\n",
       "        0.00031512, 0.03801744, 0.06316393, 0.03938975]),\n",
       " 'mean_score_time': array([0.00453448, 0.01224141, 0.01509771, 0.01931057, 0.00260129,\n",
       "        0.01283255, 0.01646204, 0.02306461, 0.00339952, 0.01594276,\n",
       "        0.0230639 , 0.02701011, 0.00268369, 0.01754932, 0.02405558,\n",
       "        0.03256073, 0.00239449, 0.01805382, 0.02426057, 0.03309493,\n",
       "        0.00342593, 0.01637192, 0.02348547, 0.03124056]),\n",
       " 'std_score_time': array([1.08346945e-03, 2.07780977e-03, 1.60200109e-03, 3.33587234e-03,\n",
       "        1.08780822e-04, 1.51007981e-03, 2.42080247e-03, 3.18805215e-03,\n",
       "        2.75602085e-04, 3.15271526e-03, 3.78811720e-03, 2.04108876e-03,\n",
       "        1.75996545e-04, 1.87331651e-03, 3.24576498e-03, 4.03086436e-03,\n",
       "        2.95032371e-05, 1.97551251e-03, 8.92892564e-04, 4.21585426e-03,\n",
       "        2.69677893e-04, 1.53369051e-04, 1.96597792e-04, 2.49426840e-04]),\n",
       " 'param_max_depth': masked_array(data=[3, 3, 3, 3, 6, 6, 6, 6, 9, 9, 9, 9, 12, 12, 12, 12, 20,\n",
       "                    20, 20, 20, 30, 30, 30, 30],\n",
       "              mask=[False, False, False, False, False, False, False, False,\n",
       "                    False, False, False, False, False, False, False, False,\n",
       "                    False, False, False, False, False, False, False, False],\n",
       "        fill_value='?',\n",
       "             dtype=object),\n",
       " 'param_n_estimators': masked_array(data=[1, 100, 150, 200, 1, 100, 150, 200, 1, 100, 150, 200,\n",
       "                    1, 100, 150, 200, 1, 100, 150, 200, 1, 100, 150, 200],\n",
       "              mask=[False, False, False, False, False, False, False, False,\n",
       "                    False, False, False, False, False, False, False, False,\n",
       "                    False, False, False, False, False, False, False, False],\n",
       "        fill_value='?',\n",
       "             dtype=object),\n",
       " 'params': [{'max_depth': 3, 'n_estimators': 1},\n",
       "  {'max_depth': 3, 'n_estimators': 100},\n",
       "  {'max_depth': 3, 'n_estimators': 150},\n",
       "  {'max_depth': 3, 'n_estimators': 200},\n",
       "  {'max_depth': 6, 'n_estimators': 1},\n",
       "  {'max_depth': 6, 'n_estimators': 100},\n",
       "  {'max_depth': 6, 'n_estimators': 150},\n",
       "  {'max_depth': 6, 'n_estimators': 200},\n",
       "  {'max_depth': 9, 'n_estimators': 1},\n",
       "  {'max_depth': 9, 'n_estimators': 100},\n",
       "  {'max_depth': 9, 'n_estimators': 150},\n",
       "  {'max_depth': 9, 'n_estimators': 200},\n",
       "  {'max_depth': 12, 'n_estimators': 1},\n",
       "  {'max_depth': 12, 'n_estimators': 100},\n",
       "  {'max_depth': 12, 'n_estimators': 150},\n",
       "  {'max_depth': 12, 'n_estimators': 200},\n",
       "  {'max_depth': 20, 'n_estimators': 1},\n",
       "  {'max_depth': 20, 'n_estimators': 100},\n",
       "  {'max_depth': 20, 'n_estimators': 150},\n",
       "  {'max_depth': 20, 'n_estimators': 200},\n",
       "  {'max_depth': 30, 'n_estimators': 1},\n",
       "  {'max_depth': 30, 'n_estimators': 100},\n",
       "  {'max_depth': 30, 'n_estimators': 150},\n",
       "  {'max_depth': 30, 'n_estimators': 200}],\n",
       " 'split0_test_score': array([0.93719725, 0.93922119, 0.93889041, 0.9390468 , 0.94763614,\n",
       "        0.95429938, 0.9549581 , 0.95448434, 0.95292034, 0.970845  ,\n",
       "        0.97172199, 0.97201871, 0.94490827, 0.97994808, 0.9807489 ,\n",
       "        0.9804253 , 0.9562346 , 0.98205599, 0.98273643, 0.98284502,\n",
       "        0.95551267, 0.98169718, 0.98279389, 0.98241581]),\n",
       " 'split1_test_score': array([0.93769502, 0.93869723, 0.93905486, 0.93878561, 0.95367142,\n",
       "        0.9559012 , 0.95523742, 0.95514976, 0.96018767, 0.97243986,\n",
       "        0.97302742, 0.97297202, 0.96290294, 0.98116477, 0.98125748,\n",
       "        0.98144173, 0.95416726, 0.98285256, 0.98309006, 0.98313895,\n",
       "        0.95510409, 0.98381534, 0.98359629, 0.9833799 ]),\n",
       " 'split2_test_score': array([0.93308214, 0.93427178, 0.93417465, 0.93428085, 0.94639286,\n",
       "        0.95559179, 0.95525961, 0.95534013, 0.95680484, 0.97171479,\n",
       "        0.97275042, 0.97213203, 0.97185776, 0.97951841, 0.97883987,\n",
       "        0.97908942, 0.95743291, 0.98090677, 0.98115508, 0.98113205,\n",
       "        0.96078375, 0.98069745, 0.98147276, 0.98111342]),\n",
       " 'split3_test_score': array([0.93770653, 0.93876672, 0.93873487, 0.93869662, 0.94475973,\n",
       "        0.95749597, 0.95805676, 0.95781925, 0.95082175, 0.97093356,\n",
       "        0.9711335 , 0.9718026 , 0.96125751, 0.98022065, 0.98039459,\n",
       "        0.98060236, 0.95778672, 0.98307595, 0.98319546, 0.98369755,\n",
       "        0.95411905, 0.98296912, 0.98384376, 0.98329603]),\n",
       " 'split4_test_score': array([0.93868497, 0.94034015, 0.94014806, 0.94035998, 0.95157078,\n",
       "        0.95782999, 0.95758578, 0.95735923, 0.96111308, 0.97699986,\n",
       "        0.97658271, 0.97598225, 0.96782792, 0.98439673, 0.98424231,\n",
       "        0.98388581, 0.96607891, 0.98539925, 0.98588331, 0.98583452,\n",
       "        0.95658928, 0.98544591, 0.98578167, 0.98558942]),\n",
       " 'mean_test_score': array([0.93687318, 0.93825941, 0.93820057, 0.93823397, 0.94880618,\n",
       "        0.95622367, 0.95621953, 0.95603054, 0.95636954, 0.97258662,\n",
       "        0.97304321, 0.97298152, 0.96175088, 0.98104973, 0.98109663,\n",
       "        0.98108892, 0.95834008, 0.9828581 , 0.98321207, 0.98332962,\n",
       "        0.95642177, 0.982925  , 0.98349767, 0.98315891]),\n",
       " 'std_test_score': array([0.00195599, 0.00207869, 0.00207325, 0.00206524, 0.00331302,\n",
       "        0.00129655, 0.00132055, 0.0013121 , 0.0039986 , 0.00228141,\n",
       "        0.00189772, 0.00155196, 0.00921221, 0.0017585 , 0.00176793,\n",
       "        0.00158885, 0.00407097, 0.00148027, 0.00152369, 0.00151726,\n",
       "        0.00232035, 0.0016504 , 0.00141009, 0.00146364]),\n",
       " 'rank_test_score': array([24, 21, 23, 22, 20, 17, 18, 19, 16, 12, 10, 11, 13,  9,  7,  8, 14,\n",
       "         6,  3,  2, 15,  5,  1,  4], dtype=int32)}"
      ]
     },
     "execution_count": 143,
     "metadata": {},
     "output_type": "execute_result"
    }
   ],
   "source": [
    "clf.cv_results_"
   ]
  },
  {
   "cell_type": "code",
   "execution_count": 149,
   "id": "8195e3dd",
   "metadata": {},
   "outputs": [
    {
     "data": {
      "text/plain": [
       "{'max_depth': 30, 'n_estimators': 150}"
      ]
     },
     "execution_count": 149,
     "metadata": {},
     "output_type": "execute_result"
    }
   ],
   "source": [
    "params_opti = clf.cv_results_['params'][clf.best_index_]\n",
    "params_opti"
   ]
  },
  {
   "cell_type": "markdown",
   "id": "bf3b2d41",
   "metadata": {},
   "source": [
    "### Test avec les paramètres optimaux"
   ]
  },
  {
   "cell_type": "code",
   "execution_count": 150,
   "id": "97d146b1",
   "metadata": {},
   "outputs": [],
   "source": [
    "test,train = train_test_split(data_for_pred, test_size=0.25, train_size=0.75, shuffle=True)\n",
    "Y_train = train[['loc_initiator_x', 'loc_initiator_y']]\n",
    "X_train = train.drop([\"loc_initiator_x\",'loc_initiator_y'], axis=1, inplace=False)\n",
    "\n",
    "Y_test = test[['loc_initiator_x', 'loc_initiator_y']]\n",
    "X_test = test.drop([\"loc_initiator_x\",'loc_initiator_y'], axis=1, inplace=False)"
   ]
  },
  {
   "cell_type": "code",
   "execution_count": 151,
   "id": "1ca21862",
   "metadata": {},
   "outputs": [
    {
     "data": {
      "text/plain": [
       "0.9650327900392701"
      ]
     },
     "execution_count": 151,
     "metadata": {},
     "output_type": "execute_result"
    }
   ],
   "source": [
    "reg = RandomForestRegressor(max_depth = params_opti['max_depth'], n_estimators = params_opti['n_estimators'])\n",
    "reg = reg.fit(X_train, Y_train)\n",
    "predic_rf_opti=reg.predict(X_test)\n",
    "reg.score(X_test,Y_test)"
   ]
  },
  {
   "cell_type": "code",
   "execution_count": 152,
   "id": "ab2ebdbf",
   "metadata": {},
   "outputs": [
    {
     "data": {
      "text/plain": [
       "0.2428475423418029"
      ]
     },
     "execution_count": 152,
     "metadata": {},
     "output_type": "execute_result"
    }
   ],
   "source": [
    "score_distanceM(Xobserve = Y_test['loc_initiator_x'],\n",
    "                Yobserve = Y_test['loc_initiator_y'],\n",
    "                Xprevu = predic_rf_opti[:,0],\n",
    "                Yprevu = predic_rf_opti[:,1])"
   ]
  }
 ],
 "metadata": {
  "kernelspec": {
   "display_name": "Python 3 (ipykernel)",
   "language": "python",
   "name": "python3"
  },
  "language_info": {
   "codemirror_mode": {
    "name": "ipython",
    "version": 3
   },
   "file_extension": ".py",
   "mimetype": "text/x-python",
   "name": "python",
   "nbconvert_exporter": "python",
   "pygments_lexer": "ipython3",
   "version": "3.9.7"
  }
 },
 "nbformat": 4,
 "nbformat_minor": 5
}
