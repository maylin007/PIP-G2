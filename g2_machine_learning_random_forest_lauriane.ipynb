{
 "cells": [
  {
   "cell_type": "markdown",
   "id": "c09b78cf",
   "metadata": {},
   "source": [
    "**Created on 05/01/2022**\n",
    "\n",
    "**Group 2**\n",
    "\n",
    "**Authors: LaurianeBompay**\n",
    "\n",
    "**License: this code is released under the CeCILL 2.1 license. See\n",
    "https://www.cecill.info/licenses/Licence_CeCILL_V2.1-en.txt**\n"
   ]
  },
  {
   "cell_type": "code",
   "execution_count": 118,
   "id": "24186320",
   "metadata": {},
   "outputs": [],
   "source": [
    "import os\n",
    "import sys\n",
    "import math\n",
    "from sklearn.model_selection import train_test_split, cross_val_score\n",
    "import numpy as np\n",
    "import pandas as pd\n",
    "import matplotlib.pyplot as plt\n",
    "import seaborn as sns\n",
    "from sklearn.ensemble import RandomForestRegressor\n",
    "from sklearn.metrics import mean_squared_error, mean_absolute_error\n",
    "from sklearn.feature_selection import SequentialFeatureSelector"
   ]
  },
  {
   "cell_type": "code",
   "execution_count": 60,
   "id": "bcc8f777",
   "metadata": {},
   "outputs": [],
   "source": [
    "sns.set_style('darkgrid')"
   ]
  },
  {
   "cell_type": "code",
   "execution_count": 61,
   "id": "6c5506b8",
   "metadata": {},
   "outputs": [],
   "source": [
    "#data importation \n",
    "data_1 = pd.read_csv(\"newData.csv\", index_col = 0)\n",
    "#data_0 = pd.read_csv(\"positions.csv\")"
   ]
  },
  {
   "cell_type": "markdown",
   "id": "652adecd",
   "metadata": {},
   "source": [
    "Il faudra changer l'imporation des données quand on aura le jeu de données avec les changements de repaires."
   ]
  },
  {
   "cell_type": "raw",
   "id": "a2e84b2c",
   "metadata": {},
   "source": [
    "#add orientation\n",
    "extract_orientation = data_0[['node_id','orientation']]\n",
    "extract_orientation.rename(columns={\"node_id\": \"target\"}, inplace=True)\n",
    "data_1 = data_1.merge(extract_orientation, how='left', on = 'target')"
   ]
  },
  {
   "cell_type": "markdown",
   "id": "0514fe16",
   "metadata": {},
   "source": [
    "## <center>Remplacement des -inf</center>"
   ]
  },
  {
   "cell_type": "code",
   "execution_count": 62,
   "id": "275c6197",
   "metadata": {},
   "outputs": [],
   "source": [
    "data_1.replace([-np.inf], -120, inplace=True)"
   ]
  },
  {
   "cell_type": "markdown",
   "id": "baf46b52",
   "metadata": {},
   "source": [
    "Les -inf sont dans les rssi et indique que le signal est très mauvais (ce n'est pas un nan) donc on remplace par -120 car c'est la valeur qui indique un mauvais signal (voir la doc sur les rssi)"
   ]
  },
  {
   "cell_type": "raw",
   "id": "82582f85",
   "metadata": {},
   "source": [
    "#data selection\n",
    "data_1.drop('ranging_unit', axis=1, inplace=True)\n",
    "data_1.drop('register_dump_CIR', axis=1, inplace=True)\n",
    "data_1.drop('initiator', axis=1, inplace=True)\n",
    "data_1.drop('protocol', axis=1, inplace=True)\n",
    "data_1.drop('loc_initiator_z', axis=1, inplace=True)"
   ]
  },
  {
   "cell_type": "code",
   "execution_count": 63,
   "id": "3b4058f0",
   "metadata": {},
   "outputs": [
    {
     "data": {
      "text/html": [
       "<div>\n",
       "<style scoped>\n",
       "    .dataframe tbody tr th:only-of-type {\n",
       "        vertical-align: middle;\n",
       "    }\n",
       "\n",
       "    .dataframe tbody tr th {\n",
       "        vertical-align: top;\n",
       "    }\n",
       "\n",
       "    .dataframe thead th {\n",
       "        text-align: right;\n",
       "    }\n",
       "</style>\n",
       "<table border=\"1\" class=\"dataframe\">\n",
       "  <thead>\n",
       "    <tr style=\"text-align: right;\">\n",
       "      <th></th>\n",
       "      <th>target</th>\n",
       "      <th>nlos_indicator</th>\n",
       "      <th>t1</th>\n",
       "      <th>t2</th>\n",
       "      <th>t3</th>\n",
       "      <th>t4</th>\n",
       "      <th>skew</th>\n",
       "      <th>tof</th>\n",
       "      <th>tof_skew</th>\n",
       "      <th>range</th>\n",
       "      <th>...</th>\n",
       "      <th>course_dist</th>\n",
       "      <th>temperature_initiator</th>\n",
       "      <th>temperature_target</th>\n",
       "      <th>timestamp</th>\n",
       "      <th>seqnum</th>\n",
       "      <th>rssi_request</th>\n",
       "      <th>rssi_ack</th>\n",
       "      <th>rssi_data</th>\n",
       "      <th>rssi_mean</th>\n",
       "      <th>repaire</th>\n",
       "    </tr>\n",
       "  </thead>\n",
       "  <tbody>\n",
       "    <tr>\n",
       "      <th>count</th>\n",
       "      <td>19730.000000</td>\n",
       "      <td>19730.000000</td>\n",
       "      <td>1.973000e+04</td>\n",
       "      <td>1.973000e+04</td>\n",
       "      <td>1.973000e+04</td>\n",
       "      <td>1.973000e+04</td>\n",
       "      <td>19730.000000</td>\n",
       "      <td>19730.000000</td>\n",
       "      <td>19730.000000</td>\n",
       "      <td>19730.000000</td>\n",
       "      <td>...</td>\n",
       "      <td>19730.000000</td>\n",
       "      <td>19730.000000</td>\n",
       "      <td>19730.000000</td>\n",
       "      <td>1.973000e+04</td>\n",
       "      <td>19730.000000</td>\n",
       "      <td>19730.000000</td>\n",
       "      <td>19730.000000</td>\n",
       "      <td>19730.000000</td>\n",
       "      <td>19730.000000</td>\n",
       "      <td>19730.000000</td>\n",
       "    </tr>\n",
       "    <tr>\n",
       "      <th>mean</th>\n",
       "      <td>148.315256</td>\n",
       "      <td>7.215384</td>\n",
       "      <td>5.505930e+11</td>\n",
       "      <td>5.509284e+11</td>\n",
       "      <td>5.510320e+11</td>\n",
       "      <td>5.506966e+11</td>\n",
       "      <td>-2.755970</td>\n",
       "      <td>999.946275</td>\n",
       "      <td>1142.269047</td>\n",
       "      <td>4.690093</td>\n",
       "      <td>...</td>\n",
       "      <td>3.617079</td>\n",
       "      <td>39.577380</td>\n",
       "      <td>39.555326</td>\n",
       "      <td>1.654930e+12</td>\n",
       "      <td>2200.960720</td>\n",
       "      <td>-81.090100</td>\n",
       "      <td>-80.970815</td>\n",
       "      <td>-80.836828</td>\n",
       "      <td>-81.005838</td>\n",
       "      <td>106.200000</td>\n",
       "    </tr>\n",
       "    <tr>\n",
       "      <th>std</th>\n",
       "      <td>35.801496</td>\n",
       "      <td>19.474280</td>\n",
       "      <td>3.164088e+11</td>\n",
       "      <td>3.164091e+11</td>\n",
       "      <td>3.164091e+11</td>\n",
       "      <td>3.164088e+11</td>\n",
       "      <td>3.762077</td>\n",
       "      <td>674.275845</td>\n",
       "      <td>646.644922</td>\n",
       "      <td>3.162586</td>\n",
       "      <td>...</td>\n",
       "      <td>2.026579</td>\n",
       "      <td>2.341626</td>\n",
       "      <td>3.781826</td>\n",
       "      <td>3.017622e+05</td>\n",
       "      <td>1216.021329</td>\n",
       "      <td>5.635227</td>\n",
       "      <td>5.072462</td>\n",
       "      <td>4.817778</td>\n",
       "      <td>5.385790</td>\n",
       "      <td>61.171477</td>\n",
       "    </tr>\n",
       "    <tr>\n",
       "      <th>min</th>\n",
       "      <td>100.000000</td>\n",
       "      <td>0.000000</td>\n",
       "      <td>6.062043e+07</td>\n",
       "      <td>2.633300e+08</td>\n",
       "      <td>3.679996e+08</td>\n",
       "      <td>1.652910e+08</td>\n",
       "      <td>-11.659438</td>\n",
       "      <td>-613.000000</td>\n",
       "      <td>-152.480214</td>\n",
       "      <td>-2.875181</td>\n",
       "      <td>...</td>\n",
       "      <td>0.000000</td>\n",
       "      <td>30.410000</td>\n",
       "      <td>27.559999</td>\n",
       "      <td>1.654930e+12</td>\n",
       "      <td>1.000000</td>\n",
       "      <td>-120.000000</td>\n",
       "      <td>-120.000000</td>\n",
       "      <td>-120.000000</td>\n",
       "      <td>-120.000000</td>\n",
       "      <td>0.000000</td>\n",
       "    </tr>\n",
       "    <tr>\n",
       "      <th>25%</th>\n",
       "      <td>101.000000</td>\n",
       "      <td>2.956454</td>\n",
       "      <td>2.778599e+11</td>\n",
       "      <td>2.782487e+11</td>\n",
       "      <td>2.783513e+11</td>\n",
       "      <td>2.779625e+11</td>\n",
       "      <td>-5.783573</td>\n",
       "      <td>655.000000</td>\n",
       "      <td>715.849019</td>\n",
       "      <td>3.072176</td>\n",
       "      <td>...</td>\n",
       "      <td>1.899738</td>\n",
       "      <td>38.959999</td>\n",
       "      <td>36.680000</td>\n",
       "      <td>1.654930e+12</td>\n",
       "      <td>1174.000000</td>\n",
       "      <td>-79.967224</td>\n",
       "      <td>-79.988684</td>\n",
       "      <td>-79.884079</td>\n",
       "      <td>-79.886929</td>\n",
       "      <td>100.000000</td>\n",
       "    </tr>\n",
       "    <tr>\n",
       "      <th>50%</th>\n",
       "      <td>171.000000</td>\n",
       "      <td>3.524929</td>\n",
       "      <td>5.528798e+11</td>\n",
       "      <td>5.532044e+11</td>\n",
       "      <td>5.533074e+11</td>\n",
       "      <td>5.529824e+11</td>\n",
       "      <td>-1.784294</td>\n",
       "      <td>898.000000</td>\n",
       "      <td>998.316717</td>\n",
       "      <td>4.211930</td>\n",
       "      <td>...</td>\n",
       "      <td>3.699628</td>\n",
       "      <td>40.384998</td>\n",
       "      <td>39.340000</td>\n",
       "      <td>1.654930e+12</td>\n",
       "      <td>2231.500000</td>\n",
       "      <td>-79.230034</td>\n",
       "      <td>-79.305238</td>\n",
       "      <td>-79.218111</td>\n",
       "      <td>-79.237715</td>\n",
       "      <td>101.000000</td>\n",
       "    </tr>\n",
       "    <tr>\n",
       "      <th>75%</th>\n",
       "      <td>180.000000</td>\n",
       "      <td>4.342597</td>\n",
       "      <td>8.239225e+11</td>\n",
       "      <td>8.243395e+11</td>\n",
       "      <td>8.244432e+11</td>\n",
       "      <td>8.240262e+11</td>\n",
       "      <td>0.338401</td>\n",
       "      <td>1222.000000</td>\n",
       "      <td>1355.550936</td>\n",
       "      <td>5.731602</td>\n",
       "      <td>...</td>\n",
       "      <td>5.399282</td>\n",
       "      <td>41.240002</td>\n",
       "      <td>42.380001</td>\n",
       "      <td>1.654931e+12</td>\n",
       "      <td>3252.000000</td>\n",
       "      <td>-78.659592</td>\n",
       "      <td>-78.701023</td>\n",
       "      <td>-78.666953</td>\n",
       "      <td>-78.686635</td>\n",
       "      <td>150.000000</td>\n",
       "    </tr>\n",
       "    <tr>\n",
       "      <th>max</th>\n",
       "      <td>184.000000</td>\n",
       "      <td>342.462982</td>\n",
       "      <td>1.099128e+12</td>\n",
       "      <td>1.099376e+12</td>\n",
       "      <td>1.099479e+12</td>\n",
       "      <td>1.099231e+12</td>\n",
       "      <td>4.829899</td>\n",
       "      <td>2636.000000</td>\n",
       "      <td>2860.190262</td>\n",
       "      <td>12.363750</td>\n",
       "      <td>...</td>\n",
       "      <td>6.999961</td>\n",
       "      <td>42.380001</td>\n",
       "      <td>47.320004</td>\n",
       "      <td>1.654931e+12</td>\n",
       "      <td>4260.000000</td>\n",
       "      <td>-77.162437</td>\n",
       "      <td>-77.516188</td>\n",
       "      <td>-77.428716</td>\n",
       "      <td>-77.478065</td>\n",
       "      <td>180.000000</td>\n",
       "    </tr>\n",
       "  </tbody>\n",
       "</table>\n",
       "<p>8 rows × 28 columns</p>\n",
       "</div>"
      ],
      "text/plain": [
       "             target  nlos_indicator            t1            t2            t3  \\\n",
       "count  19730.000000    19730.000000  1.973000e+04  1.973000e+04  1.973000e+04   \n",
       "mean     148.315256        7.215384  5.505930e+11  5.509284e+11  5.510320e+11   \n",
       "std       35.801496       19.474280  3.164088e+11  3.164091e+11  3.164091e+11   \n",
       "min      100.000000        0.000000  6.062043e+07  2.633300e+08  3.679996e+08   \n",
       "25%      101.000000        2.956454  2.778599e+11  2.782487e+11  2.783513e+11   \n",
       "50%      171.000000        3.524929  5.528798e+11  5.532044e+11  5.533074e+11   \n",
       "75%      180.000000        4.342597  8.239225e+11  8.243395e+11  8.244432e+11   \n",
       "max      184.000000      342.462982  1.099128e+12  1.099376e+12  1.099479e+12   \n",
       "\n",
       "                 t4          skew           tof      tof_skew         range  \\\n",
       "count  1.973000e+04  19730.000000  19730.000000  19730.000000  19730.000000   \n",
       "mean   5.506966e+11     -2.755970    999.946275   1142.269047      4.690093   \n",
       "std    3.164088e+11      3.762077    674.275845    646.644922      3.162586   \n",
       "min    1.652910e+08    -11.659438   -613.000000   -152.480214     -2.875181   \n",
       "25%    2.779625e+11     -5.783573    655.000000    715.849019      3.072176   \n",
       "50%    5.529824e+11     -1.784294    898.000000    998.316717      4.211930   \n",
       "75%    8.240262e+11      0.338401   1222.000000   1355.550936      5.731602   \n",
       "max    1.099231e+12      4.829899   2636.000000   2860.190262     12.363750   \n",
       "\n",
       "       ...   course_dist  temperature_initiator  temperature_target  \\\n",
       "count  ...  19730.000000           19730.000000        19730.000000   \n",
       "mean   ...      3.617079              39.577380           39.555326   \n",
       "std    ...      2.026579               2.341626            3.781826   \n",
       "min    ...      0.000000              30.410000           27.559999   \n",
       "25%    ...      1.899738              38.959999           36.680000   \n",
       "50%    ...      3.699628              40.384998           39.340000   \n",
       "75%    ...      5.399282              41.240002           42.380001   \n",
       "max    ...      6.999961              42.380001           47.320004   \n",
       "\n",
       "          timestamp        seqnum  rssi_request      rssi_ack     rssi_data  \\\n",
       "count  1.973000e+04  19730.000000  19730.000000  19730.000000  19730.000000   \n",
       "mean   1.654930e+12   2200.960720    -81.090100    -80.970815    -80.836828   \n",
       "std    3.017622e+05   1216.021329      5.635227      5.072462      4.817778   \n",
       "min    1.654930e+12      1.000000   -120.000000   -120.000000   -120.000000   \n",
       "25%    1.654930e+12   1174.000000    -79.967224    -79.988684    -79.884079   \n",
       "50%    1.654930e+12   2231.500000    -79.230034    -79.305238    -79.218111   \n",
       "75%    1.654931e+12   3252.000000    -78.659592    -78.701023    -78.666953   \n",
       "max    1.654931e+12   4260.000000    -77.162437    -77.516188    -77.428716   \n",
       "\n",
       "          rssi_mean       repaire  \n",
       "count  19730.000000  19730.000000  \n",
       "mean     -81.005838    106.200000  \n",
       "std        5.385790     61.171477  \n",
       "min     -120.000000      0.000000  \n",
       "25%      -79.886929    100.000000  \n",
       "50%      -79.237715    101.000000  \n",
       "75%      -78.686635    150.000000  \n",
       "max      -77.478065    180.000000  \n",
       "\n",
       "[8 rows x 28 columns]"
      ]
     },
     "execution_count": 63,
     "metadata": {},
     "output_type": "execute_result"
    }
   ],
   "source": [
    "data_1.describe()"
   ]
  },
  {
   "cell_type": "markdown",
   "id": "a2b6ec83",
   "metadata": {},
   "source": [
    "## <center>Test du modèle random forest pour determiner le position</center>"
   ]
  },
  {
   "cell_type": "markdown",
   "id": "ea316652",
   "metadata": {},
   "source": [
    "### Selection des variables pour la prédiction de position"
   ]
  },
  {
   "cell_type": "code",
   "execution_count": 109,
   "id": "f1abe610",
   "metadata": {},
   "outputs": [],
   "source": [
    "data_for_pred = data_1.drop(['target',\n",
    "                             'ranging_error',\n",
    "                             'distance',\n",
    "                             'timestamp',\n",
    "                             'course_dist',\n",
    "                             'temperature_initiator',\n",
    "                             'temperature_target',\n",
    "                             'seqnum'],axis=1, inplace=False)"
   ]
  },
  {
   "cell_type": "markdown",
   "id": "b1142b09",
   "metadata": {},
   "source": [
    "On supprime course_dist car c'est équivalent à la localisation"
   ]
  },
  {
   "cell_type": "code",
   "execution_count": 110,
   "id": "c558d3a4",
   "metadata": {},
   "outputs": [],
   "source": [
    "var = data_for_pred.columns.to_list()\n",
    "y=data_for_pred[['loc_initiator_x','loc_initiator_y']]"
   ]
  },
  {
   "cell_type": "code",
   "execution_count": 111,
   "id": "8168ed82",
   "metadata": {},
   "outputs": [],
   "source": [
    "#ceration of test and train\n",
    "test,train = train_test_split(data_for_pred, test_size=0.3, train_size=0.7, shuffle=True)\n",
    "Y_train = train[['loc_initiator_x', 'loc_initiator_y']]\n",
    "X_train = train.drop([\"loc_initiator_x\",'loc_initiator_y'], axis=1, inplace=False)\n",
    "\n",
    "Y_test = test[['loc_initiator_x', 'loc_initiator_y']]\n",
    "X_test = test.drop([\"loc_initiator_x\",'loc_initiator_y'], axis=1, inplace=False)"
   ]
  },
  {
   "cell_type": "code",
   "execution_count": 112,
   "id": "a680ddca",
   "metadata": {},
   "outputs": [
    {
     "data": {
      "text/html": [
       "<div>\n",
       "<style scoped>\n",
       "    .dataframe tbody tr th:only-of-type {\n",
       "        vertical-align: middle;\n",
       "    }\n",
       "\n",
       "    .dataframe tbody tr th {\n",
       "        vertical-align: top;\n",
       "    }\n",
       "\n",
       "    .dataframe thead th {\n",
       "        text-align: right;\n",
       "    }\n",
       "</style>\n",
       "<table border=\"1\" class=\"dataframe\">\n",
       "  <thead>\n",
       "    <tr style=\"text-align: right;\">\n",
       "      <th></th>\n",
       "      <th>nlos_indicator</th>\n",
       "      <th>t1</th>\n",
       "      <th>t2</th>\n",
       "      <th>t3</th>\n",
       "      <th>t4</th>\n",
       "      <th>skew</th>\n",
       "      <th>tof</th>\n",
       "      <th>tof_skew</th>\n",
       "      <th>range</th>\n",
       "      <th>range_skew</th>\n",
       "      <th>loc_target_x</th>\n",
       "      <th>loc_target_y</th>\n",
       "      <th>loc_target_z</th>\n",
       "      <th>rssi_request</th>\n",
       "      <th>rssi_ack</th>\n",
       "      <th>rssi_data</th>\n",
       "      <th>rssi_mean</th>\n",
       "      <th>repaire</th>\n",
       "    </tr>\n",
       "  </thead>\n",
       "  <tbody>\n",
       "    <tr>\n",
       "      <th>count</th>\n",
       "      <td>5919.000000</td>\n",
       "      <td>5.919000e+03</td>\n",
       "      <td>5.919000e+03</td>\n",
       "      <td>5.919000e+03</td>\n",
       "      <td>5.919000e+03</td>\n",
       "      <td>5919.000000</td>\n",
       "      <td>5919.000000</td>\n",
       "      <td>5919.000000</td>\n",
       "      <td>5919.000000</td>\n",
       "      <td>5919.000000</td>\n",
       "      <td>5919.000000</td>\n",
       "      <td>5919.000000</td>\n",
       "      <td>5919.000000</td>\n",
       "      <td>5919.000000</td>\n",
       "      <td>5919.000000</td>\n",
       "      <td>5919.000000</td>\n",
       "      <td>5919.000000</td>\n",
       "      <td>5919.000000</td>\n",
       "    </tr>\n",
       "    <tr>\n",
       "      <th>mean</th>\n",
       "      <td>7.143495</td>\n",
       "      <td>5.532821e+11</td>\n",
       "      <td>5.536197e+11</td>\n",
       "      <td>5.537233e+11</td>\n",
       "      <td>5.533857e+11</td>\n",
       "      <td>-2.765811</td>\n",
       "      <td>996.134482</td>\n",
       "      <td>1138.964609</td>\n",
       "      <td>4.672214</td>\n",
       "      <td>5.342137</td>\n",
       "      <td>-0.990476</td>\n",
       "      <td>-0.961939</td>\n",
       "      <td>2.651448</td>\n",
       "      <td>-81.074767</td>\n",
       "      <td>-80.977180</td>\n",
       "      <td>-80.819334</td>\n",
       "      <td>-81.001043</td>\n",
       "      <td>107.015712</td>\n",
       "    </tr>\n",
       "    <tr>\n",
       "      <th>std</th>\n",
       "      <td>18.307129</td>\n",
       "      <td>3.194912e+11</td>\n",
       "      <td>3.194882e+11</td>\n",
       "      <td>3.194882e+11</td>\n",
       "      <td>3.194912e+11</td>\n",
       "      <td>3.768767</td>\n",
       "      <td>667.429448</td>\n",
       "      <td>641.020455</td>\n",
       "      <td>3.130474</td>\n",
       "      <td>3.006607</td>\n",
       "      <td>8.111014</td>\n",
       "      <td>4.735312</td>\n",
       "      <td>0.003080</td>\n",
       "      <td>5.655032</td>\n",
       "      <td>5.198641</td>\n",
       "      <td>4.821906</td>\n",
       "      <td>5.453975</td>\n",
       "      <td>61.002027</td>\n",
       "    </tr>\n",
       "    <tr>\n",
       "      <th>min</th>\n",
       "      <td>0.000000</td>\n",
       "      <td>6.062043e+07</td>\n",
       "      <td>2.633300e+08</td>\n",
       "      <td>3.679996e+08</td>\n",
       "      <td>1.652910e+08</td>\n",
       "      <td>-11.659438</td>\n",
       "      <td>-613.000000</td>\n",
       "      <td>-152.480214</td>\n",
       "      <td>-2.875181</td>\n",
       "      <td>-0.715185</td>\n",
       "      <td>-15.404000</td>\n",
       "      <td>-9.249000</td>\n",
       "      <td>2.650000</td>\n",
       "      <td>-120.000000</td>\n",
       "      <td>-120.000000</td>\n",
       "      <td>-120.000000</td>\n",
       "      <td>-120.000000</td>\n",
       "      <td>0.000000</td>\n",
       "    </tr>\n",
       "    <tr>\n",
       "      <th>25%</th>\n",
       "      <td>2.969840</td>\n",
       "      <td>2.774078e+11</td>\n",
       "      <td>2.776103e+11</td>\n",
       "      <td>2.777147e+11</td>\n",
       "      <td>2.775121e+11</td>\n",
       "      <td>-5.783573</td>\n",
       "      <td>660.000000</td>\n",
       "      <td>722.175906</td>\n",
       "      <td>3.095628</td>\n",
       "      <td>3.387254</td>\n",
       "      <td>-7.359000</td>\n",
       "      <td>-4.671000</td>\n",
       "      <td>2.650000</td>\n",
       "      <td>-79.950134</td>\n",
       "      <td>-79.976960</td>\n",
       "      <td>-79.850138</td>\n",
       "      <td>-79.858307</td>\n",
       "      <td>100.000000</td>\n",
       "    </tr>\n",
       "    <tr>\n",
       "      <th>50%</th>\n",
       "      <td>3.533537</td>\n",
       "      <td>5.540527e+11</td>\n",
       "      <td>5.541229e+11</td>\n",
       "      <td>5.542256e+11</td>\n",
       "      <td>5.541571e+11</td>\n",
       "      <td>-1.784294</td>\n",
       "      <td>896.000000</td>\n",
       "      <td>998.478148</td>\n",
       "      <td>4.202549</td>\n",
       "      <td>4.683207</td>\n",
       "      <td>-0.830000</td>\n",
       "      <td>-1.546000</td>\n",
       "      <td>2.650000</td>\n",
       "      <td>-79.215134</td>\n",
       "      <td>-79.290375</td>\n",
       "      <td>-79.214929</td>\n",
       "      <td>-79.232050</td>\n",
       "      <td>101.000000</td>\n",
       "    </tr>\n",
       "    <tr>\n",
       "      <th>75%</th>\n",
       "      <td>4.403998</td>\n",
       "      <td>8.325106e+11</td>\n",
       "      <td>8.329515e+11</td>\n",
       "      <td>8.330558e+11</td>\n",
       "      <td>8.326149e+11</td>\n",
       "      <td>0.338401</td>\n",
       "      <td>1217.000000</td>\n",
       "      <td>1340.866141</td>\n",
       "      <td>5.708150</td>\n",
       "      <td>6.289124</td>\n",
       "      <td>5.252000</td>\n",
       "      <td>3.318000</td>\n",
       "      <td>2.650000</td>\n",
       "      <td>-78.651657</td>\n",
       "      <td>-78.695222</td>\n",
       "      <td>-78.667944</td>\n",
       "      <td>-78.677863</td>\n",
       "      <td>150.000000</td>\n",
       "    </tr>\n",
       "    <tr>\n",
       "      <th>max</th>\n",
       "      <td>292.917755</td>\n",
       "      <td>1.099128e+12</td>\n",
       "      <td>1.099376e+12</td>\n",
       "      <td>1.099479e+12</td>\n",
       "      <td>1.099231e+12</td>\n",
       "      <td>4.829899</td>\n",
       "      <td>2629.000000</td>\n",
       "      <td>2847.656344</td>\n",
       "      <td>12.330916</td>\n",
       "      <td>13.356490</td>\n",
       "      <td>15.404000</td>\n",
       "      <td>9.249000</td>\n",
       "      <td>2.658000</td>\n",
       "      <td>-77.162437</td>\n",
       "      <td>-77.516188</td>\n",
       "      <td>-77.428716</td>\n",
       "      <td>-77.478065</td>\n",
       "      <td>180.000000</td>\n",
       "    </tr>\n",
       "  </tbody>\n",
       "</table>\n",
       "</div>"
      ],
      "text/plain": [
       "       nlos_indicator            t1            t2            t3            t4  \\\n",
       "count     5919.000000  5.919000e+03  5.919000e+03  5.919000e+03  5.919000e+03   \n",
       "mean         7.143495  5.532821e+11  5.536197e+11  5.537233e+11  5.533857e+11   \n",
       "std         18.307129  3.194912e+11  3.194882e+11  3.194882e+11  3.194912e+11   \n",
       "min          0.000000  6.062043e+07  2.633300e+08  3.679996e+08  1.652910e+08   \n",
       "25%          2.969840  2.774078e+11  2.776103e+11  2.777147e+11  2.775121e+11   \n",
       "50%          3.533537  5.540527e+11  5.541229e+11  5.542256e+11  5.541571e+11   \n",
       "75%          4.403998  8.325106e+11  8.329515e+11  8.330558e+11  8.326149e+11   \n",
       "max        292.917755  1.099128e+12  1.099376e+12  1.099479e+12  1.099231e+12   \n",
       "\n",
       "              skew          tof     tof_skew        range   range_skew  \\\n",
       "count  5919.000000  5919.000000  5919.000000  5919.000000  5919.000000   \n",
       "mean     -2.765811   996.134482  1138.964609     4.672214     5.342137   \n",
       "std       3.768767   667.429448   641.020455     3.130474     3.006607   \n",
       "min     -11.659438  -613.000000  -152.480214    -2.875181    -0.715185   \n",
       "25%      -5.783573   660.000000   722.175906     3.095628     3.387254   \n",
       "50%      -1.784294   896.000000   998.478148     4.202549     4.683207   \n",
       "75%       0.338401  1217.000000  1340.866141     5.708150     6.289124   \n",
       "max       4.829899  2629.000000  2847.656344    12.330916    13.356490   \n",
       "\n",
       "       loc_target_x  loc_target_y  loc_target_z  rssi_request     rssi_ack  \\\n",
       "count   5919.000000   5919.000000   5919.000000   5919.000000  5919.000000   \n",
       "mean      -0.990476     -0.961939      2.651448    -81.074767   -80.977180   \n",
       "std        8.111014      4.735312      0.003080      5.655032     5.198641   \n",
       "min      -15.404000     -9.249000      2.650000   -120.000000  -120.000000   \n",
       "25%       -7.359000     -4.671000      2.650000    -79.950134   -79.976960   \n",
       "50%       -0.830000     -1.546000      2.650000    -79.215134   -79.290375   \n",
       "75%        5.252000      3.318000      2.650000    -78.651657   -78.695222   \n",
       "max       15.404000      9.249000      2.658000    -77.162437   -77.516188   \n",
       "\n",
       "         rssi_data    rssi_mean      repaire  \n",
       "count  5919.000000  5919.000000  5919.000000  \n",
       "mean    -80.819334   -81.001043   107.015712  \n",
       "std       4.821906     5.453975    61.002027  \n",
       "min    -120.000000  -120.000000     0.000000  \n",
       "25%     -79.850138   -79.858307   100.000000  \n",
       "50%     -79.214929   -79.232050   101.000000  \n",
       "75%     -78.667944   -78.677863   150.000000  \n",
       "max     -77.428716   -77.478065   180.000000  "
      ]
     },
     "execution_count": 112,
     "metadata": {},
     "output_type": "execute_result"
    }
   ],
   "source": [
    "X_train.describe()"
   ]
  },
  {
   "cell_type": "markdown",
   "id": "ed29e45d",
   "metadata": {},
   "source": [
    "#### Premier modele avec toutes les variables"
   ]
  },
  {
   "cell_type": "code",
   "execution_count": 113,
   "id": "c72a0401",
   "metadata": {},
   "outputs": [],
   "source": [
    "reg = RandomForestRegressor()\n",
    "reg = reg.fit(X_train, Y_train)\n",
    "predic_rf=reg.predict(X_test)"
   ]
  },
  {
   "cell_type": "code",
   "execution_count": 114,
   "id": "5a7c9057",
   "metadata": {},
   "outputs": [
    {
     "data": {
      "text/plain": [
       "0.9764211695715883"
      ]
     },
     "execution_count": 114,
     "metadata": {},
     "output_type": "execute_result"
    }
   ],
   "source": [
    "reg.score(X_test,Y_test)"
   ]
  },
  {
   "cell_type": "code",
   "execution_count": 115,
   "id": "bc2ee06e",
   "metadata": {},
   "outputs": [
    {
     "data": {
      "text/plain": [
       "0.39439617514732384"
      ]
     },
     "execution_count": 115,
     "metadata": {},
     "output_type": "execute_result"
    }
   ],
   "source": [
    "mean_squared_error(Y_test,predic_rf)"
   ]
  },
  {
   "cell_type": "code",
   "execution_count": 119,
   "id": "5499ac5c",
   "metadata": {},
   "outputs": [
    {
     "data": {
      "text/plain": [
       "0.32666816233437007"
      ]
     },
     "execution_count": 119,
     "metadata": {},
     "output_type": "execute_result"
    }
   ],
   "source": [
    "mean_absolute_error(Y_test, predic_rf)"
   ]
  },
  {
   "cell_type": "markdown",
   "id": "e034efd8",
   "metadata": {},
   "source": [
    "#### Affichage de ce premier modele"
   ]
  },
  {
   "cell_type": "code",
   "execution_count": 120,
   "id": "925a8281",
   "metadata": {},
   "outputs": [],
   "source": [
    "predic_position = pd.DataFrame(predic_rf, columns=['loc_initiator_x','loc_initiator_y'])"
   ]
  },
  {
   "cell_type": "code",
   "execution_count": 121,
   "id": "2c144af3",
   "metadata": {},
   "outputs": [
    {
     "data": {
      "image/png": "[encoded data removed]",
      "text/plain": [
       "<Figure size 720x504 with 1 Axes>"
      ]
     },
     "metadata": {},
     "output_type": "display_data"
    }
   ],
   "source": [
    "plt.figure(figsize=(10, 7))\n",
    "plt.plot(predic_position['loc_initiator_x'],predic_position['loc_initiator_y'],'*r')\n",
    "plt.plot(data_for_pred['loc_target_x'],data_for_pred['loc_target_y'],\"*b\")\n",
    "plt.xlabel(\"x location\", fontsize=16)\n",
    "plt.ylabel(\"y location\", fontsize=16)\n",
    "plt.title('Predictive positions of initiator (in red)', fontsize=20);"
   ]
  },
  {
   "cell_type": "code",
   "execution_count": 122,
   "id": "7e7d4b30",
   "metadata": {},
   "outputs": [
    {
     "name": "stdout",
     "output_type": "stream",
     "text": [
      "repaire 0.8757674543357901\n",
      "False 0.8757674543357901\n"
     ]
    }
   ],
   "source": [
    "from sklearn.metrics import accuracy_score\n",
    "list_variable=['nlos_indicator',\n",
    " 't1',\n",
    " 't2',\n",
    " 't3',\n",
    " 't4',\n",
    " 'skew',\n",
    " 'tof',\n",
    " 'tof_skew',\n",
    " 'loc_target_x',\n",
    " 'loc_target_y',\n",
    " 'rssi_request',\n",
    " 'rssi_ack',\n",
    " 'rssi_data',\n",
    " 'rssi_mean',\n",
    " 'repaire']\n",
    "list_variable_tabou=list_variable\n",
    "variable=[]\n",
    "score=0\n",
    "data_for_pred=data_for_pred.sample(frac=1).reset_index(drop=True)\n",
    "while len(list_variable_tabou)>0:\n",
    "    y=data_for_pred[['loc_initiator_x','loc_initiator_y']]\n",
    "    variable_en_cour=False\n",
    "    for i in list_variable_tabou:\n",
    "        X=data_for_pred[variable+[i]]\n",
    "        x_train, x_test, y_train, y_test = train_test_split(X, y, test_size=0.25, random_state=42)\n",
    "        clf = RandomForestRegressor()\n",
    "        clf= clf.fit(x_train, y_train)\n",
    "        score_test=clf.score(x_test,y_test)\n",
    "    if score_test>score:\n",
    "        score=score_test\n",
    "        variable_en_cour=i\n",
    "    if variable_en_cour==False:\n",
    "        list_variable_tabou=[]\n",
    "    else:\n",
    "        variable.append(variable_en_cour)\n",
    "        del list_variable_tabou[list_variable_tabou.index(variable_en_cour)]\n",
    "    print(variable_en_cour,score)"
   ]
  },
  {
   "cell_type": "markdown",
   "id": "9e079803",
   "metadata": {},
   "source": [
    "Cet algo me dit qu'il faut garder juste repaire mais ça semble faux"
   ]
  },
  {
   "cell_type": "code",
   "execution_count": 123,
   "id": "972eaab1",
   "metadata": {},
   "outputs": [
    {
     "data": {
      "text/plain": [
       "SequentialFeatureSelector(estimator=RandomForestRegressor())"
      ]
     },
     "execution_count": 123,
     "metadata": {},
     "output_type": "execute_result"
    }
   ],
   "source": [
    "reg = RandomForestRegressor()\n",
    "sfs = SequentialFeatureSelector(reg, direction='forward')\n",
    "sfs.fit(X_train, Y_train)"
   ]
  },
  {
   "cell_type": "code",
   "execution_count": 124,
   "id": "236569e5",
   "metadata": {},
   "outputs": [
    {
     "name": "stdout",
     "output_type": "stream",
     "text": [
      "nlos_indicator\n",
      "skew\n",
      "tof\n",
      "tof_skew\n",
      "range\n",
      "loc_target_x\n",
      "loc_target_z\n",
      "rssi_request\n",
      "rssi_mean\n"
     ]
    }
   ],
   "source": [
    "var_select = sfs.get_support()\n",
    "list_variable = X_train.columns.to_list()\n",
    "for i in range(len(list_variable)) :\n",
    "    if var_select[i]:\n",
    "        print(list_variable[i])"
   ]
  },
  {
   "cell_type": "markdown",
   "id": "4f343d9b",
   "metadata": {},
   "source": [
    "#### Deuxième modèle avec les variables sélectionnées : nlos_indicator, skew, tof, tof_skew, loc_target_y, rssi_data,rssi_mean"
   ]
  },
  {
   "cell_type": "code",
   "execution_count": 78,
   "id": "8490b5a4",
   "metadata": {},
   "outputs": [],
   "source": [
    "#ceration of test and train with selected variables\n",
    "test,train = train_test_split(data_for_pred[['nlos_indicator',\n",
    "                                             'skew',\n",
    "                                             'tof',\n",
    "                                             'tof_skew',\n",
    "                                             'loc_target_y',\n",
    "                                             'rssi_data',\n",
    "                                             'rssi_ack',\n",
    "                                             'loc_initiator_x',\n",
    "                                             'loc_initiator_y']], test_size=0.3, train_size=0.7, shuffle=True)\n",
    "Y_train = train[['loc_initiator_x', 'loc_initiator_y']]\n",
    "X_train = train.drop([\"loc_initiator_x\",'loc_initiator_y'], axis=1, inplace=False)\n",
    "\n",
    "Y_test = test[['loc_initiator_x', 'loc_initiator_y']]\n",
    "X_test = test.drop([\"loc_initiator_x\",'loc_initiator_y'], axis=1, inplace=False)"
   ]
  },
  {
   "cell_type": "code",
   "execution_count": 79,
   "id": "62944b3d",
   "metadata": {},
   "outputs": [
    {
     "data": {
      "text/plain": [
       "0.9778810323020674"
      ]
     },
     "execution_count": 79,
     "metadata": {},
     "output_type": "execute_result"
    }
   ],
   "source": [
    "reg = RandomForestRegressor()\n",
    "reg = reg.fit(X_train, Y_train)\n",
    "predic_rf=reg.predict(X_test)\n",
    "reg.score(X_test,Y_test)"
   ]
  },
  {
   "cell_type": "code",
   "execution_count": 80,
   "id": "c66a089c",
   "metadata": {},
   "outputs": [
    {
     "data": {
      "text/plain": [
       "0.37186296918390765"
      ]
     },
     "execution_count": 80,
     "metadata": {},
     "output_type": "execute_result"
    }
   ],
   "source": [
    "mean_squared_error(Y_test,predic_rf)"
   ]
  },
  {
   "cell_type": "code",
   "execution_count": 81,
   "id": "86dc5b20",
   "metadata": {},
   "outputs": [],
   "source": [
    "predic_position_2 = pd.DataFrame(predic_rf, columns=['loc_initiator_x','loc_initiator_y'])"
   ]
  },
  {
   "cell_type": "code",
   "execution_count": 82,
   "id": "864072f7",
   "metadata": {},
   "outputs": [
    {
     "data": {
      "image/png": "[encoded data removed]",
      "text/plain": [
       "<Figure size 720x504 with 1 Axes>"
      ]
     },
     "metadata": {},
     "output_type": "display_data"
    }
   ],
   "source": [
    "plt.figure(figsize=(10, 7))\n",
    "plt.plot(predic_position_2['loc_initiator_x'],predic_position_2['loc_initiator_y'],'*r')\n",
    "plt.plot(data_for_pred['loc_target_x'],data_for_pred['loc_target_y'],\"*b\")\n",
    "plt.xlabel(\"x location\", fontsize=16)\n",
    "plt.ylabel(\"y location\", fontsize=16)\n",
    "plt.title('Predictive positions of initiator (in red)', fontsize=20);"
   ]
  },
  {
   "cell_type": "markdown",
   "id": "08e928a7",
   "metadata": {},
   "source": [
    "### Validation croisée"
   ]
  },
  {
   "cell_type": "code",
   "execution_count": 83,
   "id": "4427877c",
   "metadata": {},
   "outputs": [],
   "source": [
    "data_for_pred = data_for_pred[['nlos_indicator',\n",
    "                               't1',\n",
    "                               't2',\n",
    "                               't3',\n",
    "                               't4',\n",
    "                               'skew',\n",
    "                                'tof',\n",
    "                                'tof_skew',\n",
    "                               'range',\n",
    "                               'range_skew',\n",
    "                                'loc_target_y',\n",
    "                                'rssi_data',\n",
    "                                'rssi_ack',\n",
    "                               'rssi_mean',\n",
    "                               'loc_target_x',\n",
    "                               'loc_target_z',\n",
    "                                'loc_initiator_x',\n",
    "                                'loc_initiator_y']] "
   ]
  },
  {
   "cell_type": "code",
   "execution_count": 84,
   "id": "6b84966a",
   "metadata": {},
   "outputs": [],
   "source": [
    "Y = data_for_pred[['loc_initiator_x', 'loc_initiator_y']]\n",
    "X = data_for_pred.drop([\"loc_initiator_x\",'loc_initiator_y'], axis=1, inplace=False)"
   ]
  },
  {
   "cell_type": "code",
   "execution_count": 85,
   "id": "1d95d6a7",
   "metadata": {},
   "outputs": [
    {
     "data": {
      "text/plain": [
       "array([0.98562565, 0.98404773, 0.98366575, 0.98494453, 0.98470023])"
      ]
     },
     "execution_count": 85,
     "metadata": {},
     "output_type": "execute_result"
    }
   ],
   "source": [
    "reg = RandomForestRegressor()\n",
    "cross_val_score(reg, X, Y, cv=5)"
   ]
  },
  {
   "cell_type": "markdown",
   "id": "0f6b0c0b",
   "metadata": {},
   "source": [
    "## <center>Affichage du score de RandomForest en fonction des paramètres</center>"
   ]
  },
  {
   "cell_type": "markdown",
   "id": "4f1ac75c",
   "metadata": {},
   "source": [
    "#### On va faire varier n_estimators qui correspond au nombre d'arbres de décisions utilisés."
   ]
  },
  {
   "cell_type": "code",
   "execution_count": 86,
   "id": "5352c2d4",
   "metadata": {},
   "outputs": [],
   "source": [
    "scores_estimators = []"
   ]
  },
  {
   "cell_type": "code",
   "execution_count": 87,
   "id": "24595743",
   "metadata": {},
   "outputs": [],
   "source": [
    "reg_50 = RandomForestRegressor(n_estimators = 1)\n",
    "reg_50 = reg_50.fit(X_train, Y_train)\n",
    "scores_estimators.append(reg_50.score(X_test,Y_test))"
   ]
  },
  {
   "cell_type": "code",
   "execution_count": 88,
   "id": "ea651d31",
   "metadata": {},
   "outputs": [],
   "source": [
    "reg_100 = RandomForestRegressor(n_estimators = 100)\n",
    "reg = reg_100.fit(X_train, Y_train)\n",
    "scores_estimators.append(reg_100.score(X_test,Y_test))"
   ]
  },
  {
   "cell_type": "code",
   "execution_count": 89,
   "id": "d74c22d5",
   "metadata": {},
   "outputs": [],
   "source": [
    "reg_150 = RandomForestRegressor(n_estimators = 150)\n",
    "reg_150 = reg_150.fit(X_train, Y_train)\n",
    "scores_estimators.append(reg_150.score(X_test,Y_test))"
   ]
  },
  {
   "cell_type": "code",
   "execution_count": 90,
   "id": "043b442c",
   "metadata": {},
   "outputs": [],
   "source": [
    "reg_200 = RandomForestRegressor(n_estimators = 200)\n",
    "reg_200 = reg_200.fit(X_train, Y_train)\n",
    "scores_estimators.append(reg_200.score(X_test,Y_test))"
   ]
  },
  {
   "cell_type": "code",
   "execution_count": 91,
   "id": "01e306c7",
   "metadata": {},
   "outputs": [
    {
     "data": {
      "text/plain": [
       "[0.9528884887633755, 0.9777691351106388, 0.977946385805198, 0.9778472739539797]"
      ]
     },
     "execution_count": 91,
     "metadata": {},
     "output_type": "execute_result"
    }
   ],
   "source": [
    "scores_estimators"
   ]
  },
  {
   "cell_type": "code",
   "execution_count": 92,
   "id": "8b0f7f77",
   "metadata": {},
   "outputs": [
    {
     "name": "stderr",
     "output_type": "stream",
     "text": [
      "/home/sid2019-6/anaconda3/lib/python3.9/site-packages/seaborn/_decorators.py:36: FutureWarning: Pass the following variables as keyword args: x, y. From version 0.12, the only valid positional argument will be `data`, and passing other arguments without an explicit keyword will result in an error or misinterpretation.\n",
      "  warnings.warn(\n"
     ]
    },
    {
     "data": {
      "text/plain": [
       "Text(0.5, 1.0, 'Scores with different number of trees')"
      ]
     },
     "execution_count": 92,
     "metadata": {},
     "output_type": "execute_result"
    },
    {
     "data": {
      "image/png": "[encoded data removed]",
      "text/plain": [
       "<Figure size 432x288 with 1 Axes>"
      ]
     },
     "metadata": {},
     "output_type": "display_data"
    }
   ],
   "source": [
    "sns.barplot(['1_tree','100_trees','150_trees', '200_trees'],scores_estimators)\n",
    "plt.text(-0.1, 0.9, round(scores_estimators[0],2), horizontalalignment='left', weight='semibold')\n",
    "plt.text(0.9, 0.93, round(scores_estimators[1],2), horizontalalignment='left', weight='semibold')\n",
    "plt.text(1.9, 0.93, round(scores_estimators[2],2), horizontalalignment='left', weight='semibold')\n",
    "plt.text(2.9, 0.93, round(scores_estimators[3],2), horizontalalignment='left', weight='semibold')\n",
    "plt.title(\"Scores with different number of trees\",fontsize=15)"
   ]
  },
  {
   "cell_type": "markdown",
   "id": "9b851e09",
   "metadata": {},
   "source": [
    "À partir de 100 arbres, le score ne change plus. 100 arbres est la valeur par défaut de RandomForest"
   ]
  },
  {
   "cell_type": "markdown",
   "id": "d6e14862",
   "metadata": {},
   "source": [
    "#### On va faire varier max_depth qui correspond au nombre d'arbres de décisions utilisés."
   ]
  },
  {
   "cell_type": "code",
   "execution_count": 93,
   "id": "ef840fb9",
   "metadata": {},
   "outputs": [],
   "source": [
    "scores_depth = []"
   ]
  },
  {
   "cell_type": "code",
   "execution_count": 94,
   "id": "ba2bc448",
   "metadata": {},
   "outputs": [],
   "source": [
    "reg_3 = RandomForestRegressor(max_depth = 3)\n",
    "reg_3 = reg_3.fit(X_train, Y_train)\n",
    "scores_depth.append(reg_3.score(X_test,Y_test))"
   ]
  },
  {
   "cell_type": "code",
   "execution_count": 95,
   "id": "f2520492",
   "metadata": {},
   "outputs": [],
   "source": [
    "reg_15 = RandomForestRegressor(max_depth = 6)\n",
    "reg_15 = reg_15.fit(X_train, Y_train)\n",
    "scores_depth.append(reg_15.score(X_test,Y_test))"
   ]
  },
  {
   "cell_type": "code",
   "execution_count": 96,
   "id": "9d6205ec",
   "metadata": {},
   "outputs": [],
   "source": [
    "reg_30 = RandomForestRegressor(max_depth = 9)\n",
    "reg_30 = reg_30.fit(X_train, Y_train)\n",
    "scores_depth.append(reg_30.score(X_test,Y_test))"
   ]
  },
  {
   "cell_type": "code",
   "execution_count": 97,
   "id": "599f0bc8",
   "metadata": {},
   "outputs": [],
   "source": [
    "reg_300 = RandomForestRegressor(max_depth = 12)\n",
    "reg_300 = reg_300.fit(X_train, Y_train)\n",
    "scores_depth.append(reg_300.score(X_test,Y_test))"
   ]
  },
  {
   "cell_type": "code",
   "execution_count": 98,
   "id": "67ad9999",
   "metadata": {},
   "outputs": [
    {
     "name": "stderr",
     "output_type": "stream",
     "text": [
      "/home/sid2019-6/anaconda3/lib/python3.9/site-packages/seaborn/_decorators.py:36: FutureWarning: Pass the following variables as keyword args: x, y. From version 0.12, the only valid positional argument will be `data`, and passing other arguments without an explicit keyword will result in an error or misinterpretation.\n",
      "  warnings.warn(\n"
     ]
    },
    {
     "data": {
      "text/plain": [
       "Text(0.5, 1.0, 'Scores with different maximum depth')"
      ]
     },
     "execution_count": 98,
     "metadata": {},
     "output_type": "execute_result"
    },
    {
     "data": {
      "image/png": "[encoded data removed]",
      "text/plain": [
       "<Figure size 432x288 with 1 Axes>"
      ]
     },
     "metadata": {},
     "output_type": "display_data"
    }
   ],
   "source": [
    "sns.barplot(['max_depth_3','max_depth_6','max_depth_9','max_depth_12'],scores_depth)\n",
    "plt.text(-0.1, 0.49, round(scores_depth[0],2), horizontalalignment='left', weight='semibold')\n",
    "plt.text(0.9, 0.82, round(scores_depth[1],2), horizontalalignment='left', weight='semibold')\n",
    "plt.text(1.9, 0.92, round(scores_depth[2],2), horizontalalignment='left', weight='semibold')\n",
    "plt.text(2.9, 0.93, round(scores_depth[3],2), horizontalalignment='left', weight='semibold')\n",
    "plt.title(\"Scores with different maximum depth\",fontsize=15)"
   ]
  },
  {
   "attachments": {},
   "cell_type": "markdown",
   "id": "65888544",
   "metadata": {},
   "source": [
    "#### On va faire varier max_depth et n_estimators en même temps "
   ]
  },
  {
   "cell_type": "code",
   "execution_count": 125,
   "id": "15ece13a",
   "metadata": {},
   "outputs": [],
   "source": [
    "list_estimators = [1,100,150,200]\n",
    "list_depth = [3,6,9,12]"
   ]
  },
  {
   "cell_type": "code",
   "execution_count": 126,
   "id": "afef6e1a",
   "metadata": {},
   "outputs": [],
   "source": [
    "dic_score = {} #{max_depth : n_estimators}\n",
    "for i in range(len(list_estimators)):\n",
    "    n_estimator = list_estimators[i]\n",
    "    list_score = []\n",
    "    for j in range(len(list_estimators)):\n",
    "        max_depth = list_depth[j]\n",
    "        reg = RandomForestRegressor(max_depth = max_depth,n_estimators=n_estimator)\n",
    "        reg = reg.fit(X_train, Y_train)\n",
    "        list_score.append(reg.score(X_test,Y_test))\n",
    "    dic_score[n_estimator]=list_score"
   ]
  },
  {
   "cell_type": "code",
   "execution_count": 127,
   "id": "eb419a9c",
   "metadata": {},
   "outputs": [
    {
     "data": {
      "text/plain": [
       "{1: [0.8809147717299157,\n",
       "  0.9243453019473076,\n",
       "  0.9510169702093272,\n",
       "  0.9569410699774652],\n",
       " 100: [0.8859360041476576,\n",
       "  0.9378395701281699,\n",
       "  0.9675667748784195,\n",
       "  0.974499230376874],\n",
       " 150: [0.8857285300181802,\n",
       "  0.9376451371179864,\n",
       "  0.9677065548624657,\n",
       "  0.9750487728441728],\n",
       " 200: [0.8857875365327351,\n",
       "  0.938150476172927,\n",
       "  0.9678001596209262,\n",
       "  0.9747650110517354]}"
      ]
     },
     "execution_count": 127,
     "metadata": {},
     "output_type": "execute_result"
    }
   ],
   "source": [
    "dic_score"
   ]
  },
  {
   "cell_type": "code",
   "execution_count": 128,
   "id": "19241fe7",
   "metadata": {},
   "outputs": [
    {
     "name": "stderr",
     "output_type": "stream",
     "text": [
      "/home/sid2019-6/anaconda3/lib/python3.9/site-packages/seaborn/_decorators.py:36: FutureWarning: Pass the following variables as keyword args: x, y. From version 0.12, the only valid positional argument will be `data`, and passing other arguments without an explicit keyword will result in an error or misinterpretation.\n",
      "  warnings.warn(\n",
      "/home/sid2019-6/anaconda3/lib/python3.9/site-packages/seaborn/_decorators.py:36: FutureWarning: Pass the following variables as keyword args: x, y. From version 0.12, the only valid positional argument will be `data`, and passing other arguments without an explicit keyword will result in an error or misinterpretation.\n",
      "  warnings.warn(\n",
      "/home/sid2019-6/anaconda3/lib/python3.9/site-packages/seaborn/_decorators.py:36: FutureWarning: Pass the following variables as keyword args: x, y. From version 0.12, the only valid positional argument will be `data`, and passing other arguments without an explicit keyword will result in an error or misinterpretation.\n",
      "  warnings.warn(\n",
      "/home/sid2019-6/anaconda3/lib/python3.9/site-packages/seaborn/_decorators.py:36: FutureWarning: Pass the following variables as keyword args: x, y. From version 0.12, the only valid positional argument will be `data`, and passing other arguments without an explicit keyword will result in an error or misinterpretation.\n",
      "  warnings.warn(\n"
     ]
    },
    {
     "data": {
      "image/png": "[encoded data removed]",
      "text/plain": [
       "<Figure size 936x936 with 4 Axes>"
      ]
     },
     "metadata": {},
     "output_type": "display_data"
    }
   ],
   "source": [
    "fig = plt.figure(figsize=(13,13))\n",
    "i=1\n",
    "for key in dic_score.keys() :\n",
    "    ax = fig.add_subplot(2,2,i)\n",
    "    bar1 = sns.barplot(list_depth,\n",
    "                       dic_score[key])  \n",
    "    ax.set_xlabel(\"Max depth\")       \n",
    "    ax.set_ylabel(\"Predictive score\")     \n",
    "    ax.set_yticks(np.arange(0, 1,0.2))       \n",
    "    ax.set_title(\"Predictive score following the maximum \\ndepth allowed for \"+str(key)+\" trees\")   \n",
    "    i+=1"
   ]
  },
  {
   "cell_type": "markdown",
   "id": "12791c90",
   "metadata": {},
   "source": [
    "Le maximum de profondeur a un effet sur la prédiction alors que le nombre d'arbre n'a pas beaucoup d'influence. Globalement, on observe la même évolution que ce soit pour 1 arbre ou 200 mais le score augment quand on augmente le maximum de profondeur."
   ]
  },
  {
   "cell_type": "code",
   "execution_count": 129,
   "id": "d8b399cc",
   "metadata": {},
   "outputs": [],
   "source": [
    "from sklearn.model_selection import GridSearchCV"
   ]
  },
  {
   "cell_type": "code",
   "execution_count": 135,
   "id": "4fc69074",
   "metadata": {},
   "outputs": [
    {
     "data": {
      "text/plain": [
       "GridSearchCV(estimator=RandomForestRegressor(),\n",
       "             param_grid={'max_depth': [3, 6, 9, 12, 20, 30],\n",
       "                         'n_estimators': [1, 100, 150, 200]})"
      ]
     },
     "execution_count": 135,
     "metadata": {},
     "output_type": "execute_result"
    }
   ],
   "source": [
    "parameters = {'max_depth':[3,6,9,12,20,30],\n",
    "              'n_estimators':[1,100,150,200]}\n",
    "reg = RandomForestRegressor()\n",
    "clf = GridSearchCV(reg, parameters)\n",
    "clf.fit(X, Y)"
   ]
  },
  {
   "cell_type": "code",
   "execution_count": 137,
   "id": "50bb3352",
   "metadata": {},
   "outputs": [
    {
     "data": {
      "text/plain": [
       "{'mean_fit_time': array([0.01371808, 0.6224185 , 0.91547461, 1.10177298, 0.01304049,\n",
       "        0.92753081, 1.37320523, 1.83614202, 0.01680655, 1.29532986,\n",
       "        2.02525859, 2.65650043, 0.02255569, 1.76494532, 2.55366335,\n",
       "        3.49743414, 0.02877002, 2.49044847, 4.24827471, 5.89526901,\n",
       "        0.05682549, 3.64597559, 5.17246265, 6.44306087]),\n",
       " 'std_fit_time': array([1.65228234e-03, 4.28163042e-02, 7.07778959e-02, 7.09610812e-03,\n",
       "        3.44095863e-04, 6.53408789e-03, 1.18347099e-02, 2.83351916e-02,\n",
       "        5.67094504e-04, 8.06945253e-03, 6.11572236e-02, 9.07470827e-02,\n",
       "        5.57799913e-04, 5.37981113e-02, 7.38486546e-02, 8.83298620e-02,\n",
       "        1.60985521e-03, 1.01116168e-01, 1.61626081e-01, 1.35054876e-01,\n",
       "        4.70126853e-03, 1.55175903e-01, 4.44227042e-01, 1.78380214e-01]),\n",
       " 'mean_score_time': array([0.004492  , 0.01712027, 0.02484503, 0.02915688, 0.00351887,\n",
       "        0.02063646, 0.02895813, 0.03743544, 0.00334311, 0.02705894,\n",
       "        0.03976731, 0.05162935, 0.00375347, 0.03705788, 0.05425243,\n",
       "        0.07489195, 0.00510674, 0.06638241, 0.11902585, 0.17230921,\n",
       "        0.00609798, 0.12582393, 0.1664669 , 0.22091093]),\n",
       " 'std_score_time': array([0.00075675, 0.00097794, 0.00344091, 0.00126115, 0.00041963,\n",
       "        0.00084399, 0.00172861, 0.00157024, 0.00059322, 0.0008477 ,\n",
       "        0.00137479, 0.00133017, 0.00047655, 0.00120797, 0.00186069,\n",
       "        0.00688913, 0.00041659, 0.00374949, 0.0182321 , 0.01625009,\n",
       "        0.00098778, 0.01354992, 0.01036107, 0.0192626 ]),\n",
       " 'param_max_depth': masked_array(data=[3, 3, 3, 3, 6, 6, 6, 6, 9, 9, 9, 9, 12, 12, 12, 12, 20,\n",
       "                    20, 20, 20, 30, 30, 30, 30],\n",
       "              mask=[False, False, False, False, False, False, False, False,\n",
       "                    False, False, False, False, False, False, False, False,\n",
       "                    False, False, False, False, False, False, False, False],\n",
       "        fill_value='?',\n",
       "             dtype=object),\n",
       " 'param_n_estimators': masked_array(data=[1, 100, 150, 200, 1, 100, 150, 200, 1, 100, 150, 200,\n",
       "                    1, 100, 150, 200, 1, 100, 150, 200, 1, 100, 150, 200],\n",
       "              mask=[False, False, False, False, False, False, False, False,\n",
       "                    False, False, False, False, False, False, False, False,\n",
       "                    False, False, False, False, False, False, False, False],\n",
       "        fill_value='?',\n",
       "             dtype=object),\n",
       " 'params': [{'max_depth': 3, 'n_estimators': 1},\n",
       "  {'max_depth': 3, 'n_estimators': 100},\n",
       "  {'max_depth': 3, 'n_estimators': 150},\n",
       "  {'max_depth': 3, 'n_estimators': 200},\n",
       "  {'max_depth': 6, 'n_estimators': 1},\n",
       "  {'max_depth': 6, 'n_estimators': 100},\n",
       "  {'max_depth': 6, 'n_estimators': 150},\n",
       "  {'max_depth': 6, 'n_estimators': 200},\n",
       "  {'max_depth': 9, 'n_estimators': 1},\n",
       "  {'max_depth': 9, 'n_estimators': 100},\n",
       "  {'max_depth': 9, 'n_estimators': 150},\n",
       "  {'max_depth': 9, 'n_estimators': 200},\n",
       "  {'max_depth': 12, 'n_estimators': 1},\n",
       "  {'max_depth': 12, 'n_estimators': 100},\n",
       "  {'max_depth': 12, 'n_estimators': 150},\n",
       "  {'max_depth': 12, 'n_estimators': 200},\n",
       "  {'max_depth': 20, 'n_estimators': 1},\n",
       "  {'max_depth': 20, 'n_estimators': 100},\n",
       "  {'max_depth': 20, 'n_estimators': 150},\n",
       "  {'max_depth': 20, 'n_estimators': 200},\n",
       "  {'max_depth': 30, 'n_estimators': 1},\n",
       "  {'max_depth': 30, 'n_estimators': 100},\n",
       "  {'max_depth': 30, 'n_estimators': 150},\n",
       "  {'max_depth': 30, 'n_estimators': 200}],\n",
       " 'split0_test_score': array([-0.00555133, -0.00192636, -0.00166558, -0.00158403, -0.01365048,\n",
       "        -0.00327392, -0.0028706 , -0.00299661, -0.0513865 , -0.00573785,\n",
       "        -0.00548407, -0.0058045 , -0.10625306, -0.01276033, -0.01210448,\n",
       "        -0.01304294, -0.30098639, -0.06376162, -0.06221153, -0.06371116,\n",
       "        -0.74583245, -0.18035512, -0.16664449, -0.176389  ]),\n",
       " 'split1_test_score': array([-2.19837429e-03, -3.84981268e-04, -4.59946226e-04, -3.73301460e-04,\n",
       "        -1.15397298e-02, -1.21000928e-03, -1.29557738e-03, -1.13016334e-03,\n",
       "        -2.97315389e-02, -3.25550985e-03, -3.70673283e-03, -2.82828927e-03,\n",
       "        -4.18272494e-02, -7.16844825e-03, -8.27502606e-03, -7.29222989e-03,\n",
       "        -2.80921703e-01, -4.89094033e-02, -4.45088643e-02, -4.32242304e-02,\n",
       "        -7.58394643e-01, -1.54503359e-01, -1.44834020e-01, -1.48359853e-01]),\n",
       " 'split2_test_score': array([-2.65916003e-03, -2.98971343e-04, -9.49682432e-05, -2.75671464e-04,\n",
       "        -1.32464906e-02, -1.78239400e-03, -1.18138703e-03, -1.24703876e-03,\n",
       "        -4.82735185e-02, -4.19062229e-03, -4.07811247e-03, -3.96007791e-03,\n",
       "        -6.91458094e-02, -9.13094058e-03, -8.79184549e-03, -9.12463458e-03,\n",
       "        -3.14249906e-01, -4.32950157e-02, -4.35404211e-02, -4.13371151e-02,\n",
       "        -2.99880128e-01, -1.32979803e-01, -1.35532413e-01, -1.26063077e-01]),\n",
       " 'split3_test_score': array([-5.11497822e-03, -3.05541531e-04, -1.29522025e-04, -2.31570137e-04,\n",
       "        -1.67181308e-02, -1.89726516e-03, -1.72384150e-03, -1.48088598e-03,\n",
       "        -3.24513594e-02, -5.98064445e-03, -6.14905931e-03, -5.08045649e-03,\n",
       "        -1.64812052e-01, -1.20712896e-02, -1.27914010e-02, -1.19637202e-02,\n",
       "        -3.29686240e-01, -5.42199809e-02, -5.42266573e-02, -5.21146382e-02,\n",
       "        -3.99228456e-01, -1.47279629e-01, -1.42519522e-01, -1.57082997e-01]),\n",
       " 'split4_test_score': array([-1.99723779e-03,  5.42284002e-05, -2.32080952e-04, -2.89433289e-04,\n",
       "        -1.34877597e-02, -6.79848750e-04, -1.16315242e-03, -8.28151308e-04,\n",
       "        -2.37753213e-02, -3.10116273e-03, -3.40689992e-03, -3.04042590e-03,\n",
       "        -8.46194371e-02, -7.36326497e-03, -8.47983122e-03, -8.32726138e-03,\n",
       "        -2.09853185e-01, -4.40616653e-02, -3.96837532e-02, -4.10001124e-02,\n",
       "        -2.97235717e-01, -1.39520463e-01, -1.36210720e-01, -1.34075615e-01]),\n",
       " 'mean_test_score': array([-0.00350422, -0.00057233, -0.00051642, -0.0005508 , -0.01372852,\n",
       "        -0.00176869, -0.00164691, -0.00153657, -0.03712365, -0.00445316,\n",
       "        -0.00456498, -0.00414275, -0.09333152, -0.00969886, -0.01008852,\n",
       "        -0.00995016, -0.28713948, -0.05084954, -0.04883424, -0.04827745,\n",
       "        -0.50011428, -0.15092768, -0.14514823, -0.14839411]),\n",
       " 'std_test_score': array([0.00151496, 0.00069383, 0.00058854, 0.00051865, 0.00167481,\n",
       "        0.0008695 , 0.00064459, 0.00075969, 0.01079259, 0.00120953,\n",
       "        0.00106478, 0.00115039, 0.0414487 , 0.00233159, 0.00194564,\n",
       "        0.00219087, 0.04183006, 0.00754973, 0.00822794, 0.00871305,\n",
       "        0.20905384, 0.01639707, 0.01132644, 0.01767997]),\n",
       " 'rank_test_score': array([ 7,  3,  1,  2, 14,  6,  5,  4, 15,  9, 10,  8, 19, 11, 13, 12, 23,\n",
       "        18, 17, 16, 24, 22, 20, 21], dtype=int32)}"
      ]
     },
     "execution_count": 137,
     "metadata": {},
     "output_type": "execute_result"
    }
   ],
   "source": [
    "clf.cv_results_"
   ]
  },
  {
   "cell_type": "code",
   "execution_count": 138,
   "id": "e6f43bf4",
   "metadata": {},
   "outputs": [
    {
     "data": {
      "text/plain": [
       "{'max_depth': 3, 'n_estimators': 150}"
      ]
     },
     "execution_count": 138,
     "metadata": {},
     "output_type": "execute_result"
    }
   ],
   "source": [
    "clf.cv_results_['params'][clf.best_index_]"
   ]
  },
  {
   "cell_type": "code",
   "execution_count": null,
   "id": "5d8081c1",
   "metadata": {},
   "outputs": [],
   "source": []
  }
 ],
 "metadata": {
  "kernelspec": {
   "display_name": "Python 3 (ipykernel)",
   "language": "python",
   "name": "python3"
  },
  "language_info": {
   "codemirror_mode": {
    "name": "ipython",
    "version": 3
   },
   "file_extension": ".py",
   "mimetype": "text/x-python",
   "name": "python",
   "nbconvert_exporter": "python",
   "pygments_lexer": "ipython3",
   "version": "3.9.7"
  }
 },
 "nbformat": 4,
 "nbformat_minor": 5
}
