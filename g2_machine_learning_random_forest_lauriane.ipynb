{
 "cells": [
  {
   "cell_type": "markdown",
   "id": "c09b78cf",
   "metadata": {},
   "source": [
    "**Created on 05/01/2022**\n",
    "\n",
    "**Group 2**\n",
    "\n",
    "**Authors: LaurianeBompay**\n",
    "\n",
    "**License: this code is released under the CeCILL 2.1 license. See\n",
    "https://www.cecill.info/licenses/Licence_CeCILL_V2.1-en.txt**\n"
   ]
  },
  {
   "cell_type": "code",
   "execution_count": 1,
   "id": "24186320",
   "metadata": {},
   "outputs": [],
   "source": [
    "import os\n",
    "import sys\n",
    "import math\n",
    "from sklearn.model_selection import train_test_split, cross_val_score\n",
    "import numpy as np\n",
    "import pandas as pd\n",
    "import matplotlib.pyplot as plt\n",
    "import seaborn as sns\n",
    "from sklearn.ensemble import RandomForestRegressor\n",
    "from sklearn.metrics import mean_squared_error, mean_absolute_error\n",
    "from sklearn.feature_selection import SequentialFeatureSelector"
   ]
  },
  {
   "cell_type": "code",
   "execution_count": 2,
   "id": "bcc8f777",
   "metadata": {},
   "outputs": [],
   "source": [
    "sns.set_style('darkgrid')"
   ]
  },
  {
   "cell_type": "code",
   "execution_count": 3,
   "id": "6c5506b8",
   "metadata": {},
   "outputs": [],
   "source": [
    "#data importation \n",
    "data_1 = pd.read_csv(\"data_v6.csv\")\n",
    "#data_0 = pd.read_csv(\"positions.csv\")"
   ]
  },
  {
   "cell_type": "markdown",
   "id": "652adecd",
   "metadata": {},
   "source": [
    "Il faudra changer l'imporation des données quand on aura le jeu de données avec les changements de repaires."
   ]
  },
  {
   "cell_type": "raw",
   "id": "a2e84b2c",
   "metadata": {},
   "source": [
    "#add orientation\n",
    "extract_orientation = data_0[['node_id','orientation']]\n",
    "extract_orientation.rename(columns={\"node_id\": \"target\"}, inplace=True)\n",
    "data_1 = data_1.merge(extract_orientation, how='left', on = 'target')"
   ]
  },
  {
   "cell_type": "code",
   "execution_count": 4,
   "id": "2d0c6c1e",
   "metadata": {},
   "outputs": [
    {
     "data": {
      "text/html": [
       "<div>\n",
       "<style scoped>\n",
       "    .dataframe tbody tr th:only-of-type {\n",
       "        vertical-align: middle;\n",
       "    }\n",
       "\n",
       "    .dataframe tbody tr th {\n",
       "        vertical-align: top;\n",
       "    }\n",
       "\n",
       "    .dataframe thead th {\n",
       "        text-align: right;\n",
       "    }\n",
       "</style>\n",
       "<table border=\"1\" class=\"dataframe\">\n",
       "  <thead>\n",
       "    <tr style=\"text-align: right;\">\n",
       "      <th></th>\n",
       "      <th>target</th>\n",
       "      <th>nlos_indicator</th>\n",
       "      <th>t1</th>\n",
       "      <th>t2</th>\n",
       "      <th>t3</th>\n",
       "      <th>t4</th>\n",
       "      <th>skew</th>\n",
       "      <th>tof</th>\n",
       "      <th>tof_skew</th>\n",
       "      <th>range</th>\n",
       "      <th>...</th>\n",
       "      <th>loc_target_x</th>\n",
       "      <th>loc_target_y</th>\n",
       "      <th>loc_target_z</th>\n",
       "      <th>temperature_initiator</th>\n",
       "      <th>temperature_target</th>\n",
       "      <th>rssi_request</th>\n",
       "      <th>rssi_ack</th>\n",
       "      <th>rssi_data</th>\n",
       "      <th>rssi_mean</th>\n",
       "      <th>orientation</th>\n",
       "    </tr>\n",
       "  </thead>\n",
       "  <tbody>\n",
       "    <tr>\n",
       "      <th>count</th>\n",
       "      <td>3946.000000</td>\n",
       "      <td>3946.000000</td>\n",
       "      <td>3.946000e+03</td>\n",
       "      <td>3.946000e+03</td>\n",
       "      <td>3.946000e+03</td>\n",
       "      <td>3.946000e+03</td>\n",
       "      <td>3946.000000</td>\n",
       "      <td>3946.000000</td>\n",
       "      <td>3946.000000</td>\n",
       "      <td>3946.000000</td>\n",
       "      <td>...</td>\n",
       "      <td>3946.000000</td>\n",
       "      <td>3946.000000</td>\n",
       "      <td>3946.000000</td>\n",
       "      <td>3946.000000</td>\n",
       "      <td>3946.000000</td>\n",
       "      <td>3946.000000</td>\n",
       "      <td>3946.000000</td>\n",
       "      <td>3946.000000</td>\n",
       "      <td>3946.000000</td>\n",
       "      <td>3946.000000</td>\n",
       "    </tr>\n",
       "    <tr>\n",
       "      <th>mean</th>\n",
       "      <td>148.315256</td>\n",
       "      <td>7.215384</td>\n",
       "      <td>5.505930e+11</td>\n",
       "      <td>5.509284e+11</td>\n",
       "      <td>5.510320e+11</td>\n",
       "      <td>5.506966e+11</td>\n",
       "      <td>-2.755970</td>\n",
       "      <td>999.946275</td>\n",
       "      <td>1142.269047</td>\n",
       "      <td>4.690093</td>\n",
       "      <td>...</td>\n",
       "      <td>1.452085</td>\n",
       "      <td>5.878422</td>\n",
       "      <td>2.651427</td>\n",
       "      <td>39.577380</td>\n",
       "      <td>39.555326</td>\n",
       "      <td>-81.090100</td>\n",
       "      <td>-80.970815</td>\n",
       "      <td>-80.836828</td>\n",
       "      <td>-80.965914</td>\n",
       "      <td>81.495692</td>\n",
       "    </tr>\n",
       "    <tr>\n",
       "      <th>std</th>\n",
       "      <td>35.805126</td>\n",
       "      <td>19.476255</td>\n",
       "      <td>3.164409e+11</td>\n",
       "      <td>3.164412e+11</td>\n",
       "      <td>3.164412e+11</td>\n",
       "      <td>3.164409e+11</td>\n",
       "      <td>3.762459</td>\n",
       "      <td>674.344209</td>\n",
       "      <td>646.710484</td>\n",
       "      <td>3.162907</td>\n",
       "      <td>...</td>\n",
       "      <td>5.091560</td>\n",
       "      <td>2.249992</td>\n",
       "      <td>0.003063</td>\n",
       "      <td>2.341864</td>\n",
       "      <td>3.782210</td>\n",
       "      <td>5.635798</td>\n",
       "      <td>5.072976</td>\n",
       "      <td>4.818267</td>\n",
       "      <td>5.131755</td>\n",
       "      <td>96.093454</td>\n",
       "    </tr>\n",
       "    <tr>\n",
       "      <th>min</th>\n",
       "      <td>100.000000</td>\n",
       "      <td>0.000000</td>\n",
       "      <td>6.062043e+07</td>\n",
       "      <td>2.633300e+08</td>\n",
       "      <td>3.679996e+08</td>\n",
       "      <td>1.652910e+08</td>\n",
       "      <td>-11.659438</td>\n",
       "      <td>-613.000000</td>\n",
       "      <td>-152.480214</td>\n",
       "      <td>-2.875181</td>\n",
       "      <td>...</td>\n",
       "      <td>-3.962000</td>\n",
       "      <td>2.793000</td>\n",
       "      <td>2.650000</td>\n",
       "      <td>30.410000</td>\n",
       "      <td>27.559999</td>\n",
       "      <td>-120.000000</td>\n",
       "      <td>-120.000000</td>\n",
       "      <td>-120.000000</td>\n",
       "      <td>-120.000000</td>\n",
       "      <td>0.000000</td>\n",
       "    </tr>\n",
       "    <tr>\n",
       "      <th>25%</th>\n",
       "      <td>101.000000</td>\n",
       "      <td>2.956510</td>\n",
       "      <td>2.778704e+11</td>\n",
       "      <td>2.782606e+11</td>\n",
       "      <td>2.783633e+11</td>\n",
       "      <td>2.779731e+11</td>\n",
       "      <td>-5.783573</td>\n",
       "      <td>655.250000</td>\n",
       "      <td>715.863760</td>\n",
       "      <td>3.073348</td>\n",
       "      <td>...</td>\n",
       "      <td>-3.132000</td>\n",
       "      <td>4.339000</td>\n",
       "      <td>2.650000</td>\n",
       "      <td>38.959999</td>\n",
       "      <td>36.680000</td>\n",
       "      <td>-79.967224</td>\n",
       "      <td>-79.988684</td>\n",
       "      <td>-79.884079</td>\n",
       "      <td>-79.886862</td>\n",
       "      <td>0.000000</td>\n",
       "    </tr>\n",
       "    <tr>\n",
       "      <th>50%</th>\n",
       "      <td>171.000000</td>\n",
       "      <td>3.524929</td>\n",
       "      <td>5.528798e+11</td>\n",
       "      <td>5.532044e+11</td>\n",
       "      <td>5.533074e+11</td>\n",
       "      <td>5.529824e+11</td>\n",
       "      <td>-1.784294</td>\n",
       "      <td>898.000000</td>\n",
       "      <td>998.316717</td>\n",
       "      <td>4.211930</td>\n",
       "      <td>...</td>\n",
       "      <td>-1.190000</td>\n",
       "      <td>4.578000</td>\n",
       "      <td>2.650000</td>\n",
       "      <td>40.384998</td>\n",
       "      <td>39.340000</td>\n",
       "      <td>-79.230034</td>\n",
       "      <td>-79.305238</td>\n",
       "      <td>-79.218111</td>\n",
       "      <td>-79.237715</td>\n",
       "      <td>90.000000</td>\n",
       "    </tr>\n",
       "    <tr>\n",
       "      <th>75%</th>\n",
       "      <td>180.000000</td>\n",
       "      <td>4.342234</td>\n",
       "      <td>8.238901e+11</td>\n",
       "      <td>8.243201e+11</td>\n",
       "      <td>8.244236e+11</td>\n",
       "      <td>8.239937e+11</td>\n",
       "      <td>0.338401</td>\n",
       "      <td>1222.000000</td>\n",
       "      <td>1355.367840</td>\n",
       "      <td>5.731602</td>\n",
       "      <td>...</td>\n",
       "      <td>6.169000</td>\n",
       "      <td>7.931000</td>\n",
       "      <td>2.650000</td>\n",
       "      <td>41.240002</td>\n",
       "      <td>42.380001</td>\n",
       "      <td>-78.659598</td>\n",
       "      <td>-78.701023</td>\n",
       "      <td>-78.666953</td>\n",
       "      <td>-78.686799</td>\n",
       "      <td>119.000000</td>\n",
       "    </tr>\n",
       "    <tr>\n",
       "      <th>max</th>\n",
       "      <td>184.000000</td>\n",
       "      <td>342.462982</td>\n",
       "      <td>1.099128e+12</td>\n",
       "      <td>1.099376e+12</td>\n",
       "      <td>1.099479e+12</td>\n",
       "      <td>1.099231e+12</td>\n",
       "      <td>4.829899</td>\n",
       "      <td>2636.000000</td>\n",
       "      <td>2860.190262</td>\n",
       "      <td>12.363750</td>\n",
       "      <td>...</td>\n",
       "      <td>11.442000</td>\n",
       "      <td>9.249000</td>\n",
       "      <td>2.658000</td>\n",
       "      <td>42.380001</td>\n",
       "      <td>47.320004</td>\n",
       "      <td>-77.162437</td>\n",
       "      <td>-77.516188</td>\n",
       "      <td>-77.428716</td>\n",
       "      <td>-77.478065</td>\n",
       "      <td>270.000000</td>\n",
       "    </tr>\n",
       "  </tbody>\n",
       "</table>\n",
       "<p>8 rows × 23 columns</p>\n",
       "</div>"
      ],
      "text/plain": [
       "            target  nlos_indicator            t1            t2            t3  \\\n",
       "count  3946.000000     3946.000000  3.946000e+03  3.946000e+03  3.946000e+03   \n",
       "mean    148.315256        7.215384  5.505930e+11  5.509284e+11  5.510320e+11   \n",
       "std      35.805126       19.476255  3.164409e+11  3.164412e+11  3.164412e+11   \n",
       "min     100.000000        0.000000  6.062043e+07  2.633300e+08  3.679996e+08   \n",
       "25%     101.000000        2.956510  2.778704e+11  2.782606e+11  2.783633e+11   \n",
       "50%     171.000000        3.524929  5.528798e+11  5.532044e+11  5.533074e+11   \n",
       "75%     180.000000        4.342234  8.238901e+11  8.243201e+11  8.244236e+11   \n",
       "max     184.000000      342.462982  1.099128e+12  1.099376e+12  1.099479e+12   \n",
       "\n",
       "                 t4         skew          tof     tof_skew        range  ...  \\\n",
       "count  3.946000e+03  3946.000000  3946.000000  3946.000000  3946.000000  ...   \n",
       "mean   5.506966e+11    -2.755970   999.946275  1142.269047     4.690093  ...   \n",
       "std    3.164409e+11     3.762459   674.344209   646.710484     3.162907  ...   \n",
       "min    1.652910e+08   -11.659438  -613.000000  -152.480214    -2.875181  ...   \n",
       "25%    2.779731e+11    -5.783573   655.250000   715.863760     3.073348  ...   \n",
       "50%    5.529824e+11    -1.784294   898.000000   998.316717     4.211930  ...   \n",
       "75%    8.239937e+11     0.338401  1222.000000  1355.367840     5.731602  ...   \n",
       "max    1.099231e+12     4.829899  2636.000000  2860.190262    12.363750  ...   \n",
       "\n",
       "       loc_target_x  loc_target_y  loc_target_z  temperature_initiator  \\\n",
       "count   3946.000000   3946.000000   3946.000000            3946.000000   \n",
       "mean       1.452085      5.878422      2.651427              39.577380   \n",
       "std        5.091560      2.249992      0.003063               2.341864   \n",
       "min       -3.962000      2.793000      2.650000              30.410000   \n",
       "25%       -3.132000      4.339000      2.650000              38.959999   \n",
       "50%       -1.190000      4.578000      2.650000              40.384998   \n",
       "75%        6.169000      7.931000      2.650000              41.240002   \n",
       "max       11.442000      9.249000      2.658000              42.380001   \n",
       "\n",
       "       temperature_target  rssi_request     rssi_ack    rssi_data  \\\n",
       "count         3946.000000   3946.000000  3946.000000  3946.000000   \n",
       "mean            39.555326    -81.090100   -80.970815   -80.836828   \n",
       "std              3.782210      5.635798     5.072976     4.818267   \n",
       "min             27.559999   -120.000000  -120.000000  -120.000000   \n",
       "25%             36.680000    -79.967224   -79.988684   -79.884079   \n",
       "50%             39.340000    -79.230034   -79.305238   -79.218111   \n",
       "75%             42.380001    -78.659598   -78.701023   -78.666953   \n",
       "max             47.320004    -77.162437   -77.516188   -77.428716   \n",
       "\n",
       "         rssi_mean  orientation  \n",
       "count  3946.000000  3946.000000  \n",
       "mean    -80.965914    81.495692  \n",
       "std       5.131755    96.093454  \n",
       "min    -120.000000     0.000000  \n",
       "25%     -79.886862     0.000000  \n",
       "50%     -79.237715    90.000000  \n",
       "75%     -78.686799   119.000000  \n",
       "max     -77.478065   270.000000  \n",
       "\n",
       "[8 rows x 23 columns]"
      ]
     },
     "execution_count": 4,
     "metadata": {},
     "output_type": "execute_result"
    }
   ],
   "source": [
    "data_1.describe()"
   ]
  },
  {
   "cell_type": "code",
   "execution_count": 5,
   "id": "552421d2",
   "metadata": {},
   "outputs": [
    {
     "data": {
      "text/html": [
       "<div>\n",
       "<style scoped>\n",
       "    .dataframe tbody tr th:only-of-type {\n",
       "        vertical-align: middle;\n",
       "    }\n",
       "\n",
       "    .dataframe tbody tr th {\n",
       "        vertical-align: top;\n",
       "    }\n",
       "\n",
       "    .dataframe thead th {\n",
       "        text-align: right;\n",
       "    }\n",
       "</style>\n",
       "<table border=\"1\" class=\"dataframe\">\n",
       "  <thead>\n",
       "    <tr style=\"text-align: right;\">\n",
       "      <th></th>\n",
       "      <th>target</th>\n",
       "      <th>nlos_indicator</th>\n",
       "      <th>t1</th>\n",
       "      <th>t2</th>\n",
       "      <th>t3</th>\n",
       "      <th>t4</th>\n",
       "      <th>skew</th>\n",
       "      <th>tof</th>\n",
       "      <th>tof_skew</th>\n",
       "      <th>range</th>\n",
       "      <th>...</th>\n",
       "      <th>loc_target_x</th>\n",
       "      <th>loc_target_y</th>\n",
       "      <th>loc_target_z</th>\n",
       "      <th>temperature_initiator</th>\n",
       "      <th>temperature_target</th>\n",
       "      <th>rssi_request</th>\n",
       "      <th>rssi_ack</th>\n",
       "      <th>rssi_data</th>\n",
       "      <th>rssi_mean</th>\n",
       "      <th>orientation</th>\n",
       "    </tr>\n",
       "  </thead>\n",
       "  <tbody>\n",
       "    <tr>\n",
       "      <th>0</th>\n",
       "      <td>100</td>\n",
       "      <td>2.783982</td>\n",
       "      <td>946218857614</td>\n",
       "      <td>946490292658</td>\n",
       "      <td>946594234510</td>\n",
       "      <td>946322802711</td>\n",
       "      <td>-2.368804</td>\n",
       "      <td>1622</td>\n",
       "      <td>1745.608935</td>\n",
       "      <td>7.607739</td>\n",
       "      <td>...</td>\n",
       "      <td>-3.962</td>\n",
       "      <td>7.931</td>\n",
       "      <td>2.65</td>\n",
       "      <td>30.98</td>\n",
       "      <td>30.220001</td>\n",
       "      <td>-80.136574</td>\n",
       "      <td>-80.077130</td>\n",
       "      <td>-79.836296</td>\n",
       "      <td>-80.016667</td>\n",
       "      <td>270.0</td>\n",
       "    </tr>\n",
       "    <tr>\n",
       "      <th>1</th>\n",
       "      <td>100</td>\n",
       "      <td>2.920485</td>\n",
       "      <td>1009474709646</td>\n",
       "      <td>1009746235572</td>\n",
       "      <td>1009850439822</td>\n",
       "      <td>1009578917162</td>\n",
       "      <td>-1.045965</td>\n",
       "      <td>1633</td>\n",
       "      <td>1687.497019</td>\n",
       "      <td>7.659333</td>\n",
       "      <td>...</td>\n",
       "      <td>-3.962</td>\n",
       "      <td>7.931</td>\n",
       "      <td>2.65</td>\n",
       "      <td>30.98</td>\n",
       "      <td>29.840002</td>\n",
       "      <td>-80.267769</td>\n",
       "      <td>-79.988684</td>\n",
       "      <td>-79.835720</td>\n",
       "      <td>-80.030724</td>\n",
       "      <td>270.0</td>\n",
       "    </tr>\n",
       "    <tr>\n",
       "      <th>2</th>\n",
       "      <td>100</td>\n",
       "      <td>2.536090</td>\n",
       "      <td>1072923068046</td>\n",
       "      <td>1073194681670</td>\n",
       "      <td>1073299179662</td>\n",
       "      <td>1073027569304</td>\n",
       "      <td>-0.799856</td>\n",
       "      <td>1633</td>\n",
       "      <td>1674.791667</td>\n",
       "      <td>7.659333</td>\n",
       "      <td>...</td>\n",
       "      <td>-3.962</td>\n",
       "      <td>7.931</td>\n",
       "      <td>2.65</td>\n",
       "      <td>30.98</td>\n",
       "      <td>29.840002</td>\n",
       "      <td>-79.964310</td>\n",
       "      <td>-79.850138</td>\n",
       "      <td>-79.693502</td>\n",
       "      <td>-79.835983</td>\n",
       "      <td>270.0</td>\n",
       "    </tr>\n",
       "    <tr>\n",
       "      <th>3</th>\n",
       "      <td>100</td>\n",
       "      <td>2.857669</td>\n",
       "      <td>36731534990</td>\n",
       "      <td>37003232943</td>\n",
       "      <td>37107270798</td>\n",
       "      <td>36835576116</td>\n",
       "      <td>-0.984438</td>\n",
       "      <td>1635</td>\n",
       "      <td>1686.709409</td>\n",
       "      <td>7.668714</td>\n",
       "      <td>...</td>\n",
       "      <td>-3.962</td>\n",
       "      <td>7.931</td>\n",
       "      <td>2.65</td>\n",
       "      <td>30.98</td>\n",
       "      <td>29.840002</td>\n",
       "      <td>-80.040833</td>\n",
       "      <td>-79.818313</td>\n",
       "      <td>-79.849525</td>\n",
       "      <td>-79.902890</td>\n",
       "      <td>270.0</td>\n",
       "    </tr>\n",
       "    <tr>\n",
       "      <th>4</th>\n",
       "      <td>100</td>\n",
       "      <td>2.263103</td>\n",
       "      <td>99923195534</td>\n",
       "      <td>100194974620</td>\n",
       "      <td>100298828942</td>\n",
       "      <td>100027053147</td>\n",
       "      <td>-0.769092</td>\n",
       "      <td>1645</td>\n",
       "      <td>1685.436774</td>\n",
       "      <td>7.715617</td>\n",
       "      <td>...</td>\n",
       "      <td>-3.962</td>\n",
       "      <td>7.931</td>\n",
       "      <td>2.65</td>\n",
       "      <td>30.98</td>\n",
       "      <td>29.840002</td>\n",
       "      <td>-79.999908</td>\n",
       "      <td>-80.102552</td>\n",
       "      <td>-80.022316</td>\n",
       "      <td>-80.041592</td>\n",
       "      <td>270.0</td>\n",
       "    </tr>\n",
       "  </tbody>\n",
       "</table>\n",
       "<p>5 rows × 23 columns</p>\n",
       "</div>"
      ],
      "text/plain": [
       "   target  nlos_indicator             t1             t2             t3  \\\n",
       "0     100        2.783982   946218857614   946490292658   946594234510   \n",
       "1     100        2.920485  1009474709646  1009746235572  1009850439822   \n",
       "2     100        2.536090  1072923068046  1073194681670  1073299179662   \n",
       "3     100        2.857669    36731534990    37003232943    37107270798   \n",
       "4     100        2.263103    99923195534   100194974620   100298828942   \n",
       "\n",
       "              t4      skew   tof     tof_skew     range  ...  loc_target_x  \\\n",
       "0   946322802711 -2.368804  1622  1745.608935  7.607739  ...        -3.962   \n",
       "1  1009578917162 -1.045965  1633  1687.497019  7.659333  ...        -3.962   \n",
       "2  1073027569304 -0.799856  1633  1674.791667  7.659333  ...        -3.962   \n",
       "3    36835576116 -0.984438  1635  1686.709409  7.668714  ...        -3.962   \n",
       "4   100027053147 -0.769092  1645  1685.436774  7.715617  ...        -3.962   \n",
       "\n",
       "   loc_target_y  loc_target_z  temperature_initiator  temperature_target  \\\n",
       "0         7.931          2.65                  30.98           30.220001   \n",
       "1         7.931          2.65                  30.98           29.840002   \n",
       "2         7.931          2.65                  30.98           29.840002   \n",
       "3         7.931          2.65                  30.98           29.840002   \n",
       "4         7.931          2.65                  30.98           29.840002   \n",
       "\n",
       "   rssi_request   rssi_ack  rssi_data  rssi_mean  orientation  \n",
       "0    -80.136574 -80.077130 -79.836296 -80.016667        270.0  \n",
       "1    -80.267769 -79.988684 -79.835720 -80.030724        270.0  \n",
       "2    -79.964310 -79.850138 -79.693502 -79.835983        270.0  \n",
       "3    -80.040833 -79.818313 -79.849525 -79.902890        270.0  \n",
       "4    -79.999908 -80.102552 -80.022316 -80.041592        270.0  \n",
       "\n",
       "[5 rows x 23 columns]"
      ]
     },
     "execution_count": 5,
     "metadata": {},
     "output_type": "execute_result"
    }
   ],
   "source": [
    "data_1.head()"
   ]
  },
  {
   "cell_type": "markdown",
   "id": "0514fe16",
   "metadata": {},
   "source": [
    "## <center>Remplacement des -inf</center>"
   ]
  },
  {
   "cell_type": "code",
   "execution_count": 6,
   "id": "275c6197",
   "metadata": {},
   "outputs": [],
   "source": [
    "data_1.replace([-np.inf], -120, inplace=True)"
   ]
  },
  {
   "cell_type": "markdown",
   "id": "baf46b52",
   "metadata": {},
   "source": [
    "Les -inf sont dans les rssi et indique que le signal est très mauvais (ce n'est pas un nan) donc on remplace par -120 car c'est la valeur qui indique un mauvais signal (voir la doc sur les rssi)"
   ]
  },
  {
   "cell_type": "raw",
   "id": "39df3096",
   "metadata": {},
   "source": [
    "#data selection\n",
    "data_1.drop('ranging_unit', axis=1, inplace=True)\n",
    "data_1.drop('register_dump_CIR', axis=1, inplace=True)\n",
    "data_1.drop('initiator', axis=1, inplace=True)\n",
    "data_1.drop('protocol', axis=1, inplace=True)\n",
    "data_1.drop('loc_initiator_z', axis=1, inplace=True)"
   ]
  },
  {
   "cell_type": "markdown",
   "id": "a2b6ec83",
   "metadata": {},
   "source": [
    "## <center>Test du modèle random forest pour determiner le position (x,y)</center>"
   ]
  },
  {
   "cell_type": "code",
   "execution_count": 7,
   "id": "7bdaa927",
   "metadata": {},
   "outputs": [],
   "source": [
    "def score_distanceM(Xobserve:float, Yobserve:float, Xprevu:float, Yprevu:float) -> float:\n",
    "    X=(Xobserve-Xprevu)**2\n",
    "    Y=(Yobserve-Yprevu)**2\n",
    "    return np.mean(np.sqrt(X+Y))"
   ]
  },
  {
   "cell_type": "markdown",
   "id": "ea316652",
   "metadata": {},
   "source": [
    "### Selection des variables pour la prédiction de position"
   ]
  },
  {
   "cell_type": "raw",
   "id": "b675070b",
   "metadata": {},
   "source": [
    "data_for_pred = data_1.drop(['target',\n",
    "                             'ranging_error',\n",
    "                             'distance',\n",
    "                             'timestamp',\n",
    "                             'course_dist',\n",
    "                             'temperature_initiator',\n",
    "                             'temperature_target',\n",
    "                             'seqnum'],axis=1, inplace=False)"
   ]
  },
  {
   "cell_type": "code",
   "execution_count": 69,
   "id": "7bca6e47",
   "metadata": {},
   "outputs": [],
   "source": [
    "data_test_train = data_1[data_1['target']!=171]\n",
    "data_validation = data_1[data_1['target']==171]"
   ]
  },
  {
   "cell_type": "markdown",
   "id": "b1142b09",
   "metadata": {},
   "source": [
    "On supprime target pour la prediction"
   ]
  },
  {
   "cell_type": "code",
   "execution_count": 70,
   "id": "02f92586",
   "metadata": {},
   "outputs": [],
   "source": [
    "data_for_pred = data_test_train.drop('target',axis=1,inplace=False)"
   ]
  },
  {
   "cell_type": "code",
   "execution_count": 71,
   "id": "c558d3a4",
   "metadata": {},
   "outputs": [],
   "source": [
    "var = data_for_pred.columns.to_list()\n",
    "y=data_for_pred[['loc_initiator_x','loc_initiator_y']]"
   ]
  },
  {
   "cell_type": "code",
   "execution_count": 72,
   "id": "8168ed82",
   "metadata": {},
   "outputs": [],
   "source": [
    "#ceration of test and train\n",
    "test,train = train_test_split(data_for_pred, test_size=0.25, train_size=0.75, shuffle=True)\n",
    "Y_train = train[['loc_initiator_x', 'loc_initiator_y']]\n",
    "X_train = train.drop([\"loc_initiator_x\",'loc_initiator_y'], axis=1, inplace=False)\n",
    "\n",
    "Y_test = test[['loc_initiator_x', 'loc_initiator_y']]\n",
    "X_test = test.drop([\"loc_initiator_x\",'loc_initiator_y'], axis=1, inplace=False)"
   ]
  },
  {
   "cell_type": "code",
   "execution_count": 73,
   "id": "a680ddca",
   "metadata": {},
   "outputs": [
    {
     "data": {
      "text/html": [
       "<div>\n",
       "<style scoped>\n",
       "    .dataframe tbody tr th:only-of-type {\n",
       "        vertical-align: middle;\n",
       "    }\n",
       "\n",
       "    .dataframe tbody tr th {\n",
       "        vertical-align: top;\n",
       "    }\n",
       "\n",
       "    .dataframe thead th {\n",
       "        text-align: right;\n",
       "    }\n",
       "</style>\n",
       "<table border=\"1\" class=\"dataframe\">\n",
       "  <thead>\n",
       "    <tr style=\"text-align: right;\">\n",
       "      <th></th>\n",
       "      <th>nlos_indicator</th>\n",
       "      <th>t1</th>\n",
       "      <th>t2</th>\n",
       "      <th>t3</th>\n",
       "      <th>t4</th>\n",
       "      <th>skew</th>\n",
       "      <th>tof</th>\n",
       "      <th>tof_skew</th>\n",
       "      <th>range</th>\n",
       "      <th>range_skew</th>\n",
       "      <th>loc_target_x</th>\n",
       "      <th>loc_target_y</th>\n",
       "      <th>loc_target_z</th>\n",
       "      <th>temperature_initiator</th>\n",
       "      <th>temperature_target</th>\n",
       "      <th>rssi_request</th>\n",
       "      <th>rssi_ack</th>\n",
       "      <th>rssi_data</th>\n",
       "      <th>rssi_mean</th>\n",
       "      <th>orientation</th>\n",
       "    </tr>\n",
       "  </thead>\n",
       "  <tbody>\n",
       "    <tr>\n",
       "      <th>count</th>\n",
       "      <td>811.000000</td>\n",
       "      <td>8.110000e+02</td>\n",
       "      <td>8.110000e+02</td>\n",
       "      <td>8.110000e+02</td>\n",
       "      <td>8.110000e+02</td>\n",
       "      <td>811.000000</td>\n",
       "      <td>811.000000</td>\n",
       "      <td>811.000000</td>\n",
       "      <td>811.000000</td>\n",
       "      <td>811.000000</td>\n",
       "      <td>811.000000</td>\n",
       "      <td>811.000000</td>\n",
       "      <td>8.110000e+02</td>\n",
       "      <td>811.000000</td>\n",
       "      <td>811.000000</td>\n",
       "      <td>811.000000</td>\n",
       "      <td>811.000000</td>\n",
       "      <td>811.000000</td>\n",
       "      <td>811.000000</td>\n",
       "      <td>811.000000</td>\n",
       "    </tr>\n",
       "    <tr>\n",
       "      <th>mean</th>\n",
       "      <td>8.457861</td>\n",
       "      <td>5.558131e+11</td>\n",
       "      <td>5.561722e+11</td>\n",
       "      <td>5.562757e+11</td>\n",
       "      <td>5.559166e+11</td>\n",
       "      <td>-3.638422</td>\n",
       "      <td>1068.545006</td>\n",
       "      <td>1256.525792</td>\n",
       "      <td>5.011845</td>\n",
       "      <td>5.893539</td>\n",
       "      <td>2.161644</td>\n",
       "      <td>6.160223</td>\n",
       "      <td>2.650000e+00</td>\n",
       "      <td>39.470962</td>\n",
       "      <td>39.866189</td>\n",
       "      <td>-81.912547</td>\n",
       "      <td>-81.637493</td>\n",
       "      <td>-81.563344</td>\n",
       "      <td>-81.704461</td>\n",
       "      <td>98.874229</td>\n",
       "    </tr>\n",
       "    <tr>\n",
       "      <th>std</th>\n",
       "      <td>20.918864</td>\n",
       "      <td>3.221272e+11</td>\n",
       "      <td>3.221266e+11</td>\n",
       "      <td>3.221266e+11</td>\n",
       "      <td>3.221273e+11</td>\n",
       "      <td>3.630467</td>\n",
       "      <td>743.122187</td>\n",
       "      <td>663.333309</td>\n",
       "      <td>3.485499</td>\n",
       "      <td>3.111262</td>\n",
       "      <td>5.443300</td>\n",
       "      <td>2.407305</td>\n",
       "      <td>3.999269e-14</td>\n",
       "      <td>2.387617</td>\n",
       "      <td>3.935961</td>\n",
       "      <td>6.646804</td>\n",
       "      <td>5.747475</td>\n",
       "      <td>5.672691</td>\n",
       "      <td>5.954714</td>\n",
       "      <td>96.234892</td>\n",
       "    </tr>\n",
       "    <tr>\n",
       "      <th>min</th>\n",
       "      <td>0.000000</td>\n",
       "      <td>2.789119e+09</td>\n",
       "      <td>3.061770e+09</td>\n",
       "      <td>3.165892e+09</td>\n",
       "      <td>2.893245e+09</td>\n",
       "      <td>-11.659438</td>\n",
       "      <td>-613.000000</td>\n",
       "      <td>-105.039218</td>\n",
       "      <td>-2.875181</td>\n",
       "      <td>-0.492670</td>\n",
       "      <td>-3.962000</td>\n",
       "      <td>2.793000</td>\n",
       "      <td>2.650000e+00</td>\n",
       "      <td>30.410000</td>\n",
       "      <td>27.559999</td>\n",
       "      <td>-120.000000</td>\n",
       "      <td>-120.000000</td>\n",
       "      <td>-120.000000</td>\n",
       "      <td>-114.500452</td>\n",
       "      <td>0.000000</td>\n",
       "    </tr>\n",
       "    <tr>\n",
       "      <th>25%</th>\n",
       "      <td>2.884487</td>\n",
       "      <td>2.649921e+11</td>\n",
       "      <td>2.654593e+11</td>\n",
       "      <td>2.655624e+11</td>\n",
       "      <td>2.650952e+11</td>\n",
       "      <td>-6.444992</td>\n",
       "      <td>763.000000</td>\n",
       "      <td>884.159840</td>\n",
       "      <td>3.578733</td>\n",
       "      <td>4.147015</td>\n",
       "      <td>-3.132000</td>\n",
       "      <td>4.339000</td>\n",
       "      <td>2.650000e+00</td>\n",
       "      <td>38.389999</td>\n",
       "      <td>36.680000</td>\n",
       "      <td>-80.210499</td>\n",
       "      <td>-80.203859</td>\n",
       "      <td>-80.135335</td>\n",
       "      <td>-80.140178</td>\n",
       "      <td>0.000000</td>\n",
       "    </tr>\n",
       "    <tr>\n",
       "      <th>50%</th>\n",
       "      <td>3.533907</td>\n",
       "      <td>5.568419e+11</td>\n",
       "      <td>5.573507e+11</td>\n",
       "      <td>5.574540e+11</td>\n",
       "      <td>5.569452e+11</td>\n",
       "      <td>-2.245749</td>\n",
       "      <td>975.000000</td>\n",
       "      <td>1212.007927</td>\n",
       "      <td>4.573086</td>\n",
       "      <td>5.684735</td>\n",
       "      <td>2.120000</td>\n",
       "      <td>7.657000</td>\n",
       "      <td>2.650000e+00</td>\n",
       "      <td>40.384998</td>\n",
       "      <td>40.099998</td>\n",
       "      <td>-79.410164</td>\n",
       "      <td>-79.518167</td>\n",
       "      <td>-79.446260</td>\n",
       "      <td>-79.478273</td>\n",
       "      <td>90.000000</td>\n",
       "    </tr>\n",
       "    <tr>\n",
       "      <th>75%</th>\n",
       "      <td>4.518429</td>\n",
       "      <td>8.398033e+11</td>\n",
       "      <td>8.401517e+11</td>\n",
       "      <td>8.402556e+11</td>\n",
       "      <td>8.399072e+11</td>\n",
       "      <td>-0.922911</td>\n",
       "      <td>1281.000000</td>\n",
       "      <td>1437.318817</td>\n",
       "      <td>6.008332</td>\n",
       "      <td>6.741521</td>\n",
       "      <td>6.169000</td>\n",
       "      <td>7.931000</td>\n",
       "      <td>2.650000e+00</td>\n",
       "      <td>41.240002</td>\n",
       "      <td>42.380001</td>\n",
       "      <td>-78.889721</td>\n",
       "      <td>-78.915645</td>\n",
       "      <td>-78.912143</td>\n",
       "      <td>-78.904849</td>\n",
       "      <td>119.000000</td>\n",
       "    </tr>\n",
       "    <tr>\n",
       "      <th>max</th>\n",
       "      <td>223.071976</td>\n",
       "      <td>1.098653e+12</td>\n",
       "      <td>1.099042e+12</td>\n",
       "      <td>1.099146e+12</td>\n",
       "      <td>1.098757e+12</td>\n",
       "      <td>1.568948</td>\n",
       "      <td>2622.000000</td>\n",
       "      <td>2790.850758</td>\n",
       "      <td>12.298084</td>\n",
       "      <td>13.090053</td>\n",
       "      <td>11.442000</td>\n",
       "      <td>9.249000</td>\n",
       "      <td>2.650000e+00</td>\n",
       "      <td>42.095001</td>\n",
       "      <td>47.320004</td>\n",
       "      <td>-77.789719</td>\n",
       "      <td>-77.841382</td>\n",
       "      <td>-77.576361</td>\n",
       "      <td>-77.874253</td>\n",
       "      <td>270.000000</td>\n",
       "    </tr>\n",
       "  </tbody>\n",
       "</table>\n",
       "</div>"
      ],
      "text/plain": [
       "       nlos_indicator            t1            t2            t3            t4  \\\n",
       "count      811.000000  8.110000e+02  8.110000e+02  8.110000e+02  8.110000e+02   \n",
       "mean         8.457861  5.558131e+11  5.561722e+11  5.562757e+11  5.559166e+11   \n",
       "std         20.918864  3.221272e+11  3.221266e+11  3.221266e+11  3.221273e+11   \n",
       "min          0.000000  2.789119e+09  3.061770e+09  3.165892e+09  2.893245e+09   \n",
       "25%          2.884487  2.649921e+11  2.654593e+11  2.655624e+11  2.650952e+11   \n",
       "50%          3.533907  5.568419e+11  5.573507e+11  5.574540e+11  5.569452e+11   \n",
       "75%          4.518429  8.398033e+11  8.401517e+11  8.402556e+11  8.399072e+11   \n",
       "max        223.071976  1.098653e+12  1.099042e+12  1.099146e+12  1.098757e+12   \n",
       "\n",
       "             skew          tof     tof_skew       range  range_skew  \\\n",
       "count  811.000000   811.000000   811.000000  811.000000  811.000000   \n",
       "mean    -3.638422  1068.545006  1256.525792    5.011845    5.893539   \n",
       "std      3.630467   743.122187   663.333309    3.485499    3.111262   \n",
       "min    -11.659438  -613.000000  -105.039218   -2.875181   -0.492670   \n",
       "25%     -6.444992   763.000000   884.159840    3.578733    4.147015   \n",
       "50%     -2.245749   975.000000  1212.007927    4.573086    5.684735   \n",
       "75%     -0.922911  1281.000000  1437.318817    6.008332    6.741521   \n",
       "max      1.568948  2622.000000  2790.850758   12.298084   13.090053   \n",
       "\n",
       "       loc_target_x  loc_target_y  loc_target_z  temperature_initiator  \\\n",
       "count    811.000000    811.000000  8.110000e+02             811.000000   \n",
       "mean       2.161644      6.160223  2.650000e+00              39.470962   \n",
       "std        5.443300      2.407305  3.999269e-14               2.387617   \n",
       "min       -3.962000      2.793000  2.650000e+00              30.410000   \n",
       "25%       -3.132000      4.339000  2.650000e+00              38.389999   \n",
       "50%        2.120000      7.657000  2.650000e+00              40.384998   \n",
       "75%        6.169000      7.931000  2.650000e+00              41.240002   \n",
       "max       11.442000      9.249000  2.650000e+00              42.095001   \n",
       "\n",
       "       temperature_target  rssi_request    rssi_ack   rssi_data   rssi_mean  \\\n",
       "count          811.000000    811.000000  811.000000  811.000000  811.000000   \n",
       "mean            39.866189    -81.912547  -81.637493  -81.563344  -81.704461   \n",
       "std              3.935961      6.646804    5.747475    5.672691    5.954714   \n",
       "min             27.559999   -120.000000 -120.000000 -120.000000 -114.500452   \n",
       "25%             36.680000    -80.210499  -80.203859  -80.135335  -80.140178   \n",
       "50%             40.099998    -79.410164  -79.518167  -79.446260  -79.478273   \n",
       "75%             42.380001    -78.889721  -78.915645  -78.912143  -78.904849   \n",
       "max             47.320004    -77.789719  -77.841382  -77.576361  -77.874253   \n",
       "\n",
       "       orientation  \n",
       "count   811.000000  \n",
       "mean     98.874229  \n",
       "std      96.234892  \n",
       "min       0.000000  \n",
       "25%       0.000000  \n",
       "50%      90.000000  \n",
       "75%     119.000000  \n",
       "max     270.000000  "
      ]
     },
     "execution_count": 73,
     "metadata": {},
     "output_type": "execute_result"
    }
   ],
   "source": [
    "X_train.describe()"
   ]
  },
  {
   "cell_type": "markdown",
   "id": "ed29e45d",
   "metadata": {},
   "source": [
    "#### Premier modele avec toutes les variables"
   ]
  },
  {
   "cell_type": "code",
   "execution_count": 150,
   "id": "c72a0401",
   "metadata": {},
   "outputs": [],
   "source": [
    "reg = RandomForestRegressor()\n",
    "reg = reg.fit(X_train, Y_train)\n",
    "predic_rf=reg.predict(X_test)"
   ]
  },
  {
   "cell_type": "code",
   "execution_count": 151,
   "id": "5a7c9057",
   "metadata": {},
   "outputs": [
    {
     "data": {
      "text/plain": [
       "0.9674293007975261"
      ]
     },
     "execution_count": 151,
     "metadata": {},
     "output_type": "execute_result"
    }
   ],
   "source": [
    "reg.score(X_test,Y_test)"
   ]
  },
  {
   "cell_type": "code",
   "execution_count": 152,
   "id": "bc2ee06e",
   "metadata": {},
   "outputs": [
    {
     "data": {
      "text/plain": [
       "0.25813069570235225"
      ]
     },
     "execution_count": 152,
     "metadata": {},
     "output_type": "execute_result"
    }
   ],
   "source": [
    "np.sqrt(mean_squared_error(Y_test,predic_rf))"
   ]
  },
  {
   "cell_type": "code",
   "execution_count": 153,
   "id": "13fd0f0b",
   "metadata": {},
   "outputs": [
    {
     "data": {
      "text/plain": [
       "0.15896748046071554"
      ]
     },
     "execution_count": 153,
     "metadata": {},
     "output_type": "execute_result"
    }
   ],
   "source": [
    "mean_absolute_error(Y_test, predic_rf)"
   ]
  },
  {
   "cell_type": "code",
   "execution_count": 154,
   "id": "353b5fab",
   "metadata": {},
   "outputs": [
    {
     "data": {
      "text/plain": [
       "0.23384529143602123"
      ]
     },
     "execution_count": 154,
     "metadata": {},
     "output_type": "execute_result"
    }
   ],
   "source": [
    "score_distanceM(Xobserve = Y_test['loc_initiator_x'],\n",
    "                Yobserve = Y_test['loc_initiator_y'],\n",
    "                Xprevu = predic_rf[:,0],\n",
    "                Yprevu = predic_rf[:,1])"
   ]
  },
  {
   "cell_type": "markdown",
   "id": "e034efd8",
   "metadata": {},
   "source": [
    "#### Affichage de ce premier modele"
   ]
  },
  {
   "cell_type": "code",
   "execution_count": 79,
   "id": "925a8281",
   "metadata": {},
   "outputs": [],
   "source": [
    "predic_position = pd.DataFrame(predic_rf, columns=['loc_initiator_x','loc_initiator_y'])"
   ]
  },
  {
   "cell_type": "code",
   "execution_count": 80,
   "id": "2c144af3",
   "metadata": {},
   "outputs": [
    {
     "data": {
      "image/png": "[encoded data removed]",
      "text/plain": [
       "<Figure size 720x504 with 1 Axes>"
      ]
     },
     "metadata": {},
     "output_type": "display_data"
    }
   ],
   "source": [
    "plt.figure(figsize=(10, 7))\n",
    "plt.plot(predic_position['loc_initiator_x'],predic_position['loc_initiator_y'],'*r',label='initiator')\n",
    "plt.plot(data_for_pred['loc_target_x'],data_for_pred['loc_target_y'],\"*b\", label='target')\n",
    "plt.xlabel(\"x location\", fontsize=16)\n",
    "plt.ylabel(\"y location\", fontsize=16)\n",
    "plt.legend(loc='center right', bbox_to_anchor=(1, 0.5))\n",
    "plt.title('Predictive positions of initiator (in red)', fontsize=20);"
   ]
  },
  {
   "cell_type": "code",
   "execution_count": 81,
   "id": "7e7d4b30",
   "metadata": {},
   "outputs": [
    {
     "name": "stdout",
     "output_type": "stream",
     "text": [
      "orientation 0.018936038778316344\n",
      "False 0.018936038778316344\n"
     ]
    }
   ],
   "source": [
    "from sklearn.metrics import accuracy_score\n",
    "list_variable=list(data_for_pred.columns)\n",
    "list_variable_tabou=list_variable\n",
    "variable=[]\n",
    "score=0\n",
    "data_for_pred=data_for_pred.sample(frac=1).reset_index(drop=True)\n",
    "while len(list_variable_tabou)>0:\n",
    "    y=data_for_pred[['loc_initiator_x','loc_initiator_y']]\n",
    "    variable_en_cour=False\n",
    "    for i in list_variable_tabou:\n",
    "        X=data_for_pred[variable+[i]]\n",
    "        x_train, x_test, y_train, y_test = train_test_split(X, y, test_size=0.25)\n",
    "        clf = RandomForestRegressor()\n",
    "        clf= clf.fit(x_train, y_train)\n",
    "        score_test=clf.score(x_test,y_test)\n",
    "    if score_test>score:\n",
    "        score=score_test\n",
    "        variable_en_cour=i\n",
    "    if not(variable_en_cour):\n",
    "        list_variable_tabou=[]\n",
    "    else:\n",
    "        variable.append(variable_en_cour)\n",
    "        del list_variable_tabou[list_variable_tabou.index(variable_en_cour)]\n",
    "    print(variable_en_cour,score)"
   ]
  },
  {
   "cell_type": "markdown",
   "id": "9e079803",
   "metadata": {},
   "source": [
    "Cet algo me dit qu'il faut garder juste orientation... Ça semble faux."
   ]
  },
  {
   "cell_type": "code",
   "execution_count": 82,
   "id": "972eaab1",
   "metadata": {},
   "outputs": [
    {
     "data": {
      "text/plain": [
       "SequentialFeatureSelector(estimator=RandomForestRegressor())"
      ]
     },
     "execution_count": 82,
     "metadata": {},
     "output_type": "execute_result"
    }
   ],
   "source": [
    "reg = RandomForestRegressor()\n",
    "sfs = SequentialFeatureSelector(reg, direction='forward')\n",
    "sfs.fit(X_train, Y_train)"
   ]
  },
  {
   "cell_type": "code",
   "execution_count": 83,
   "id": "236569e5",
   "metadata": {},
   "outputs": [
    {
     "name": "stdout",
     "output_type": "stream",
     "text": [
      "tof\n",
      "tof_skew\n",
      "range\n",
      "range_skew\n",
      "loc_target_x\n",
      "loc_target_y\n",
      "loc_target_z\n",
      "temperature_initiator\n",
      "temperature_target\n",
      "orientation\n"
     ]
    }
   ],
   "source": [
    "var_select = sfs.get_support()\n",
    "list_var_select=['loc_initiator_x','loc_initiator_y']\n",
    "list_variable = X_train.columns.to_list()\n",
    "for i in range(len(list_variable)) :\n",
    "    if var_select[i]:\n",
    "        list_var_select.append(list_variable[i])\n",
    "        print(list_variable[i])"
   ]
  },
  {
   "cell_type": "markdown",
   "id": "4f343d9b",
   "metadata": {},
   "source": [
    "#### Deuxième modèle avec les variables sélectionnées : nlos_indicator, skew, tof, tof_skew, loc_target_y, rssi_data,rssi_mean"
   ]
  },
  {
   "cell_type": "code",
   "execution_count": 84,
   "id": "54ac0237",
   "metadata": {},
   "outputs": [],
   "source": [
    "data_for_pred_select = data_for_pred[list_var_select]"
   ]
  },
  {
   "cell_type": "code",
   "execution_count": 85,
   "id": "8490b5a4",
   "metadata": {},
   "outputs": [],
   "source": [
    "#ceration of test and train with selected variables\n",
    "test,train = train_test_split(data_for_pred_select, test_size=0.3, train_size=0.7, shuffle=True)\n",
    "Y_train = train[['loc_initiator_x', 'loc_initiator_y']]\n",
    "X_train = train.drop([\"loc_initiator_x\",'loc_initiator_y'], axis=1, inplace=False)\n",
    "\n",
    "Y_test = test[['loc_initiator_x', 'loc_initiator_y']]\n",
    "X_test = test.drop([\"loc_initiator_x\",'loc_initiator_y'], axis=1, inplace=False)"
   ]
  },
  {
   "cell_type": "code",
   "execution_count": 86,
   "id": "62944b3d",
   "metadata": {},
   "outputs": [
    {
     "data": {
      "text/plain": [
       "0.9859486164163607"
      ]
     },
     "execution_count": 86,
     "metadata": {},
     "output_type": "execute_result"
    }
   ],
   "source": [
    "reg = RandomForestRegressor()\n",
    "reg = reg.fit(X_train, Y_train)\n",
    "predic_rf_2=reg.predict(X_test)\n",
    "reg.score(X_test,Y_test)"
   ]
  },
  {
   "cell_type": "code",
   "execution_count": 90,
   "id": "c66a089c",
   "metadata": {},
   "outputs": [
    {
     "data": {
      "text/plain": [
       "0.16960302255075457"
      ]
     },
     "execution_count": 90,
     "metadata": {},
     "output_type": "execute_result"
    }
   ],
   "source": [
    "np.sqrt(mean_squared_error(Y_test,predic_rf_2))"
   ]
  },
  {
   "cell_type": "code",
   "execution_count": 91,
   "id": "e9cddd04",
   "metadata": {},
   "outputs": [
    {
     "data": {
      "text/plain": [
       "0.1002324151608638"
      ]
     },
     "execution_count": 91,
     "metadata": {},
     "output_type": "execute_result"
    }
   ],
   "source": [
    "mean_absolute_error(Y_test,predic_rf_2)"
   ]
  },
  {
   "cell_type": "code",
   "execution_count": 92,
   "id": "9f5558ef",
   "metadata": {},
   "outputs": [
    {
     "data": {
      "text/plain": [
       "0.14744905396801888"
      ]
     },
     "execution_count": 92,
     "metadata": {},
     "output_type": "execute_result"
    }
   ],
   "source": [
    "score_distanceM(Xobserve = Y_test['loc_initiator_x'],\n",
    "                Yobserve = Y_test['loc_initiator_y'],\n",
    "                Xprevu = predic_rf_2[:,0],\n",
    "                Yprevu = predic_rf_2[:,1])"
   ]
  },
  {
   "cell_type": "code",
   "execution_count": 93,
   "id": "86dc5b20",
   "metadata": {},
   "outputs": [],
   "source": [
    "predic_position_2 = pd.DataFrame(predic_rf_2, columns=['loc_initiator_x','loc_initiator_y'])"
   ]
  },
  {
   "cell_type": "code",
   "execution_count": 94,
   "id": "864072f7",
   "metadata": {},
   "outputs": [
    {
     "data": {
      "image/png": "[encoded data removed]",
      "text/plain": [
       "<Figure size 720x504 with 1 Axes>"
      ]
     },
     "metadata": {},
     "output_type": "display_data"
    }
   ],
   "source": [
    "plt.figure(figsize=(10, 7))\n",
    "plt.plot(predic_position_2['loc_initiator_x'],predic_position_2['loc_initiator_y'],'*r')\n",
    "plt.plot(data_for_pred['loc_target_x'],data_for_pred['loc_target_y'],\"*b\")\n",
    "plt.xlabel(\"x location\", fontsize=16)\n",
    "plt.ylabel(\"y location\", fontsize=16)\n",
    "plt.title('Predictive positions of initiator (in red)', fontsize=20);"
   ]
  },
  {
   "cell_type": "markdown",
   "id": "08e928a7",
   "metadata": {},
   "source": [
    "### Validation croisée"
   ]
  },
  {
   "cell_type": "code",
   "execution_count": 95,
   "id": "6b84966a",
   "metadata": {},
   "outputs": [],
   "source": [
    "Y = data_for_pred[['loc_initiator_x', 'loc_initiator_y']]\n",
    "X = data_for_pred.drop([\"loc_initiator_x\",'loc_initiator_y'], axis=1, inplace=False)"
   ]
  },
  {
   "cell_type": "code",
   "execution_count": 96,
   "id": "1d95d6a7",
   "metadata": {},
   "outputs": [
    {
     "data": {
      "text/plain": [
       "array([0.98462719, 0.98210528, 0.98746378, 0.9888878 , 0.98609303])"
      ]
     },
     "execution_count": 96,
     "metadata": {},
     "output_type": "execute_result"
    }
   ],
   "source": [
    "reg = RandomForestRegressor()\n",
    "cross_val_score(reg, X, Y, cv=5)"
   ]
  },
  {
   "cell_type": "markdown",
   "id": "0f6b0c0b",
   "metadata": {},
   "source": [
    "## <center>Affichage du score de RandomForest en fonction des paramètres</center>"
   ]
  },
  {
   "cell_type": "markdown",
   "id": "4f1ac75c",
   "metadata": {},
   "source": [
    "#### On va faire varier n_estimators qui correspond au nombre d'arbres de décisions utilisés."
   ]
  },
  {
   "cell_type": "code",
   "execution_count": 97,
   "id": "5352c2d4",
   "metadata": {},
   "outputs": [],
   "source": [
    "scores_estimators = []"
   ]
  },
  {
   "cell_type": "code",
   "execution_count": 98,
   "id": "24595743",
   "metadata": {},
   "outputs": [],
   "source": [
    "reg_50 = RandomForestRegressor(n_estimators = 1)\n",
    "reg_50 = reg_50.fit(X_train, Y_train)\n",
    "scores_estimators.append(reg_50.score(X_test,Y_test))"
   ]
  },
  {
   "cell_type": "code",
   "execution_count": 99,
   "id": "ea651d31",
   "metadata": {},
   "outputs": [],
   "source": [
    "reg_100 = RandomForestRegressor(n_estimators = 100)\n",
    "reg = reg_100.fit(X_train, Y_train)\n",
    "scores_estimators.append(reg_100.score(X_test,Y_test))"
   ]
  },
  {
   "cell_type": "code",
   "execution_count": 100,
   "id": "d74c22d5",
   "metadata": {},
   "outputs": [],
   "source": [
    "reg_150 = RandomForestRegressor(n_estimators = 150)\n",
    "reg_150 = reg_150.fit(X_train, Y_train)\n",
    "scores_estimators.append(reg_150.score(X_test,Y_test))"
   ]
  },
  {
   "cell_type": "code",
   "execution_count": 101,
   "id": "043b442c",
   "metadata": {},
   "outputs": [],
   "source": [
    "reg_200 = RandomForestRegressor(n_estimators = 200)\n",
    "reg_200 = reg_200.fit(X_train, Y_train)\n",
    "scores_estimators.append(reg_200.score(X_test,Y_test))"
   ]
  },
  {
   "cell_type": "code",
   "execution_count": 102,
   "id": "01e306c7",
   "metadata": {},
   "outputs": [
    {
     "data": {
      "text/plain": [
       "[0.9686084956288927,\n",
       " 0.9862703649011717,\n",
       " 0.9862584546244232,\n",
       " 0.9862040259534892]"
      ]
     },
     "execution_count": 102,
     "metadata": {},
     "output_type": "execute_result"
    }
   ],
   "source": [
    "scores_estimators"
   ]
  },
  {
   "cell_type": "code",
   "execution_count": 103,
   "id": "8b0f7f77",
   "metadata": {},
   "outputs": [
    {
     "name": "stderr",
     "output_type": "stream",
     "text": [
      "/home/sid2019-6/anaconda3/lib/python3.9/site-packages/seaborn/_decorators.py:36: FutureWarning: Pass the following variables as keyword args: x, y. From version 0.12, the only valid positional argument will be `data`, and passing other arguments without an explicit keyword will result in an error or misinterpretation.\n",
      "  warnings.warn(\n"
     ]
    },
    {
     "data": {
      "text/plain": [
       "Text(0.5, 1.0, 'Scores with different number of trees')"
      ]
     },
     "execution_count": 103,
     "metadata": {},
     "output_type": "execute_result"
    },
    {
     "data": {
      "image/png": "[encoded data removed]",
      "text/plain": [
       "<Figure size 432x288 with 1 Axes>"
      ]
     },
     "metadata": {},
     "output_type": "display_data"
    }
   ],
   "source": [
    "sns.barplot(['1_tree','100_trees','150_trees', '200_trees'],scores_estimators)\n",
    "plt.text(-0.1, round(scores_estimators[0],2), round(scores_estimators[0],2), horizontalalignment='left', weight='semibold')\n",
    "plt.text(0.9,round(scores_estimators[1],2), round(scores_estimators[1],2), horizontalalignment='left', weight='semibold')\n",
    "plt.text(1.9, round(scores_estimators[2],2), round(scores_estimators[2],2), horizontalalignment='left', weight='semibold')\n",
    "plt.text(2.9, round(scores_estimators[3],2), round(scores_estimators[3],2), horizontalalignment='left', weight='semibold')\n",
    "plt.title(\"Scores with different number of trees\",fontsize=15)"
   ]
  },
  {
   "cell_type": "markdown",
   "id": "9b851e09",
   "metadata": {},
   "source": [
    "À partir de 100 arbres, le score ne change plus. 100 arbres est la valeur par défaut de RandomForest"
   ]
  },
  {
   "cell_type": "markdown",
   "id": "d6e14862",
   "metadata": {},
   "source": [
    "#### On va faire varier max_depth qui correspond au nombre d'arbres de décisions utilisés."
   ]
  },
  {
   "cell_type": "code",
   "execution_count": 104,
   "id": "ef840fb9",
   "metadata": {},
   "outputs": [],
   "source": [
    "scores_depth = []"
   ]
  },
  {
   "cell_type": "code",
   "execution_count": 105,
   "id": "ba2bc448",
   "metadata": {},
   "outputs": [],
   "source": [
    "reg_3 = RandomForestRegressor(max_depth = 3)\n",
    "reg_3 = reg_3.fit(X_train, Y_train)\n",
    "scores_depth.append(reg_3.score(X_test,Y_test))"
   ]
  },
  {
   "cell_type": "code",
   "execution_count": 106,
   "id": "f2520492",
   "metadata": {},
   "outputs": [],
   "source": [
    "reg_15 = RandomForestRegressor(max_depth = 6)\n",
    "reg_15 = reg_15.fit(X_train, Y_train)\n",
    "scores_depth.append(reg_15.score(X_test,Y_test))"
   ]
  },
  {
   "cell_type": "code",
   "execution_count": 107,
   "id": "9d6205ec",
   "metadata": {},
   "outputs": [],
   "source": [
    "reg_30 = RandomForestRegressor(max_depth = 9)\n",
    "reg_30 = reg_30.fit(X_train, Y_train)\n",
    "scores_depth.append(reg_30.score(X_test,Y_test))"
   ]
  },
  {
   "cell_type": "code",
   "execution_count": 108,
   "id": "599f0bc8",
   "metadata": {},
   "outputs": [],
   "source": [
    "reg_300 = RandomForestRegressor(max_depth = 12)\n",
    "reg_300 = reg_300.fit(X_train, Y_train)\n",
    "scores_depth.append(reg_300.score(X_test,Y_test))"
   ]
  },
  {
   "cell_type": "code",
   "execution_count": 109,
   "id": "67ad9999",
   "metadata": {},
   "outputs": [
    {
     "name": "stderr",
     "output_type": "stream",
     "text": [
      "/home/sid2019-6/anaconda3/lib/python3.9/site-packages/seaborn/_decorators.py:36: FutureWarning: Pass the following variables as keyword args: x, y. From version 0.12, the only valid positional argument will be `data`, and passing other arguments without an explicit keyword will result in an error or misinterpretation.\n",
      "  warnings.warn(\n"
     ]
    },
    {
     "data": {
      "text/plain": [
       "Text(0.5, 1.0, 'Scores with different maximum depth')"
      ]
     },
     "execution_count": 109,
     "metadata": {},
     "output_type": "execute_result"
    },
    {
     "data": {
      "image/png": "[encoded data removed]",
      "text/plain": [
       "<Figure size 432x288 with 1 Axes>"
      ]
     },
     "metadata": {},
     "output_type": "display_data"
    }
   ],
   "source": [
    "sns.barplot(['max_depth_3','max_depth_6','max_depth_9','max_depth_12'],scores_depth)\n",
    "plt.text(-0.1, round(scores_depth[0],2), round(scores_depth[0],2), horizontalalignment='left', weight='semibold')\n",
    "plt.text(0.9,round(scores_depth[1],2), round(scores_depth[1],2), horizontalalignment='left', weight='semibold')\n",
    "plt.text(1.9, round(scores_depth[2],2), round(scores_depth[2],2), horizontalalignment='left', weight='semibold')\n",
    "plt.text(2.9, round(scores_depth[3],2), round(scores_depth[3],2), horizontalalignment='left', weight='semibold')\n",
    "plt.title(\"Scores with different maximum depth\",fontsize=15)"
   ]
  },
  {
   "cell_type": "markdown",
   "id": "65888544",
   "metadata": {},
   "source": [
    "#### On va faire varier max_depth et n_estimators en même temps "
   ]
  },
  {
   "cell_type": "code",
   "execution_count": 110,
   "id": "15ece13a",
   "metadata": {},
   "outputs": [],
   "source": [
    "list_estimators = [1,100,150,200]\n",
    "list_depth = [3,6,9,12]"
   ]
  },
  {
   "cell_type": "code",
   "execution_count": 111,
   "id": "afef6e1a",
   "metadata": {},
   "outputs": [],
   "source": [
    "dic_score = {} #{max_depth : n_estimators}\n",
    "for i in range(len(list_estimators)):\n",
    "    n_estimator = list_estimators[i]\n",
    "    list_score = []\n",
    "    for j in range(len(list_estimators)):\n",
    "        max_depth = list_depth[j]\n",
    "        reg = RandomForestRegressor(max_depth = max_depth,n_estimators=n_estimator)\n",
    "        reg = reg.fit(X_train, Y_train)\n",
    "        list_score.append(reg.score(X_test,Y_test))\n",
    "    dic_score[n_estimator]=list_score"
   ]
  },
  {
   "cell_type": "code",
   "execution_count": 112,
   "id": "eb419a9c",
   "metadata": {},
   "outputs": [
    {
     "data": {
      "text/plain": [
       "{1: [0.936964623087754,\n",
       "  0.9457560721926976,\n",
       "  0.963912871760198,\n",
       "  0.9664171271421412],\n",
       " 100: [0.9418282985067419,\n",
       "  0.9634356691638026,\n",
       "  0.9807654959345901,\n",
       "  0.9857374569376282],\n",
       " 150: [0.9420690744259956,\n",
       "  0.9630531428917937,\n",
       "  0.9811291421262198,\n",
       "  0.9859767395008667],\n",
       " 200: [0.9417425974444161,\n",
       "  0.9636627732823463,\n",
       "  0.9809013599497742,\n",
       "  0.9859982463881237]}"
      ]
     },
     "execution_count": 112,
     "metadata": {},
     "output_type": "execute_result"
    }
   ],
   "source": [
    "dic_score"
   ]
  },
  {
   "cell_type": "code",
   "execution_count": 113,
   "id": "19241fe7",
   "metadata": {},
   "outputs": [
    {
     "data": {
      "image/png": "[encoded data removed]",
      "text/plain": [
       "<Figure size 936x936 with 4 Axes>"
      ]
     },
     "metadata": {},
     "output_type": "display_data"
    }
   ],
   "source": [
    "fig = plt.figure(figsize=(13,13))\n",
    "i=1\n",
    "for key in dic_score.keys() :\n",
    "    ax = fig.add_subplot(2,2,i)\n",
    "    bar1 = sns.barplot(x = list_depth,\n",
    "                       y = dic_score[key])  \n",
    "    plt.text(-0.1, round(dic_score[key][0],2), round(dic_score[key][0],2), horizontalalignment='left', weight='semibold')\n",
    "    plt.text(0.9,round(dic_score[key][1],2), round(dic_score[key][1],2), horizontalalignment='left', weight='semibold')\n",
    "    plt.text(1.9, round(dic_score[key][2],2), round(dic_score[key][2],2), horizontalalignment='left', weight='semibold')\n",
    "    plt.text(2.9, round(dic_score[key][3],2), round(dic_score[key][3],2), horizontalalignment='left', weight='semibold')\n",
    "    ax.set_xlabel(\"Max depth\")       \n",
    "    ax.set_ylabel(\"Predictive score\")     \n",
    "    ax.set_yticks(np.arange(0, 1,0.2))       \n",
    "    ax.set_title(\"Predictive score following the maximum \\ndepth allowed for \"+str(key)+\" trees\")   \n",
    "    i+=1"
   ]
  },
  {
   "cell_type": "code",
   "execution_count": 114,
   "id": "a79c3a18",
   "metadata": {},
   "outputs": [
    {
     "data": {
      "image/png": "[encoded data removed]",
      "text/plain": [
       "<Figure size 936x936 with 4 Axes>"
      ]
     },
     "metadata": {},
     "output_type": "display_data"
    }
   ],
   "source": [
    "fig = plt.figure(figsize=(13,13))\n",
    "k=1\n",
    "for i in range(len(list_estimators)):\n",
    "    n_estimator = list_estimators[i]\n",
    "    list_erreur= []\n",
    "    for j in range(len(list_depth)):\n",
    "        max_depth = list_depth[j]\n",
    "        reg = RandomForestRegressor(max_depth = max_depth,n_estimators=n_estimator)\n",
    "        reg = reg.fit(X_train, Y_train)\n",
    "        predic=reg.predict(X_test)\n",
    "        list_erreur.append(score_distanceM(Xobserve = Y_test['loc_initiator_x'],\n",
    "                Yobserve = Y_test['loc_initiator_y'],\n",
    "                Xprevu = predic[:,0],\n",
    "                Yprevu = predic[:,1]))\n",
    "    ax = fig.add_subplot(2,2,k)\n",
    "    bar = sns.barplot(x = list_depth,\n",
    "                      y = list_erreur)  \n",
    "    plt.text(-0.1, round(list_erreur[0],2), round(list_erreur[0],2), horizontalalignment='left', weight='semibold')\n",
    "    plt.text(0.9,round(list_erreur[1],2), round(list_erreur[1],2), horizontalalignment='left', weight='semibold')\n",
    "    plt.text(1.9, round(list_erreur[2],2), round(list_erreur[2],2), horizontalalignment='left', weight='semibold')\n",
    "    plt.text(2.9, round(list_erreur[3],2), round(list_erreur[3],2), horizontalalignment='left', weight='semibold')\n",
    "    ax.set_xlabel(\"Max depth\")       \n",
    "    ax.set_ylabel(\"Predictive error\")     \n",
    "    ax.set_yticks(np.arange(0, max(list_erreur),0.2))       \n",
    "    ax.set_title(\"Predictive error (paul's function) following the maximum \\ndepth allowed for \"+str(n_estimator)+\" trees\")   \n",
    "    k+=1"
   ]
  },
  {
   "cell_type": "markdown",
   "id": "12791c90",
   "metadata": {},
   "source": [
    "Le maximum de profondeur a un effet sur la prédiction alors que le nombre d'arbre n'a pas beaucoup d'influence. Globalement, on observe la même évolution que ce soit pour 1 arbre ou 200 mais le score augment quand on augmente le maximum de profondeur."
   ]
  },
  {
   "cell_type": "code",
   "execution_count": 115,
   "id": "d8b399cc",
   "metadata": {},
   "outputs": [],
   "source": [
    "from sklearn.model_selection import GridSearchCV"
   ]
  },
  {
   "cell_type": "code",
   "execution_count": 116,
   "id": "2666a830",
   "metadata": {},
   "outputs": [
    {
     "data": {
      "text/plain": [
       "GridSearchCV(estimator=RandomForestRegressor(),\n",
       "             param_grid={'max_depth': [3, 6, 9, 12, 20, 30],\n",
       "                         'n_estimators': [1, 100, 150, 200]})"
      ]
     },
     "execution_count": 116,
     "metadata": {},
     "output_type": "execute_result"
    }
   ],
   "source": [
    "parameters = {'max_depth':[3,6,9,12,20,30],\n",
    "              'n_estimators':[1,100,150,200]}\n",
    "reg = RandomForestRegressor()\n",
    "clf = GridSearchCV(reg, parameters)\n",
    "clf.fit(X, Y)"
   ]
  },
  {
   "cell_type": "code",
   "execution_count": 117,
   "id": "39738775",
   "metadata": {},
   "outputs": [
    {
     "data": {
      "text/plain": [
       "{'mean_fit_time': array([0.01204653, 0.72917333, 1.20730033, 1.59784937, 0.01918368,\n",
       "        1.25907607, 1.86138468, 2.11494098, 0.01695609, 1.41793261,\n",
       "        2.11785564, 2.76775298, 0.01842217, 1.62064972, 2.39731956,\n",
       "        3.69176464, 0.02002764, 1.77263708, 2.58884215, 3.429286  ,\n",
       "        0.02007284, 1.70877976, 2.63388805, 3.49295759]),\n",
       " 'std_fit_time': array([2.45908832e-03, 1.20861728e-01, 8.88942432e-02, 9.30832518e-02,\n",
       "        2.80190392e-03, 1.21944263e-01, 2.68191492e-01, 3.10559365e-02,\n",
       "        7.54797661e-04, 2.66808324e-02, 2.63463264e-02, 3.35880728e-02,\n",
       "        2.20591095e-04, 3.09018718e-02, 4.57083736e-02, 4.47985915e-01,\n",
       "        4.04180941e-04, 1.39474816e-01, 6.76904369e-02, 2.72861800e-02,\n",
       "        5.61659455e-04, 1.31991053e-02, 3.99038760e-02, 8.83917957e-02]),\n",
       " 'mean_score_time': array([0.00288115, 0.01233201, 0.0187304 , 0.02440796, 0.00351224,\n",
       "        0.01510625, 0.01840839, 0.01911907, 0.0024972 , 0.0129065 ,\n",
       "        0.01805477, 0.02284389, 0.00224414, 0.0142725 , 0.02092304,\n",
       "        0.03037462, 0.00230589, 0.01583753, 0.0224812 , 0.02916031,\n",
       "        0.00236917, 0.01580195, 0.02289972, 0.03008204]),\n",
       " 'std_score_time': array([1.43510447e-04, 2.51728452e-03, 4.34451573e-03, 3.47900145e-03,\n",
       "        7.75339471e-04, 3.29418568e-03, 4.01792616e-03, 6.54575687e-04,\n",
       "        3.83260754e-04, 6.59741239e-04, 4.93459568e-04, 6.54933231e-04,\n",
       "        3.03249688e-05, 7.17153257e-05, 6.73844731e-04, 5.00823542e-03,\n",
       "        5.59806824e-05, 8.06259113e-04, 1.01082889e-03, 1.53340955e-04,\n",
       "        8.04512045e-05, 5.89727272e-04, 6.27985497e-04, 1.45079308e-03]),\n",
       " 'param_max_depth': masked_array(data=[3, 3, 3, 3, 6, 6, 6, 6, 9, 9, 9, 9, 12, 12, 12, 12, 20,\n",
       "                    20, 20, 20, 30, 30, 30, 30],\n",
       "              mask=[False, False, False, False, False, False, False, False,\n",
       "                    False, False, False, False, False, False, False, False,\n",
       "                    False, False, False, False, False, False, False, False],\n",
       "        fill_value='?',\n",
       "             dtype=object),\n",
       " 'param_n_estimators': masked_array(data=[1, 100, 150, 200, 1, 100, 150, 200, 1, 100, 150, 200,\n",
       "                    1, 100, 150, 200, 1, 100, 150, 200, 1, 100, 150, 200],\n",
       "              mask=[False, False, False, False, False, False, False, False,\n",
       "                    False, False, False, False, False, False, False, False,\n",
       "                    False, False, False, False, False, False, False, False],\n",
       "        fill_value='?',\n",
       "             dtype=object),\n",
       " 'params': [{'max_depth': 3, 'n_estimators': 1},\n",
       "  {'max_depth': 3, 'n_estimators': 100},\n",
       "  {'max_depth': 3, 'n_estimators': 150},\n",
       "  {'max_depth': 3, 'n_estimators': 200},\n",
       "  {'max_depth': 6, 'n_estimators': 1},\n",
       "  {'max_depth': 6, 'n_estimators': 100},\n",
       "  {'max_depth': 6, 'n_estimators': 150},\n",
       "  {'max_depth': 6, 'n_estimators': 200},\n",
       "  {'max_depth': 9, 'n_estimators': 1},\n",
       "  {'max_depth': 9, 'n_estimators': 100},\n",
       "  {'max_depth': 9, 'n_estimators': 150},\n",
       "  {'max_depth': 9, 'n_estimators': 200},\n",
       "  {'max_depth': 12, 'n_estimators': 1},\n",
       "  {'max_depth': 12, 'n_estimators': 100},\n",
       "  {'max_depth': 12, 'n_estimators': 150},\n",
       "  {'max_depth': 12, 'n_estimators': 200},\n",
       "  {'max_depth': 20, 'n_estimators': 1},\n",
       "  {'max_depth': 20, 'n_estimators': 100},\n",
       "  {'max_depth': 20, 'n_estimators': 150},\n",
       "  {'max_depth': 20, 'n_estimators': 200},\n",
       "  {'max_depth': 30, 'n_estimators': 1},\n",
       "  {'max_depth': 30, 'n_estimators': 100},\n",
       "  {'max_depth': 30, 'n_estimators': 150},\n",
       "  {'max_depth': 30, 'n_estimators': 200}],\n",
       " 'split0_test_score': array([0.9340046 , 0.93356454, 0.93354793, 0.93374244, 0.95048017,\n",
       "        0.9601001 , 0.96025884, 0.96026761, 0.9693829 , 0.97618951,\n",
       "        0.97635321, 0.97589834, 0.97506338, 0.9832125 , 0.98326575,\n",
       "        0.98347963, 0.97058271, 0.98503711, 0.98463901, 0.98469485,\n",
       "        0.97065849, 0.98450341, 0.98469482, 0.98464741]),\n",
       " 'split1_test_score': array([0.93050849, 0.93325756, 0.93289036, 0.93338221, 0.94647943,\n",
       "        0.95534865, 0.95529391, 0.9550955 , 0.9573007 , 0.97420188,\n",
       "        0.97510328, 0.97476255, 0.95714879, 0.98045269, 0.98138981,\n",
       "        0.98108218, 0.96384171, 0.98245016, 0.98267165, 0.98205331,\n",
       "        0.9566492 , 0.98288192, 0.98187904, 0.98259259]),\n",
       " 'split2_test_score': array([0.93962473, 0.94269413, 0.94243241, 0.94251655, 0.95461658,\n",
       "        0.9601804 , 0.96019191, 0.95995889, 0.95912718, 0.97884725,\n",
       "        0.97869652, 0.97888949, 0.96834564, 0.98617044, 0.98624764,\n",
       "        0.98626478, 0.95838646, 0.98701175, 0.98762028, 0.98732698,\n",
       "        0.96478824, 0.98747967, 0.98721638, 0.98748959]),\n",
       " 'split3_test_score': array([0.93702817, 0.93978367, 0.93950557, 0.94022928, 0.95630903,\n",
       "        0.96087603, 0.96102869, 0.96097441, 0.96475672, 0.97938239,\n",
       "        0.97938045, 0.97936589, 0.96111461, 0.98756842, 0.98775426,\n",
       "        0.98797836, 0.97679554, 0.98901775, 0.98879847, 0.98916994,\n",
       "        0.97368195, 0.9890205 , 0.98894366, 0.98912803]),\n",
       " 'split4_test_score': array([0.93523108, 0.93811996, 0.93753415, 0.93762225, 0.95110346,\n",
       "        0.95963255, 0.95958842, 0.9596188 , 0.96044476, 0.97750988,\n",
       "        0.97736039, 0.97722309, 0.97097472, 0.98420747, 0.98487615,\n",
       "        0.98435542, 0.97061491, 0.98539702, 0.98582966, 0.98588935,\n",
       "        0.95901411, 0.98611701, 0.9856179 , 0.98597537]),\n",
       " 'mean_test_score': array([0.93527941, 0.93748397, 0.93718208, 0.93749855, 0.95179773,\n",
       "        0.95922755, 0.95927235, 0.95918304, 0.96220245, 0.97722618,\n",
       "        0.97737877, 0.97722787, 0.96652943, 0.98432231, 0.98470672,\n",
       "        0.98463207, 0.96804426, 0.98578276, 0.98591181, 0.98582689,\n",
       "        0.9649584 , 0.9860005 , 0.98567036, 0.9859666 ]),\n",
       " 'std_test_score': array([0.00304398, 0.00363492, 0.00359762, 0.00356946, 0.00342929,\n",
       "        0.00197973, 0.00204114, 0.00209213, 0.00435103, 0.00187503,\n",
       "        0.00154746, 0.00174227, 0.00652999, 0.00245649, 0.00222571,\n",
       "        0.00236092, 0.00633358, 0.00218113, 0.00216227, 0.00240631,\n",
       "        0.00652683, 0.00215818, 0.00238467, 0.00225559]),\n",
       " 'rank_test_score': array([24, 22, 23, 21, 20, 18, 17, 19, 16, 12, 10, 11, 14,  9,  7,  8, 13,\n",
       "         5,  3,  4, 15,  1,  6,  2], dtype=int32)}"
      ]
     },
     "execution_count": 117,
     "metadata": {},
     "output_type": "execute_result"
    }
   ],
   "source": [
    "clf.cv_results_"
   ]
  },
  {
   "cell_type": "code",
   "execution_count": 118,
   "id": "8195e3dd",
   "metadata": {},
   "outputs": [
    {
     "data": {
      "text/plain": [
       "{'max_depth': 30, 'n_estimators': 100}"
      ]
     },
     "execution_count": 118,
     "metadata": {},
     "output_type": "execute_result"
    }
   ],
   "source": [
    "params_opti = clf.cv_results_['params'][clf.best_index_]\n",
    "params_opti"
   ]
  },
  {
   "cell_type": "markdown",
   "id": "bf3b2d41",
   "metadata": {},
   "source": [
    "### Test avec les paramètres optimaux"
   ]
  },
  {
   "cell_type": "code",
   "execution_count": 119,
   "id": "97d146b1",
   "metadata": {},
   "outputs": [],
   "source": [
    "test,train = train_test_split(data_for_pred, test_size=0.25, train_size=0.75, shuffle=True)\n",
    "Y_train = train[['loc_initiator_x', 'loc_initiator_y']]\n",
    "X_train = train.drop([\"loc_initiator_x\",'loc_initiator_y'], axis=1, inplace=False)\n",
    "\n",
    "Y_test = test[['loc_initiator_x', 'loc_initiator_y']]\n",
    "X_test = test.drop([\"loc_initiator_x\",'loc_initiator_y'], axis=1, inplace=False)"
   ]
  },
  {
   "cell_type": "code",
   "execution_count": 120,
   "id": "1ca21862",
   "metadata": {},
   "outputs": [
    {
     "data": {
      "text/plain": [
       "0.966263617126205"
      ]
     },
     "execution_count": 120,
     "metadata": {},
     "output_type": "execute_result"
    }
   ],
   "source": [
    "reg = RandomForestRegressor(max_depth = params_opti['max_depth'], n_estimators = params_opti['n_estimators'])\n",
    "reg = reg.fit(X_train, Y_train)\n",
    "predic_rf_opti=reg.predict(X_test)\n",
    "reg.score(X_test,Y_test)"
   ]
  },
  {
   "cell_type": "code",
   "execution_count": 121,
   "id": "ab2ebdbf",
   "metadata": {},
   "outputs": [
    {
     "data": {
      "text/plain": [
       "0.23715756117715395"
      ]
     },
     "execution_count": 121,
     "metadata": {},
     "output_type": "execute_result"
    }
   ],
   "source": [
    "score_distanceM(Xobserve = Y_test['loc_initiator_x'],\n",
    "                Yobserve = Y_test['loc_initiator_y'],\n",
    "                Xprevu = predic_rf_opti[:,0],\n",
    "                Yprevu = predic_rf_opti[:,1])"
   ]
  },
  {
   "cell_type": "code",
   "execution_count": 122,
   "id": "dcaacdf3",
   "metadata": {},
   "outputs": [
    {
     "data": {
      "text/plain": [
       "0.16121960510078173"
      ]
     },
     "execution_count": 122,
     "metadata": {},
     "output_type": "execute_result"
    }
   ],
   "source": [
    "mean_absolute_error(Y_test, predic_rf_opti)"
   ]
  },
  {
   "cell_type": "code",
   "execution_count": 123,
   "id": "995e6e34",
   "metadata": {},
   "outputs": [
    {
     "data": {
      "text/plain": [
       "0.26270844529416454"
      ]
     },
     "execution_count": 123,
     "metadata": {},
     "output_type": "execute_result"
    }
   ],
   "source": [
    "np.sqrt(mean_squared_error(Y_test,predic_rf_opti))"
   ]
  },
  {
   "cell_type": "code",
   "execution_count": 124,
   "id": "a5e5418d",
   "metadata": {},
   "outputs": [
    {
     "data": {
      "image/png": "[encoded data removed]",
      "text/plain": [
       "<Figure size 720x504 with 1 Axes>"
      ]
     },
     "metadata": {},
     "output_type": "display_data"
    }
   ],
   "source": [
    "predic_position_opti = pd.DataFrame(predic_rf_opti, columns=['loc_initiator_x','loc_initiator_y'])\n",
    "plt.figure(figsize=(10, 7))\n",
    "plt.plot(predic_position_opti['loc_initiator_x'],predic_position_opti['loc_initiator_y'],'*r',label='initiator')\n",
    "plt.plot(data_for_pred['loc_target_x'],data_for_pred['loc_target_y'],\"*b\", label='target')\n",
    "plt.xlabel(\"x location\", fontsize=16)\n",
    "plt.ylabel(\"y location\", fontsize=16)\n",
    "plt.legend(loc='center right', bbox_to_anchor=(1, 0.5))\n",
    "plt.title('Predictive positions of initiator (in red)', fontsize=20);"
   ]
  },
  {
   "cell_type": "code",
   "execution_count": null,
   "id": "531f54c2",
   "metadata": {},
   "outputs": [],
   "source": []
  }
 ],
 "metadata": {
  "kernelspec": {
   "display_name": "Python 3 (ipykernel)",
   "language": "python",
   "name": "python3"
  },
  "language_info": {
   "codemirror_mode": {
    "name": "ipython",
    "version": 3
   },
   "file_extension": ".py",
   "mimetype": "text/x-python",
   "name": "python",
   "nbconvert_exporter": "python",
   "pygments_lexer": "ipython3",
   "version": "3.9.7"
  }
 },
 "nbformat": 4,
 "nbformat_minor": 5
}
