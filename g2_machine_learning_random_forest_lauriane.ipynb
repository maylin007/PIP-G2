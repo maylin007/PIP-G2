{
 "cells": [
  {
   "cell_type": "markdown",
   "id": "c09b78cf",
   "metadata": {},
   "source": [
    "**Created on 05/01/2022**\n",
    "\n",
    "**Group 2**\n",
    "\n",
    "**Authors: LaurianeBompay**\n",
    "\n",
    "**License: this code is released under the CeCILL 2.1 license. See\n",
    "https://www.cecill.info/licenses/Licence_CeCILL_V2.1-en.txt**\n"
   ]
  },
  {
   "cell_type": "code",
   "execution_count": 1,
   "id": "24186320",
   "metadata": {},
   "outputs": [],
   "source": [
    "import os\n",
    "import sys\n",
    "import math\n",
    "from sklearn.model_selection import train_test_split, cross_val_score\n",
    "import numpy as np\n",
    "import pandas as pd\n",
    "import matplotlib.pyplot as plt\n",
    "import seaborn as sns\n",
    "from sklearn.ensemble import RandomForestRegressor\n",
    "from sklearn.metrics import mean_squared_error\n",
    "from sklearn.feature_selection import SequentialFeatureSelector"
   ]
  },
  {
   "cell_type": "code",
   "execution_count": 2,
   "id": "bcc8f777",
   "metadata": {},
   "outputs": [],
   "source": [
    "sns.set_style('darkgrid')"
   ]
  },
  {
   "cell_type": "code",
   "execution_count": 3,
   "id": "6c5506b8",
   "metadata": {},
   "outputs": [],
   "source": [
    "#data importation \n",
    "data_1 = pd.read_csv(\"newData.csv\", index_col = 0)\n",
    "#data_0 = pd.read_csv(\"positions.csv\")"
   ]
  },
  {
   "cell_type": "markdown",
   "id": "652adecd",
   "metadata": {},
   "source": [
    "Il faudra changer l'imporation des données quand on aura le jeu de données avec les changements de repaires."
   ]
  },
  {
   "cell_type": "raw",
   "id": "a2e84b2c",
   "metadata": {},
   "source": [
    "#add orientation\n",
    "extract_orientation = data_0[['node_id','orientation']]\n",
    "extract_orientation.rename(columns={\"node_id\": \"target\"}, inplace=True)\n",
    "data_1 = data_1.merge(extract_orientation, how='left', on = 'target')"
   ]
  },
  {
   "cell_type": "markdown",
   "id": "0514fe16",
   "metadata": {},
   "source": [
    "## <center>Remplacement des -inf</center>"
   ]
  },
  {
   "cell_type": "code",
   "execution_count": 4,
   "id": "275c6197",
   "metadata": {},
   "outputs": [],
   "source": [
    "data_1.replace([-np.inf], -120, inplace=True)"
   ]
  },
  {
   "cell_type": "markdown",
   "id": "baf46b52",
   "metadata": {},
   "source": [
    "Les -inf sont dans les rssi et indique que le signal est très mauvais (ce n'est pas un nan) donc on remplace par -120 car c'est la valeur qui indique un mauvais signal (voir la doc sur les rssi)"
   ]
  },
  {
   "cell_type": "raw",
   "id": "82582f85",
   "metadata": {},
   "source": [
    "#data selection\n",
    "data_1.drop('ranging_unit', axis=1, inplace=True)\n",
    "data_1.drop('register_dump_CIR', axis=1, inplace=True)\n",
    "data_1.drop('initiator', axis=1, inplace=True)\n",
    "data_1.drop('protocol', axis=1, inplace=True)\n",
    "data_1.drop('loc_initiator_z', axis=1, inplace=True)"
   ]
  },
  {
   "cell_type": "code",
   "execution_count": 5,
   "id": "3b4058f0",
   "metadata": {},
   "outputs": [
    {
     "data": {
      "text/html": [
       "<div>\n",
       "<style scoped>\n",
       "    .dataframe tbody tr th:only-of-type {\n",
       "        vertical-align: middle;\n",
       "    }\n",
       "\n",
       "    .dataframe tbody tr th {\n",
       "        vertical-align: top;\n",
       "    }\n",
       "\n",
       "    .dataframe thead th {\n",
       "        text-align: right;\n",
       "    }\n",
       "</style>\n",
       "<table border=\"1\" class=\"dataframe\">\n",
       "  <thead>\n",
       "    <tr style=\"text-align: right;\">\n",
       "      <th></th>\n",
       "      <th>target</th>\n",
       "      <th>nlos_indicator</th>\n",
       "      <th>t1</th>\n",
       "      <th>t2</th>\n",
       "      <th>t3</th>\n",
       "      <th>t4</th>\n",
       "      <th>skew</th>\n",
       "      <th>tof</th>\n",
       "      <th>tof_skew</th>\n",
       "      <th>range</th>\n",
       "      <th>...</th>\n",
       "      <th>course_dist</th>\n",
       "      <th>temperature_initiator</th>\n",
       "      <th>temperature_target</th>\n",
       "      <th>timestamp</th>\n",
       "      <th>seqnum</th>\n",
       "      <th>rssi_request</th>\n",
       "      <th>rssi_ack</th>\n",
       "      <th>rssi_data</th>\n",
       "      <th>rssi_mean</th>\n",
       "      <th>repaire</th>\n",
       "    </tr>\n",
       "  </thead>\n",
       "  <tbody>\n",
       "    <tr>\n",
       "      <th>count</th>\n",
       "      <td>19730.000000</td>\n",
       "      <td>19730.000000</td>\n",
       "      <td>1.973000e+04</td>\n",
       "      <td>1.973000e+04</td>\n",
       "      <td>1.973000e+04</td>\n",
       "      <td>1.973000e+04</td>\n",
       "      <td>19730.000000</td>\n",
       "      <td>19730.000000</td>\n",
       "      <td>19730.000000</td>\n",
       "      <td>19730.000000</td>\n",
       "      <td>...</td>\n",
       "      <td>19730.000000</td>\n",
       "      <td>19730.000000</td>\n",
       "      <td>19730.000000</td>\n",
       "      <td>1.973000e+04</td>\n",
       "      <td>19730.000000</td>\n",
       "      <td>19730.000000</td>\n",
       "      <td>19730.000000</td>\n",
       "      <td>19730.000000</td>\n",
       "      <td>19730.000000</td>\n",
       "      <td>19730.000000</td>\n",
       "    </tr>\n",
       "    <tr>\n",
       "      <th>mean</th>\n",
       "      <td>148.315256</td>\n",
       "      <td>7.215384</td>\n",
       "      <td>5.505930e+11</td>\n",
       "      <td>5.509284e+11</td>\n",
       "      <td>5.510320e+11</td>\n",
       "      <td>5.506966e+11</td>\n",
       "      <td>-2.755970</td>\n",
       "      <td>999.946275</td>\n",
       "      <td>1142.269047</td>\n",
       "      <td>4.690093</td>\n",
       "      <td>...</td>\n",
       "      <td>3.617079</td>\n",
       "      <td>39.577380</td>\n",
       "      <td>39.555326</td>\n",
       "      <td>1.654930e+12</td>\n",
       "      <td>2200.960720</td>\n",
       "      <td>-81.090100</td>\n",
       "      <td>-80.970815</td>\n",
       "      <td>-80.836828</td>\n",
       "      <td>-81.005838</td>\n",
       "      <td>106.200000</td>\n",
       "    </tr>\n",
       "    <tr>\n",
       "      <th>std</th>\n",
       "      <td>35.801496</td>\n",
       "      <td>19.474280</td>\n",
       "      <td>3.164088e+11</td>\n",
       "      <td>3.164091e+11</td>\n",
       "      <td>3.164091e+11</td>\n",
       "      <td>3.164088e+11</td>\n",
       "      <td>3.762077</td>\n",
       "      <td>674.275845</td>\n",
       "      <td>646.644922</td>\n",
       "      <td>3.162586</td>\n",
       "      <td>...</td>\n",
       "      <td>2.026579</td>\n",
       "      <td>2.341626</td>\n",
       "      <td>3.781826</td>\n",
       "      <td>3.017622e+05</td>\n",
       "      <td>1216.021329</td>\n",
       "      <td>5.635227</td>\n",
       "      <td>5.072462</td>\n",
       "      <td>4.817778</td>\n",
       "      <td>5.385790</td>\n",
       "      <td>61.171477</td>\n",
       "    </tr>\n",
       "    <tr>\n",
       "      <th>min</th>\n",
       "      <td>100.000000</td>\n",
       "      <td>0.000000</td>\n",
       "      <td>6.062043e+07</td>\n",
       "      <td>2.633300e+08</td>\n",
       "      <td>3.679996e+08</td>\n",
       "      <td>1.652910e+08</td>\n",
       "      <td>-11.659438</td>\n",
       "      <td>-613.000000</td>\n",
       "      <td>-152.480214</td>\n",
       "      <td>-2.875181</td>\n",
       "      <td>...</td>\n",
       "      <td>0.000000</td>\n",
       "      <td>30.410000</td>\n",
       "      <td>27.559999</td>\n",
       "      <td>1.654930e+12</td>\n",
       "      <td>1.000000</td>\n",
       "      <td>-120.000000</td>\n",
       "      <td>-120.000000</td>\n",
       "      <td>-120.000000</td>\n",
       "      <td>-120.000000</td>\n",
       "      <td>0.000000</td>\n",
       "    </tr>\n",
       "    <tr>\n",
       "      <th>25%</th>\n",
       "      <td>101.000000</td>\n",
       "      <td>2.956454</td>\n",
       "      <td>2.778599e+11</td>\n",
       "      <td>2.782487e+11</td>\n",
       "      <td>2.783513e+11</td>\n",
       "      <td>2.779625e+11</td>\n",
       "      <td>-5.783573</td>\n",
       "      <td>655.000000</td>\n",
       "      <td>715.849019</td>\n",
       "      <td>3.072176</td>\n",
       "      <td>...</td>\n",
       "      <td>1.899738</td>\n",
       "      <td>38.959999</td>\n",
       "      <td>36.680000</td>\n",
       "      <td>1.654930e+12</td>\n",
       "      <td>1174.000000</td>\n",
       "      <td>-79.967224</td>\n",
       "      <td>-79.988684</td>\n",
       "      <td>-79.884079</td>\n",
       "      <td>-79.886929</td>\n",
       "      <td>100.000000</td>\n",
       "    </tr>\n",
       "    <tr>\n",
       "      <th>50%</th>\n",
       "      <td>171.000000</td>\n",
       "      <td>3.524929</td>\n",
       "      <td>5.528798e+11</td>\n",
       "      <td>5.532044e+11</td>\n",
       "      <td>5.533074e+11</td>\n",
       "      <td>5.529824e+11</td>\n",
       "      <td>-1.784294</td>\n",
       "      <td>898.000000</td>\n",
       "      <td>998.316717</td>\n",
       "      <td>4.211930</td>\n",
       "      <td>...</td>\n",
       "      <td>3.699628</td>\n",
       "      <td>40.384998</td>\n",
       "      <td>39.340000</td>\n",
       "      <td>1.654930e+12</td>\n",
       "      <td>2231.500000</td>\n",
       "      <td>-79.230034</td>\n",
       "      <td>-79.305238</td>\n",
       "      <td>-79.218111</td>\n",
       "      <td>-79.237715</td>\n",
       "      <td>101.000000</td>\n",
       "    </tr>\n",
       "    <tr>\n",
       "      <th>75%</th>\n",
       "      <td>180.000000</td>\n",
       "      <td>4.342597</td>\n",
       "      <td>8.239225e+11</td>\n",
       "      <td>8.243395e+11</td>\n",
       "      <td>8.244432e+11</td>\n",
       "      <td>8.240262e+11</td>\n",
       "      <td>0.338401</td>\n",
       "      <td>1222.000000</td>\n",
       "      <td>1355.550936</td>\n",
       "      <td>5.731602</td>\n",
       "      <td>...</td>\n",
       "      <td>5.399282</td>\n",
       "      <td>41.240002</td>\n",
       "      <td>42.380001</td>\n",
       "      <td>1.654931e+12</td>\n",
       "      <td>3252.000000</td>\n",
       "      <td>-78.659592</td>\n",
       "      <td>-78.701023</td>\n",
       "      <td>-78.666953</td>\n",
       "      <td>-78.686635</td>\n",
       "      <td>150.000000</td>\n",
       "    </tr>\n",
       "    <tr>\n",
       "      <th>max</th>\n",
       "      <td>184.000000</td>\n",
       "      <td>342.462982</td>\n",
       "      <td>1.099128e+12</td>\n",
       "      <td>1.099376e+12</td>\n",
       "      <td>1.099479e+12</td>\n",
       "      <td>1.099231e+12</td>\n",
       "      <td>4.829899</td>\n",
       "      <td>2636.000000</td>\n",
       "      <td>2860.190262</td>\n",
       "      <td>12.363750</td>\n",
       "      <td>...</td>\n",
       "      <td>6.999961</td>\n",
       "      <td>42.380001</td>\n",
       "      <td>47.320004</td>\n",
       "      <td>1.654931e+12</td>\n",
       "      <td>4260.000000</td>\n",
       "      <td>-77.162437</td>\n",
       "      <td>-77.516188</td>\n",
       "      <td>-77.428716</td>\n",
       "      <td>-77.478065</td>\n",
       "      <td>180.000000</td>\n",
       "    </tr>\n",
       "  </tbody>\n",
       "</table>\n",
       "<p>8 rows × 28 columns</p>\n",
       "</div>"
      ],
      "text/plain": [
       "             target  nlos_indicator            t1            t2            t3  \\\n",
       "count  19730.000000    19730.000000  1.973000e+04  1.973000e+04  1.973000e+04   \n",
       "mean     148.315256        7.215384  5.505930e+11  5.509284e+11  5.510320e+11   \n",
       "std       35.801496       19.474280  3.164088e+11  3.164091e+11  3.164091e+11   \n",
       "min      100.000000        0.000000  6.062043e+07  2.633300e+08  3.679996e+08   \n",
       "25%      101.000000        2.956454  2.778599e+11  2.782487e+11  2.783513e+11   \n",
       "50%      171.000000        3.524929  5.528798e+11  5.532044e+11  5.533074e+11   \n",
       "75%      180.000000        4.342597  8.239225e+11  8.243395e+11  8.244432e+11   \n",
       "max      184.000000      342.462982  1.099128e+12  1.099376e+12  1.099479e+12   \n",
       "\n",
       "                 t4          skew           tof      tof_skew         range  \\\n",
       "count  1.973000e+04  19730.000000  19730.000000  19730.000000  19730.000000   \n",
       "mean   5.506966e+11     -2.755970    999.946275   1142.269047      4.690093   \n",
       "std    3.164088e+11      3.762077    674.275845    646.644922      3.162586   \n",
       "min    1.652910e+08    -11.659438   -613.000000   -152.480214     -2.875181   \n",
       "25%    2.779625e+11     -5.783573    655.000000    715.849019      3.072176   \n",
       "50%    5.529824e+11     -1.784294    898.000000    998.316717      4.211930   \n",
       "75%    8.240262e+11      0.338401   1222.000000   1355.550936      5.731602   \n",
       "max    1.099231e+12      4.829899   2636.000000   2860.190262     12.363750   \n",
       "\n",
       "       ...   course_dist  temperature_initiator  temperature_target  \\\n",
       "count  ...  19730.000000           19730.000000        19730.000000   \n",
       "mean   ...      3.617079              39.577380           39.555326   \n",
       "std    ...      2.026579               2.341626            3.781826   \n",
       "min    ...      0.000000              30.410000           27.559999   \n",
       "25%    ...      1.899738              38.959999           36.680000   \n",
       "50%    ...      3.699628              40.384998           39.340000   \n",
       "75%    ...      5.399282              41.240002           42.380001   \n",
       "max    ...      6.999961              42.380001           47.320004   \n",
       "\n",
       "          timestamp        seqnum  rssi_request      rssi_ack     rssi_data  \\\n",
       "count  1.973000e+04  19730.000000  19730.000000  19730.000000  19730.000000   \n",
       "mean   1.654930e+12   2200.960720    -81.090100    -80.970815    -80.836828   \n",
       "std    3.017622e+05   1216.021329      5.635227      5.072462      4.817778   \n",
       "min    1.654930e+12      1.000000   -120.000000   -120.000000   -120.000000   \n",
       "25%    1.654930e+12   1174.000000    -79.967224    -79.988684    -79.884079   \n",
       "50%    1.654930e+12   2231.500000    -79.230034    -79.305238    -79.218111   \n",
       "75%    1.654931e+12   3252.000000    -78.659592    -78.701023    -78.666953   \n",
       "max    1.654931e+12   4260.000000    -77.162437    -77.516188    -77.428716   \n",
       "\n",
       "          rssi_mean       repaire  \n",
       "count  19730.000000  19730.000000  \n",
       "mean     -81.005838    106.200000  \n",
       "std        5.385790     61.171477  \n",
       "min     -120.000000      0.000000  \n",
       "25%      -79.886929    100.000000  \n",
       "50%      -79.237715    101.000000  \n",
       "75%      -78.686635    150.000000  \n",
       "max      -77.478065    180.000000  \n",
       "\n",
       "[8 rows x 28 columns]"
      ]
     },
     "execution_count": 5,
     "metadata": {},
     "output_type": "execute_result"
    }
   ],
   "source": [
    "data_1.describe()"
   ]
  },
  {
   "cell_type": "markdown",
   "id": "a2b6ec83",
   "metadata": {},
   "source": [
    "## <center>Test du modèle random forest pour determiner le position</center>"
   ]
  },
  {
   "cell_type": "markdown",
   "id": "ea316652",
   "metadata": {},
   "source": [
    "### Selection des variables pour la prédiction de position"
   ]
  },
  {
   "cell_type": "code",
   "execution_count": 6,
   "id": "f1abe610",
   "metadata": {},
   "outputs": [],
   "source": [
    "data_for_pred = data_1.drop(['target',\n",
    "                             'range',\n",
    "                             'range_skew',\n",
    "                             'ranging_error',\n",
    "                             'distance',\n",
    "                             'loc_target_z',\n",
    "                             'timestamp',\n",
    "                             'course_dist',\n",
    "                             'temperature_initiator',\n",
    "                             'temperature_target',\n",
    "                             'seqnum'],axis=1, inplace=False)"
   ]
  },
  {
   "cell_type": "markdown",
   "id": "b1142b09",
   "metadata": {},
   "source": [
    "On supprime course_dist car c'est équivalent à la localisation"
   ]
  },
  {
   "cell_type": "code",
   "execution_count": 7,
   "id": "c558d3a4",
   "metadata": {},
   "outputs": [],
   "source": [
    "var = data_for_pred.columns.to_list()\n",
    "y=data_for_pred[['loc_initiator_x','loc_initiator_y']]"
   ]
  },
  {
   "cell_type": "code",
   "execution_count": 8,
   "id": "8168ed82",
   "metadata": {},
   "outputs": [],
   "source": [
    "#ceration of test and train\n",
    "test,train = train_test_split(data_for_pred, test_size=0.3, train_size=0.7, shuffle=True)\n",
    "Y_train = train[['loc_initiator_x', 'loc_initiator_y']]\n",
    "X_train = train.drop([\"loc_initiator_x\",'loc_initiator_y'], axis=1, inplace=False)\n",
    "\n",
    "Y_test = test[['loc_initiator_x', 'loc_initiator_y']]\n",
    "X_test = test.drop([\"loc_initiator_x\",'loc_initiator_y'], axis=1, inplace=False)"
   ]
  },
  {
   "cell_type": "code",
   "execution_count": 9,
   "id": "a680ddca",
   "metadata": {},
   "outputs": [
    {
     "data": {
      "text/html": [
       "<div>\n",
       "<style scoped>\n",
       "    .dataframe tbody tr th:only-of-type {\n",
       "        vertical-align: middle;\n",
       "    }\n",
       "\n",
       "    .dataframe tbody tr th {\n",
       "        vertical-align: top;\n",
       "    }\n",
       "\n",
       "    .dataframe thead th {\n",
       "        text-align: right;\n",
       "    }\n",
       "</style>\n",
       "<table border=\"1\" class=\"dataframe\">\n",
       "  <thead>\n",
       "    <tr style=\"text-align: right;\">\n",
       "      <th></th>\n",
       "      <th>nlos_indicator</th>\n",
       "      <th>t1</th>\n",
       "      <th>t2</th>\n",
       "      <th>t3</th>\n",
       "      <th>t4</th>\n",
       "      <th>skew</th>\n",
       "      <th>tof</th>\n",
       "      <th>tof_skew</th>\n",
       "      <th>loc_target_x</th>\n",
       "      <th>loc_target_y</th>\n",
       "      <th>rssi_request</th>\n",
       "      <th>rssi_ack</th>\n",
       "      <th>rssi_data</th>\n",
       "      <th>rssi_mean</th>\n",
       "      <th>repaire</th>\n",
       "    </tr>\n",
       "  </thead>\n",
       "  <tbody>\n",
       "    <tr>\n",
       "      <th>count</th>\n",
       "      <td>5919.000000</td>\n",
       "      <td>5.919000e+03</td>\n",
       "      <td>5.919000e+03</td>\n",
       "      <td>5.919000e+03</td>\n",
       "      <td>5.919000e+03</td>\n",
       "      <td>5919.000000</td>\n",
       "      <td>5919.000000</td>\n",
       "      <td>5919.000000</td>\n",
       "      <td>5919.000000</td>\n",
       "      <td>5919.000000</td>\n",
       "      <td>5919.000000</td>\n",
       "      <td>5919.000000</td>\n",
       "      <td>5919.000000</td>\n",
       "      <td>5919.000000</td>\n",
       "      <td>5919.000000</td>\n",
       "    </tr>\n",
       "    <tr>\n",
       "      <th>mean</th>\n",
       "      <td>7.092815</td>\n",
       "      <td>5.490204e+11</td>\n",
       "      <td>5.493567e+11</td>\n",
       "      <td>5.494604e+11</td>\n",
       "      <td>5.491241e+11</td>\n",
       "      <td>-2.700063</td>\n",
       "      <td>999.420172</td>\n",
       "      <td>1138.849099</td>\n",
       "      <td>-0.921032</td>\n",
       "      <td>-0.790017</td>\n",
       "      <td>-81.035921</td>\n",
       "      <td>-80.935002</td>\n",
       "      <td>-80.802599</td>\n",
       "      <td>-80.956722</td>\n",
       "      <td>105.550262</td>\n",
       "    </tr>\n",
       "    <tr>\n",
       "      <th>std</th>\n",
       "      <td>18.616286</td>\n",
       "      <td>3.160009e+11</td>\n",
       "      <td>3.160010e+11</td>\n",
       "      <td>3.160010e+11</td>\n",
       "      <td>3.160009e+11</td>\n",
       "      <td>3.723144</td>\n",
       "      <td>667.191604</td>\n",
       "      <td>642.332581</td>\n",
       "      <td>8.066806</td>\n",
       "      <td>4.720162</td>\n",
       "      <td>5.543724</td>\n",
       "      <td>5.032963</td>\n",
       "      <td>4.814977</td>\n",
       "      <td>5.300372</td>\n",
       "      <td>61.698493</td>\n",
       "    </tr>\n",
       "    <tr>\n",
       "      <th>min</th>\n",
       "      <td>0.000000</td>\n",
       "      <td>6.268428e+08</td>\n",
       "      <td>8.283915e+08</td>\n",
       "      <td>9.327546e+08</td>\n",
       "      <td>7.312068e+08</td>\n",
       "      <td>-11.167219</td>\n",
       "      <td>-613.000000</td>\n",
       "      <td>-152.480214</td>\n",
       "      <td>-15.404000</td>\n",
       "      <td>-9.249000</td>\n",
       "      <td>-120.000000</td>\n",
       "      <td>-120.000000</td>\n",
       "      <td>-120.000000</td>\n",
       "      <td>-120.000000</td>\n",
       "      <td>0.000000</td>\n",
       "    </tr>\n",
       "    <tr>\n",
       "      <th>25%</th>\n",
       "      <td>2.973421</td>\n",
       "      <td>2.775482e+11</td>\n",
       "      <td>2.780123e+11</td>\n",
       "      <td>2.781163e+11</td>\n",
       "      <td>2.776522e+11</td>\n",
       "      <td>-5.706664</td>\n",
       "      <td>644.000000</td>\n",
       "      <td>717.208556</td>\n",
       "      <td>-7.359000</td>\n",
       "      <td>-4.671000</td>\n",
       "      <td>-79.950134</td>\n",
       "      <td>-79.967225</td>\n",
       "      <td>-79.865237</td>\n",
       "      <td>-79.863833</td>\n",
       "      <td>100.000000</td>\n",
       "    </tr>\n",
       "    <tr>\n",
       "      <th>50%</th>\n",
       "      <td>3.545041</td>\n",
       "      <td>5.507730e+11</td>\n",
       "      <td>5.510722e+11</td>\n",
       "      <td>5.511748e+11</td>\n",
       "      <td>5.508764e+11</td>\n",
       "      <td>-1.815058</td>\n",
       "      <td>893.000000</td>\n",
       "      <td>994.030478</td>\n",
       "      <td>-0.830000</td>\n",
       "      <td>-1.546000</td>\n",
       "      <td>-79.220329</td>\n",
       "      <td>-79.306363</td>\n",
       "      <td>-79.231050</td>\n",
       "      <td>-79.245549</td>\n",
       "      <td>101.000000</td>\n",
       "    </tr>\n",
       "    <tr>\n",
       "      <th>75%</th>\n",
       "      <td>4.379286</td>\n",
       "      <td>8.237931e+11</td>\n",
       "      <td>8.242618e+11</td>\n",
       "      <td>8.243650e+11</td>\n",
       "      <td>8.238963e+11</td>\n",
       "      <td>0.369164</td>\n",
       "      <td>1217.000000</td>\n",
       "      <td>1342.679801</td>\n",
       "      <td>5.252000</td>\n",
       "      <td>3.318000</td>\n",
       "      <td>-78.654350</td>\n",
       "      <td>-78.701023</td>\n",
       "      <td>-78.667944</td>\n",
       "      <td>-78.679182</td>\n",
       "      <td>150.000000</td>\n",
       "    </tr>\n",
       "    <tr>\n",
       "      <th>max</th>\n",
       "      <td>342.462982</td>\n",
       "      <td>1.099128e+12</td>\n",
       "      <td>1.099376e+12</td>\n",
       "      <td>1.099479e+12</td>\n",
       "      <td>1.099231e+12</td>\n",
       "      <td>4.829899</td>\n",
       "      <td>2636.000000</td>\n",
       "      <td>2860.190262</td>\n",
       "      <td>15.404000</td>\n",
       "      <td>9.249000</td>\n",
       "      <td>-77.162437</td>\n",
       "      <td>-77.516188</td>\n",
       "      <td>-77.428716</td>\n",
       "      <td>-77.478065</td>\n",
       "      <td>180.000000</td>\n",
       "    </tr>\n",
       "  </tbody>\n",
       "</table>\n",
       "</div>"
      ],
      "text/plain": [
       "       nlos_indicator            t1            t2            t3            t4  \\\n",
       "count     5919.000000  5.919000e+03  5.919000e+03  5.919000e+03  5.919000e+03   \n",
       "mean         7.092815  5.490204e+11  5.493567e+11  5.494604e+11  5.491241e+11   \n",
       "std         18.616286  3.160009e+11  3.160010e+11  3.160010e+11  3.160009e+11   \n",
       "min          0.000000  6.268428e+08  8.283915e+08  9.327546e+08  7.312068e+08   \n",
       "25%          2.973421  2.775482e+11  2.780123e+11  2.781163e+11  2.776522e+11   \n",
       "50%          3.545041  5.507730e+11  5.510722e+11  5.511748e+11  5.508764e+11   \n",
       "75%          4.379286  8.237931e+11  8.242618e+11  8.243650e+11  8.238963e+11   \n",
       "max        342.462982  1.099128e+12  1.099376e+12  1.099479e+12  1.099231e+12   \n",
       "\n",
       "              skew          tof     tof_skew  loc_target_x  loc_target_y  \\\n",
       "count  5919.000000  5919.000000  5919.000000   5919.000000   5919.000000   \n",
       "mean     -2.700063   999.420172  1138.849099     -0.921032     -0.790017   \n",
       "std       3.723144   667.191604   642.332581      8.066806      4.720162   \n",
       "min     -11.167219  -613.000000  -152.480214    -15.404000     -9.249000   \n",
       "25%      -5.706664   644.000000   717.208556     -7.359000     -4.671000   \n",
       "50%      -1.815058   893.000000   994.030478     -0.830000     -1.546000   \n",
       "75%       0.369164  1217.000000  1342.679801      5.252000      3.318000   \n",
       "max       4.829899  2636.000000  2860.190262     15.404000      9.249000   \n",
       "\n",
       "       rssi_request     rssi_ack    rssi_data    rssi_mean      repaire  \n",
       "count   5919.000000  5919.000000  5919.000000  5919.000000  5919.000000  \n",
       "mean     -81.035921   -80.935002   -80.802599   -80.956722   105.550262  \n",
       "std        5.543724     5.032963     4.814977     5.300372    61.698493  \n",
       "min     -120.000000  -120.000000  -120.000000  -120.000000     0.000000  \n",
       "25%      -79.950134   -79.967225   -79.865237   -79.863833   100.000000  \n",
       "50%      -79.220329   -79.306363   -79.231050   -79.245549   101.000000  \n",
       "75%      -78.654350   -78.701023   -78.667944   -78.679182   150.000000  \n",
       "max      -77.162437   -77.516188   -77.428716   -77.478065   180.000000  "
      ]
     },
     "execution_count": 9,
     "metadata": {},
     "output_type": "execute_result"
    }
   ],
   "source": [
    "X_train.describe()"
   ]
  },
  {
   "cell_type": "markdown",
   "id": "ed29e45d",
   "metadata": {},
   "source": [
    "#### Premier modele avec toutes les variables"
   ]
  },
  {
   "cell_type": "code",
   "execution_count": 10,
   "id": "c72a0401",
   "metadata": {},
   "outputs": [],
   "source": [
    "reg = RandomForestRegressor()\n",
    "reg = reg.fit(X_train, Y_train)\n",
    "predic_rf=reg.predict(X_test)"
   ]
  },
  {
   "cell_type": "code",
   "execution_count": 11,
   "id": "5a7c9057",
   "metadata": {},
   "outputs": [
    {
     "data": {
      "text/plain": [
       "0.9784876749247335"
      ]
     },
     "execution_count": 11,
     "metadata": {},
     "output_type": "execute_result"
    }
   ],
   "source": [
    "reg.score(X_test,Y_test)"
   ]
  },
  {
   "cell_type": "code",
   "execution_count": 12,
   "id": "bc2ee06e",
   "metadata": {},
   "outputs": [
    {
     "data": {
      "text/plain": [
       "0.3595911923818976"
      ]
     },
     "execution_count": 12,
     "metadata": {},
     "output_type": "execute_result"
    }
   ],
   "source": [
    "mean_squared_error(Y_test,predic_rf)"
   ]
  },
  {
   "cell_type": "markdown",
   "id": "e034efd8",
   "metadata": {},
   "source": [
    "#### Affichage de ce premier modele"
   ]
  },
  {
   "cell_type": "code",
   "execution_count": 13,
   "id": "925a8281",
   "metadata": {},
   "outputs": [],
   "source": [
    "predic_position = pd.DataFrame(predic_rf, columns=['loc_initiator_x','loc_initiator_y'])"
   ]
  },
  {
   "cell_type": "code",
   "execution_count": 14,
   "id": "2c144af3",
   "metadata": {},
   "outputs": [
    {
     "data": {
      "image/png": "[encoded data removed]",
      "text/plain": [
       "<Figure size 720x504 with 1 Axes>"
      ]
     },
     "metadata": {},
     "output_type": "display_data"
    }
   ],
   "source": [
    "plt.figure(figsize=(10, 7))\n",
    "plt.plot(predic_position['loc_initiator_x'],predic_position['loc_initiator_y'],'*r')\n",
    "plt.plot(data_for_pred['loc_target_x'],data_for_pred['loc_target_y'],\"*b\")\n",
    "plt.xlabel(\"x location\", fontsize=16)\n",
    "plt.ylabel(\"y location\", fontsize=16)\n",
    "plt.title('Predictive positions of initiator (in red)', fontsize=20);"
   ]
  },
  {
   "cell_type": "code",
   "execution_count": 15,
   "id": "7e7d4b30",
   "metadata": {},
   "outputs": [
    {
     "name": "stdout",
     "output_type": "stream",
     "text": [
      "repaire 0.8770187191274795\n",
      "False 0.8770187191274795\n"
     ]
    }
   ],
   "source": [
    "from sklearn.metrics import accuracy_score\n",
    "list_variable=['nlos_indicator',\n",
    " 't1',\n",
    " 't2',\n",
    " 't3',\n",
    " 't4',\n",
    " 'skew',\n",
    " 'tof',\n",
    " 'tof_skew',\n",
    " 'loc_target_x',\n",
    " 'loc_target_y',\n",
    " 'rssi_request',\n",
    " 'rssi_ack',\n",
    " 'rssi_data',\n",
    " 'rssi_mean',\n",
    " 'repaire']\n",
    "list_variable_tabou=list_variable\n",
    "variable=[]\n",
    "score=0\n",
    "data_for_pred=data_for_pred.sample(frac=1).reset_index(drop=True)\n",
    "while len(list_variable_tabou)>0:\n",
    "    y=data_for_pred[['loc_initiator_x','loc_initiator_y']]\n",
    "    variable_en_cour=False\n",
    "    for i in list_variable_tabou:\n",
    "        X=data_for_pred[variable+[i]]\n",
    "        x_train, x_test, y_train, y_test = train_test_split(X, y, test_size=0.25, random_state=42)\n",
    "        clf = RandomForestRegressor()\n",
    "        clf= clf.fit(x_train, y_train)\n",
    "        score_test=clf.score(x_test,y_test)\n",
    "    if score_test>score:\n",
    "        score=score_test\n",
    "        variable_en_cour=i\n",
    "    if variable_en_cour==False:\n",
    "        list_variable_tabou=[]\n",
    "    else:\n",
    "        variable.append(variable_en_cour)\n",
    "        del list_variable_tabou[list_variable_tabou.index(variable_en_cour)]\n",
    "    print(variable_en_cour,score)"
   ]
  },
  {
   "cell_type": "markdown",
   "id": "9e079803",
   "metadata": {},
   "source": [
    "Cet algo me dit qu'il faut garder juste repaire mais ça semble faux"
   ]
  },
  {
   "cell_type": "code",
   "execution_count": 16,
   "id": "972eaab1",
   "metadata": {},
   "outputs": [
    {
     "data": {
      "text/plain": [
       "SequentialFeatureSelector(estimator=RandomForestRegressor())"
      ]
     },
     "execution_count": 16,
     "metadata": {},
     "output_type": "execute_result"
    }
   ],
   "source": [
    "reg = RandomForestRegressor()\n",
    "sfs = SequentialFeatureSelector(reg, direction='forward')\n",
    "sfs.fit(X_train, Y_train)"
   ]
  },
  {
   "cell_type": "code",
   "execution_count": 17,
   "id": "236569e5",
   "metadata": {},
   "outputs": [
    {
     "name": "stdout",
     "output_type": "stream",
     "text": [
      "nlos_indicator\n",
      "skew\n",
      "tof\n",
      "tof_skew\n",
      "loc_target_y\n",
      "rssi_request\n",
      "rssi_mean\n"
     ]
    }
   ],
   "source": [
    "var_select = sfs.get_support()\n",
    "list_variable = X_train.columns.to_list()\n",
    "for i in range(len(list_variable)) :\n",
    "    if var_select[i]:\n",
    "        print(list_variable[i])"
   ]
  },
  {
   "cell_type": "markdown",
   "id": "4f343d9b",
   "metadata": {},
   "source": [
    "#### Deuxième modèle avec les variables sélectionnées : nlos_indicator, skew, tof, tof_skew, loc_target_y, rssi_data,rssi_mean"
   ]
  },
  {
   "cell_type": "code",
   "execution_count": 18,
   "id": "8490b5a4",
   "metadata": {},
   "outputs": [],
   "source": [
    "#ceration of test and train with selected variables\n",
    "test,train = train_test_split(data_for_pred[['nlos_indicator',\n",
    "                                             'skew',\n",
    "                                             'tof',\n",
    "                                             'tof_skew',\n",
    "                                             'loc_target_y',\n",
    "                                             'rssi_data',\n",
    "                                             'rssi_ack',\n",
    "                                             'loc_initiator_x',\n",
    "                                             'loc_initiator_y']], test_size=0.3, train_size=0.7, shuffle=True)\n",
    "Y_train = train[['loc_initiator_x', 'loc_initiator_y']]\n",
    "X_train = train.drop([\"loc_initiator_x\",'loc_initiator_y'], axis=1, inplace=False)\n",
    "\n",
    "Y_test = test[['loc_initiator_x', 'loc_initiator_y']]\n",
    "X_test = test.drop([\"loc_initiator_x\",'loc_initiator_y'], axis=1, inplace=False)"
   ]
  },
  {
   "cell_type": "code",
   "execution_count": 19,
   "id": "62944b3d",
   "metadata": {},
   "outputs": [
    {
     "data": {
      "text/plain": [
       "0.9791166981028143"
      ]
     },
     "execution_count": 19,
     "metadata": {},
     "output_type": "execute_result"
    }
   ],
   "source": [
    "reg = RandomForestRegressor()\n",
    "reg = reg.fit(X_train, Y_train)\n",
    "predic_rf=reg.predict(X_test)\n",
    "reg.score(X_test,Y_test)"
   ]
  },
  {
   "cell_type": "code",
   "execution_count": 20,
   "id": "c66a089c",
   "metadata": {},
   "outputs": [
    {
     "data": {
      "text/plain": [
       "0.3513471193844245"
      ]
     },
     "execution_count": 20,
     "metadata": {},
     "output_type": "execute_result"
    }
   ],
   "source": [
    "mean_squared_error(Y_test,predic_rf)"
   ]
  },
  {
   "cell_type": "code",
   "execution_count": 21,
   "id": "86dc5b20",
   "metadata": {},
   "outputs": [],
   "source": [
    "predic_position_2 = pd.DataFrame(predic_rf, columns=['loc_initiator_x','loc_initiator_y'])"
   ]
  },
  {
   "cell_type": "code",
   "execution_count": 22,
   "id": "864072f7",
   "metadata": {},
   "outputs": [
    {
     "data": {
      "image/png": "[encoded data removed]",
      "text/plain": [
       "<Figure size 720x504 with 1 Axes>"
      ]
     },
     "metadata": {},
     "output_type": "display_data"
    }
   ],
   "source": [
    "plt.figure(figsize=(10, 7))\n",
    "plt.plot(predic_position_2['loc_initiator_x'],predic_position_2['loc_initiator_y'],'*r')\n",
    "plt.plot(data_for_pred['loc_target_x'],data_for_pred['loc_target_y'],\"*b\")\n",
    "plt.xlabel(\"x location\", fontsize=16)\n",
    "plt.ylabel(\"y location\", fontsize=16)\n",
    "plt.title('Predictive positions of initiator (in red)', fontsize=20);"
   ]
  },
  {
   "cell_type": "markdown",
   "id": "08e928a7",
   "metadata": {},
   "source": [
    "### Validation croisée"
   ]
  },
  {
   "cell_type": "code",
   "execution_count": 23,
   "id": "4427877c",
   "metadata": {},
   "outputs": [],
   "source": [
    "data_for_pred = data_for_pred[['nlos_indicator',\n",
    "                                             'skew',\n",
    "                                             'tof',\n",
    "                                             'tof_skew',\n",
    "                                             'loc_target_y',\n",
    "                                             'rssi_data',\n",
    "                                             'rssi_ack',\n",
    "                                             'loc_initiator_x',\n",
    "                                             'loc_initiator_y']] "
   ]
  },
  {
   "cell_type": "code",
   "execution_count": 24,
   "id": "6b84966a",
   "metadata": {},
   "outputs": [],
   "source": [
    "Y = data_for_pred[['loc_initiator_x', 'loc_initiator_y']]\n",
    "X = data_for_pred.drop([\"loc_initiator_x\",'loc_initiator_y'], axis=1, inplace=False)"
   ]
  },
  {
   "cell_type": "code",
   "execution_count": 25,
   "id": "1d95d6a7",
   "metadata": {},
   "outputs": [
    {
     "data": {
      "text/plain": [
       "array([0.98443626, 0.9829646 , 0.98623172, 0.98259152, 0.98364193])"
      ]
     },
     "execution_count": 25,
     "metadata": {},
     "output_type": "execute_result"
    }
   ],
   "source": [
    "reg = RandomForestRegressor()\n",
    "cross_val_score(reg, X, Y, cv=5)"
   ]
  },
  {
   "cell_type": "markdown",
   "id": "0f6b0c0b",
   "metadata": {},
   "source": [
    "## <center>Affichage du score de RandomForest en fonction des paramètres</center>"
   ]
  },
  {
   "cell_type": "markdown",
   "id": "4f1ac75c",
   "metadata": {},
   "source": [
    "#### On va faire varier n_estimators qui correspond au nombre d'arbres de décisions utilisés."
   ]
  },
  {
   "cell_type": "code",
   "execution_count": 98,
   "id": "5352c2d4",
   "metadata": {},
   "outputs": [],
   "source": [
    "scores_estimators = []"
   ]
  },
  {
   "cell_type": "code",
   "execution_count": 99,
   "id": "24595743",
   "metadata": {},
   "outputs": [],
   "source": [
    "reg_50 = RandomForestRegressor(n_estimators = 1)\n",
    "reg_50 = reg_50.fit(X_train, Y_train)\n",
    "scores_estimators.append(reg_50.score(X_test,Y_test))"
   ]
  },
  {
   "cell_type": "code",
   "execution_count": 100,
   "id": "ea651d31",
   "metadata": {},
   "outputs": [],
   "source": [
    "reg_100 = RandomForestRegressor(n_estimators = 100)\n",
    "reg = reg_100.fit(X_train, Y_train)\n",
    "scores_estimators.append(reg_100.score(X_test,Y_test))"
   ]
  },
  {
   "cell_type": "code",
   "execution_count": 101,
   "id": "d74c22d5",
   "metadata": {},
   "outputs": [],
   "source": [
    "reg_150 = RandomForestRegressor(n_estimators = 150)\n",
    "reg_150 = reg_150.fit(X_train, Y_train)\n",
    "scores_estimators.append(reg_150.score(X_test,Y_test))"
   ]
  },
  {
   "cell_type": "code",
   "execution_count": 102,
   "id": "043b442c",
   "metadata": {},
   "outputs": [],
   "source": [
    "reg_200 = RandomForestRegressor(n_estimators = 200)\n",
    "reg_200 = reg_200.fit(X_train, Y_train)\n",
    "scores_estimators.append(reg_200.score(X_test,Y_test))"
   ]
  },
  {
   "cell_type": "code",
   "execution_count": 103,
   "id": "01e306c7",
   "metadata": {},
   "outputs": [
    {
     "data": {
      "text/plain": [
       "[0.9580796532519714, 0.9792745496220805, 0.9790015484894969, 0.979254249711405]"
      ]
     },
     "execution_count": 103,
     "metadata": {},
     "output_type": "execute_result"
    }
   ],
   "source": [
    "scores_estimators"
   ]
  },
  {
   "cell_type": "code",
   "execution_count": 104,
   "id": "8b0f7f77",
   "metadata": {},
   "outputs": [
    {
     "name": "stderr",
     "output_type": "stream",
     "text": [
      "/home/sid2019-6/anaconda3/lib/python3.9/site-packages/seaborn/_decorators.py:36: FutureWarning: Pass the following variables as keyword args: x, y. From version 0.12, the only valid positional argument will be `data`, and passing other arguments without an explicit keyword will result in an error or misinterpretation.\n",
      "  warnings.warn(\n"
     ]
    },
    {
     "data": {
      "text/plain": [
       "Text(0.5, 1.0, 'Scores with different number of trees')"
      ]
     },
     "execution_count": 104,
     "metadata": {},
     "output_type": "execute_result"
    },
    {
     "data": {
      "image/png": "[encoded data removed]",
      "text/plain": [
       "<Figure size 432x288 with 1 Axes>"
      ]
     },
     "metadata": {},
     "output_type": "display_data"
    }
   ],
   "source": [
    "sns.barplot(['1_tree','100_trees','150_trees', '200_trees'],scores_estimators)\n",
    "plt.text(-0.1, 0.9, round(scores_estimators[0],2), horizontalalignment='left', weight='semibold')\n",
    "plt.text(0.9, 0.93, round(scores_estimators[1],2), horizontalalignment='left', weight='semibold')\n",
    "plt.text(1.9, 0.93, round(scores_estimators[2],2), horizontalalignment='left', weight='semibold')\n",
    "plt.text(2.9, 0.93, round(scores_estimators[3],2), horizontalalignment='left', weight='semibold')\n",
    "plt.title(\"Scores with different number of trees\",fontsize=15)"
   ]
  },
  {
   "cell_type": "markdown",
   "id": "9b851e09",
   "metadata": {},
   "source": [
    "À partir de 100 arbres, le score ne change plus. 100 arbres est la valeur par défaut de RandomForest"
   ]
  },
  {
   "cell_type": "markdown",
   "id": "d6e14862",
   "metadata": {},
   "source": [
    "#### On va faire varier max_depth qui correspond au nombre d'arbres de décisions utilisés."
   ]
  },
  {
   "cell_type": "code",
   "execution_count": 133,
   "id": "ef840fb9",
   "metadata": {},
   "outputs": [],
   "source": [
    "scores_depth = []"
   ]
  },
  {
   "cell_type": "code",
   "execution_count": 134,
   "id": "ba2bc448",
   "metadata": {},
   "outputs": [],
   "source": [
    "reg_3 = RandomForestRegressor(max_depth = 3)\n",
    "reg_3 = reg_3.fit(X_train, Y_train)\n",
    "scores_depth.append(reg_3.score(X_test,Y_test))"
   ]
  },
  {
   "cell_type": "code",
   "execution_count": 135,
   "id": "f2520492",
   "metadata": {},
   "outputs": [],
   "source": [
    "reg_15 = RandomForestRegressor(max_depth = 6)\n",
    "reg_15 = reg_15.fit(X_train, Y_train)\n",
    "scores_depth.append(reg_15.score(X_test,Y_test))"
   ]
  },
  {
   "cell_type": "code",
   "execution_count": 136,
   "id": "9d6205ec",
   "metadata": {},
   "outputs": [],
   "source": [
    "reg_30 = RandomForestRegressor(max_depth = 9)\n",
    "reg_30 = reg_30.fit(X_train, Y_train)\n",
    "scores_depth.append(reg_30.score(X_test,Y_test))"
   ]
  },
  {
   "cell_type": "code",
   "execution_count": 137,
   "id": "599f0bc8",
   "metadata": {},
   "outputs": [],
   "source": [
    "reg_300 = RandomForestRegressor(max_depth = 12)\n",
    "reg_300 = reg_300.fit(X_train, Y_train)\n",
    "scores_depth.append(reg_300.score(X_test,Y_test))"
   ]
  },
  {
   "cell_type": "code",
   "execution_count": 143,
   "id": "67ad9999",
   "metadata": {},
   "outputs": [
    {
     "name": "stderr",
     "output_type": "stream",
     "text": [
      "/home/sid2019-6/anaconda3/lib/python3.9/site-packages/seaborn/_decorators.py:36: FutureWarning: Pass the following variables as keyword args: x, y. From version 0.12, the only valid positional argument will be `data`, and passing other arguments without an explicit keyword will result in an error or misinterpretation.\n",
      "  warnings.warn(\n"
     ]
    },
    {
     "data": {
      "text/plain": [
       "Text(0.5, 1.0, 'Scores with different maximum depth')"
      ]
     },
     "execution_count": 143,
     "metadata": {},
     "output_type": "execute_result"
    },
    {
     "data": {
      "image/png": "[encoded data removed]",
      "text/plain": [
       "<Figure size 432x288 with 1 Axes>"
      ]
     },
     "metadata": {},
     "output_type": "display_data"
    }
   ],
   "source": [
    "sns.barplot(['max_depth_3','max_depth_6','max_depth_9','max_depth_12'],scores_depth)\n",
    "plt.text(-0.1, 0.49, round(scores_depth[0],2), horizontalalignment='left', weight='semibold')\n",
    "plt.text(0.9, 0.82, round(scores_depth[1],2), horizontalalignment='left', weight='semibold')\n",
    "plt.text(1.9, 0.92, round(scores_depth[2],2), horizontalalignment='left', weight='semibold')\n",
    "plt.text(2.9, 0.93, round(scores_depth[3],2), horizontalalignment='left', weight='semibold')\n",
    "plt.title(\"Scores with different maximum depth\",fontsize=15)"
   ]
  },
  {
   "cell_type": "markdown",
   "id": "65888544",
   "metadata": {},
   "source": [
    "#### On va faire varier max_depth et n_estimators en même temps"
   ]
  },
  {
   "cell_type": "code",
   "execution_count": 149,
   "id": "15ece13a",
   "metadata": {},
   "outputs": [],
   "source": [
    "list_estimators = [1,100,150,200]\n",
    "list_depth = [3,6,9,12]"
   ]
  },
  {
   "cell_type": "code",
   "execution_count": 175,
   "id": "afef6e1a",
   "metadata": {},
   "outputs": [],
   "source": [
    "dic_score = {} #{max_depth : n_estimators}\n",
    "for i in range(len(list_estimators)):\n",
    "    n_estimator = list_estimators[i]\n",
    "    list_score = []\n",
    "    for j in range(len(list_estimators)):\n",
    "        max_depth = list_depth[j]\n",
    "        reg = RandomForestRegressor(max_depth = max_depth,n_estimators=n_estimator)\n",
    "        reg = reg.fit(X_train, Y_train)\n",
    "        list_score.append(reg.score(X_test,Y_test))\n",
    "    dic_score[n_estimator]=list_score"
   ]
  },
  {
   "cell_type": "code",
   "execution_count": 176,
   "id": "eb419a9c",
   "metadata": {},
   "outputs": [
    {
     "data": {
      "text/plain": [
       "{1: [0.5374360638584414,\n",
       "  0.850973341941804,\n",
       "  0.9573610306379156,\n",
       "  0.95645495840773],\n",
       " 100: [0.5393256665247159,\n",
       "  0.8744808852248187,\n",
       "  0.9690443960740771,\n",
       "  0.9773960278264344],\n",
       " 150: [0.5392552736169338,\n",
       "  0.8732036951055284,\n",
       "  0.9690428346195556,\n",
       "  0.9775720923946046],\n",
       " 200: [0.5392781006477553,\n",
       "  0.8685924487275754,\n",
       "  0.96924348792831,\n",
       "  0.9774626399141917]}"
      ]
     },
     "execution_count": 176,
     "metadata": {},
     "output_type": "execute_result"
    }
   ],
   "source": [
    "dic_score"
   ]
  },
  {
   "cell_type": "code",
   "execution_count": 184,
   "id": "19241fe7",
   "metadata": {},
   "outputs": [
    {
     "name": "stderr",
     "output_type": "stream",
     "text": [
      "/home/sid2019-6/anaconda3/lib/python3.9/site-packages/seaborn/_decorators.py:36: FutureWarning: Pass the following variables as keyword args: x, y. From version 0.12, the only valid positional argument will be `data`, and passing other arguments without an explicit keyword will result in an error or misinterpretation.\n",
      "  warnings.warn(\n",
      "/home/sid2019-6/anaconda3/lib/python3.9/site-packages/seaborn/_decorators.py:36: FutureWarning: Pass the following variables as keyword args: x, y. From version 0.12, the only valid positional argument will be `data`, and passing other arguments without an explicit keyword will result in an error or misinterpretation.\n",
      "  warnings.warn(\n",
      "/home/sid2019-6/anaconda3/lib/python3.9/site-packages/seaborn/_decorators.py:36: FutureWarning: Pass the following variables as keyword args: x, y. From version 0.12, the only valid positional argument will be `data`, and passing other arguments without an explicit keyword will result in an error or misinterpretation.\n",
      "  warnings.warn(\n",
      "/home/sid2019-6/anaconda3/lib/python3.9/site-packages/seaborn/_decorators.py:36: FutureWarning: Pass the following variables as keyword args: x, y. From version 0.12, the only valid positional argument will be `data`, and passing other arguments without an explicit keyword will result in an error or misinterpretation.\n",
      "  warnings.warn(\n"
     ]
    },
    {
     "data": {
      "image/png": "[encoded data removed]",
      "text/plain": [
       "<Figure size 936x936 with 4 Axes>"
      ]
     },
     "metadata": {},
     "output_type": "display_data"
    }
   ],
   "source": [
    "fig = plt.figure(figsize=(13,13))\n",
    "i=1\n",
    "for key in dic_score.keys() :\n",
    "    ax = fig.add_subplot(2,2,i)\n",
    "    bar1 = sns.barplot(list_depth,\n",
    "                       dic_score[key])  \n",
    "    ax.set_xlabel(\"Max depth\")       \n",
    "    ax.set_ylabel(\"Predictive score\")     \n",
    "    ax.set_yticks(np.arange(0, 1,0.2))       \n",
    "    ax.set_title(\"Predictive score following the maximum \\ndepth allowed for \"+str(key)+\" trees\")   \n",
    "    i+=1"
   ]
  },
  {
   "cell_type": "markdown",
   "id": "12791c90",
   "metadata": {},
   "source": [
    "Le maximum de profondeur a un effet sur la prédiction alors que le nombre d'arbre n'a pas beaucoup d'influence. Globalement, on observe la même évolution que ce soit pour 1 arbre ou 200 mais le score augment quand on augmente le maximum de profondeur."
   ]
  },
  {
   "cell_type": "code",
   "execution_count": null,
   "id": "d8b399cc",
   "metadata": {},
   "outputs": [],
   "source": []
  }
 ],
 "metadata": {
  "kernelspec": {
   "display_name": "Python 3 (ipykernel)",
   "language": "python",
   "name": "python3"
  },
  "language_info": {
   "codemirror_mode": {
    "name": "ipython",
    "version": 3
   },
   "file_extension": ".py",
   "mimetype": "text/x-python",
   "name": "python",
   "nbconvert_exporter": "python",
   "pygments_lexer": "ipython3",
   "version": "3.9.7"
  }
 },
 "nbformat": 4,
 "nbformat_minor": 5
}
