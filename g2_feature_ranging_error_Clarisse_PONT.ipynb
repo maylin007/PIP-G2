{
  "nbformat": 4,
  "nbformat_minor": 0,
  "metadata": {
    "colab": {
      "provenance": []
    },
    "kernelspec": {
      "name": "python3",
      "display_name": "Python 3"
    },
    "language_info": {
      "name": "python"
    }
  },
  "cells": [
    {
      "cell_type": "markdown",
      "source": [
        "# 1. Import of libraries "
      ],
      "metadata": {
        "id": "tZ0j1EUBhFhP"
      }
    },
    {
      "cell_type": "code",
      "source": [
        "!pip install scikit-learn-extra"
      ],
      "metadata": {
        "colab": {
          "base_uri": "https://localhost:8080/"
        },
        "id": "e1D2sMsJWk7t",
        "outputId": "90ececaf-2e6f-4950-ba64-8fff797e8204"
      },
      "execution_count": null,
      "outputs": [
        {
          "output_type": "stream",
          "name": "stdout",
          "text": [
            "Looking in indexes: https://pypi.org/simple, https://us-python.pkg.dev/colab-wheels/public/simple/\n",
            "Collecting scikit-learn-extra\n",
            "  Downloading scikit_learn_extra-0.2.0-cp38-cp38-manylinux2010_x86_64.whl (1.9 MB)\n",
            "\u001b[2K     \u001b[90m━━━━━━━━━━━━━━━━━━━━━━━━━━━━━━━━━━━━━━━━\u001b[0m \u001b[32m1.9/1.9 MB\u001b[0m \u001b[31m19.7 MB/s\u001b[0m eta \u001b[36m0:00:00\u001b[0m\n",
            "\u001b[?25hRequirement already satisfied: scikit-learn>=0.23.0 in /usr/local/lib/python3.8/dist-packages (from scikit-learn-extra) (1.0.2)\n",
            "Requirement already satisfied: numpy>=1.13.3 in /usr/local/lib/python3.8/dist-packages (from scikit-learn-extra) (1.21.6)\n",
            "Requirement already satisfied: scipy>=0.19.1 in /usr/local/lib/python3.8/dist-packages (from scikit-learn-extra) (1.7.3)\n",
            "Requirement already satisfied: joblib>=0.11 in /usr/local/lib/python3.8/dist-packages (from scikit-learn>=0.23.0->scikit-learn-extra) (1.2.0)\n",
            "Requirement already satisfied: threadpoolctl>=2.0.0 in /usr/local/lib/python3.8/dist-packages (from scikit-learn>=0.23.0->scikit-learn-extra) (3.1.0)\n",
            "Installing collected packages: scikit-learn-extra\n",
            "Successfully installed scikit-learn-extra-0.2.0\n"
          ]
        }
      ]
    },
    {
      "cell_type": "code",
      "source": [
        "import numpy as np\n",
        "import urllib.parse\n",
        "import pandas as pd\n",
        "import requests\n",
        "import os\n",
        "import matplotlib.pyplot as plt\n",
        "import math\n",
        "import seaborn as sns \n",
        "from google.colab import drive\n",
        "import sklearn\n",
        "from  matplotlib.colors import LinearSegmentedColormap\n",
        "from sklearn.cross_decomposition import PLSRegression\n",
        "from sklearn.model_selection import GridSearchCV\n",
        "from sklearn.metrics import mean_squared_error, mean_absolute_error\n",
        "from scipy.stats import median_test\n",
        "from scipy.stats import f\n",
        "import statsmodels\n",
        "import statsmodels.api\n",
        "from sklearn.cluster import KMeans\n",
        "drive.mount('drive')"
      ],
      "metadata": {
        "colab": {
          "base_uri": "https://localhost:8080/"
        },
        "id": "byej3dJAhIWu",
        "outputId": "6eb16fb2-b808-4f5e-b9b5-811261553eb1"
      },
      "execution_count": 5,
      "outputs": [
        {
          "output_type": "stream",
          "name": "stdout",
          "text": [
            "Mounted at drive\n"
          ]
        }
      ]
    },
    {
      "cell_type": "markdown",
      "source": [
        "# 2. Import data"
      ],
      "metadata": {
        "id": "uHcXT3oUhNJP"
      }
    },
    {
      "cell_type": "code",
      "source": [
        "data=pd.read_csv('/content/drive/MyDrive/projet_2023/Dataset_complete.csv')\n",
        "data=data.sort_values(by=['target', 'seqnum'])\n",
        "data.head()\n",
        "data['ranging_error_abs']=abs(data['ranging_error'])"
      ],
      "metadata": {
        "id": "qwpk43V-hUDo"
      },
      "execution_count": 6,
      "outputs": []
    },
    {
      "cell_type": "markdown",
      "source": [
        "# 3. Creation of features"
      ],
      "metadata": {
        "id": "EWfEXvPGhcUd"
      }
    },
    {
      "cell_type": "markdown",
      "source": [
        "##3.1 ranging error : sensors that make more-less errors on average --> wall effect/ ANOVA? test of means"
      ],
      "metadata": {
        "id": "ii-VPx4nDc1K"
      }
    },
    {
      "cell_type": "code",
      "source": [
        "#(H0) : averages are equal\n",
        "#(H1) : averages are not equal\n",
        "mdl = statsmodels.formula.api.ols('ranging_error_abs ~ target', data = data)\n",
        "res = mdl.fit()\n",
        "table = statsmodels.api.stats.anova_lm(res)\n",
        "print('p-valeur anova : ', table.iloc[0,4])"
      ],
      "metadata": {
        "colab": {
          "base_uri": "https://localhost:8080/"
        },
        "id": "cZ4oLArnB6Cm",
        "outputId": "5116a35a-5885-41e6-8bf8-09f6c46fc8bf"
      },
      "execution_count": null,
      "outputs": [
        {
          "output_type": "stream",
          "name": "stdout",
          "text": [
            "p-valeur anova :  0.21759715692402445\n"
          ]
        }
      ]
    },
    {
      "cell_type": "markdown",
      "source": [
        "The average ranging error for each target is different."
      ],
      "metadata": {
        "id": "cjr8HrD-Gb3C"
      }
    },
    {
      "cell_type": "markdown",
      "source": [
        "# 3.2 ranging error : median test"
      ],
      "metadata": {
        "id": "RKLjPfHGS1-N"
      }
    },
    {
      "cell_type": "code",
      "source": [
        "# 100 classe\n",
        "data_classe_ranging_error_100=data[data['target']==100]\n",
        "liste1=list(data_classe_ranging_error_100['ranging_error_abs'])\n",
        "\n",
        "# 101 classe \n",
        "data_classe_ranging_error_101=data[data['target']==101]\n",
        "liste2=list(data_classe_ranging_error_101['ranging_error_abs'])\n",
        "\n",
        "# 150 classe \n",
        "data_classe_ranging_error_150=data[data['target']==150]\n",
        "liste3=list(data_classe_ranging_error_150['ranging_error_abs'])\n",
        "\n",
        "#171 classe \n",
        "data_classe_ranging_error_171=data[data['target']==171]\n",
        "liste4=list(data_classe_ranging_error_171['ranging_error_abs'])\n",
        "\n",
        "\n",
        "# 180 classe \n",
        "data_classe_ranging_error_180=data[data['target']==180]\n",
        "liste5=list(data_classe_ranging_error_180['ranging_error_abs'])\n",
        "\n",
        "# 184 classe \n",
        "data_classe_ranging_error_184=data[data['target']==184]\n",
        "liste5=list(data_classe_ranging_error_184['ranging_error_abs'])\n",
        "\n",
        "\n",
        "print(np.round(median_test(liste1,liste2,liste3,liste4,liste5)[1],2))"
      ],
      "metadata": {
        "colab": {
          "base_uri": "https://localhost:8080/"
        },
        "id": "WKwiWgAFTPUg",
        "outputId": "3272e99c-4e56-4ce9-b291-9bcd27c77317"
      },
      "execution_count": null,
      "outputs": [
        {
          "output_type": "stream",
          "name": "stdout",
          "text": [
            "0.0\n"
          ]
        }
      ]
    },
    {
      "cell_type": "markdown",
      "source": [
        "## 3.2 Classify the sensors according to the ranging error"
      ],
      "metadata": {
        "id": "rNhBnS7yGzro"
      }
    },
    {
      "cell_type": "code",
      "source": [
        "X = data[['target','ranging_error']]\n",
        "kmeans = sklearn.cluster.KMeans(n_clusters=3, init='k-means++').fit(X)\n",
        "kmeans.labels_\n",
        "np.unique(kmeans.labels_)\n",
        "data['classe_ranging_error']=kmeans.labels_\n",
        "data_classe_ranging_error=data[['target','classe_ranging_error']]\n",
        "data_classe_ranging_error[data_classe_ranging_error['classe_ranging_error']==0]"
      ],
      "metadata": {
        "colab": {
          "base_uri": "https://localhost:8080/",
          "height": 423
        },
        "id": "3kSkrwD1G54d",
        "outputId": "f20a953e-d320-401b-b457-6c94916ee659"
      },
      "execution_count": null,
      "outputs": [
        {
          "output_type": "execute_result",
          "data": {
            "text/plain": [
              "      target  classe_ranging_error\n",
              "1826     171                     0\n",
              "1827     171                     0\n",
              "1828     171                     0\n",
              "1829     171                     0\n",
              "1830     171                     0\n",
              "...      ...                   ...\n",
              "3941     184                     0\n",
              "3942     184                     0\n",
              "3943     184                     0\n",
              "3944     184                     0\n",
              "3945     184                     0\n",
              "\n",
              "[2120 rows x 2 columns]"
            ],
            "text/html": [
              "\n",
              "  <div id=\"df-5f30212d-a3b3-4db7-83db-0c2663fd76ff\">\n",
              "    <div class=\"colab-df-container\">\n",
              "      <div>\n",
              "<style scoped>\n",
              "    .dataframe tbody tr th:only-of-type {\n",
              "        vertical-align: middle;\n",
              "    }\n",
              "\n",
              "    .dataframe tbody tr th {\n",
              "        vertical-align: top;\n",
              "    }\n",
              "\n",
              "    .dataframe thead th {\n",
              "        text-align: right;\n",
              "    }\n",
              "</style>\n",
              "<table border=\"1\" class=\"dataframe\">\n",
              "  <thead>\n",
              "    <tr style=\"text-align: right;\">\n",
              "      <th></th>\n",
              "      <th>target</th>\n",
              "      <th>classe_ranging_error</th>\n",
              "    </tr>\n",
              "  </thead>\n",
              "  <tbody>\n",
              "    <tr>\n",
              "      <th>1826</th>\n",
              "      <td>171</td>\n",
              "      <td>0</td>\n",
              "    </tr>\n",
              "    <tr>\n",
              "      <th>1827</th>\n",
              "      <td>171</td>\n",
              "      <td>0</td>\n",
              "    </tr>\n",
              "    <tr>\n",
              "      <th>1828</th>\n",
              "      <td>171</td>\n",
              "      <td>0</td>\n",
              "    </tr>\n",
              "    <tr>\n",
              "      <th>1829</th>\n",
              "      <td>171</td>\n",
              "      <td>0</td>\n",
              "    </tr>\n",
              "    <tr>\n",
              "      <th>1830</th>\n",
              "      <td>171</td>\n",
              "      <td>0</td>\n",
              "    </tr>\n",
              "    <tr>\n",
              "      <th>...</th>\n",
              "      <td>...</td>\n",
              "      <td>...</td>\n",
              "    </tr>\n",
              "    <tr>\n",
              "      <th>3941</th>\n",
              "      <td>184</td>\n",
              "      <td>0</td>\n",
              "    </tr>\n",
              "    <tr>\n",
              "      <th>3942</th>\n",
              "      <td>184</td>\n",
              "      <td>0</td>\n",
              "    </tr>\n",
              "    <tr>\n",
              "      <th>3943</th>\n",
              "      <td>184</td>\n",
              "      <td>0</td>\n",
              "    </tr>\n",
              "    <tr>\n",
              "      <th>3944</th>\n",
              "      <td>184</td>\n",
              "      <td>0</td>\n",
              "    </tr>\n",
              "    <tr>\n",
              "      <th>3945</th>\n",
              "      <td>184</td>\n",
              "      <td>0</td>\n",
              "    </tr>\n",
              "  </tbody>\n",
              "</table>\n",
              "<p>2120 rows × 2 columns</p>\n",
              "</div>\n",
              "      <button class=\"colab-df-convert\" onclick=\"convertToInteractive('df-5f30212d-a3b3-4db7-83db-0c2663fd76ff')\"\n",
              "              title=\"Convert this dataframe to an interactive table.\"\n",
              "              style=\"display:none;\">\n",
              "        \n",
              "  <svg xmlns=\"http://www.w3.org/2000/svg\" height=\"24px\"viewBox=\"0 0 24 24\"\n",
              "       width=\"24px\">\n",
              "    <path d=\"M0 0h24v24H0V0z\" fill=\"none\"/>\n",
              "    <path d=\"M18.56 5.44l.94 2.06.94-2.06 2.06-.94-2.06-.94-.94-2.06-.94 2.06-2.06.94zm-11 1L8.5 8.5l.94-2.06 2.06-.94-2.06-.94L8.5 2.5l-.94 2.06-2.06.94zm10 10l.94 2.06.94-2.06 2.06-.94-2.06-.94-.94-2.06-.94 2.06-2.06.94z\"/><path d=\"M17.41 7.96l-1.37-1.37c-.4-.4-.92-.59-1.43-.59-.52 0-1.04.2-1.43.59L10.3 9.45l-7.72 7.72c-.78.78-.78 2.05 0 2.83L4 21.41c.39.39.9.59 1.41.59.51 0 1.02-.2 1.41-.59l7.78-7.78 2.81-2.81c.8-.78.8-2.07 0-2.86zM5.41 20L4 18.59l7.72-7.72 1.47 1.35L5.41 20z\"/>\n",
              "  </svg>\n",
              "      </button>\n",
              "      \n",
              "  <style>\n",
              "    .colab-df-container {\n",
              "      display:flex;\n",
              "      flex-wrap:wrap;\n",
              "      gap: 12px;\n",
              "    }\n",
              "\n",
              "    .colab-df-convert {\n",
              "      background-color: #E8F0FE;\n",
              "      border: none;\n",
              "      border-radius: 50%;\n",
              "      cursor: pointer;\n",
              "      display: none;\n",
              "      fill: #1967D2;\n",
              "      height: 32px;\n",
              "      padding: 0 0 0 0;\n",
              "      width: 32px;\n",
              "    }\n",
              "\n",
              "    .colab-df-convert:hover {\n",
              "      background-color: #E2EBFA;\n",
              "      box-shadow: 0px 1px 2px rgba(60, 64, 67, 0.3), 0px 1px 3px 1px rgba(60, 64, 67, 0.15);\n",
              "      fill: #174EA6;\n",
              "    }\n",
              "\n",
              "    [theme=dark] .colab-df-convert {\n",
              "      background-color: #3B4455;\n",
              "      fill: #D2E3FC;\n",
              "    }\n",
              "\n",
              "    [theme=dark] .colab-df-convert:hover {\n",
              "      background-color: #434B5C;\n",
              "      box-shadow: 0px 1px 3px 1px rgba(0, 0, 0, 0.15);\n",
              "      filter: drop-shadow(0px 1px 2px rgba(0, 0, 0, 0.3));\n",
              "      fill: #FFFFFF;\n",
              "    }\n",
              "  </style>\n",
              "\n",
              "      <script>\n",
              "        const buttonEl =\n",
              "          document.querySelector('#df-5f30212d-a3b3-4db7-83db-0c2663fd76ff button.colab-df-convert');\n",
              "        buttonEl.style.display =\n",
              "          google.colab.kernel.accessAllowed ? 'block' : 'none';\n",
              "\n",
              "        async function convertToInteractive(key) {\n",
              "          const element = document.querySelector('#df-5f30212d-a3b3-4db7-83db-0c2663fd76ff');\n",
              "          const dataTable =\n",
              "            await google.colab.kernel.invokeFunction('convertToInteractive',\n",
              "                                                     [key], {});\n",
              "          if (!dataTable) return;\n",
              "\n",
              "          const docLinkHtml = 'Like what you see? Visit the ' +\n",
              "            '<a target=\"_blank\" href=https://colab.research.google.com/notebooks/data_table.ipynb>data table notebook</a>'\n",
              "            + ' to learn more about interactive tables.';\n",
              "          element.innerHTML = '';\n",
              "          dataTable['output_type'] = 'display_data';\n",
              "          await google.colab.output.renderOutput(dataTable, element);\n",
              "          const docLink = document.createElement('div');\n",
              "          docLink.innerHTML = docLinkHtml;\n",
              "          element.appendChild(docLink);\n",
              "        }\n",
              "      </script>\n",
              "    </div>\n",
              "  </div>\n",
              "  "
            ]
          },
          "metadata": {},
          "execution_count": 57
        }
      ]
    },
    {
      "cell_type": "code",
      "source": [
        "np.unique(data['target'])\n",
        "\n",
        "# 100 classe\n",
        "data_classe_ranging_error_100=data[data['target']==100]\n",
        "print(np.mean(data_classe_ranging_error_100['ranging_error']))\n",
        "\n",
        "# 101 classe \n",
        "data_classe_ranging_error_101=data[data['target']==101]\n",
        "print(np.mean(data_classe_ranging_error_101['ranging_error']))\n",
        "\n",
        "# 150 classe \n",
        "data_classe_ranging_error_150=data[data['target']==150]\n",
        "print(np.mean(data_classe_ranging_error_150['ranging_error']))\n",
        "\n",
        "#171 classe \n",
        "data_classe_ranging_error_171=data[data['target']==171]\n",
        "print(np.mean(data_classe_ranging_error_171['ranging_error']))\n",
        "\n",
        "\n",
        "# 180 classe \n",
        "data_classe_ranging_error_180=data[data['target']==180]\n",
        "print(np.mean(data_classe_ranging_error_180['ranging_error']))\n",
        "\n",
        "# 184 classe \n",
        "data_classe_ranging_error_184=data[data['target']==184]\n",
        "print(np.mean(data_classe_ranging_error_184['ranging_error']))"
      ],
      "metadata": {
        "colab": {
          "base_uri": "https://localhost:8080/"
        },
        "id": "GWEICHwRMA0-",
        "outputId": "032dbaf6-d05b-465a-a112-0ff0507c7b0d"
      },
      "execution_count": null,
      "outputs": [
        {
          "output_type": "stream",
          "name": "stdout",
          "text": [
            "0.03948833592534992\n",
            "0.19163597733711046\n",
            "0.25137526205450733\n",
            "-0.06971590909090909\n",
            "0.030067796610169485\n",
            "-0.10439971751412429\n"
          ]
        }
      ]
    },
    {
      "cell_type": "code",
      "source": [
        "sns.scatterplot(x=data['target'],y=data['ranging_error'],hue=data['classe_ranging_error'])"
      ],
      "metadata": {
        "colab": {
          "base_uri": "https://localhost:8080/",
          "height": 298
        },
        "id": "Zsmmg2jmQLsO",
        "outputId": "15203d33-ab0f-4d33-8923-420b1d3a73da"
      },
      "execution_count": null,
      "outputs": [
        {
          "output_type": "execute_result",
          "data": {
            "text/plain": [
              "<matplotlib.axes._subplots.AxesSubplot at 0x7f0220adf9d0>"
            ]
          },
          "metadata": {},
          "execution_count": 59
        },
        {
          "output_type": "display_data",
          "data": {
            "text/plain": [
              "<Figure size 432x288 with 1 Axes>"
            ],
            "image/png": "[encoded data removed]"
          },
          "metadata": {
            "needs_background": "light"
          }
        }
      ]
    },
    {
      "cell_type": "markdown",
      "source": [
        "# 2. Classify with median"
      ],
      "metadata": {
        "id": "X5oHt4GvVmmM"
      }
    },
    {
      "cell_type": "code",
      "source": [
        "X = data[['target','ranging_error_abs']]\n",
        "\n",
        "kmedoids = KMedoids(n_clusters=2, random_state=0, init='k-medoids++').fit(X)\n",
        "data['classe_ranging_error_mediane']=kmedoids.labels_"
      ],
      "metadata": {
        "id": "WN7XfpHAVpXi"
      },
      "execution_count": null,
      "outputs": []
    },
    {
      "cell_type": "code",
      "source": [
        "# 100 classe\n",
        "data_classe_ranging_error_100=data[data['target']==100]\n",
        "print(np.median(data_classe_ranging_error_100['ranging_error_abs']))\n",
        "\n",
        "# 101 classe \n",
        "data_classe_ranging_error_101=data[data['target']==101]\n",
        "print(np.median(data_classe_ranging_error_101['ranging_error_abs']))\n",
        "\n",
        "# 150 classe \n",
        "data_classe_ranging_error_150=data[data['target']==150]\n",
        "print(np.median(data_classe_ranging_error_150['ranging_error_abs']))\n",
        "\n",
        "#171 classe \n",
        "data_classe_ranging_error_171=data[data['target']==171]\n",
        "print(np.median(data_classe_ranging_error_171['ranging_error_abs']))\n",
        "\n",
        "\n",
        "# 180 classe \n",
        "data_classe_ranging_error_180=data[data['target']==180]\n",
        "print(np.median(data_classe_ranging_error_180['ranging_error_abs']))\n",
        "\n",
        "# 184 classe \n",
        "data_classe_ranging_error_184=data[data['target']==184]\n",
        "print(np.median(data_classe_ranging_error_184['ranging_error_abs']))"
      ],
      "metadata": {
        "colab": {
          "base_uri": "https://localhost:8080/"
        },
        "id": "HYevqCbea--A",
        "outputId": "171dad1a-0c28-4ba0-fd79-a289f030aaf8"
      },
      "execution_count": null,
      "outputs": [
        {
          "output_type": "stream",
          "name": "stdout",
          "text": [
            "0.094\n",
            "0.179\n",
            "0.244\n",
            "0.115\n",
            "0.131\n",
            "0.122\n"
          ]
        }
      ]
    },
    {
      "cell_type": "code",
      "source": [
        "sns.scatterplot(x=data['target'],y=data['ranging_error_abs'],hue=data['classe_ranging_error_mediane'])"
      ],
      "metadata": {
        "colab": {
          "base_uri": "https://localhost:8080/",
          "height": 297
        },
        "id": "o-tHO0eWaXg7",
        "outputId": "d7656993-9905-406c-f0a5-7527855c03ea"
      },
      "execution_count": null,
      "outputs": [
        {
          "output_type": "execute_result",
          "data": {
            "text/plain": [
              "<matplotlib.axes._subplots.AxesSubplot at 0x7f021d45b760>"
            ]
          },
          "metadata": {},
          "execution_count": 86
        },
        {
          "output_type": "display_data",
          "data": {
            "text/plain": [
              "<Figure size 432x288 with 1 Axes>"
            ],
            "image/png": "[encoded data removed]"
          },
          "metadata": {
            "needs_background": "light"
          }
        }
      ]
    },
    {
      "cell_type": "code",
      "source": [
        "from sklearn.cluster import AgglomerativeClustering\n",
        "clustering = AgglomerativeClustering(linkage='ward',n_clusters=2).fit(X)\n",
        "data['classe_ranging_error_mediane']=clustering.labels_"
      ],
      "metadata": {
        "id": "WhQHduu2e6tt"
      },
      "execution_count": null,
      "outputs": []
    },
    {
      "cell_type": "code",
      "source": [
        "sns.scatterplot(x=data['target'],y=data['ranging_error_abs'],hue=data['classe_ranging_error_mediane'])"
      ],
      "metadata": {
        "colab": {
          "base_uri": "https://localhost:8080/",
          "height": 297
        },
        "id": "uojSivSTfM5S",
        "outputId": "728d49bf-bce4-4426-abba-07d105b2303b"
      },
      "execution_count": null,
      "outputs": [
        {
          "output_type": "execute_result",
          "data": {
            "text/plain": [
              "<matplotlib.axes._subplots.AxesSubplot at 0x7f021d3447c0>"
            ]
          },
          "metadata": {},
          "execution_count": 91
        },
        {
          "output_type": "display_data",
          "data": {
            "text/plain": [
              "<Figure size 432x288 with 1 Axes>"
            ],
            "image/png": "[encoded data removed]"
          },
          "metadata": {
            "needs_background": "light"
          }
        }
      ]
    },
    {
      "cell_type": "markdown",
      "source": [
        "# 3. Egalité des variances"
      ],
      "metadata": {
        "id": "OD154SyTG6YF"
      }
    },
    {
      "cell_type": "code",
      "source": [
        "data.groupby(\"target\")['ranging_error_abs'].agg('var')"
      ],
      "metadata": {
        "colab": {
          "base_uri": "https://localhost:8080/"
        },
        "id": "ITcKxp3HG-GU",
        "outputId": "13a2ed12-ce52-40f6-e89d-9fecd1b410e2"
      },
      "execution_count": null,
      "outputs": [
        {
          "output_type": "execute_result",
          "data": {
            "text/plain": [
              "target\n",
              "100    0.010814\n",
              "101    0.022991\n",
              "150    0.054111\n",
              "171    0.015394\n",
              "180    0.019821\n",
              "184    0.013984\n",
              "Name: ranging_error_abs, dtype: float64"
            ]
          },
          "metadata": {},
          "execution_count": 12
        }
      ]
    },
    {
      "cell_type": "code",
      "source": [
        "from scipy.stats import bartlett\n",
        "listes=[liste1,liste2,liste3,liste4,liste5]\n",
        "i=-1\n",
        "j=-1\n",
        "listes_variables=np.unique(data['target'])\n",
        "for liste1 in listes : \n",
        "  i=i+1\n",
        "  j=0\n",
        "  for liste2 in listes[1:]:\n",
        "    j=j+1\n",
        "    if bartlett(liste1,liste2)[1]<0.05 : \n",
        "      print(listes_variables[i], \"et \", listes_variables[j], \"n'ont pas la meme variance avec\", bartlett(liste1,liste2)[1])\n",
        "    else : \n",
        "      print(listes_variables[i], \"et \", listes_variables[j], \"ont la meme variance avec\", bartlett(liste1,liste2)[1])"
      ],
      "metadata": {
        "colab": {
          "base_uri": "https://localhost:8080/"
        },
        "id": "vOhJaZsUHw7H",
        "outputId": "e2e97008-71ab-4828-b611-27abfc48d673"
      },
      "execution_count": null,
      "outputs": [
        {
          "output_type": "stream",
          "name": "stdout",
          "text": [
            "100 et  101 ont la meme variance avec 1.0\n",
            "100 et  150 n'ont pas la meme variance avec 2.599664122316929e-59\n",
            "100 et  171 ont la meme variance avec 0.20238307292254015\n",
            "100 et  180 ont la meme variance avec 1.0\n",
            "101 et  101 ont la meme variance avec 1.0\n",
            "101 et  150 n'ont pas la meme variance avec 2.599664122316929e-59\n",
            "101 et  171 ont la meme variance avec 0.20238307292254015\n",
            "101 et  180 ont la meme variance avec 1.0\n",
            "150 et  101 n'ont pas la meme variance avec 2.599664122316929e-59\n",
            "150 et  150 ont la meme variance avec 1.0\n",
            "150 et  171 n'ont pas la meme variance avec 1.8763710046047847e-51\n",
            "150 et  180 n'ont pas la meme variance avec 2.599664122316929e-59\n",
            "171 et  101 ont la meme variance avec 0.20238307292254015\n",
            "171 et  150 n'ont pas la meme variance avec 1.8763710046047847e-51\n",
            "171 et  171 ont la meme variance avec 1.0\n",
            "171 et  180 ont la meme variance avec 0.20238307292254015\n",
            "180 et  101 ont la meme variance avec 1.0\n",
            "180 et  150 n'ont pas la meme variance avec 2.599664122316929e-59\n",
            "180 et  171 ont la meme variance avec 0.20238307292254015\n",
            "180 et  180 ont la meme variance avec 1.0\n"
          ]
        }
      ]
    },
    {
      "cell_type": "markdown",
      "source": [],
      "metadata": {
        "id": "Fruwjxa7diEk"
      }
    },
    {
      "cell_type": "markdown",
      "source": [
        "Tous les couples ont significativement la meme variance sauf les couples avec 150."
      ],
      "metadata": {
        "id": "-6Ni_Xi_NDi-"
      }
    },
    {
      "cell_type": "code",
      "source": [
        "np.where(data['target']==150, 1,0)"
      ],
      "metadata": {
        "colab": {
          "base_uri": "https://localhost:8080/"
        },
        "id": "ooeAtNupe9Jm",
        "outputId": "b2eaa74d-c40b-4cc2-8b8d-f66c94814ac2"
      },
      "execution_count": 7,
      "outputs": [
        {
          "output_type": "execute_result",
          "data": {
            "text/plain": [
              "array([0, 0, 0, ..., 0, 0, 0])"
            ]
          },
          "metadata": {},
          "execution_count": 7
        }
      ]
    },
    {
      "cell_type": "code",
      "source": [
        "data[\"feature_ranging_error\"]=np.where(data['target']==150, 1,0)\n",
        "data"
      ],
      "metadata": {
        "colab": {
          "base_uri": "https://localhost:8080/",
          "height": 661
        },
        "id": "bxx7AhLPfEWS",
        "outputId": "407a1db8-a85d-4213-ad5c-44ce35e55a3e"
      },
      "execution_count": 9,
      "outputs": [
        {
          "output_type": "execute_result",
          "data": {
            "text/plain": [
              "      initiator  target protocol  nlos_indicator             t1  \\\n",
              "0           183     100      TWR        2.783982   946218857614   \n",
              "1           183     100      TWR        2.920485  1009474709646   \n",
              "2           183     100      TWR        2.536090  1072923068046   \n",
              "3           183     100      TWR        2.857669    36731534990   \n",
              "4           183     100      TWR        2.263103    99923195534   \n",
              "...         ...     ...      ...             ...            ...   \n",
              "3941        183     184      TWR        3.075243   301428484750   \n",
              "3942        183     184      TWR        3.085177   375355600014   \n",
              "3943        183     184      TWR        2.674524   449294310542   \n",
              "3944        183     184      TWR        2.727551   523279420046   \n",
              "3945        183     184      TWR        2.676824   597204949646   \n",
              "\n",
              "                 t2             t3             t4      skew   tof  ...  \\\n",
              "0      946490292658   946594234510   946322802711 -2.368804  1622  ...   \n",
              "1     1009746235572  1009850439822  1009578917162 -1.045965  1633  ...   \n",
              "2     1073194681670  1073299179662  1073027569304 -0.799856  1633  ...   \n",
              "3       37003232943    37107270798    36835576116 -0.984438  1635  ...   \n",
              "4      100194974620   100298828942   100027053147 -0.769092  1645  ...   \n",
              "...             ...            ...            ...       ...   ...  ...   \n",
              "3941   302000434919   302102988430   301531040251 -9.382925   995  ...   \n",
              "3942   375928251294   376031194254   375458544956 -8.306196   991  ...   \n",
              "3943   449867663034   449970544782   449397194279 -8.952233   994  ...   \n",
              "3944   523853474064   523955982478   523381930458 -8.490778   999  ...   \n",
              "3945   597779704639   597883435662   597308682642 -9.936671   986  ...   \n",
              "\n",
              "      temperature_target      timestamp  seqnum rssi_request   rssi_ack  \\\n",
              "0              30.220001  1654929794228       4   -80.136574 -80.077130   \n",
              "1              29.840002  1654929795219      10   -80.267769 -79.988684   \n",
              "2              29.840002  1654929796210      16   -79.964310 -79.850138   \n",
              "3              29.840002  1654929797201      22   -80.040833 -79.818313   \n",
              "4              29.840002  1654929798190      28   -79.999908 -80.102552   \n",
              "...                  ...            ...     ...          ...        ...   \n",
              "3941           46.939999  1654930833773    4231   -80.229179 -79.428015   \n",
              "3942           47.319996  1654930834930    4237   -80.196487 -79.576395   \n",
              "3943           46.939999  1654930836088    4243   -80.158638 -79.435472   \n",
              "3944           46.559998  1654930837246    4249   -80.229492 -79.554364   \n",
              "3945           46.939999  1654930838402    4255   -79.617264 -79.487352   \n",
              "\n",
              "      rssi_data  rssi_mean                                  register_dump_CIR  \\\n",
              "0    -79.836296 -80.016667  {\"ACC_MEM\": \"AAT/9gACAAr/+wABAAL/8wAS//AACgAGA...   \n",
              "1    -79.835720 -80.030724  {\"ACC_MEM\": \"//gAEwAC//X/9gAXABEACwASABQAFgAG/...   \n",
              "2    -79.693502 -79.835983  {\"ACC_MEM\": \"//QABQAJ//X/9gAUABMADv/3//r//gAK/...   \n",
              "3    -79.849525 -79.902890  {\"ACC_MEM\": \"ACb//AAa//4ADQAJAAYALf/+ABQAEgAOA...   \n",
              "4    -80.022316 -80.041592  {\"ACC_MEM\": \"//b/+P/6//3/8QAI//H//P/1AAkAAv/3A...   \n",
              "...         ...        ...                                                ...   \n",
              "3941 -79.342829 -79.666674  {\"ACC_MEM\": \"ABH//QAT//YABQASAAIAFwAUAAsAAv/3A...   \n",
              "3942 -79.985511 -79.919464  {\"ACC_MEM\": \"ABkADQAOAAgABv/7ABgABAAG//n////w/...   \n",
              "3943 -79.234453 -79.609521  {\"ACC_MEM\": \"AA8AAQAE/////P/zABz/+P////8AAwAAA...   \n",
              "3944 -79.599858 -79.794571  {\"ACC_MEM\": \"ABoACwAEABEACQADAAL//wAPAAYAFP/4A...   \n",
              "3945 -79.358943 -79.487853  {\"ACC_MEM\": \"AAf/8QACAAYAA///AAn/8f/y//z/5P/+/...   \n",
              "\n",
              "      ranging_error_abs  feature_ranging_error  \n",
              "0                 0.226                      0  \n",
              "1                 0.047                      0  \n",
              "2                 0.106                      0  \n",
              "3                 0.051                      0  \n",
              "4                 0.056                      0  \n",
              "...                 ...                    ...  \n",
              "3941              0.076                      0  \n",
              "3942              0.347                      0  \n",
              "3943              0.175                      0  \n",
              "3944              0.273                      0  \n",
              "3945              0.044                      0  \n",
              "\n",
              "[3946 rows x 34 columns]"
            ],
            "text/html": [
              "\n",
              "  <div id=\"df-133a32b4-5b00-4e45-8c7a-ecba14f3a44d\">\n",
              "    <div class=\"colab-df-container\">\n",
              "      <div>\n",
              "<style scoped>\n",
              "    .dataframe tbody tr th:only-of-type {\n",
              "        vertical-align: middle;\n",
              "    }\n",
              "\n",
              "    .dataframe tbody tr th {\n",
              "        vertical-align: top;\n",
              "    }\n",
              "\n",
              "    .dataframe thead th {\n",
              "        text-align: right;\n",
              "    }\n",
              "</style>\n",
              "<table border=\"1\" class=\"dataframe\">\n",
              "  <thead>\n",
              "    <tr style=\"text-align: right;\">\n",
              "      <th></th>\n",
              "      <th>initiator</th>\n",
              "      <th>target</th>\n",
              "      <th>protocol</th>\n",
              "      <th>nlos_indicator</th>\n",
              "      <th>t1</th>\n",
              "      <th>t2</th>\n",
              "      <th>t3</th>\n",
              "      <th>t4</th>\n",
              "      <th>skew</th>\n",
              "      <th>tof</th>\n",
              "      <th>...</th>\n",
              "      <th>temperature_target</th>\n",
              "      <th>timestamp</th>\n",
              "      <th>seqnum</th>\n",
              "      <th>rssi_request</th>\n",
              "      <th>rssi_ack</th>\n",
              "      <th>rssi_data</th>\n",
              "      <th>rssi_mean</th>\n",
              "      <th>register_dump_CIR</th>\n",
              "      <th>ranging_error_abs</th>\n",
              "      <th>feature_ranging_error</th>\n",
              "    </tr>\n",
              "  </thead>\n",
              "  <tbody>\n",
              "    <tr>\n",
              "      <th>0</th>\n",
              "      <td>183</td>\n",
              "      <td>100</td>\n",
              "      <td>TWR</td>\n",
              "      <td>2.783982</td>\n",
              "      <td>946218857614</td>\n",
              "      <td>946490292658</td>\n",
              "      <td>946594234510</td>\n",
              "      <td>946322802711</td>\n",
              "      <td>-2.368804</td>\n",
              "      <td>1622</td>\n",
              "      <td>...</td>\n",
              "      <td>30.220001</td>\n",
              "      <td>1654929794228</td>\n",
              "      <td>4</td>\n",
              "      <td>-80.136574</td>\n",
              "      <td>-80.077130</td>\n",
              "      <td>-79.836296</td>\n",
              "      <td>-80.016667</td>\n",
              "      <td>{\"ACC_MEM\": \"AAT/9gACAAr/+wABAAL/8wAS//AACgAGA...</td>\n",
              "      <td>0.226</td>\n",
              "      <td>0</td>\n",
              "    </tr>\n",
              "    <tr>\n",
              "      <th>1</th>\n",
              "      <td>183</td>\n",
              "      <td>100</td>\n",
              "      <td>TWR</td>\n",
              "      <td>2.920485</td>\n",
              "      <td>1009474709646</td>\n",
              "      <td>1009746235572</td>\n",
              "      <td>1009850439822</td>\n",
              "      <td>1009578917162</td>\n",
              "      <td>-1.045965</td>\n",
              "      <td>1633</td>\n",
              "      <td>...</td>\n",
              "      <td>29.840002</td>\n",
              "      <td>1654929795219</td>\n",
              "      <td>10</td>\n",
              "      <td>-80.267769</td>\n",
              "      <td>-79.988684</td>\n",
              "      <td>-79.835720</td>\n",
              "      <td>-80.030724</td>\n",
              "      <td>{\"ACC_MEM\": \"//gAEwAC//X/9gAXABEACwASABQAFgAG/...</td>\n",
              "      <td>0.047</td>\n",
              "      <td>0</td>\n",
              "    </tr>\n",
              "    <tr>\n",
              "      <th>2</th>\n",
              "      <td>183</td>\n",
              "      <td>100</td>\n",
              "      <td>TWR</td>\n",
              "      <td>2.536090</td>\n",
              "      <td>1072923068046</td>\n",
              "      <td>1073194681670</td>\n",
              "      <td>1073299179662</td>\n",
              "      <td>1073027569304</td>\n",
              "      <td>-0.799856</td>\n",
              "      <td>1633</td>\n",
              "      <td>...</td>\n",
              "      <td>29.840002</td>\n",
              "      <td>1654929796210</td>\n",
              "      <td>16</td>\n",
              "      <td>-79.964310</td>\n",
              "      <td>-79.850138</td>\n",
              "      <td>-79.693502</td>\n",
              "      <td>-79.835983</td>\n",
              "      <td>{\"ACC_MEM\": \"//QABQAJ//X/9gAUABMADv/3//r//gAK/...</td>\n",
              "      <td>0.106</td>\n",
              "      <td>0</td>\n",
              "    </tr>\n",
              "    <tr>\n",
              "      <th>3</th>\n",
              "      <td>183</td>\n",
              "      <td>100</td>\n",
              "      <td>TWR</td>\n",
              "      <td>2.857669</td>\n",
              "      <td>36731534990</td>\n",
              "      <td>37003232943</td>\n",
              "      <td>37107270798</td>\n",
              "      <td>36835576116</td>\n",
              "      <td>-0.984438</td>\n",
              "      <td>1635</td>\n",
              "      <td>...</td>\n",
              "      <td>29.840002</td>\n",
              "      <td>1654929797201</td>\n",
              "      <td>22</td>\n",
              "      <td>-80.040833</td>\n",
              "      <td>-79.818313</td>\n",
              "      <td>-79.849525</td>\n",
              "      <td>-79.902890</td>\n",
              "      <td>{\"ACC_MEM\": \"ACb//AAa//4ADQAJAAYALf/+ABQAEgAOA...</td>\n",
              "      <td>0.051</td>\n",
              "      <td>0</td>\n",
              "    </tr>\n",
              "    <tr>\n",
              "      <th>4</th>\n",
              "      <td>183</td>\n",
              "      <td>100</td>\n",
              "      <td>TWR</td>\n",
              "      <td>2.263103</td>\n",
              "      <td>99923195534</td>\n",
              "      <td>100194974620</td>\n",
              "      <td>100298828942</td>\n",
              "      <td>100027053147</td>\n",
              "      <td>-0.769092</td>\n",
              "      <td>1645</td>\n",
              "      <td>...</td>\n",
              "      <td>29.840002</td>\n",
              "      <td>1654929798190</td>\n",
              "      <td>28</td>\n",
              "      <td>-79.999908</td>\n",
              "      <td>-80.102552</td>\n",
              "      <td>-80.022316</td>\n",
              "      <td>-80.041592</td>\n",
              "      <td>{\"ACC_MEM\": \"//b/+P/6//3/8QAI//H//P/1AAkAAv/3A...</td>\n",
              "      <td>0.056</td>\n",
              "      <td>0</td>\n",
              "    </tr>\n",
              "    <tr>\n",
              "      <th>...</th>\n",
              "      <td>...</td>\n",
              "      <td>...</td>\n",
              "      <td>...</td>\n",
              "      <td>...</td>\n",
              "      <td>...</td>\n",
              "      <td>...</td>\n",
              "      <td>...</td>\n",
              "      <td>...</td>\n",
              "      <td>...</td>\n",
              "      <td>...</td>\n",
              "      <td>...</td>\n",
              "      <td>...</td>\n",
              "      <td>...</td>\n",
              "      <td>...</td>\n",
              "      <td>...</td>\n",
              "      <td>...</td>\n",
              "      <td>...</td>\n",
              "      <td>...</td>\n",
              "      <td>...</td>\n",
              "      <td>...</td>\n",
              "      <td>...</td>\n",
              "    </tr>\n",
              "    <tr>\n",
              "      <th>3941</th>\n",
              "      <td>183</td>\n",
              "      <td>184</td>\n",
              "      <td>TWR</td>\n",
              "      <td>3.075243</td>\n",
              "      <td>301428484750</td>\n",
              "      <td>302000434919</td>\n",
              "      <td>302102988430</td>\n",
              "      <td>301531040251</td>\n",
              "      <td>-9.382925</td>\n",
              "      <td>995</td>\n",
              "      <td>...</td>\n",
              "      <td>46.939999</td>\n",
              "      <td>1654930833773</td>\n",
              "      <td>4231</td>\n",
              "      <td>-80.229179</td>\n",
              "      <td>-79.428015</td>\n",
              "      <td>-79.342829</td>\n",
              "      <td>-79.666674</td>\n",
              "      <td>{\"ACC_MEM\": \"ABH//QAT//YABQASAAIAFwAUAAsAAv/3A...</td>\n",
              "      <td>0.076</td>\n",
              "      <td>0</td>\n",
              "    </tr>\n",
              "    <tr>\n",
              "      <th>3942</th>\n",
              "      <td>183</td>\n",
              "      <td>184</td>\n",
              "      <td>TWR</td>\n",
              "      <td>3.085177</td>\n",
              "      <td>375355600014</td>\n",
              "      <td>375928251294</td>\n",
              "      <td>376031194254</td>\n",
              "      <td>375458544956</td>\n",
              "      <td>-8.306196</td>\n",
              "      <td>991</td>\n",
              "      <td>...</td>\n",
              "      <td>47.319996</td>\n",
              "      <td>1654930834930</td>\n",
              "      <td>4237</td>\n",
              "      <td>-80.196487</td>\n",
              "      <td>-79.576395</td>\n",
              "      <td>-79.985511</td>\n",
              "      <td>-79.919464</td>\n",
              "      <td>{\"ACC_MEM\": \"ABkADQAOAAgABv/7ABgABAAG//n////w/...</td>\n",
              "      <td>0.347</td>\n",
              "      <td>0</td>\n",
              "    </tr>\n",
              "    <tr>\n",
              "      <th>3943</th>\n",
              "      <td>183</td>\n",
              "      <td>184</td>\n",
              "      <td>TWR</td>\n",
              "      <td>2.674524</td>\n",
              "      <td>449294310542</td>\n",
              "      <td>449867663034</td>\n",
              "      <td>449970544782</td>\n",
              "      <td>449397194279</td>\n",
              "      <td>-8.952233</td>\n",
              "      <td>994</td>\n",
              "      <td>...</td>\n",
              "      <td>46.939999</td>\n",
              "      <td>1654930836088</td>\n",
              "      <td>4243</td>\n",
              "      <td>-80.158638</td>\n",
              "      <td>-79.435472</td>\n",
              "      <td>-79.234453</td>\n",
              "      <td>-79.609521</td>\n",
              "      <td>{\"ACC_MEM\": \"AA8AAQAE/////P/zABz/+P////8AAwAAA...</td>\n",
              "      <td>0.175</td>\n",
              "      <td>0</td>\n",
              "    </tr>\n",
              "    <tr>\n",
              "      <th>3944</th>\n",
              "      <td>183</td>\n",
              "      <td>184</td>\n",
              "      <td>TWR</td>\n",
              "      <td>2.727551</td>\n",
              "      <td>523279420046</td>\n",
              "      <td>523853474064</td>\n",
              "      <td>523955982478</td>\n",
              "      <td>523381930458</td>\n",
              "      <td>-8.490778</td>\n",
              "      <td>999</td>\n",
              "      <td>...</td>\n",
              "      <td>46.559998</td>\n",
              "      <td>1654930837246</td>\n",
              "      <td>4249</td>\n",
              "      <td>-80.229492</td>\n",
              "      <td>-79.554364</td>\n",
              "      <td>-79.599858</td>\n",
              "      <td>-79.794571</td>\n",
              "      <td>{\"ACC_MEM\": \"ABoACwAEABEACQADAAL//wAPAAYAFP/4A...</td>\n",
              "      <td>0.273</td>\n",
              "      <td>0</td>\n",
              "    </tr>\n",
              "    <tr>\n",
              "      <th>3945</th>\n",
              "      <td>183</td>\n",
              "      <td>184</td>\n",
              "      <td>TWR</td>\n",
              "      <td>2.676824</td>\n",
              "      <td>597204949646</td>\n",
              "      <td>597779704639</td>\n",
              "      <td>597883435662</td>\n",
              "      <td>597308682642</td>\n",
              "      <td>-9.936671</td>\n",
              "      <td>986</td>\n",
              "      <td>...</td>\n",
              "      <td>46.939999</td>\n",
              "      <td>1654930838402</td>\n",
              "      <td>4255</td>\n",
              "      <td>-79.617264</td>\n",
              "      <td>-79.487352</td>\n",
              "      <td>-79.358943</td>\n",
              "      <td>-79.487853</td>\n",
              "      <td>{\"ACC_MEM\": \"AAf/8QACAAYAA///AAn/8f/y//z/5P/+/...</td>\n",
              "      <td>0.044</td>\n",
              "      <td>0</td>\n",
              "    </tr>\n",
              "  </tbody>\n",
              "</table>\n",
              "<p>3946 rows × 34 columns</p>\n",
              "</div>\n",
              "      <button class=\"colab-df-convert\" onclick=\"convertToInteractive('df-133a32b4-5b00-4e45-8c7a-ecba14f3a44d')\"\n",
              "              title=\"Convert this dataframe to an interactive table.\"\n",
              "              style=\"display:none;\">\n",
              "        \n",
              "  <svg xmlns=\"http://www.w3.org/2000/svg\" height=\"24px\"viewBox=\"0 0 24 24\"\n",
              "       width=\"24px\">\n",
              "    <path d=\"M0 0h24v24H0V0z\" fill=\"none\"/>\n",
              "    <path d=\"M18.56 5.44l.94 2.06.94-2.06 2.06-.94-2.06-.94-.94-2.06-.94 2.06-2.06.94zm-11 1L8.5 8.5l.94-2.06 2.06-.94-2.06-.94L8.5 2.5l-.94 2.06-2.06.94zm10 10l.94 2.06.94-2.06 2.06-.94-2.06-.94-.94-2.06-.94 2.06-2.06.94z\"/><path d=\"M17.41 7.96l-1.37-1.37c-.4-.4-.92-.59-1.43-.59-.52 0-1.04.2-1.43.59L10.3 9.45l-7.72 7.72c-.78.78-.78 2.05 0 2.83L4 21.41c.39.39.9.59 1.41.59.51 0 1.02-.2 1.41-.59l7.78-7.78 2.81-2.81c.8-.78.8-2.07 0-2.86zM5.41 20L4 18.59l7.72-7.72 1.47 1.35L5.41 20z\"/>\n",
              "  </svg>\n",
              "      </button>\n",
              "      \n",
              "  <style>\n",
              "    .colab-df-container {\n",
              "      display:flex;\n",
              "      flex-wrap:wrap;\n",
              "      gap: 12px;\n",
              "    }\n",
              "\n",
              "    .colab-df-convert {\n",
              "      background-color: #E8F0FE;\n",
              "      border: none;\n",
              "      border-radius: 50%;\n",
              "      cursor: pointer;\n",
              "      display: none;\n",
              "      fill: #1967D2;\n",
              "      height: 32px;\n",
              "      padding: 0 0 0 0;\n",
              "      width: 32px;\n",
              "    }\n",
              "\n",
              "    .colab-df-convert:hover {\n",
              "      background-color: #E2EBFA;\n",
              "      box-shadow: 0px 1px 2px rgba(60, 64, 67, 0.3), 0px 1px 3px 1px rgba(60, 64, 67, 0.15);\n",
              "      fill: #174EA6;\n",
              "    }\n",
              "\n",
              "    [theme=dark] .colab-df-convert {\n",
              "      background-color: #3B4455;\n",
              "      fill: #D2E3FC;\n",
              "    }\n",
              "\n",
              "    [theme=dark] .colab-df-convert:hover {\n",
              "      background-color: #434B5C;\n",
              "      box-shadow: 0px 1px 3px 1px rgba(0, 0, 0, 0.15);\n",
              "      filter: drop-shadow(0px 1px 2px rgba(0, 0, 0, 0.3));\n",
              "      fill: #FFFFFF;\n",
              "    }\n",
              "  </style>\n",
              "\n",
              "      <script>\n",
              "        const buttonEl =\n",
              "          document.querySelector('#df-133a32b4-5b00-4e45-8c7a-ecba14f3a44d button.colab-df-convert');\n",
              "        buttonEl.style.display =\n",
              "          google.colab.kernel.accessAllowed ? 'block' : 'none';\n",
              "\n",
              "        async function convertToInteractive(key) {\n",
              "          const element = document.querySelector('#df-133a32b4-5b00-4e45-8c7a-ecba14f3a44d');\n",
              "          const dataTable =\n",
              "            await google.colab.kernel.invokeFunction('convertToInteractive',\n",
              "                                                     [key], {});\n",
              "          if (!dataTable) return;\n",
              "\n",
              "          const docLinkHtml = 'Like what you see? Visit the ' +\n",
              "            '<a target=\"_blank\" href=https://colab.research.google.com/notebooks/data_table.ipynb>data table notebook</a>'\n",
              "            + ' to learn more about interactive tables.';\n",
              "          element.innerHTML = '';\n",
              "          dataTable['output_type'] = 'display_data';\n",
              "          await google.colab.output.renderOutput(dataTable, element);\n",
              "          const docLink = document.createElement('div');\n",
              "          docLink.innerHTML = docLinkHtml;\n",
              "          element.appendChild(docLink);\n",
              "        }\n",
              "      </script>\n",
              "    </div>\n",
              "  </div>\n",
              "  "
            ]
          },
          "metadata": {},
          "execution_count": 9
        }
      ]
    },
    {
      "cell_type": "code",
      "source": [
        "sns.scatterplot(x=data['target'],y=data['ranging_error_abs'],hue=data['feature_ranging_error'])"
      ],
      "metadata": {
        "colab": {
          "base_uri": "https://localhost:8080/",
          "height": 297
        },
        "id": "bkxTiq_2fh0Y",
        "outputId": "216e3c4c-6972-421b-945e-9f6efc766e48"
      },
      "execution_count": 10,
      "outputs": [
        {
          "output_type": "execute_result",
          "data": {
            "text/plain": [
              "<matplotlib.axes._subplots.AxesSubplot at 0x7fb95c0b59a0>"
            ]
          },
          "metadata": {},
          "execution_count": 10
        },
        {
          "output_type": "display_data",
          "data": {
            "text/plain": [
              "<Figure size 432x288 with 1 Axes>"
            ],
            "image/png": "[encoded data removed]"
          },
          "metadata": {
            "needs_background": "light"
          }
        }
      ]
    }
  ]
}