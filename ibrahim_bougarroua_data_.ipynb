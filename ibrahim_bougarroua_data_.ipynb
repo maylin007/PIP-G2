{
 "cells": [
  {
   "cell_type": "code",
   "execution_count": 174,
   "metadata": {},
   "outputs": [],
   "source": [
    "import numpy as np\n",
    "import pandas as pd\n",
    "import matplotlib.pyplot as plt\n",
    "from  math import cos,sin,pi"
   ]
  },
  {
   "attachments": {},
   "cell_type": "markdown",
   "metadata": {},
   "source": [
    "#### <center> Data preparation </center>"
   ]
  },
  {
   "cell_type": "code",
   "execution_count": 226,
   "metadata": {},
   "outputs": [],
   "source": [
    "data = pd.read_csv(\"Dataset_complete.csv\")\n",
    "data.tail()\n",
    "data.drop('ranging_unit', axis=1, inplace=True)\n",
    "data.drop('register_dump_CIR', axis=1, inplace=True)\n",
    "data.drop('initiator', axis=1, inplace=True)\n",
    "data.drop('protocol', axis=1, inplace=True)\n",
    "data.drop('loc_initiator_z', axis=1, inplace=True)\n"
   ]
  },
  {
   "attachments": {},
   "cell_type": "markdown",
   "metadata": {},
   "source": [
    "List of fixed sensors:"
   ]
  },
  {
   "cell_type": "code",
   "execution_count": 176,
   "metadata": {},
   "outputs": [
    {
     "data": {
      "text/plain": [
       "array([100, 101, 150, 171, 180, 184])"
      ]
     },
     "execution_count": 176,
     "metadata": {},
     "output_type": "execute_result"
    }
   ],
   "source": [
    "data[\"target\"].unique()"
   ]
  },
  {
   "attachments": {},
   "cell_type": "markdown",
   "metadata": {},
   "source": [
    "## <center> Generate new data </center>\n",
    "To train the model, we decide to implement some modifications on the data generating new rows, to generate the new data set we have 2 methods.\n",
    "First, we modify the origin of the system by re-calculating the coordinates of the initiator and the target.\n",
    "The second approach is to turn the system around the origin. \n",
    "### change System Origin \n"
   ]
  },
  {
   "cell_type": "code",
   "execution_count": 177,
   "metadata": {},
   "outputs": [],
   "source": [
    "#   diff : dataframe source\n",
    "#   origin : sensors id \n",
    "\n",
    "def changeSystemOrigin(dff,origin) :\n",
    "    df=dff.copy()\n",
    "    \n",
    "    x = list(df.loc_target_x[df[\"target\"]==origin])[0]\n",
    "    y = list(df.loc_target_y[df[\"target\"]==origin])[0]\n",
    "    \n",
    "    for index, row in df.iterrows():\n",
    "        #update coordinates of the new origin\n",
    "        if(row[\"target\"]==origin):\n",
    "            df.at[index,\"loc_target_x\"] =0\n",
    "            df.at[index,\"loc_target_y\"]=0\n",
    "        #re-calculiting new coordinates of the initiator    \n",
    "        df.at[index,\"loc_initiator_x\"] = df.at[index,\"loc_initiator_x\"] -x\n",
    "        df.at[index,\"loc_initiator_y\"]= df.at[index,\"loc_initiator_y\"] -y\n",
    "        #re-calculiting new coordinates of the target\n",
    "        df.at[index,\"loc_target_x\"]= df.at[index,\"loc_target_x\"] -x\n",
    "        df.at[index,\"loc_target_y\"]= df.at[index,\"loc_target_y\"] -y\n",
    "    \n",
    "    return df"
   ]
  },
  {
   "cell_type": "code",
   "execution_count": 179,
   "metadata": {},
   "outputs": [],
   "source": [
    "def changeSystemOriginPosition(dff,origin) :\n",
    "    df=dff.copy()\n",
    "    x = list(df.x[df[\"node_id\"]==origin])[0]\n",
    "    y = list(df.y[df[\"node_id\"]==origin])[0]\n",
    "    for index, row in df.iterrows():\n",
    "        if(row[\"node_id\"]==origin):\n",
    "             df.at[index,\"x\"] =0\n",
    "             df.at[index,\"y\"]=0\n",
    "        df.at[index,\"x\"]= df.at[index,\"x\"] -x\n",
    "        df.at[index,\"y\"]= df.at[index,\"y\"] -y\n",
    "    return df"
   ]
  },
  {
   "cell_type": "code",
   "execution_count": 180,
   "metadata": {},
   "outputs": [],
   "source": [
    "#rotation origine\n",
    "def rotation(df, angle):\n",
    "    df_c = df.copy()\n",
    "    angle_rad = angle * pi / 180\n",
    "    for index, row in df.iterrows():\n",
    "        df.at[index,\"loc_initiator_x\"] = df_c.at[index,\"loc_initiator_x\"] * cos(angle_rad) - df_c.at[index,\"loc_initiator_y\"] * sin(angle_rad)\n",
    "        df.at[index,\"loc_initiator_y\"] = -df_c.at[index,\"loc_initiator_x\"] * sin(angle_rad) + df_c.at[index,\"loc_initiator_y\"]  * cos(angle_rad)\n",
    "        df.at[index,\"loc_target_x\"]=  df_c.at[index,\"loc_target_x\"] * cos(angle_rad) - df_c.at[index,\"loc_target_y\"] * sin(angle_rad)\n",
    "        df.at[index,\"loc_target_y\"] = -df_c.at[index,\"loc_target_x\"] *  sin(angle_rad) + df_c.at[index,\"loc_target_y\"] * cos(angle_rad)\n",
    "    return df"
   ]
  },
  {
   "cell_type": "code",
   "execution_count": 181,
   "metadata": {},
   "outputs": [],
   "source": [
    "def rotationPosition(df, angle):\n",
    "    df_c = df.copy()\n",
    "    angle_rad = angle * pi / 180\n",
    "    df.x = df_c.x * cos(angle_rad) - df_c.y * sin(angle_rad)\n",
    "    df.y = -df_c.x * sin(angle_rad) + df_c.y * cos(angle_rad)\n",
    "    return df"
   ]
  },
  {
   "cell_type": "code",
   "execution_count": 182,
   "metadata": {},
   "outputs": [],
   "source": [
    "def getoriginOrientation(orientationAngle):\n",
    "    angle_rad = orientationAngle * pi / 180\n",
    "    x1=1\n",
    "    y1=0\n",
    "    x2=0\n",
    "    y2=1\n",
    "    return [[0,0,x1 * cos(angle_rad) - y1 * sin(angle_rad)],[0,0,x1 * sin(angle_rad) + y1 * cos(angle_rad)],[0,0,x2 * cos(angle_rad) - y2 * sin(angle_rad)],[0,0,x2 * sin(angle_rad) + y2 * cos(angle_rad)]]  \n",
    "\n"
   ]
  },
  {
   "cell_type": "code",
   "execution_count": 194,
   "metadata": {},
   "outputs": [],
   "source": [
    "position=pd.read_csv(\"positions.csv\")"
   ]
  },
  {
   "cell_type": "code",
   "execution_count": 221,
   "metadata": {},
   "outputs": [],
   "source": [
    "def plotTrajet(df,position,orientation) :\n",
    "    fig, ax = plt.subplots()\n",
    "    ax.plot(list(-df['loc_initiator_x']),list(-df['loc_initiator_y']),label='emetteur')\n",
    "    ax.set_title(\"Trajet de l'emetteur\")\n",
    "    plt.xlabel('abscisse')\n",
    "    plt.ylabel('ordonné')\n",
    "    x = getoriginOrientation(orientation)\n",
    "    plt.plot(x[0],x[1],\"g\",label=\"X\")\n",
    "    plt.plot(x[2],x[3],\"y\",label=\"Y\")\n",
    "    plt.plot(0,0,\"^b\",label='origine')   \n",
    "    #plt.xlim(-3,3) \n",
    "    #plt.ylim(-3,3) \n",
    "    plt.axis('equal')\n",
    "    plt.plot(-position['x'],-position['y'],\"^r\",label='capteur')\n",
    "    plt.legend()\n",
    "    plt.show()"
   ]
  },
  {
   "cell_type": "code",
   "execution_count": null,
   "metadata": {},
   "outputs": [],
   "source": [
    "plt.xlim(-3,3) \n",
    "    plt.xlim(-3,3) \n",
    "    plt.axis('equal')\n",
    "    plt.plot(-position['x'],-position['y'],\"^r\",label='capteur')\n",
    "    plt.legend()\n",
    "    plt.show()"
   ]
  },
  {
   "cell_type": "code",
   "execution_count": 195,
   "metadata": {},
   "outputs": [
    {
     "data": {
      "text/html": [
       "<div>\n",
       "<style scoped>\n",
       "    .dataframe tbody tr th:only-of-type {\n",
       "        vertical-align: middle;\n",
       "    }\n",
       "\n",
       "    .dataframe tbody tr th {\n",
       "        vertical-align: top;\n",
       "    }\n",
       "\n",
       "    .dataframe thead th {\n",
       "        text-align: right;\n",
       "    }\n",
       "</style>\n",
       "<table border=\"1\" class=\"dataframe\">\n",
       "  <thead>\n",
       "    <tr style=\"text-align: right;\">\n",
       "      <th></th>\n",
       "      <th>loc_initiator_x</th>\n",
       "      <th>loc_initiator_y</th>\n",
       "      <th>loc_target_x</th>\n",
       "      <th>loc_target_y</th>\n",
       "    </tr>\n",
       "  </thead>\n",
       "  <tbody>\n",
       "    <tr>\n",
       "      <th>0</th>\n",
       "      <td>2.12</td>\n",
       "      <td>2.793</td>\n",
       "      <td>-3.962</td>\n",
       "      <td>7.931</td>\n",
       "    </tr>\n",
       "    <tr>\n",
       "      <th>1</th>\n",
       "      <td>2.12</td>\n",
       "      <td>2.793</td>\n",
       "      <td>-3.962</td>\n",
       "      <td>7.931</td>\n",
       "    </tr>\n",
       "    <tr>\n",
       "      <th>2</th>\n",
       "      <td>2.12</td>\n",
       "      <td>2.793</td>\n",
       "      <td>-3.962</td>\n",
       "      <td>7.931</td>\n",
       "    </tr>\n",
       "    <tr>\n",
       "      <th>3</th>\n",
       "      <td>2.12</td>\n",
       "      <td>2.793</td>\n",
       "      <td>-3.962</td>\n",
       "      <td>7.931</td>\n",
       "    </tr>\n",
       "    <tr>\n",
       "      <th>4</th>\n",
       "      <td>2.12</td>\n",
       "      <td>2.793</td>\n",
       "      <td>-3.962</td>\n",
       "      <td>7.931</td>\n",
       "    </tr>\n",
       "  </tbody>\n",
       "</table>\n",
       "</div>"
      ],
      "text/plain": [
       "   loc_initiator_x  loc_initiator_y  loc_target_x  loc_target_y\n",
       "0             2.12            2.793        -3.962         7.931\n",
       "1             2.12            2.793        -3.962         7.931\n",
       "2             2.12            2.793        -3.962         7.931\n",
       "3             2.12            2.793        -3.962         7.931\n",
       "4             2.12            2.793        -3.962         7.931"
      ]
     },
     "execution_count": 195,
     "metadata": {},
     "output_type": "execute_result"
    }
   ],
   "source": [
    "data_test = data.copy()\n",
    "position_test =position.copy()\n",
    "data_test[[\"loc_initiator_x\",\"loc_initiator_y\",\"loc_target_x\",\"loc_target_y\"]].head()"
   ]
  },
  {
   "cell_type": "code",
   "execution_count": 187,
   "metadata": {},
   "outputs": [],
   "source": [
    "data_test=changeSystemOrigin(data_test,100)\n",
    "position_test = changeSystemOriginPosition(position,100)"
   ]
  },
  {
   "cell_type": "code",
   "execution_count": 222,
   "metadata": {},
   "outputs": [
    {
     "data": {
      "image/png": "[encoded data removed]",
      "text/plain": [
       "<Figure size 640x480 with 1 Axes>"
      ]
     },
     "metadata": {},
     "output_type": "display_data"
    }
   ],
   "source": [
    "\n",
    "plotTrajet(data_test,position_test,0)"
   ]
  },
  {
   "cell_type": "code",
   "execution_count": 189,
   "metadata": {},
   "outputs": [],
   "source": [
    "data_test = rotation(data_test,180)\n",
    "position_test= rotationPosition(position_test,180)\n"
   ]
  },
  {
   "cell_type": "code",
   "execution_count": 53,
   "metadata": {},
   "outputs": [
    {
     "data": {
      "text/html": [
       "<div>\n",
       "<style scoped>\n",
       "    .dataframe tbody tr th:only-of-type {\n",
       "        vertical-align: middle;\n",
       "    }\n",
       "\n",
       "    .dataframe tbody tr th {\n",
       "        vertical-align: top;\n",
       "    }\n",
       "\n",
       "    .dataframe thead th {\n",
       "        text-align: right;\n",
       "    }\n",
       "</style>\n",
       "<table border=\"1\" class=\"dataframe\">\n",
       "  <thead>\n",
       "    <tr style=\"text-align: right;\">\n",
       "      <th></th>\n",
       "      <th>loc_initiator_x</th>\n",
       "      <th>loc_initiator_y</th>\n",
       "      <th>loc_target_x</th>\n",
       "      <th>loc_target_y</th>\n",
       "    </tr>\n",
       "  </thead>\n",
       "  <tbody>\n",
       "    <tr>\n",
       "      <th>0</th>\n",
       "      <td>-2.12</td>\n",
       "      <td>-2.793</td>\n",
       "      <td>3.962</td>\n",
       "      <td>-7.931</td>\n",
       "    </tr>\n",
       "    <tr>\n",
       "      <th>1</th>\n",
       "      <td>-2.12</td>\n",
       "      <td>-2.793</td>\n",
       "      <td>3.962</td>\n",
       "      <td>-7.931</td>\n",
       "    </tr>\n",
       "    <tr>\n",
       "      <th>2</th>\n",
       "      <td>-2.12</td>\n",
       "      <td>-2.793</td>\n",
       "      <td>3.962</td>\n",
       "      <td>-7.931</td>\n",
       "    </tr>\n",
       "    <tr>\n",
       "      <th>3</th>\n",
       "      <td>-2.12</td>\n",
       "      <td>-2.793</td>\n",
       "      <td>3.962</td>\n",
       "      <td>-7.931</td>\n",
       "    </tr>\n",
       "    <tr>\n",
       "      <th>4</th>\n",
       "      <td>-2.12</td>\n",
       "      <td>-2.793</td>\n",
       "      <td>3.962</td>\n",
       "      <td>-7.931</td>\n",
       "    </tr>\n",
       "  </tbody>\n",
       "</table>\n",
       "</div>"
      ],
      "text/plain": [
       "   loc_initiator_x  loc_initiator_y  loc_target_x  loc_target_y\n",
       "0            -2.12           -2.793         3.962        -7.931\n",
       "1            -2.12           -2.793         3.962        -7.931\n",
       "2            -2.12           -2.793         3.962        -7.931\n",
       "3            -2.12           -2.793         3.962        -7.931\n",
       "4            -2.12           -2.793         3.962        -7.931"
      ]
     },
     "execution_count": 53,
     "metadata": {},
     "output_type": "execute_result"
    }
   ],
   "source": [
    "data_test[[\"loc_initiator_x\",\"loc_initiator_y\",\"loc_target_x\",\"loc_target_y\"]].head()"
   ]
  },
  {
   "cell_type": "code",
   "execution_count": 191,
   "metadata": {},
   "outputs": [
    {
     "data": {
      "image/png": "[encoded data removed]",
      "text/plain": [
       "<Figure size 640x480 with 1 Axes>"
      ]
     },
     "metadata": {},
     "output_type": "display_data"
    }
   ],
   "source": [
    "plotTrajet(data_test,position_test,180)"
   ]
  },
  {
   "cell_type": "code",
   "execution_count": 212,
   "metadata": {},
   "outputs": [],
   "source": [
    "data[\"origin\"]=[0 for i in range(len(data))]\n",
    "data[\"rotation\"]=[0 for i in range(len(data))]\n",
    "data_d = data.copy() "
   ]
  },
  {
   "cell_type": "code",
   "execution_count": 209,
   "metadata": {},
   "outputs": [],
   "source": [
    "d1=changeSystemOrigin(data_d,100)\n",
    "d1[\"origin\"]=100\n",
    "data_d = data.copy() \n",
    "d2=changeSystemOrigin(data_d,101)\n",
    "d2[\"origin\"]=101\n",
    "data_d = data.copy() \n",
    "d3=changeSystemOrigin(data_d,150)\n",
    "d3[\"origin\"]=150\n",
    "data_d = data.copy() \n",
    "d4=changeSystemOrigin(data_d,171)\n",
    "d4[\"origin\"]=171\n",
    "data_d = data.copy() \n",
    "d4=changeSystemOrigin(data_d,180)\n",
    "d4[\"origin\"]=180\n",
    "\n"
   ]
  },
  {
   "cell_type": "code",
   "execution_count": 213,
   "metadata": {},
   "outputs": [],
   "source": [
    "t1=rotation(data_d,50)\n",
    "t1[\"rotation\"]=50\n",
    "data_d = data.copy() \n",
    "t2=rotation(data_d,75)\n",
    "t2[\"rotation\"]=75\n",
    "data_d = data.copy() \n",
    "t3=rotation(data_d,90)\n",
    "t3[\"rotation\"]=90\n",
    "data_d = data.copy() \n",
    "t4=rotation(data_d,270)\n",
    "t4[\"rotation\"]=270\n",
    "data_d = data.copy() \n",
    "t4=rotation(data_d,180)\n",
    "t4[\"rotation\"]=180"
   ]
  },
  {
   "cell_type": "code",
   "execution_count": 214,
   "metadata": {},
   "outputs": [
    {
     "data": {
      "text/plain": [
       "19730"
      ]
     },
     "execution_count": 214,
     "metadata": {},
     "output_type": "execute_result"
    }
   ],
   "source": [
    "csv_rotation=pd.concat([data,t1,t2,t3,t4],ignore_index=True)\n",
    "len(csv_rotation)"
   ]
  },
  {
   "cell_type": "code",
   "execution_count": null,
   "metadata": {},
   "outputs": [],
   "source": [
    "plotTrajet()"
   ]
  },
  {
   "cell_type": "code",
   "execution_count": 210,
   "metadata": {},
   "outputs": [
    {
     "data": {
      "text/plain": [
       "19730"
      ]
     },
     "execution_count": 210,
     "metadata": {},
     "output_type": "execute_result"
    }
   ],
   "source": [
    "csv_origin_position=pd.concat([data,d1,d2,d3,d4],ignore_index=True)\n",
    "len(csv_origin_position)"
   ]
  },
  {
   "cell_type": "code",
   "execution_count": 211,
   "metadata": {},
   "outputs": [],
   "source": [
    "csv_origin_position.to_csv(\"origin_position.csv\")"
   ]
  },
  {
   "cell_type": "code",
   "execution_count": 215,
   "metadata": {},
   "outputs": [],
   "source": [
    "csv_rotation.to_csv(\"rotation.csv\")"
   ]
  },
  {
   "cell_type": "code",
   "execution_count": 225,
   "metadata": {},
   "outputs": [
    {
     "data": {
      "image/png": "[encoded data removed]",
      "text/plain": [
       "<Figure size 640x480 with 1 Axes>"
      ]
     },
     "metadata": {},
     "output_type": "display_data"
    }
   ],
   "source": [
    "plotTrajet(t3,rotationPosition(position,90),0)"
   ]
  },
  {
   "cell_type": "code",
   "execution_count": 220,
   "metadata": {},
   "outputs": [],
   "source": [
    "csv_complet=pd.concat([csv_origin_position,csv_rotation],ignore_index=True)\n",
    "csv_complet.to_csv(\"complet.csv\")"
   ]
  }
 ],
 "metadata": {
  "kernelspec": {
   "display_name": "Python 3",
   "language": "python",
   "name": "python3"
  },
  "language_info": {
   "codemirror_mode": {
    "name": "ipython",
    "version": 3
   },
   "file_extension": ".py",
   "mimetype": "text/x-python",
   "name": "python",
   "nbconvert_exporter": "python",
   "pygments_lexer": "ipython3",
   "version": "3.10.6"
  },
  "orig_nbformat": 4,
  "vscode": {
   "interpreter": {
    "hash": "916dbcbb3f70747c44a77c7bcd40155683ae19c65e1c03b4aa3499c5328201f1"
   }
  }
 },
 "nbformat": 4,
 "nbformat_minor": 2
}
