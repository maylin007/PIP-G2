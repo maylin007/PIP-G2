{
 "cells": [
  {
   "cell_type": "raw",
   "id": "1f6b046c",
   "metadata": {},
   "source": [
    "\"\"\"\n",
    "Created on 05/01/2023\n",
    "Group 2\n",
    "Authors: Adrien PELLON\n",
    "License: this code is released under the CeCILL 2.1 license. See\n",
    "https://www.cecill.info/licenses/Licence_CeCILL_V2.1-en.txt\n",
    "\"\"\""
   ]
  },
  {
   "cell_type": "markdown",
   "id": "6a679d18",
   "metadata": {},
   "source": [
    "# Machine-Learning"
   ]
  },
  {
   "cell_type": "code",
   "execution_count": 22,
   "id": "a1218a1a",
   "metadata": {},
   "outputs": [],
   "source": [
    "import numpy as np\n",
    "import pandas as pd\n",
    "from  matplotlib.colors import LinearSegmentedColormap\n",
    "import matplotlib.pyplot as plt\n",
    "import matplotlib.colors as colors\n",
    "import seaborn as sns"
   ]
  },
  {
   "cell_type": "code",
   "execution_count": 4,
   "id": "d74b5e67",
   "metadata": {},
   "outputs": [
    {
     "name": "stderr",
     "output_type": "stream",
     "text": [
      "/home/sid2019-22/anaconda3/lib/python3.9/site-packages/pandas/core/frame.py:5039: SettingWithCopyWarning: \n",
      "A value is trying to be set on a copy of a slice from a DataFrame\n",
      "\n",
      "See the caveats in the documentation: https://pandas.pydata.org/pandas-docs/stable/user_guide/indexing.html#returning-a-view-versus-a-copy\n",
      "  return super().rename(\n"
     ]
    }
   ],
   "source": [
    "#data importation \n",
    "data_1 = pd.read_csv(r\"/home/sid2019-22/Téléchargements/Dataset_complete.csv\")\n",
    "data_0 = pd.read_csv(r\"/home/sid2019-22/Téléchargements/positions.csv\")\n",
    "extract_orientation = data_0[['node_id','orientation']]\n",
    "extract_orientation.rename(columns={\"node_id\": \"target\"}, inplace=True)\n",
    "data = data_1.merge(extract_orientation,how='left', on = 'target')"
   ]
  },
  {
   "cell_type": "code",
   "execution_count": 5,
   "id": "47902eed",
   "metadata": {},
   "outputs": [],
   "source": [
    "data.replace(- np.inf, -120,inplace=True)"
   ]
  },
  {
   "cell_type": "code",
   "execution_count": 6,
   "id": "fc186827",
   "metadata": {},
   "outputs": [],
   "source": [
    "data.drop('ranging_unit', axis=1, inplace=True)\n",
    "data.drop('register_dump_CIR', axis=1, inplace=True)\n",
    "data.drop('initiator', axis=1, inplace=True)\n",
    "data.drop('protocol', axis=1, inplace=True)\n",
    "data.drop('loc_initiator_z', axis=1, inplace=True)"
   ]
  },
  {
   "cell_type": "markdown",
   "id": "a684e80d",
   "metadata": {},
   "source": [
    "## KNN"
   ]
  },
  {
   "cell_type": "code",
   "execution_count": 7,
   "id": "463aaadd",
   "metadata": {},
   "outputs": [],
   "source": [
    "from sklearn.model_selection import train_test_split\n",
    "from sklearn.neighbors import KNeighborsRegressor\n",
    "from sklearn.metrics import mean_squared_error"
   ]
  },
  {
   "cell_type": "markdown",
   "id": "b4d1f58e",
   "metadata": {},
   "source": [
    "#### test descendant"
   ]
  },
  {
   "cell_type": "raw",
   "id": "b62b2957",
   "metadata": {},
   "source": [
    "On part du jeu de données entier et enlève petit à petit des colonnes "
   ]
  },
  {
   "cell_type": "code",
   "execution_count": 8,
   "id": "9e4424ab",
   "metadata": {},
   "outputs": [],
   "source": [
    "for j in data.drop(['target','loc_initiator_y','loc_initiator_x'],axis = 1,inplace = False).columns:\n",
    "    for i in data.drop(['target','loc_initiator_y','loc_initiator_x'],axis = 1,inplace = False).columns:\n",
    "        if i != j :\n",
    "            train,test = train_test_split(data.drop(['target',j,i],axis = 1,inplace = False), test_size=0.3, train_size=0.7, shuffle=True)\n",
    "            y_train = train[['loc_initiator_x']]\n",
    "            x_train = train.drop([\"loc_initiator_x\",'loc_initiator_y'], axis=1, inplace=False)\n",
    "\n",
    "            y_test = test[['loc_initiator_x']]\n",
    "            x_test = test.drop([\"loc_initiator_x\",'loc_initiator_y'], axis=1, inplace=False)\n",
    "            knn = KNeighborsRegressor(n_neighbors = 6)\n",
    "            knn.fit(x_train,y_train)\n",
    "            prediction = knn.predict(x_test)\n",
    "            a = knn.score(x_test,y_test)\n",
    "            if a > 0 :\n",
    "                print(knn.score(x_test,y_test),\"sans les colonnes :\",j,i)"
   ]
  },
  {
   "cell_type": "code",
   "execution_count": 9,
   "id": "a5b5535a",
   "metadata": {},
   "outputs": [
    {
     "data": {
      "text/plain": [
       "1.1703880269331832"
      ]
     },
     "execution_count": 9,
     "metadata": {},
     "output_type": "execute_result"
    }
   ],
   "source": [
    "mean_squared_error(y_test,prediction)"
   ]
  },
  {
   "cell_type": "markdown",
   "id": "125da64d",
   "metadata": {},
   "source": [
    "### Test d'amélioration"
   ]
  },
  {
   "cell_type": "code",
   "execution_count": 10,
   "id": "4f3fcc73",
   "metadata": {},
   "outputs": [
    {
     "data": {
      "image/png": "[encoded data removed]",
      "text/plain": [
       "<Figure size 432x288 with 1 Axes>"
      ]
     },
     "metadata": {
      "needs_background": "light"
     },
     "output_type": "display_data"
    },
    {
     "ename": "NameError",
     "evalue": "name 'slope' is not defined",
     "output_type": "error",
     "traceback": [
      "\u001b[0;31m---------------------------------------------------------------------------\u001b[0m",
      "\u001b[0;31mNameError\u001b[0m                                 Traceback (most recent call last)",
      "\u001b[0;32m/tmp/ipykernel_3917/2592228352.py\u001b[0m in \u001b[0;36m<module>\u001b[0;34m\u001b[0m\n\u001b[1;32m     18\u001b[0m \u001b[0;31m#slope, intercept, r_value, p_value, std_err = stats.linregress(X, Y)\u001b[0m\u001b[0;34m\u001b[0m\u001b[0;34m\u001b[0m\u001b[0m\n\u001b[1;32m     19\u001b[0m \u001b[0;34m\u001b[0m\u001b[0m\n\u001b[0;32m---> 20\u001b[0;31m \u001b[0mfitLine\u001b[0m \u001b[0;34m=\u001b[0m \u001b[0mpredict\u001b[0m\u001b[0;34m(\u001b[0m\u001b[0mX\u001b[0m\u001b[0;34m)\u001b[0m\u001b[0;34m\u001b[0m\u001b[0;34m\u001b[0m\u001b[0m\n\u001b[0m\u001b[1;32m     21\u001b[0m \u001b[0mplt\u001b[0m\u001b[0;34m.\u001b[0m\u001b[0mplot\u001b[0m\u001b[0;34m(\u001b[0m\u001b[0mX\u001b[0m\u001b[0;34m,\u001b[0m \u001b[0mfitLine\u001b[0m\u001b[0;34m,\u001b[0m \u001b[0mc\u001b[0m\u001b[0;34m=\u001b[0m\u001b[0;34m'r'\u001b[0m\u001b[0;34m)\u001b[0m\u001b[0;34m\u001b[0m\u001b[0;34m\u001b[0m\u001b[0m\n\u001b[1;32m     22\u001b[0m \u001b[0;34m\u001b[0m\u001b[0m\n",
      "\u001b[0;32m/tmp/ipykernel_3917/2592228352.py\u001b[0m in \u001b[0;36mpredict\u001b[0;34m(y)\u001b[0m\n\u001b[1;32m      3\u001b[0m \u001b[0;34m\u001b[0m\u001b[0m\n\u001b[1;32m      4\u001b[0m \u001b[0;32mdef\u001b[0m \u001b[0mpredict\u001b[0m\u001b[0;34m(\u001b[0m\u001b[0my\u001b[0m\u001b[0;34m)\u001b[0m\u001b[0;34m:\u001b[0m\u001b[0;34m\u001b[0m\u001b[0;34m\u001b[0m\u001b[0m\n\u001b[0;32m----> 5\u001b[0;31m     \u001b[0;32mreturn\u001b[0m \u001b[0mslope\u001b[0m \u001b[0;34m*\u001b[0m \u001b[0my\u001b[0m \u001b[0;34m+\u001b[0m \u001b[0mintercept\u001b[0m\u001b[0;34m\u001b[0m\u001b[0;34m\u001b[0m\u001b[0m\n\u001b[0m\u001b[1;32m      6\u001b[0m \u001b[0;34m\u001b[0m\u001b[0m\n\u001b[1;32m      7\u001b[0m \u001b[0mX\u001b[0m \u001b[0;34m=\u001b[0m  \u001b[0my_train\u001b[0m \u001b[0;31m#selection de la première colonne de notre dataset\u001b[0m\u001b[0;34m\u001b[0m\u001b[0;34m\u001b[0m\u001b[0m\n",
      "\u001b[0;31mNameError\u001b[0m: name 'slope' is not defined"
     ]
    }
   ],
   "source": [
    "from scipy import stats\n",
    "\n",
    "\n",
    "def predict(y):\n",
    "    return slope * y + intercept\n",
    "\n",
    "X =  y_train #selection de la première colonne de notre dataset\n",
    "Y =  train.loc_initiator_y\n",
    "\n",
    "axes = plt.axes()\n",
    "#axes.set_xlim([2, 25])\n",
    "#axes.set_ylim([0, 30])\n",
    "axes.grid()\n",
    "plt.scatter(X,Y)\n",
    "plt.show()\n",
    "#plt.savefig(\"D:/figure.png\")\n",
    "\n",
    "#slope, intercept, r_value, p_value, std_err = stats.linregress(X, Y)\n",
    "\n",
    "fitLine = predict(X)\n",
    "plt.plot(X, fitLine, c='r')\n",
    "\n",
    "print(slope,intercept)"
   ]
  },
  {
   "cell_type": "code",
   "execution_count": null,
   "id": "d704412e",
   "metadata": {},
   "outputs": [],
   "source": [
    "plt.figure(figsize=(10, 7))\n",
    "plt.plot(prediction,test['loc_initiator_y'],'*r')\n",
    "plt.plot(data['loc_target_x'],data['loc_target_y'],\"*b\")\n",
    "plt.xlabel(\"x location\", fontsize=16)\n",
    "plt.ylabel(\"y location\", fontsize=16)\n",
    "plt.title('Predictive positions of initiator (in red)', fontsize=20);"
   ]
  },
  {
   "cell_type": "markdown",
   "id": "acee2294",
   "metadata": {},
   "source": [
    "### test ascendant"
   ]
  },
  {
   "cell_type": "raw",
   "id": "cf604e29",
   "metadata": {},
   "source": [
    "On part du jeu de données vide et ajoute petit à petit les variables"
   ]
  },
  {
   "cell_type": "code",
   "execution_count": null,
   "id": "24640e7c",
   "metadata": {},
   "outputs": [],
   "source": [
    "for j in data.drop(['target','loc_initiator_y','loc_initiator_x','timestamp'],axis = 1,inplace = False).columns:\n",
    "    for i in data.drop(['target','loc_initiator_y','loc_initiator_x','timestamp'],axis = 1,inplace = False).columns:\n",
    "        if i != j :\n",
    "            train,test = train_test_split(data[[i,j,'loc_initiator_y','loc_initiator_x','target']], test_size=0.3, train_size=0.7, shuffle=True)\n",
    "            y_train = train[['loc_initiator_x']]\n",
    "            x_train = train.drop([\"loc_initiator_x\",'loc_initiator_y'], axis=1, inplace=False)\n",
    "\n",
    "            y_test = test[['loc_initiator_x']]\n",
    "            x_test = test.drop([\"loc_initiator_x\",'loc_initiator_y'], axis=1, inplace=False)\n",
    "            knn = KNeighborsRegressor(n_neighbors = 6)\n",
    "            knn.fit(x_train,y_train)\n",
    "            prediction = knn.predict(x_test)\n",
    "            a = knn.score(x_test,y_test)\n",
    "            if a > 0.99999 :\n",
    "                print(knn.score(x_test,y_test),\"avec les colonnes :\",j,i)"
   ]
  },
  {
   "cell_type": "code",
   "execution_count": null,
   "id": "204d6866",
   "metadata": {},
   "outputs": [],
   "source": [
    "train,test = train_test_split(data[['skew',\"loc_initiator_x\",'loc_initiator_y']],test_size=0.3, train_size=0.7, shuffle=True)\n",
    "\n",
    "\n",
    "y_train = train[['loc_initiator_x']]\n",
    "x_train = train.drop([\"loc_initiator_x\",'loc_initiator_y'], axis=1, inplace=False)\n",
    "\n",
    "y_test = test[['loc_initiator_x']]\n",
    "x_test = test.drop([\"loc_initiator_x\",'loc_initiator_y'], axis=1, inplace=False)\n",
    "knn = KNeighborsRegressor(n_neighbors = 6)\n",
    "knn.fit(x_train,y_train)\n",
    "prediction = knn.predict(x_test)\n",
    "knn.score(x_test,y_test)"
   ]
  },
  {
   "cell_type": "markdown",
   "id": "bcd5fb04",
   "metadata": {},
   "source": [
    "### test avec features"
   ]
  },
  {
   "cell_type": "raw",
   "id": "abc8ebe3",
   "metadata": {},
   "source": [
    "on calcul les variables qui seuls expliquent le mieux et les enregistrent dans la liste l"
   ]
  },
  {
   "cell_type": "code",
   "execution_count": null,
   "id": "42d369a1",
   "metadata": {},
   "outputs": [],
   "source": [
    "l = []\n",
    "for j in ['nlos_indicator','t1','t2','t3','t4','skew','tof','tof_skew','seqnum','rssi_request','rssi_ack','rssi_data','rssi_mean']:\n",
    "    for i in ['nlos_indicator','t1','t2','t3','t4','skew','tof','tof_skew']:\n",
    "        if i != j :\n",
    "            train,test = train_test_split(data[[i,j,'loc_initiator_y','loc_initiator_x','target']], test_size=0.3, train_size=0.7, shuffle=True)\n",
    "            y_train = train[['loc_initiator_x']]\n",
    "            x_train = train.drop([\"loc_initiator_x\",'loc_initiator_y'], axis=1, inplace=False)\n",
    "\n",
    "            y_test = test[['loc_initiator_x']]\n",
    "            x_test = test.drop([\"loc_initiator_x\",'loc_initiator_y'], axis=1, inplace=False)\n",
    "            knn = KNeighborsRegressor(n_neighbors = 6)\n",
    "            knn.fit(x_train,y_train)\n",
    "            prediction = knn.predict(x_test)\n",
    "            a = knn.score(x_test,y_test)\n",
    "            if a > 0.8 :\n",
    "                print(knn.score(x_test,y_test),\"with columns :\",j,i)\n",
    "                if i not in l:\n",
    "                    l.append(i)\n",
    "                if j not in l :\n",
    "                    l.append(j)"
   ]
  },
  {
   "cell_type": "code",
   "execution_count": null,
   "id": "78212b7b",
   "metadata": {},
   "outputs": [],
   "source": [
    "train,test = train_test_split(data[[\"loc_initiator_x\",'loc_initiator_y','nlos_indicator','t1','t2','t3','t4','skew','tof','tof_skew','seqnum','rssi_request','rssi_ack','rssi_data','rssi_mean']], test_size=0.3, train_size=0.7, shuffle=True)\n",
    "y_train = train[['loc_initiator_x']]\n",
    "x_train = train.drop([\"loc_initiator_x\",'loc_initiator_y'], axis=1, inplace=False)\n",
    "\n",
    "\n",
    "from sklearn.feature_selection import SequentialFeatureSelector\n",
    "knn = KNeighborsRegressor(n_neighbors = 6)\n",
    "seq = SequentialFeatureSelector(knn)\n",
    "seq.fit(x_train, y_train)"
   ]
  },
  {
   "cell_type": "code",
   "execution_count": null,
   "id": "5c85991d",
   "metadata": {},
   "outputs": [],
   "source": [
    "a = seq.get_support()\n",
    "rep = []\n",
    "for i in range(len(a)):\n",
    "    if a[i]:\n",
    "        rep.append(['nlos_indicator','t1','t2','t3','t4','skew','tof','tof_skew','seqnum','rssi_request','rssi_ack','rssi_data','rssi_mean'][i])"
   ]
  },
  {
   "cell_type": "code",
   "execution_count": null,
   "id": "bba0ca14",
   "metadata": {},
   "outputs": [],
   "source": [
    "train,test = train_test_split(data[[\"loc_initiator_x\",'loc_initiator_y','nlos_indicator', 'skew', 'seqnum', 'rssi_ack', 'rssi_data', 'rssi_mean']], test_size=0.3, train_size=0.7, shuffle=True)\n",
    "y_train = train[['loc_initiator_x']]\n",
    "x_train = train.drop([\"loc_initiator_x\",'loc_initiator_y'], axis=1, inplace=False)\n",
    "\n",
    "y_test = test[['loc_initiator_x']]\n",
    "x_test = test.drop([\"loc_initiator_x\",'loc_initiator_y'], axis=1, inplace=False)\n",
    "knn = KNeighborsRegressor(n_neighbors = 6)\n",
    "knn.fit(x_train,y_train)\n",
    "prediction = knn.predict(x_test)\n",
    "knn.score(x_test,y_test)"
   ]
  },
  {
   "cell_type": "markdown",
   "id": "64eac857",
   "metadata": {},
   "source": [
    "### test des meilleurs"
   ]
  },
  {
   "cell_type": "code",
   "execution_count": null,
   "id": "d77ee023",
   "metadata": {},
   "outputs": [],
   "source": [
    "train_best,test_best = train_test_split(data[[\"loc_initiator_x\",'loc_initiator_y','tof_skew', 'tof', 'nlos_indicator', 'seqnum', 'skew']], test_size=0.3, train_size=0.7, shuffle=True)\n",
    "y_train = train[['loc_initiator_x']]\n",
    "x_train = train.drop([\"loc_initiator_x\",'loc_initiator_y'], axis=1, inplace=False)\n",
    "\n",
    "y_test = test[['loc_initiator_x']]\n",
    "x_test = test.drop([\"loc_initiator_x\",'loc_initiator_y'], axis=1, inplace=False)\n",
    "knn = KNeighborsRegressor(n_neighbors = 6)\n",
    "knn.fit(x_train,y_train)\n",
    "prediction = knn.predict(x_test)\n",
    "a = knn.score(x_test,y_test)\n",
    "if a > 0.8 :\n",
    "    print(knn.score(x_test,y_test))"
   ]
  },
  {
   "cell_type": "markdown",
   "id": "abd50317",
   "metadata": {},
   "source": [
    "### méthode ascendante en partant des meilleurs"
   ]
  },
  {
   "cell_type": "code",
   "execution_count": null,
   "id": "892f1cee",
   "metadata": {},
   "outputs": [],
   "source": [
    "data_clear = data[[\"loc_initiator_x\",'loc_initiator_y','nlos_indicator','t1','t2','t3','t4','skew','tof','tof_skew','seqnum','rssi_request','rssi_ack','rssi_data','rssi_mean']]"
   ]
  },
  {
   "cell_type": "code",
   "execution_count": null,
   "id": "3286d53b",
   "metadata": {},
   "outputs": [],
   "source": [
    "data_eph = data[['seqnum', 'tof_skew', 'tof', 'nlos_indicator', 'skew','loc_initiator_x','loc_initiator_y']]\n",
    "for col in data_clear.drop(['seqnum', 'tof_skew', 'tof', 'nlos_indicator', 'skew','loc_initiator_x','loc_initiator_y'],axis=1,inplace = False).columns:\n",
    "    data_eph = pd.concat([data_eph,data_clear[col]],axis=1)\n",
    "    train,test = train_test_split(data_eph , test_size=0.3, train_size=0.7, shuffle=True)\n",
    "\n",
    "    y_train = train[['loc_initiator_x']]\n",
    "    x_train = train.drop(['loc_initiator_x','loc_initiator_y'], axis=1, inplace=False)\n",
    "\n",
    "    y_test = test[['loc_initiator_x']]\n",
    "    x_test = test.drop([\"loc_initiator_x\",'loc_initiator_y'], axis=1, inplace=False)\n",
    "\n",
    "\n",
    "    knn = KNeighborsRegressor(n_neighbors = 6)\n",
    "    knn.fit(x_train,y_train)\n",
    "    prediction = knn.predict(x_test)\n",
    "    \n",
    "    print(knn.score(x_test,y_test),\"juste après avoir rajouté la colonne\",col)"
   ]
  },
  {
   "cell_type": "code",
   "execution_count": null,
   "id": "bc490e7d",
   "metadata": {},
   "outputs": [],
   "source": []
  },
  {
   "cell_type": "code",
   "execution_count": null,
   "id": "df071aed",
   "metadata": {},
   "outputs": [],
   "source": []
  },
  {
   "cell_type": "code",
   "execution_count": null,
   "id": "4b857507",
   "metadata": {},
   "outputs": [],
   "source": []
  },
  {
   "cell_type": "code",
   "execution_count": null,
   "id": "2cc3e4fd",
   "metadata": {},
   "outputs": [],
   "source": []
  },
  {
   "cell_type": "code",
   "execution_count": null,
   "id": "d8f272ab",
   "metadata": {},
   "outputs": [],
   "source": []
  },
  {
   "cell_type": "code",
   "execution_count": null,
   "id": "9a70f686",
   "metadata": {},
   "outputs": [],
   "source": [
    "train,test = train_test_split(data[[\"loc_initiator_x\",'loc_initiator_y','nlos_indicator','t1','t2','t3','t4','skew','tof','tof_skew','seqnum','rssi_request','rssi_ack','rssi_data','rssi_mean']], test_size=0.3, train_size=0.7, shuffle=True)\n",
    "y_train = train[['loc_initiator_x']]\n",
    "x_train = train.drop([\"loc_initiator_x\",'loc_initiator_y'], axis=1, inplace=False)\n",
    "\n",
    "\n",
    "from sklearn.feature_selection import SequentialFeatureSelector\n",
    "knn = KNeighborsRegressor(n_neighbors = 6)\n",
    "seq = SequentialFeatureSelector(knn)\n",
    "seq.fit(x_train, y_train)"
   ]
  },
  {
   "cell_type": "code",
   "execution_count": null,
   "id": "c805ee25",
   "metadata": {},
   "outputs": [],
   "source": []
  },
  {
   "cell_type": "code",
   "execution_count": 35,
   "id": "6cf274d4",
   "metadata": {},
   "outputs": [],
   "source": [
    "liste = []\n",
    "for i in np.linspace(1,50,8):\n",
    "    i = int(i)\n",
    "\n",
    "\n",
    "    train,test = train_test_split(data[[\"loc_initiator_x\",'loc_initiator_y','nlos_indicator', 'skew', 'seqnum', 'rssi_ack', 'rssi_data', 'rssi_mean']], test_size=0.3, train_size=0.7, shuffle=True)\n",
    "    y_train = train[['loc_initiator_x']]\n",
    "    x_train = train.drop([\"loc_initiator_x\",'loc_initiator_y'], axis=1, inplace=False)\n",
    "\n",
    "    y_test = test[['loc_initiator_x']]\n",
    "    x_test = test.drop([\"loc_initiator_x\",'loc_initiator_y'], axis=1, inplace=False)\n",
    "    knn = KNeighborsRegressor(n_neighbors = i)\n",
    "    knn.fit(x_train,y_train)\n",
    "    prediction = knn.predict(x_test)\n",
    "    liste.append(knn.score(x_test,y_test))"
   ]
  },
  {
   "cell_type": "code",
   "execution_count": 45,
   "id": "7c4d854a",
   "metadata": {},
   "outputs": [
    {
     "name": "stderr",
     "output_type": "stream",
     "text": [
      "/home/sid2019-22/anaconda3/lib/python3.9/site-packages/seaborn/_decorators.py:36: FutureWarning: Pass the following variables as keyword args: x, y. From version 0.12, the only valid positional argument will be `data`, and passing other arguments without an explicit keyword will result in an error or misinterpretation.\n",
      "  warnings.warn(\n"
     ]
    },
    {
     "data": {
      "text/plain": [
       "<AxesSubplot:>"
      ]
     },
     "execution_count": 45,
     "metadata": {},
     "output_type": "execute_result"
    },
    {
     "data": {
      "image/png": "[encoded data removed]",
      "text/plain": [
       "<Figure size 432x288 with 1 Axes>"
      ]
     },
     "metadata": {
      "needs_background": "light"
     },
     "output_type": "display_data"
    }
   ],
   "source": [
    "X = np.linspace(1,50,8)\n",
    "\n",
    "sns.barplot(X,liste)"
   ]
  },
  {
   "cell_type": "code",
   "execution_count": 46,
   "id": "817f8063",
   "metadata": {},
   "outputs": [
    {
     "data": {
      "text/plain": [
       "[0.9999375372870496,\n",
       " 0.9999062465579392,\n",
       " 0.9998791783261691,\n",
       " 0.9998444926076305,\n",
       " 0.9998280578386695,\n",
       " 0.9997976808155171,\n",
       " 0.9997677126423636,\n",
       " 0.9997338421223652]"
      ]
     },
     "execution_count": 46,
     "metadata": {},
     "output_type": "execute_result"
    }
   ],
   "source": [
    "liste"
   ]
  },
  {
   "cell_type": "code",
   "execution_count": 47,
   "id": "d47d7e1e",
   "metadata": {},
   "outputs": [
    {
     "data": {
      "text/html": [
       "<div>\n",
       "<style scoped>\n",
       "    .dataframe tbody tr th:only-of-type {\n",
       "        vertical-align: middle;\n",
       "    }\n",
       "\n",
       "    .dataframe tbody tr th {\n",
       "        vertical-align: top;\n",
       "    }\n",
       "\n",
       "    .dataframe thead th {\n",
       "        text-align: right;\n",
       "    }\n",
       "</style>\n",
       "<table border=\"1\" class=\"dataframe\">\n",
       "  <thead>\n",
       "    <tr style=\"text-align: right;\">\n",
       "      <th></th>\n",
       "      <th>target</th>\n",
       "      <th>nlos_indicator</th>\n",
       "      <th>t1</th>\n",
       "      <th>t2</th>\n",
       "      <th>t3</th>\n",
       "      <th>t4</th>\n",
       "      <th>skew</th>\n",
       "      <th>tof</th>\n",
       "      <th>tof_skew</th>\n",
       "      <th>range</th>\n",
       "      <th>...</th>\n",
       "      <th>course_dist</th>\n",
       "      <th>temperature_initiator</th>\n",
       "      <th>temperature_target</th>\n",
       "      <th>timestamp</th>\n",
       "      <th>seqnum</th>\n",
       "      <th>rssi_request</th>\n",
       "      <th>rssi_ack</th>\n",
       "      <th>rssi_data</th>\n",
       "      <th>rssi_mean</th>\n",
       "      <th>orientation</th>\n",
       "    </tr>\n",
       "  </thead>\n",
       "  <tbody>\n",
       "    <tr>\n",
       "      <th>0</th>\n",
       "      <td>100</td>\n",
       "      <td>2.783982</td>\n",
       "      <td>946218857614</td>\n",
       "      <td>946490292658</td>\n",
       "      <td>946594234510</td>\n",
       "      <td>946322802711</td>\n",
       "      <td>-2.368804</td>\n",
       "      <td>1622</td>\n",
       "      <td>1745.608935</td>\n",
       "      <td>7.607739</td>\n",
       "      <td>...</td>\n",
       "      <td>0.000000</td>\n",
       "      <td>30.980000</td>\n",
       "      <td>30.220001</td>\n",
       "      <td>1654929794228</td>\n",
       "      <td>4</td>\n",
       "      <td>-80.136574</td>\n",
       "      <td>-80.077130</td>\n",
       "      <td>-79.836296</td>\n",
       "      <td>-80.016667</td>\n",
       "      <td>270.0</td>\n",
       "    </tr>\n",
       "    <tr>\n",
       "      <th>1</th>\n",
       "      <td>100</td>\n",
       "      <td>2.920485</td>\n",
       "      <td>1009474709646</td>\n",
       "      <td>1009746235572</td>\n",
       "      <td>1009850439822</td>\n",
       "      <td>1009578917162</td>\n",
       "      <td>-1.045965</td>\n",
       "      <td>1633</td>\n",
       "      <td>1687.497019</td>\n",
       "      <td>7.659333</td>\n",
       "      <td>...</td>\n",
       "      <td>0.000000</td>\n",
       "      <td>30.980000</td>\n",
       "      <td>29.840002</td>\n",
       "      <td>1654929795219</td>\n",
       "      <td>10</td>\n",
       "      <td>-80.267769</td>\n",
       "      <td>-79.988684</td>\n",
       "      <td>-79.835720</td>\n",
       "      <td>-80.030724</td>\n",
       "      <td>270.0</td>\n",
       "    </tr>\n",
       "    <tr>\n",
       "      <th>2</th>\n",
       "      <td>100</td>\n",
       "      <td>2.536090</td>\n",
       "      <td>1072923068046</td>\n",
       "      <td>1073194681670</td>\n",
       "      <td>1073299179662</td>\n",
       "      <td>1073027569304</td>\n",
       "      <td>-0.799856</td>\n",
       "      <td>1633</td>\n",
       "      <td>1674.791667</td>\n",
       "      <td>7.659333</td>\n",
       "      <td>...</td>\n",
       "      <td>0.000000</td>\n",
       "      <td>30.980000</td>\n",
       "      <td>29.840002</td>\n",
       "      <td>1654929796210</td>\n",
       "      <td>16</td>\n",
       "      <td>-79.964310</td>\n",
       "      <td>-79.850138</td>\n",
       "      <td>-79.693502</td>\n",
       "      <td>-79.835983</td>\n",
       "      <td>270.0</td>\n",
       "    </tr>\n",
       "    <tr>\n",
       "      <th>3</th>\n",
       "      <td>100</td>\n",
       "      <td>2.857669</td>\n",
       "      <td>36731534990</td>\n",
       "      <td>37003232943</td>\n",
       "      <td>37107270798</td>\n",
       "      <td>36835576116</td>\n",
       "      <td>-0.984438</td>\n",
       "      <td>1635</td>\n",
       "      <td>1686.709409</td>\n",
       "      <td>7.668714</td>\n",
       "      <td>...</td>\n",
       "      <td>0.000000</td>\n",
       "      <td>30.980000</td>\n",
       "      <td>29.840002</td>\n",
       "      <td>1654929797201</td>\n",
       "      <td>22</td>\n",
       "      <td>-80.040833</td>\n",
       "      <td>-79.818313</td>\n",
       "      <td>-79.849525</td>\n",
       "      <td>-79.902890</td>\n",
       "      <td>270.0</td>\n",
       "    </tr>\n",
       "    <tr>\n",
       "      <th>4</th>\n",
       "      <td>100</td>\n",
       "      <td>2.263103</td>\n",
       "      <td>99923195534</td>\n",
       "      <td>100194974620</td>\n",
       "      <td>100298828942</td>\n",
       "      <td>100027053147</td>\n",
       "      <td>-0.769092</td>\n",
       "      <td>1645</td>\n",
       "      <td>1685.436774</td>\n",
       "      <td>7.715617</td>\n",
       "      <td>...</td>\n",
       "      <td>0.000000</td>\n",
       "      <td>30.980000</td>\n",
       "      <td>29.840002</td>\n",
       "      <td>1654929798190</td>\n",
       "      <td>28</td>\n",
       "      <td>-79.999908</td>\n",
       "      <td>-80.102552</td>\n",
       "      <td>-80.022316</td>\n",
       "      <td>-80.041592</td>\n",
       "      <td>270.0</td>\n",
       "    </tr>\n",
       "    <tr>\n",
       "      <th>...</th>\n",
       "      <td>...</td>\n",
       "      <td>...</td>\n",
       "      <td>...</td>\n",
       "      <td>...</td>\n",
       "      <td>...</td>\n",
       "      <td>...</td>\n",
       "      <td>...</td>\n",
       "      <td>...</td>\n",
       "      <td>...</td>\n",
       "      <td>...</td>\n",
       "      <td>...</td>\n",
       "      <td>...</td>\n",
       "      <td>...</td>\n",
       "      <td>...</td>\n",
       "      <td>...</td>\n",
       "      <td>...</td>\n",
       "      <td>...</td>\n",
       "      <td>...</td>\n",
       "      <td>...</td>\n",
       "      <td>...</td>\n",
       "      <td>...</td>\n",
       "    </tr>\n",
       "    <tr>\n",
       "      <th>3941</th>\n",
       "      <td>184</td>\n",
       "      <td>3.075243</td>\n",
       "      <td>301428484750</td>\n",
       "      <td>302000434919</td>\n",
       "      <td>302102988430</td>\n",
       "      <td>301531040251</td>\n",
       "      <td>-9.382925</td>\n",
       "      <td>995</td>\n",
       "      <td>1476.125937</td>\n",
       "      <td>4.666893</td>\n",
       "      <td>...</td>\n",
       "      <td>6.999961</td>\n",
       "      <td>41.810001</td>\n",
       "      <td>46.939999</td>\n",
       "      <td>1654930833773</td>\n",
       "      <td>4231</td>\n",
       "      <td>-80.229179</td>\n",
       "      <td>-79.428015</td>\n",
       "      <td>-79.342829</td>\n",
       "      <td>-79.666674</td>\n",
       "      <td>119.0</td>\n",
       "    </tr>\n",
       "    <tr>\n",
       "      <th>3942</th>\n",
       "      <td>184</td>\n",
       "      <td>3.085177</td>\n",
       "      <td>375355600014</td>\n",
       "      <td>375928251294</td>\n",
       "      <td>376031194254</td>\n",
       "      <td>375458544956</td>\n",
       "      <td>-8.306196</td>\n",
       "      <td>991</td>\n",
       "      <td>1418.532184</td>\n",
       "      <td>4.648132</td>\n",
       "      <td>...</td>\n",
       "      <td>6.999961</td>\n",
       "      <td>41.525002</td>\n",
       "      <td>47.319996</td>\n",
       "      <td>1654930834930</td>\n",
       "      <td>4237</td>\n",
       "      <td>-80.196487</td>\n",
       "      <td>-79.576395</td>\n",
       "      <td>-79.985511</td>\n",
       "      <td>-79.919464</td>\n",
       "      <td>119.0</td>\n",
       "    </tr>\n",
       "    <tr>\n",
       "      <th>3943</th>\n",
       "      <td>184</td>\n",
       "      <td>2.674524</td>\n",
       "      <td>449294310542</td>\n",
       "      <td>449867663034</td>\n",
       "      <td>449970544782</td>\n",
       "      <td>449397194279</td>\n",
       "      <td>-8.952233</td>\n",
       "      <td>994</td>\n",
       "      <td>1455.010695</td>\n",
       "      <td>4.662203</td>\n",
       "      <td>...</td>\n",
       "      <td>6.999961</td>\n",
       "      <td>41.810001</td>\n",
       "      <td>46.939999</td>\n",
       "      <td>1654930836088</td>\n",
       "      <td>4243</td>\n",
       "      <td>-80.158638</td>\n",
       "      <td>-79.435472</td>\n",
       "      <td>-79.234453</td>\n",
       "      <td>-79.609521</td>\n",
       "      <td>119.0</td>\n",
       "    </tr>\n",
       "    <tr>\n",
       "      <th>3944</th>\n",
       "      <td>184</td>\n",
       "      <td>2.727551</td>\n",
       "      <td>523279420046</td>\n",
       "      <td>523853474064</td>\n",
       "      <td>523955982478</td>\n",
       "      <td>523381930458</td>\n",
       "      <td>-8.490778</td>\n",
       "      <td>999</td>\n",
       "      <td>1434.188082</td>\n",
       "      <td>4.685655</td>\n",
       "      <td>...</td>\n",
       "      <td>6.999961</td>\n",
       "      <td>41.240002</td>\n",
       "      <td>46.559998</td>\n",
       "      <td>1654930837246</td>\n",
       "      <td>4249</td>\n",
       "      <td>-80.229492</td>\n",
       "      <td>-79.554364</td>\n",
       "      <td>-79.599858</td>\n",
       "      <td>-79.794571</td>\n",
       "      <td>119.0</td>\n",
       "    </tr>\n",
       "    <tr>\n",
       "      <th>3945</th>\n",
       "      <td>184</td>\n",
       "      <td>2.676824</td>\n",
       "      <td>597204949646</td>\n",
       "      <td>597779704639</td>\n",
       "      <td>597883435662</td>\n",
       "      <td>597308682642</td>\n",
       "      <td>-9.936671</td>\n",
       "      <td>986</td>\n",
       "      <td>1501.870529</td>\n",
       "      <td>4.624680</td>\n",
       "      <td>...</td>\n",
       "      <td>6.999961</td>\n",
       "      <td>41.525002</td>\n",
       "      <td>46.939999</td>\n",
       "      <td>1654930838402</td>\n",
       "      <td>4255</td>\n",
       "      <td>-79.617264</td>\n",
       "      <td>-79.487352</td>\n",
       "      <td>-79.358943</td>\n",
       "      <td>-79.487853</td>\n",
       "      <td>119.0</td>\n",
       "    </tr>\n",
       "  </tbody>\n",
       "</table>\n",
       "<p>3946 rows × 28 columns</p>\n",
       "</div>"
      ],
      "text/plain": [
       "      target  nlos_indicator             t1             t2             t3  \\\n",
       "0        100        2.783982   946218857614   946490292658   946594234510   \n",
       "1        100        2.920485  1009474709646  1009746235572  1009850439822   \n",
       "2        100        2.536090  1072923068046  1073194681670  1073299179662   \n",
       "3        100        2.857669    36731534990    37003232943    37107270798   \n",
       "4        100        2.263103    99923195534   100194974620   100298828942   \n",
       "...      ...             ...            ...            ...            ...   \n",
       "3941     184        3.075243   301428484750   302000434919   302102988430   \n",
       "3942     184        3.085177   375355600014   375928251294   376031194254   \n",
       "3943     184        2.674524   449294310542   449867663034   449970544782   \n",
       "3944     184        2.727551   523279420046   523853474064   523955982478   \n",
       "3945     184        2.676824   597204949646   597779704639   597883435662   \n",
       "\n",
       "                 t4      skew   tof     tof_skew     range  ...  course_dist  \\\n",
       "0      946322802711 -2.368804  1622  1745.608935  7.607739  ...     0.000000   \n",
       "1     1009578917162 -1.045965  1633  1687.497019  7.659333  ...     0.000000   \n",
       "2     1073027569304 -0.799856  1633  1674.791667  7.659333  ...     0.000000   \n",
       "3       36835576116 -0.984438  1635  1686.709409  7.668714  ...     0.000000   \n",
       "4      100027053147 -0.769092  1645  1685.436774  7.715617  ...     0.000000   \n",
       "...             ...       ...   ...          ...       ...  ...          ...   \n",
       "3941   301531040251 -9.382925   995  1476.125937  4.666893  ...     6.999961   \n",
       "3942   375458544956 -8.306196   991  1418.532184  4.648132  ...     6.999961   \n",
       "3943   449397194279 -8.952233   994  1455.010695  4.662203  ...     6.999961   \n",
       "3944   523381930458 -8.490778   999  1434.188082  4.685655  ...     6.999961   \n",
       "3945   597308682642 -9.936671   986  1501.870529  4.624680  ...     6.999961   \n",
       "\n",
       "      temperature_initiator  temperature_target      timestamp  seqnum  \\\n",
       "0                 30.980000           30.220001  1654929794228       4   \n",
       "1                 30.980000           29.840002  1654929795219      10   \n",
       "2                 30.980000           29.840002  1654929796210      16   \n",
       "3                 30.980000           29.840002  1654929797201      22   \n",
       "4                 30.980000           29.840002  1654929798190      28   \n",
       "...                     ...                 ...            ...     ...   \n",
       "3941              41.810001           46.939999  1654930833773    4231   \n",
       "3942              41.525002           47.319996  1654930834930    4237   \n",
       "3943              41.810001           46.939999  1654930836088    4243   \n",
       "3944              41.240002           46.559998  1654930837246    4249   \n",
       "3945              41.525002           46.939999  1654930838402    4255   \n",
       "\n",
       "      rssi_request   rssi_ack  rssi_data  rssi_mean  orientation  \n",
       "0       -80.136574 -80.077130 -79.836296 -80.016667        270.0  \n",
       "1       -80.267769 -79.988684 -79.835720 -80.030724        270.0  \n",
       "2       -79.964310 -79.850138 -79.693502 -79.835983        270.0  \n",
       "3       -80.040833 -79.818313 -79.849525 -79.902890        270.0  \n",
       "4       -79.999908 -80.102552 -80.022316 -80.041592        270.0  \n",
       "...            ...        ...        ...        ...          ...  \n",
       "3941    -80.229179 -79.428015 -79.342829 -79.666674        119.0  \n",
       "3942    -80.196487 -79.576395 -79.985511 -79.919464        119.0  \n",
       "3943    -80.158638 -79.435472 -79.234453 -79.609521        119.0  \n",
       "3944    -80.229492 -79.554364 -79.599858 -79.794571        119.0  \n",
       "3945    -79.617264 -79.487352 -79.358943 -79.487853        119.0  \n",
       "\n",
       "[3946 rows x 28 columns]"
      ]
     },
     "execution_count": 47,
     "metadata": {},
     "output_type": "execute_result"
    }
   ],
   "source": [
    "data"
   ]
  },
  {
   "cell_type": "code",
   "execution_count": null,
   "id": "d0aeec77",
   "metadata": {},
   "outputs": [],
   "source": []
  }
 ],
 "metadata": {
  "kernelspec": {
   "display_name": "Python 3 (ipykernel)",
   "language": "python",
   "name": "python3"
  },
  "language_info": {
   "codemirror_mode": {
    "name": "ipython",
    "version": 3
   },
   "file_extension": ".py",
   "mimetype": "text/x-python",
   "name": "python",
   "nbconvert_exporter": "python",
   "pygments_lexer": "ipython3",
   "version": "3.9.7"
  }
 },
 "nbformat": 4,
 "nbformat_minor": 5
}
