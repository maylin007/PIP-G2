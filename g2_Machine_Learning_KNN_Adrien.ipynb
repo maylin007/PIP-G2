{
 "cells": [
  {
   "cell_type": "raw",
   "id": "52576eda",
   "metadata": {},
   "source": [
    "\"\"\"\n",
    "Created on 05/01/2023\n",
    "Group 2\n",
    "Authors: Adrien PELLON\n",
    "License: this code is released under the CeCILL 2.1 license. See\n",
    "https://www.cecill.info/licenses/Licence_CeCILL_V2.1-en.txt\n",
    "\"\"\""
   ]
  },
  {
   "cell_type": "markdown",
   "id": "315a3e0d",
   "metadata": {},
   "source": [
    "# Machine-Learning"
   ]
  },
  {
   "cell_type": "code",
   "execution_count": null,
   "id": "c4ec0d72",
   "metadata": {},
   "outputs": [],
   "source": [
    "import numpy as np\n",
    "import pandas as pd\n",
    "from  matplotlib.colors import LinearSegmentedColormap\n",
    "import matplotlib.pyplot as plt\n",
    "import matplotlib.colors as colors"
   ]
  },
  {
   "cell_type": "code",
   "execution_count": null,
   "id": "d5c6186b",
   "metadata": {},
   "outputs": [],
   "source": [
    "#data importation \n",
    "data = pd.read_csv(r\"/home/sid2019-22/Téléchargements/Dataset_complete.csv\")\n",
    "data = pd.read_csv(r\"/home/sid2019-22/Téléchargements/positions.csv\")\n",
    "extract_orientation = data_0[['node_id','orientation']]\n",
    "extract_orientation.rename(columns={\"node_id\": \"target\"}, inplace=True)\n",
    "data = data_1.merge(extract_orientation,how='left', on = 'target')"
   ]
  },
  {
   "cell_type": "code",
   "execution_count": null,
   "id": "9a466151",
   "metadata": {},
   "outputs": [],
   "source": [
    "data.replace(- np.inf, -120,inplace=True)"
   ]
  },
  {
   "cell_type": "code",
   "execution_count": null,
   "id": "c9c2fa20",
   "metadata": {},
   "outputs": [],
   "source": [
    "data.drop('ranging_unit', axis=1, inplace=True)\n",
    "data.drop('register_dump_CIR', axis=1, inplace=True)\n",
    "data.drop('initiator', axis=1, inplace=True)\n",
    "data.drop('protocol', axis=1, inplace=True)\n",
    "data.drop('loc_initiator_z', axis=1, inplace=True)"
   ]
  },
  {
   "cell_type": "markdown",
   "id": "31c891da",
   "metadata": {},
   "source": [
    "## KNN"
   ]
  },
  {
   "cell_type": "code",
   "execution_count": 1,
   "id": "f53ccb4a",
   "metadata": {},
   "outputs": [],
   "source": [
    "from sklearn.model_selection import train_test_split\n",
    "from sklearn.neighbors import KNeighborsRegressor\n",
    "from sklearn.metrics import mean_squared_error"
   ]
  },
  {
   "cell_type": "markdown",
   "id": "eefb8d89",
   "metadata": {},
   "source": [
    "#### test descendant"
   ]
  },
  {
   "cell_type": "raw",
   "id": "b3b6e8f3",
   "metadata": {},
   "source": [
    "On part du jeu de données entier et enlève petit à petit des colonnes "
   ]
  },
  {
   "cell_type": "code",
   "execution_count": null,
   "id": "64a11898",
   "metadata": {},
   "outputs": [],
   "source": [
    "for j in data.drop(['target','loc_initiator_y','loc_initiator_x'],axis = 1,inplace = False).columns:\n",
    "    for i in data.drop(['target','loc_initiator_y','loc_initiator_x'],axis = 1,inplace = False).columns:\n",
    "        if i != j :\n",
    "            train,test = train_test_split(data.drop(['target',j,i],axis = 1,inplace = False), test_size=0.3, train_size=0.7, shuffle=True)\n",
    "            y_train = train[['loc_initiator_x']]\n",
    "            x_train = train.drop([\"loc_initiator_x\",'loc_initiator_y'], axis=1, inplace=False)\n",
    "\n",
    "            y_test = test[['loc_initiator_x']]\n",
    "            x_test = test.drop([\"loc_initiator_x\",'loc_initiator_y'], axis=1, inplace=False)\n",
    "            knn = KNeighborsRegressor(n_neighbors = 6)\n",
    "            knn.fit(x_train,y_train)\n",
    "            prediction = knn.predict(x_test)\n",
    "            a = knn.score(x_test,y_test)\n",
    "            if a > 0 :\n",
    "                print(knn.score(x_test,y_test),\"sans les colonnes :\",j,i)"
   ]
  },
  {
   "cell_type": "code",
   "execution_count": null,
   "id": "4135eeae",
   "metadata": {},
   "outputs": [],
   "source": [
    "mean_squared_error(y_test,prediction)"
   ]
  },
  {
   "cell_type": "markdown",
   "id": "b347e718",
   "metadata": {},
   "source": [
    "### Test d'amélioration"
   ]
  },
  {
   "cell_type": "code",
   "execution_count": null,
   "id": "c19bd677",
   "metadata": {},
   "outputs": [],
   "source": [
    "from scipy import stats\n",
    "\n",
    "\n",
    "def predict(y):\n",
    "    return slope * y + intercept\n",
    "\n",
    "X =  y_train #selection de la première colonne de notre dataset\n",
    "Y =  train.loc_initiator_y\n",
    "\n",
    "axes = plt.axes()\n",
    "#axes.set_xlim([2, 25])\n",
    "#axes.set_ylim([0, 30])\n",
    "axes.grid()\n",
    "plt.scatter(X,Y)\n",
    "plt.show()\n",
    "#plt.savefig(\"D:/figure.png\")\n",
    "\n",
    "#slope, intercept, r_value, p_value, std_err = stats.linregress(X, Y)\n",
    "\n",
    "fitLine = predict(X)\n",
    "plt.plot(X, fitLine, c='r')\n",
    "\n",
    "print(slope,intercept)"
   ]
  },
  {
   "cell_type": "code",
   "execution_count": null,
   "id": "96efc52a",
   "metadata": {},
   "outputs": [],
   "source": [
    "plt.figure(figsize=(10, 7))\n",
    "plt.plot(prediction,test['loc_initiator_y'],'*r')\n",
    "plt.plot(data['loc_target_x'],data['loc_target_y'],\"*b\")\n",
    "plt.xlabel(\"x location\", fontsize=16)\n",
    "plt.ylabel(\"y location\", fontsize=16)\n",
    "plt.title('Predictive positions of initiator (in red)', fontsize=20);"
   ]
  },
  {
   "cell_type": "markdown",
   "id": "71fb116c",
   "metadata": {},
   "source": [
    "### test ascendant"
   ]
  },
  {
   "cell_type": "raw",
   "id": "c232a72a",
   "metadata": {},
   "source": [
    "On part du jeu de données vide et ajoute petit à petit les variables"
   ]
  },
  {
   "cell_type": "code",
   "execution_count": null,
   "id": "52a27e12",
   "metadata": {},
   "outputs": [],
   "source": [
    "for j in data.drop(['target','loc_initiator_y','loc_initiator_x','timestamp'],axis = 1,inplace = False).columns:\n",
    "    for i in data.drop(['target','loc_initiator_y','loc_initiator_x','timestamp'],axis = 1,inplace = False).columns:\n",
    "        if i != j :\n",
    "            train,test = train_test_split(data[[i,j,'loc_initiator_y','loc_initiator_x','target']], test_size=0.3, train_size=0.7, shuffle=True)\n",
    "            y_train = train[['loc_initiator_x']]\n",
    "            x_train = train.drop([\"loc_initiator_x\",'loc_initiator_y'], axis=1, inplace=False)\n",
    "\n",
    "            y_test = test[['loc_initiator_x']]\n",
    "            x_test = test.drop([\"loc_initiator_x\",'loc_initiator_y'], axis=1, inplace=False)\n",
    "            knn = KNeighborsRegressor(n_neighbors = 6)\n",
    "            knn.fit(x_train,y_train)\n",
    "            prediction = knn.predict(x_test)\n",
    "            a = knn.score(x_test,y_test)\n",
    "            if a > 0.99999 :\n",
    "                print(knn.score(x_test,y_test),\"avec les colonnes :\",j,i)"
   ]
  },
  {
   "cell_type": "code",
   "execution_count": null,
   "id": "babed7b4",
   "metadata": {},
   "outputs": [],
   "source": [
    "train,test = train_test_split(data[['skew',\"loc_initiator_x\",'loc_initiator_y']],test_size=0.3, train_size=0.7, shuffle=True)\n",
    "\n",
    "\n",
    "y_train = train[['loc_initiator_x']]\n",
    "x_train = train.drop([\"loc_initiator_x\",'loc_initiator_y'], axis=1, inplace=False)\n",
    "\n",
    "y_test = test[['loc_initiator_x']]\n",
    "x_test = test.drop([\"loc_initiator_x\",'loc_initiator_y'], axis=1, inplace=False)\n",
    "knn = KNeighborsRegressor(n_neighbors = 6)\n",
    "knn.fit(x_train,y_train)\n",
    "prediction = knn.predict(x_test)\n",
    "knn.score(x_test,y_test)"
   ]
  },
  {
   "cell_type": "markdown",
   "id": "2b01980d",
   "metadata": {},
   "source": [
    "### test avec features"
   ]
  },
  {
   "cell_type": "raw",
   "id": "037fe663",
   "metadata": {},
   "source": [
    "on calcul les variables qui seuls expliquent le mieux et les enregistrent dans la liste l"
   ]
  },
  {
   "cell_type": "code",
   "execution_count": null,
   "id": "2cc107a1",
   "metadata": {},
   "outputs": [],
   "source": [
    "l = []\n",
    "for j in ['nlos_indicator','t1','t2','t3','t4','skew','tof','tof_skew','seqnum','rssi_request','rssi_ack','rssi_data','rssi_mean']:\n",
    "    for i in ['nlos_indicator','t1','t2','t3','t4','skew','tof','tof_skew']:\n",
    "        if i != j :\n",
    "            train,test = train_test_split(data[[i,j,'loc_initiator_y','loc_initiator_x','target']], test_size=0.3, train_size=0.7, shuffle=True)\n",
    "            y_train = train[['loc_initiator_x']]\n",
    "            x_train = train.drop([\"loc_initiator_x\",'loc_initiator_y'], axis=1, inplace=False)\n",
    "\n",
    "            y_test = test[['loc_initiator_x']]\n",
    "            x_test = test.drop([\"loc_initiator_x\",'loc_initiator_y'], axis=1, inplace=False)\n",
    "            knn = KNeighborsRegressor(n_neighbors = 6)\n",
    "            knn.fit(x_train,y_train)\n",
    "            prediction = knn.predict(x_test)\n",
    "            a = knn.score(x_test,y_test)\n",
    "            if a > 0.8 :\n",
    "                print(knn.score(x_test,y_test),\"with columns :\",j,i)\n",
    "                if i not in l:\n",
    "                    l.append(i)\n",
    "                if j not in l :\n",
    "                    l.append(j)"
   ]
  },
  {
   "cell_type": "code",
   "execution_count": null,
   "id": "a197681a",
   "metadata": {},
   "outputs": [],
   "source": [
    "train,test = train_test_split(data[[\"loc_initiator_x\",'loc_initiator_y','nlos_indicator','t1','t2','t3','t4','skew','tof','tof_skew','seqnum','rssi_request','rssi_ack','rssi_data','rssi_mean']], test_size=0.3, train_size=0.7, shuffle=True)\n",
    "y_train = train[['loc_initiator_x']]\n",
    "x_train = train.drop([\"loc_initiator_x\",'loc_initiator_y'], axis=1, inplace=False)\n",
    "\n",
    "\n",
    "from sklearn.feature_selection import SequentialFeatureSelector\n",
    "knn = KNeighborsRegressor(n_neighbors = 6)\n",
    "seq = SequentialFeatureSelector(knn)\n",
    "seq.fit(x_train, y_train)"
   ]
  },
  {
   "cell_type": "code",
   "execution_count": null,
   "id": "5688d8c6",
   "metadata": {},
   "outputs": [],
   "source": [
    "a = seq.get_support()\n",
    "rep = []\n",
    "for i in range(len(a)):\n",
    "    if a[i]:\n",
    "        rep.append(['nlos_indicator','t1','t2','t3','t4','skew','tof','tof_skew','seqnum','rssi_request','rssi_ack','rssi_data','rssi_mean'][i])"
   ]
  },
  {
   "cell_type": "code",
   "execution_count": null,
   "id": "2d76bd6b",
   "metadata": {},
   "outputs": [],
   "source": [
    "train,test = train_test_split(data[[\"loc_initiator_x\",'loc_initiator_y','nlos_indicator', 'skew', 'seqnum', 'rssi_ack', 'rssi_data', 'rssi_mean']], test_size=0.3, train_size=0.7, shuffle=True)\n",
    "y_train = train[['loc_initiator_x']]\n",
    "x_train = train.drop([\"loc_initiator_x\",'loc_initiator_y'], axis=1, inplace=False)\n",
    "\n",
    "y_test = test[['loc_initiator_x']]\n",
    "x_test = test.drop([\"loc_initiator_x\",'loc_initiator_y'], axis=1, inplace=False)\n",
    "knn = KNeighborsRegressor(n_neighbors = 6)\n",
    "knn.fit(x_train,y_train)\n",
    "prediction = knn.predict(x_test)\n",
    "knn.score(x_test,y_test)"
   ]
  },
  {
   "cell_type": "markdown",
   "id": "ae91119d",
   "metadata": {},
   "source": [
    "### test des meilleurs"
   ]
  },
  {
   "cell_type": "code",
   "execution_count": null,
   "id": "3aa8510b",
   "metadata": {},
   "outputs": [],
   "source": [
    "train_best,test_best = train_test_split(data[[\"loc_initiator_x\",'loc_initiator_y','tof_skew', 'tof', 'nlos_indicator', 'seqnum', 'skew']], test_size=0.3, train_size=0.7, shuffle=True)\n",
    "y_train = train[['loc_initiator_x']]\n",
    "x_train = train.drop([\"loc_initiator_x\",'loc_initiator_y'], axis=1, inplace=False)\n",
    "\n",
    "y_test = test[['loc_initiator_x']]\n",
    "x_test = test.drop([\"loc_initiator_x\",'loc_initiator_y'], axis=1, inplace=False)\n",
    "knn = KNeighborsRegressor(n_neighbors = 6)\n",
    "knn.fit(x_train,y_train)\n",
    "prediction = knn.predict(x_test)\n",
    "a = knn.score(x_test,y_test)\n",
    "if a > 0.8 :\n",
    "    print(knn.score(x_test,y_test))"
   ]
  },
  {
   "cell_type": "markdown",
   "id": "74073a9f",
   "metadata": {},
   "source": [
    "### méthode ascendante en partant des meilleurs"
   ]
  },
  {
   "cell_type": "code",
   "execution_count": null,
   "id": "45f83c88",
   "metadata": {},
   "outputs": [],
   "source": [
    "data_clear = data[[\"loc_initiator_x\",'loc_initiator_y','nlos_indicator','t1','t2','t3','t4','skew','tof','tof_skew','seqnum','rssi_request','rssi_ack','rssi_data','rssi_mean']]"
   ]
  },
  {
   "cell_type": "code",
   "execution_count": null,
   "id": "6968636f",
   "metadata": {},
   "outputs": [],
   "source": [
    "data_eph = data[['seqnum', 'tof_skew', 'tof', 'nlos_indicator', 'skew','loc_initiator_x','loc_initiator_y']]\n",
    "for col in data_clear.drop(['seqnum', 'tof_skew', 'tof', 'nlos_indicator', 'skew','loc_initiator_x','loc_initiator_y'],axis=1,inplace = False).columns:\n",
    "    data_eph = pd.concat([data_eph,data_clear[col]],axis=1)\n",
    "    train,test = train_test_split(data_eph , test_size=0.3, train_size=0.7, shuffle=True)\n",
    "\n",
    "    y_train = train[['loc_initiator_x']]\n",
    "    x_train = train.drop(['loc_initiator_x','loc_initiator_y'], axis=1, inplace=False)\n",
    "\n",
    "    y_test = test[['loc_initiator_x']]\n",
    "    x_test = test.drop([\"loc_initiator_x\",'loc_initiator_y'], axis=1, inplace=False)\n",
    "\n",
    "\n",
    "    knn = KNeighborsRegressor(n_neighbors = 6)\n",
    "    knn.fit(x_train,y_train)\n",
    "    prediction = knn.predict(x_test)\n",
    "    \n",
    "    print(knn.score(x_test,y_test),\"juste après avoir rajouté la colonne\",col)"
   ]
  },
  {
   "cell_type": "code",
   "execution_count": null,
   "id": "4a641882",
   "metadata": {},
   "outputs": [],
   "source": []
  },
  {
   "cell_type": "code",
   "execution_count": null,
   "id": "b9c8410e",
   "metadata": {},
   "outputs": [],
   "source": []
  }
 ],
 "metadata": {
  "kernelspec": {
   "display_name": "Python 3 (ipykernel)",
   "language": "python",
   "name": "python3"
  },
  "language_info": {
   "codemirror_mode": {
    "name": "ipython",
    "version": 3
   },
   "file_extension": ".py",
   "mimetype": "text/x-python",
   "name": "python",
   "nbconvert_exporter": "python",
   "pygments_lexer": "ipython3",
   "version": "3.9.7"
  }
 },
 "nbformat": 4,
 "nbformat_minor": 5
}
