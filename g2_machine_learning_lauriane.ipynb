{
 "cells": [
  {
   "cell_type": "markdown",
   "id": "5cff8935",
   "metadata": {},
   "source": [
    "**Created on 05/01/2022**\n",
    "\n",
    "**Group 2**\n",
    "\n",
    "**Authors: LaurianeBompay**\n",
    "\n",
    "**License: this code is released under the CeCILL 2.1 license. See\n",
    "https://www.cecill.info/licenses/Licence_CeCILL_V2.1-en.txt**\n"
   ]
  },
  {
   "cell_type": "code",
   "execution_count": 233,
   "id": "508db3d1",
   "metadata": {},
   "outputs": [],
   "source": [
    "import os\n",
    "import sys\n",
    "import math\n",
    "from sklearn.model_selection import train_test_split, cross_val_score\n",
    "import numpy as np\n",
    "import pandas as pd\n",
    "import matplotlib.pyplot as plt\n",
    "import seaborn as sns\n",
    "from sklearn.ensemble import RandomForestRegressor\n",
    "from sklearn.metrics import mean_squared_error\n",
    "from sklearn.feature_selection import SequentialFeatureSelector"
   ]
  },
  {
   "cell_type": "code",
   "execution_count": 234,
   "id": "98288a55",
   "metadata": {},
   "outputs": [],
   "source": [
    "sns.set_style('darkgrid')"
   ]
  },
  {
   "cell_type": "code",
   "execution_count": 319,
   "id": "4289515b",
   "metadata": {},
   "outputs": [],
   "source": [
    "#data importation \n",
    "data_1 = pd.read_csv(\"newData.csv\", index_col = 0)\n",
    "#data_0 = pd.read_csv(\"positions.csv\")"
   ]
  },
  {
   "cell_type": "markdown",
   "id": "f9f283f4",
   "metadata": {},
   "source": [
    "Il faudra changer l'imporation des données quand on aura le jeu de données avec les changements de repaires."
   ]
  },
  {
   "cell_type": "raw",
   "id": "79c75c1a",
   "metadata": {},
   "source": [
    "#add orientation\n",
    "extract_orientation = data_0[['node_id','orientation']]\n",
    "extract_orientation.rename(columns={\"node_id\": \"target\"}, inplace=True)\n",
    "data_1 = data_1.merge(extract_orientation, how='left', on = 'target')"
   ]
  },
  {
   "cell_type": "markdown",
   "id": "c982c35b",
   "metadata": {},
   "source": [
    "## <center>Remplacement des -inf</center>"
   ]
  },
  {
   "cell_type": "code",
   "execution_count": 320,
   "id": "54e441f0",
   "metadata": {},
   "outputs": [],
   "source": [
    "data_1.replace([-np.inf], -120, inplace=True)"
   ]
  },
  {
   "cell_type": "markdown",
   "id": "2c758234",
   "metadata": {},
   "source": [
    "Les -inf sont dans les rssi et indique que le signal est très mauvais (ce n'est pas un nan) donc on remplace par -120 car c'est la valeur qui indique un mauvais signal (voir la doc sur les rssi)"
   ]
  },
  {
   "cell_type": "raw",
   "id": "8a2ff388",
   "metadata": {},
   "source": [
    "#data selection\n",
    "data_1.drop('ranging_unit', axis=1, inplace=True)\n",
    "data_1.drop('register_dump_CIR', axis=1, inplace=True)\n",
    "data_1.drop('initiator', axis=1, inplace=True)\n",
    "data_1.drop('protocol', axis=1, inplace=True)\n",
    "data_1.drop('loc_initiator_z', axis=1, inplace=True)"
   ]
  },
  {
   "cell_type": "code",
   "execution_count": 321,
   "id": "294492b0",
   "metadata": {},
   "outputs": [
    {
     "data": {
      "text/html": [
       "<div>\n",
       "<style scoped>\n",
       "    .dataframe tbody tr th:only-of-type {\n",
       "        vertical-align: middle;\n",
       "    }\n",
       "\n",
       "    .dataframe tbody tr th {\n",
       "        vertical-align: top;\n",
       "    }\n",
       "\n",
       "    .dataframe thead th {\n",
       "        text-align: right;\n",
       "    }\n",
       "</style>\n",
       "<table border=\"1\" class=\"dataframe\">\n",
       "  <thead>\n",
       "    <tr style=\"text-align: right;\">\n",
       "      <th></th>\n",
       "      <th>target</th>\n",
       "      <th>nlos_indicator</th>\n",
       "      <th>t1</th>\n",
       "      <th>t2</th>\n",
       "      <th>t3</th>\n",
       "      <th>t4</th>\n",
       "      <th>skew</th>\n",
       "      <th>tof</th>\n",
       "      <th>tof_skew</th>\n",
       "      <th>range</th>\n",
       "      <th>...</th>\n",
       "      <th>course_dist</th>\n",
       "      <th>temperature_initiator</th>\n",
       "      <th>temperature_target</th>\n",
       "      <th>timestamp</th>\n",
       "      <th>seqnum</th>\n",
       "      <th>rssi_request</th>\n",
       "      <th>rssi_ack</th>\n",
       "      <th>rssi_data</th>\n",
       "      <th>rssi_mean</th>\n",
       "      <th>repaire</th>\n",
       "    </tr>\n",
       "  </thead>\n",
       "  <tbody>\n",
       "    <tr>\n",
       "      <th>count</th>\n",
       "      <td>19730.000000</td>\n",
       "      <td>19730.000000</td>\n",
       "      <td>1.973000e+04</td>\n",
       "      <td>1.973000e+04</td>\n",
       "      <td>1.973000e+04</td>\n",
       "      <td>1.973000e+04</td>\n",
       "      <td>19730.000000</td>\n",
       "      <td>19730.000000</td>\n",
       "      <td>19730.000000</td>\n",
       "      <td>19730.000000</td>\n",
       "      <td>...</td>\n",
       "      <td>19730.000000</td>\n",
       "      <td>19730.000000</td>\n",
       "      <td>19730.000000</td>\n",
       "      <td>1.973000e+04</td>\n",
       "      <td>19730.000000</td>\n",
       "      <td>19730.000000</td>\n",
       "      <td>19730.000000</td>\n",
       "      <td>19730.000000</td>\n",
       "      <td>19730.000000</td>\n",
       "      <td>19730.000000</td>\n",
       "    </tr>\n",
       "    <tr>\n",
       "      <th>mean</th>\n",
       "      <td>148.315256</td>\n",
       "      <td>7.215384</td>\n",
       "      <td>5.505930e+11</td>\n",
       "      <td>5.509284e+11</td>\n",
       "      <td>5.510320e+11</td>\n",
       "      <td>5.506966e+11</td>\n",
       "      <td>-2.755970</td>\n",
       "      <td>999.946275</td>\n",
       "      <td>1142.269047</td>\n",
       "      <td>4.690093</td>\n",
       "      <td>...</td>\n",
       "      <td>3.617079</td>\n",
       "      <td>39.577380</td>\n",
       "      <td>39.555326</td>\n",
       "      <td>1.654930e+12</td>\n",
       "      <td>2200.960720</td>\n",
       "      <td>-81.090100</td>\n",
       "      <td>-80.970815</td>\n",
       "      <td>-80.836828</td>\n",
       "      <td>-81.005838</td>\n",
       "      <td>106.200000</td>\n",
       "    </tr>\n",
       "    <tr>\n",
       "      <th>std</th>\n",
       "      <td>35.801496</td>\n",
       "      <td>19.474280</td>\n",
       "      <td>3.164088e+11</td>\n",
       "      <td>3.164091e+11</td>\n",
       "      <td>3.164091e+11</td>\n",
       "      <td>3.164088e+11</td>\n",
       "      <td>3.762077</td>\n",
       "      <td>674.275845</td>\n",
       "      <td>646.644922</td>\n",
       "      <td>3.162586</td>\n",
       "      <td>...</td>\n",
       "      <td>2.026579</td>\n",
       "      <td>2.341626</td>\n",
       "      <td>3.781826</td>\n",
       "      <td>3.017622e+05</td>\n",
       "      <td>1216.021329</td>\n",
       "      <td>5.635227</td>\n",
       "      <td>5.072462</td>\n",
       "      <td>4.817778</td>\n",
       "      <td>5.385790</td>\n",
       "      <td>61.171477</td>\n",
       "    </tr>\n",
       "    <tr>\n",
       "      <th>min</th>\n",
       "      <td>100.000000</td>\n",
       "      <td>0.000000</td>\n",
       "      <td>6.062043e+07</td>\n",
       "      <td>2.633300e+08</td>\n",
       "      <td>3.679996e+08</td>\n",
       "      <td>1.652910e+08</td>\n",
       "      <td>-11.659438</td>\n",
       "      <td>-613.000000</td>\n",
       "      <td>-152.480214</td>\n",
       "      <td>-2.875181</td>\n",
       "      <td>...</td>\n",
       "      <td>0.000000</td>\n",
       "      <td>30.410000</td>\n",
       "      <td>27.559999</td>\n",
       "      <td>1.654930e+12</td>\n",
       "      <td>1.000000</td>\n",
       "      <td>-120.000000</td>\n",
       "      <td>-120.000000</td>\n",
       "      <td>-120.000000</td>\n",
       "      <td>-120.000000</td>\n",
       "      <td>0.000000</td>\n",
       "    </tr>\n",
       "    <tr>\n",
       "      <th>25%</th>\n",
       "      <td>101.000000</td>\n",
       "      <td>2.956454</td>\n",
       "      <td>2.778599e+11</td>\n",
       "      <td>2.782487e+11</td>\n",
       "      <td>2.783513e+11</td>\n",
       "      <td>2.779625e+11</td>\n",
       "      <td>-5.783573</td>\n",
       "      <td>655.000000</td>\n",
       "      <td>715.849019</td>\n",
       "      <td>3.072176</td>\n",
       "      <td>...</td>\n",
       "      <td>1.899738</td>\n",
       "      <td>38.959999</td>\n",
       "      <td>36.680000</td>\n",
       "      <td>1.654930e+12</td>\n",
       "      <td>1174.000000</td>\n",
       "      <td>-79.967224</td>\n",
       "      <td>-79.988684</td>\n",
       "      <td>-79.884079</td>\n",
       "      <td>-79.886929</td>\n",
       "      <td>100.000000</td>\n",
       "    </tr>\n",
       "    <tr>\n",
       "      <th>50%</th>\n",
       "      <td>171.000000</td>\n",
       "      <td>3.524929</td>\n",
       "      <td>5.528798e+11</td>\n",
       "      <td>5.532044e+11</td>\n",
       "      <td>5.533074e+11</td>\n",
       "      <td>5.529824e+11</td>\n",
       "      <td>-1.784294</td>\n",
       "      <td>898.000000</td>\n",
       "      <td>998.316717</td>\n",
       "      <td>4.211930</td>\n",
       "      <td>...</td>\n",
       "      <td>3.699628</td>\n",
       "      <td>40.384998</td>\n",
       "      <td>39.340000</td>\n",
       "      <td>1.654930e+12</td>\n",
       "      <td>2231.500000</td>\n",
       "      <td>-79.230034</td>\n",
       "      <td>-79.305238</td>\n",
       "      <td>-79.218111</td>\n",
       "      <td>-79.237715</td>\n",
       "      <td>101.000000</td>\n",
       "    </tr>\n",
       "    <tr>\n",
       "      <th>75%</th>\n",
       "      <td>180.000000</td>\n",
       "      <td>4.342597</td>\n",
       "      <td>8.239225e+11</td>\n",
       "      <td>8.243395e+11</td>\n",
       "      <td>8.244432e+11</td>\n",
       "      <td>8.240262e+11</td>\n",
       "      <td>0.338401</td>\n",
       "      <td>1222.000000</td>\n",
       "      <td>1355.550936</td>\n",
       "      <td>5.731602</td>\n",
       "      <td>...</td>\n",
       "      <td>5.399282</td>\n",
       "      <td>41.240002</td>\n",
       "      <td>42.380001</td>\n",
       "      <td>1.654931e+12</td>\n",
       "      <td>3252.000000</td>\n",
       "      <td>-78.659592</td>\n",
       "      <td>-78.701023</td>\n",
       "      <td>-78.666953</td>\n",
       "      <td>-78.686635</td>\n",
       "      <td>150.000000</td>\n",
       "    </tr>\n",
       "    <tr>\n",
       "      <th>max</th>\n",
       "      <td>184.000000</td>\n",
       "      <td>342.462982</td>\n",
       "      <td>1.099128e+12</td>\n",
       "      <td>1.099376e+12</td>\n",
       "      <td>1.099479e+12</td>\n",
       "      <td>1.099231e+12</td>\n",
       "      <td>4.829899</td>\n",
       "      <td>2636.000000</td>\n",
       "      <td>2860.190262</td>\n",
       "      <td>12.363750</td>\n",
       "      <td>...</td>\n",
       "      <td>6.999961</td>\n",
       "      <td>42.380001</td>\n",
       "      <td>47.320004</td>\n",
       "      <td>1.654931e+12</td>\n",
       "      <td>4260.000000</td>\n",
       "      <td>-77.162437</td>\n",
       "      <td>-77.516188</td>\n",
       "      <td>-77.428716</td>\n",
       "      <td>-77.478065</td>\n",
       "      <td>180.000000</td>\n",
       "    </tr>\n",
       "  </tbody>\n",
       "</table>\n",
       "<p>8 rows × 28 columns</p>\n",
       "</div>"
      ],
      "text/plain": [
       "             target  nlos_indicator            t1            t2            t3  \\\n",
       "count  19730.000000    19730.000000  1.973000e+04  1.973000e+04  1.973000e+04   \n",
       "mean     148.315256        7.215384  5.505930e+11  5.509284e+11  5.510320e+11   \n",
       "std       35.801496       19.474280  3.164088e+11  3.164091e+11  3.164091e+11   \n",
       "min      100.000000        0.000000  6.062043e+07  2.633300e+08  3.679996e+08   \n",
       "25%      101.000000        2.956454  2.778599e+11  2.782487e+11  2.783513e+11   \n",
       "50%      171.000000        3.524929  5.528798e+11  5.532044e+11  5.533074e+11   \n",
       "75%      180.000000        4.342597  8.239225e+11  8.243395e+11  8.244432e+11   \n",
       "max      184.000000      342.462982  1.099128e+12  1.099376e+12  1.099479e+12   \n",
       "\n",
       "                 t4          skew           tof      tof_skew         range  \\\n",
       "count  1.973000e+04  19730.000000  19730.000000  19730.000000  19730.000000   \n",
       "mean   5.506966e+11     -2.755970    999.946275   1142.269047      4.690093   \n",
       "std    3.164088e+11      3.762077    674.275845    646.644922      3.162586   \n",
       "min    1.652910e+08    -11.659438   -613.000000   -152.480214     -2.875181   \n",
       "25%    2.779625e+11     -5.783573    655.000000    715.849019      3.072176   \n",
       "50%    5.529824e+11     -1.784294    898.000000    998.316717      4.211930   \n",
       "75%    8.240262e+11      0.338401   1222.000000   1355.550936      5.731602   \n",
       "max    1.099231e+12      4.829899   2636.000000   2860.190262     12.363750   \n",
       "\n",
       "       ...   course_dist  temperature_initiator  temperature_target  \\\n",
       "count  ...  19730.000000           19730.000000        19730.000000   \n",
       "mean   ...      3.617079              39.577380           39.555326   \n",
       "std    ...      2.026579               2.341626            3.781826   \n",
       "min    ...      0.000000              30.410000           27.559999   \n",
       "25%    ...      1.899738              38.959999           36.680000   \n",
       "50%    ...      3.699628              40.384998           39.340000   \n",
       "75%    ...      5.399282              41.240002           42.380001   \n",
       "max    ...      6.999961              42.380001           47.320004   \n",
       "\n",
       "          timestamp        seqnum  rssi_request      rssi_ack     rssi_data  \\\n",
       "count  1.973000e+04  19730.000000  19730.000000  19730.000000  19730.000000   \n",
       "mean   1.654930e+12   2200.960720    -81.090100    -80.970815    -80.836828   \n",
       "std    3.017622e+05   1216.021329      5.635227      5.072462      4.817778   \n",
       "min    1.654930e+12      1.000000   -120.000000   -120.000000   -120.000000   \n",
       "25%    1.654930e+12   1174.000000    -79.967224    -79.988684    -79.884079   \n",
       "50%    1.654930e+12   2231.500000    -79.230034    -79.305238    -79.218111   \n",
       "75%    1.654931e+12   3252.000000    -78.659592    -78.701023    -78.666953   \n",
       "max    1.654931e+12   4260.000000    -77.162437    -77.516188    -77.428716   \n",
       "\n",
       "          rssi_mean       repaire  \n",
       "count  19730.000000  19730.000000  \n",
       "mean     -81.005838    106.200000  \n",
       "std        5.385790     61.171477  \n",
       "min     -120.000000      0.000000  \n",
       "25%      -79.886929    100.000000  \n",
       "50%      -79.237715    101.000000  \n",
       "75%      -78.686635    150.000000  \n",
       "max      -77.478065    180.000000  \n",
       "\n",
       "[8 rows x 28 columns]"
      ]
     },
     "execution_count": 321,
     "metadata": {},
     "output_type": "execute_result"
    }
   ],
   "source": [
    "data_1.describe()"
   ]
  },
  {
   "cell_type": "markdown",
   "id": "e230748f",
   "metadata": {},
   "source": [
    "## <center>Test du modèle random forest pour determiner le position</center>"
   ]
  },
  {
   "cell_type": "markdown",
   "id": "f0378428",
   "metadata": {},
   "source": [
    "### Selection des variables pour la prédiction de position"
   ]
  },
  {
   "cell_type": "code",
   "execution_count": 397,
   "id": "6e2a2297",
   "metadata": {},
   "outputs": [],
   "source": [
    "data_for_pred = data_1.drop(['target',\n",
    "                             'range',\n",
    "                             'range_skew',\n",
    "                             'ranging_error',\n",
    "                             'distance',\n",
    "                             'loc_target_z',\n",
    "                             'timestamp',\n",
    "                             'course_dist',\n",
    "                             'temperature_initiator',\n",
    "                             'temperature_target',\n",
    "                             'seqnum'],axis=1, inplace=False)"
   ]
  },
  {
   "cell_type": "markdown",
   "id": "424ee6ef",
   "metadata": {},
   "source": [
    "On supprime course_dist car c'est équivalent à la localisation"
   ]
  },
  {
   "cell_type": "code",
   "execution_count": 398,
   "id": "8d78f520",
   "metadata": {},
   "outputs": [],
   "source": [
    "var = data_for_pred.columns.to_list()\n",
    "y=data_for_pred[['loc_initiator_x','loc_initiator_y']]"
   ]
  },
  {
   "cell_type": "code",
   "execution_count": 415,
   "id": "5885cfa5",
   "metadata": {},
   "outputs": [],
   "source": [
    "#ceration of test and train\n",
    "test,train = train_test_split(data_for_pred, test_size=0.3, train_size=0.7, shuffle=True)\n",
    "Y_train = train[['loc_initiator_x', 'loc_initiator_y']]\n",
    "X_train = train.drop([\"loc_initiator_x\",'loc_initiator_y'], axis=1, inplace=False)\n",
    "\n",
    "Y_test = test[['loc_initiator_x', 'loc_initiator_y']]\n",
    "X_test = test.drop([\"loc_initiator_x\",'loc_initiator_y'], axis=1, inplace=False)"
   ]
  },
  {
   "cell_type": "code",
   "execution_count": 416,
   "id": "c768fefb",
   "metadata": {},
   "outputs": [
    {
     "data": {
      "text/html": [
       "<div>\n",
       "<style scoped>\n",
       "    .dataframe tbody tr th:only-of-type {\n",
       "        vertical-align: middle;\n",
       "    }\n",
       "\n",
       "    .dataframe tbody tr th {\n",
       "        vertical-align: top;\n",
       "    }\n",
       "\n",
       "    .dataframe thead th {\n",
       "        text-align: right;\n",
       "    }\n",
       "</style>\n",
       "<table border=\"1\" class=\"dataframe\">\n",
       "  <thead>\n",
       "    <tr style=\"text-align: right;\">\n",
       "      <th></th>\n",
       "      <th>nlos_indicator</th>\n",
       "      <th>t1</th>\n",
       "      <th>t2</th>\n",
       "      <th>t3</th>\n",
       "      <th>t4</th>\n",
       "      <th>skew</th>\n",
       "      <th>tof</th>\n",
       "      <th>tof_skew</th>\n",
       "      <th>loc_target_x</th>\n",
       "      <th>loc_target_y</th>\n",
       "      <th>rssi_request</th>\n",
       "      <th>rssi_ack</th>\n",
       "      <th>rssi_data</th>\n",
       "      <th>rssi_mean</th>\n",
       "      <th>repaire</th>\n",
       "    </tr>\n",
       "  </thead>\n",
       "  <tbody>\n",
       "    <tr>\n",
       "      <th>count</th>\n",
       "      <td>5919.000000</td>\n",
       "      <td>5.919000e+03</td>\n",
       "      <td>5.919000e+03</td>\n",
       "      <td>5.919000e+03</td>\n",
       "      <td>5.919000e+03</td>\n",
       "      <td>5919.000000</td>\n",
       "      <td>5919.000000</td>\n",
       "      <td>5919.000000</td>\n",
       "      <td>5919.000000</td>\n",
       "      <td>5919.000000</td>\n",
       "      <td>5919.000000</td>\n",
       "      <td>5919.000000</td>\n",
       "      <td>5919.000000</td>\n",
       "      <td>5919.000000</td>\n",
       "      <td>5919.000000</td>\n",
       "    </tr>\n",
       "    <tr>\n",
       "      <th>mean</th>\n",
       "      <td>7.504284</td>\n",
       "      <td>5.546825e+11</td>\n",
       "      <td>5.550187e+11</td>\n",
       "      <td>5.551223e+11</td>\n",
       "      <td>5.547861e+11</td>\n",
       "      <td>-2.741404</td>\n",
       "      <td>1004.213550</td>\n",
       "      <td>1145.789615</td>\n",
       "      <td>-0.965415</td>\n",
       "      <td>-0.853090</td>\n",
       "      <td>-81.139981</td>\n",
       "      <td>-80.998792</td>\n",
       "      <td>-80.879298</td>\n",
       "      <td>-81.036701</td>\n",
       "      <td>106.717520</td>\n",
       "    </tr>\n",
       "    <tr>\n",
       "      <th>std</th>\n",
       "      <td>20.168912</td>\n",
       "      <td>3.158573e+11</td>\n",
       "      <td>3.158558e+11</td>\n",
       "      <td>3.158558e+11</td>\n",
       "      <td>3.158573e+11</td>\n",
       "      <td>3.746195</td>\n",
       "      <td>676.578235</td>\n",
       "      <td>651.791452</td>\n",
       "      <td>8.123395</td>\n",
       "      <td>4.733176</td>\n",
       "      <td>5.661280</td>\n",
       "      <td>5.010859</td>\n",
       "      <td>4.859161</td>\n",
       "      <td>5.336994</td>\n",
       "      <td>61.282337</td>\n",
       "    </tr>\n",
       "    <tr>\n",
       "      <th>min</th>\n",
       "      <td>0.000000</td>\n",
       "      <td>6.062043e+07</td>\n",
       "      <td>2.633300e+08</td>\n",
       "      <td>3.679996e+08</td>\n",
       "      <td>1.652910e+08</td>\n",
       "      <td>-11.659438</td>\n",
       "      <td>-613.000000</td>\n",
       "      <td>-152.480214</td>\n",
       "      <td>-15.404000</td>\n",
       "      <td>-9.249000</td>\n",
       "      <td>-120.000000</td>\n",
       "      <td>-120.000000</td>\n",
       "      <td>-120.000000</td>\n",
       "      <td>-120.000000</td>\n",
       "      <td>0.000000</td>\n",
       "    </tr>\n",
       "    <tr>\n",
       "      <th>25%</th>\n",
       "      <td>2.947936</td>\n",
       "      <td>2.822200e+11</td>\n",
       "      <td>2.826866e+11</td>\n",
       "      <td>2.827893e+11</td>\n",
       "      <td>2.823228e+11</td>\n",
       "      <td>-5.752810</td>\n",
       "      <td>636.000000</td>\n",
       "      <td>710.157539</td>\n",
       "      <td>-7.359000</td>\n",
       "      <td>-4.671000</td>\n",
       "      <td>-79.980904</td>\n",
       "      <td>-80.006742</td>\n",
       "      <td>-79.884079</td>\n",
       "      <td>-79.886662</td>\n",
       "      <td>100.000000</td>\n",
       "    </tr>\n",
       "    <tr>\n",
       "      <th>50%</th>\n",
       "      <td>3.536684</td>\n",
       "      <td>5.619592e+11</td>\n",
       "      <td>5.622853e+11</td>\n",
       "      <td>5.623891e+11</td>\n",
       "      <td>5.620621e+11</td>\n",
       "      <td>-1.784294</td>\n",
       "      <td>901.000000</td>\n",
       "      <td>999.263503</td>\n",
       "      <td>-0.830000</td>\n",
       "      <td>-1.546000</td>\n",
       "      <td>-79.230507</td>\n",
       "      <td>-79.320397</td>\n",
       "      <td>-79.232468</td>\n",
       "      <td>-79.253947</td>\n",
       "      <td>101.000000</td>\n",
       "    </tr>\n",
       "    <tr>\n",
       "      <th>75%</th>\n",
       "      <td>4.389418</td>\n",
       "      <td>8.240644e+11</td>\n",
       "      <td>8.243547e+11</td>\n",
       "      <td>8.244584e+11</td>\n",
       "      <td>8.241682e+11</td>\n",
       "      <td>0.369164</td>\n",
       "      <td>1222.500000</td>\n",
       "      <td>1363.346112</td>\n",
       "      <td>5.252000</td>\n",
       "      <td>3.318000</td>\n",
       "      <td>-78.665154</td>\n",
       "      <td>-78.716261</td>\n",
       "      <td>-78.667944</td>\n",
       "      <td>-78.690827</td>\n",
       "      <td>150.000000</td>\n",
       "    </tr>\n",
       "    <tr>\n",
       "      <th>max</th>\n",
       "      <td>342.462982</td>\n",
       "      <td>1.099128e+12</td>\n",
       "      <td>1.099376e+12</td>\n",
       "      <td>1.099479e+12</td>\n",
       "      <td>1.099231e+12</td>\n",
       "      <td>4.829899</td>\n",
       "      <td>2636.000000</td>\n",
       "      <td>2860.190262</td>\n",
       "      <td>15.404000</td>\n",
       "      <td>9.249000</td>\n",
       "      <td>-77.162437</td>\n",
       "      <td>-77.516188</td>\n",
       "      <td>-77.428716</td>\n",
       "      <td>-77.478065</td>\n",
       "      <td>180.000000</td>\n",
       "    </tr>\n",
       "  </tbody>\n",
       "</table>\n",
       "</div>"
      ],
      "text/plain": [
       "       nlos_indicator            t1            t2            t3            t4  \\\n",
       "count     5919.000000  5.919000e+03  5.919000e+03  5.919000e+03  5.919000e+03   \n",
       "mean         7.504284  5.546825e+11  5.550187e+11  5.551223e+11  5.547861e+11   \n",
       "std         20.168912  3.158573e+11  3.158558e+11  3.158558e+11  3.158573e+11   \n",
       "min          0.000000  6.062043e+07  2.633300e+08  3.679996e+08  1.652910e+08   \n",
       "25%          2.947936  2.822200e+11  2.826866e+11  2.827893e+11  2.823228e+11   \n",
       "50%          3.536684  5.619592e+11  5.622853e+11  5.623891e+11  5.620621e+11   \n",
       "75%          4.389418  8.240644e+11  8.243547e+11  8.244584e+11  8.241682e+11   \n",
       "max        342.462982  1.099128e+12  1.099376e+12  1.099479e+12  1.099231e+12   \n",
       "\n",
       "              skew          tof     tof_skew  loc_target_x  loc_target_y  \\\n",
       "count  5919.000000  5919.000000  5919.000000   5919.000000   5919.000000   \n",
       "mean     -2.741404  1004.213550  1145.789615     -0.965415     -0.853090   \n",
       "std       3.746195   676.578235   651.791452      8.123395      4.733176   \n",
       "min     -11.659438  -613.000000  -152.480214    -15.404000     -9.249000   \n",
       "25%      -5.752810   636.000000   710.157539     -7.359000     -4.671000   \n",
       "50%      -1.784294   901.000000   999.263503     -0.830000     -1.546000   \n",
       "75%       0.369164  1222.500000  1363.346112      5.252000      3.318000   \n",
       "max       4.829899  2636.000000  2860.190262     15.404000      9.249000   \n",
       "\n",
       "       rssi_request     rssi_ack    rssi_data    rssi_mean      repaire  \n",
       "count   5919.000000  5919.000000  5919.000000  5919.000000  5919.000000  \n",
       "mean     -81.139981   -80.998792   -80.879298   -81.036701   106.717520  \n",
       "std        5.661280     5.010859     4.859161     5.336994    61.282337  \n",
       "min     -120.000000  -120.000000  -120.000000  -120.000000     0.000000  \n",
       "25%      -79.980904   -80.006742   -79.884079   -79.886662   100.000000  \n",
       "50%      -79.230507   -79.320397   -79.232468   -79.253947   101.000000  \n",
       "75%      -78.665154   -78.716261   -78.667944   -78.690827   150.000000  \n",
       "max      -77.162437   -77.516188   -77.428716   -77.478065   180.000000  "
      ]
     },
     "execution_count": 416,
     "metadata": {},
     "output_type": "execute_result"
    }
   ],
   "source": [
    "X_train.describe()"
   ]
  },
  {
   "cell_type": "markdown",
   "id": "327ca3e2",
   "metadata": {},
   "source": [
    "#### Premier modele avec toutes les variables"
   ]
  },
  {
   "cell_type": "code",
   "execution_count": 417,
   "id": "1907da1c",
   "metadata": {},
   "outputs": [],
   "source": [
    "reg = RandomForestRegressor()\n",
    "reg = reg.fit(X_train, Y_train)\n",
    "predic_rf=reg.predict(X_test)"
   ]
  },
  {
   "cell_type": "code",
   "execution_count": 418,
   "id": "23e283c8",
   "metadata": {},
   "outputs": [
    {
     "data": {
      "text/plain": [
       "0.9781751463082673"
      ]
     },
     "execution_count": 418,
     "metadata": {},
     "output_type": "execute_result"
    }
   ],
   "source": [
    "reg.score(X_test,Y_test)"
   ]
  },
  {
   "cell_type": "code",
   "execution_count": 419,
   "id": "00d96e8e",
   "metadata": {},
   "outputs": [
    {
     "data": {
      "text/plain": [
       "0.3622640889305944"
      ]
     },
     "execution_count": 419,
     "metadata": {},
     "output_type": "execute_result"
    }
   ],
   "source": [
    "mean_squared_error(Y_test,predic_rf)"
   ]
  },
  {
   "cell_type": "markdown",
   "id": "d96f27ff",
   "metadata": {},
   "source": [
    "#### Affichage de ce premier modele"
   ]
  },
  {
   "cell_type": "code",
   "execution_count": 420,
   "id": "e7f4cc4d",
   "metadata": {},
   "outputs": [],
   "source": [
    "predic_position = pd.DataFrame(predic_rf, columns=['loc_initiator_x','loc_initiator_y'])"
   ]
  },
  {
   "cell_type": "code",
   "execution_count": 421,
   "id": "8f34a28c",
   "metadata": {},
   "outputs": [
    {
     "data": {
      "image/png": "[encoded data removed]",
      "text/plain": [
       "<Figure size 720x504 with 1 Axes>"
      ]
     },
     "metadata": {},
     "output_type": "display_data"
    }
   ],
   "source": [
    "plt.figure(figsize=(10, 7))\n",
    "plt.plot(predic_position['loc_initiator_x'],predic_position['loc_initiator_y'],'*r')\n",
    "plt.plot(data_for_pred['loc_target_x'],data_for_pred['loc_target_y'],\"*b\")\n",
    "plt.xlabel(\"x location\", fontsize=16)\n",
    "plt.ylabel(\"y location\", fontsize=16)\n",
    "plt.title('Predictive positions of initiator (in red)', fontsize=20);"
   ]
  },
  {
   "cell_type": "code",
   "execution_count": 422,
   "id": "49704143",
   "metadata": {},
   "outputs": [
    {
     "name": "stdout",
     "output_type": "stream",
     "text": [
      "repaire 0.8743521701240831\n",
      "False 0.8743521701240831\n"
     ]
    }
   ],
   "source": [
    "from sklearn.metrics import accuracy_score\n",
    "list_variable=['nlos_indicator',\n",
    " 't1',\n",
    " 't2',\n",
    " 't3',\n",
    " 't4',\n",
    " 'skew',\n",
    " 'tof',\n",
    " 'tof_skew',\n",
    " 'loc_target_x',\n",
    " 'loc_target_y',\n",
    " 'rssi_request',\n",
    " 'rssi_ack',\n",
    " 'rssi_data',\n",
    " 'rssi_mean',\n",
    " 'repaire']\n",
    "list_variable_tabou=list_variable\n",
    "variable=[]\n",
    "score=0\n",
    "data_for_pred=data_for_pred.sample(frac=1).reset_index(drop=True)\n",
    "while len(list_variable_tabou)>0:\n",
    "    y=data_for_pred[['loc_initiator_x','loc_initiator_y']]\n",
    "    variable_en_cour=False\n",
    "    for i in list_variable_tabou:\n",
    "        X=data_for_pred[variable+[i]]\n",
    "        x_train, x_test, y_train, y_test = train_test_split(X, y, test_size=0.25, random_state=42)\n",
    "        clf = RandomForestRegressor()\n",
    "        clf= clf.fit(x_train, y_train)\n",
    "        score_test=clf.score(x_test,y_test)\n",
    "    if score_test>score:\n",
    "        score=score_test\n",
    "        variable_en_cour=i\n",
    "    if variable_en_cour==False:\n",
    "        list_variable_tabou=[]\n",
    "    else:\n",
    "        variable.append(variable_en_cour)\n",
    "        del list_variable_tabou[list_variable_tabou.index(variable_en_cour)]\n",
    "    print(variable_en_cour,score)"
   ]
  },
  {
   "cell_type": "markdown",
   "id": "09f15545",
   "metadata": {},
   "source": [
    "Cet algo me dit qu'il faut garder juste repaire mais ça semble faux"
   ]
  },
  {
   "cell_type": "code",
   "execution_count": 405,
   "id": "ac704dd1",
   "metadata": {},
   "outputs": [
    {
     "data": {
      "text/plain": [
       "SequentialFeatureSelector(estimator=RandomForestRegressor())"
      ]
     },
     "execution_count": 405,
     "metadata": {},
     "output_type": "execute_result"
    }
   ],
   "source": [
    "reg = RandomForestRegressor()\n",
    "sfs = SequentialFeatureSelector(reg)\n",
    "sfs.fit(X_train, Y_train)"
   ]
  },
  {
   "cell_type": "code",
   "execution_count": 406,
   "id": "b11d757f",
   "metadata": {},
   "outputs": [
    {
     "name": "stdout",
     "output_type": "stream",
     "text": [
      "nlos_indicator\n",
      "skew\n",
      "tof\n",
      "tof_skew\n",
      "loc_target_y\n",
      "rssi_data\n",
      "rssi_mean\n"
     ]
    }
   ],
   "source": [
    "var_select = sfs.get_support()\n",
    "list_variable = X_train.columns.to_list()\n",
    "for i in range(len(list_variable)) :\n",
    "    if var_select[i]:\n",
    "        print(list_variable[i])"
   ]
  },
  {
   "cell_type": "markdown",
   "id": "314d24da",
   "metadata": {},
   "source": [
    "#### Deuxième modèle avec les variables sélectionnées : nlos_indicator, skew, tof, tof_skew, loc_target_y, rssi_data,rssi_mean"
   ]
  },
  {
   "cell_type": "code",
   "execution_count": 429,
   "id": "b923a899",
   "metadata": {},
   "outputs": [],
   "source": [
    "#ceration of test and train with selected variables\n",
    "test,train = train_test_split(data_for_pred[['nlos_indicator',\n",
    "                                             'skew',\n",
    "                                             'tof',\n",
    "                                             'tof_skew',\n",
    "                                             'loc_target_y',\n",
    "                                             'rssi_data',\n",
    "                                             'rssi_mean',\n",
    "                                             'loc_initiator_x',\n",
    "                                             'loc_initiator_y']], test_size=0.3, train_size=0.7, shuffle=True)\n",
    "Y_train = train[['loc_initiator_x', 'loc_initiator_y']]\n",
    "X_train = train.drop([\"loc_initiator_x\",'loc_initiator_y'], axis=1, inplace=False)\n",
    "\n",
    "Y_test = test[['loc_initiator_x', 'loc_initiator_y']]\n",
    "X_test = test.drop([\"loc_initiator_x\",'loc_initiator_y'], axis=1, inplace=False)"
   ]
  },
  {
   "cell_type": "code",
   "execution_count": 430,
   "id": "82194478",
   "metadata": {},
   "outputs": [
    {
     "data": {
      "text/plain": [
       "0.9800473344776849"
      ]
     },
     "execution_count": 430,
     "metadata": {},
     "output_type": "execute_result"
    }
   ],
   "source": [
    "reg = RandomForestRegressor()\n",
    "reg = reg.fit(X_train, Y_train)\n",
    "predic_rf=reg.predict(X_test)\n",
    "reg.score(X_test,Y_test)"
   ]
  },
  {
   "cell_type": "code",
   "execution_count": 431,
   "id": "843b3b44",
   "metadata": {},
   "outputs": [
    {
     "data": {
      "text/plain": [
       "0.3387936230734926"
      ]
     },
     "execution_count": 431,
     "metadata": {},
     "output_type": "execute_result"
    }
   ],
   "source": [
    "mean_squared_error(Y_test,predic_rf)"
   ]
  },
  {
   "cell_type": "code",
   "execution_count": 434,
   "id": "c1c3e490",
   "metadata": {},
   "outputs": [],
   "source": [
    "predic_position_2 = pd.DataFrame(predic_rf, columns=['loc_initiator_x','loc_initiator_y'])"
   ]
  },
  {
   "cell_type": "code",
   "execution_count": 435,
   "id": "e086e62b",
   "metadata": {},
   "outputs": [
    {
     "data": {
      "image/png": "[encoded data removed]",
      "text/plain": [
       "<Figure size 720x504 with 1 Axes>"
      ]
     },
     "metadata": {},
     "output_type": "display_data"
    }
   ],
   "source": [
    "plt.figure(figsize=(10, 7))\n",
    "plt.plot(predic_position_2['loc_initiator_x'],predic_position_2['loc_initiator_y'],'*r')\n",
    "plt.plot(data_for_pred['loc_target_x'],data_for_pred['loc_target_y'],\"*b\")\n",
    "plt.xlabel(\"x location\", fontsize=16)\n",
    "plt.ylabel(\"y location\", fontsize=16)\n",
    "plt.title('Predictive positions of initiator (in red)', fontsize=20);"
   ]
  },
  {
   "cell_type": "markdown",
   "id": "ef3da0b0",
   "metadata": {},
   "source": [
    "### Validation croisée"
   ]
  },
  {
   "cell_type": "code",
   "execution_count": 424,
   "id": "99716001",
   "metadata": {},
   "outputs": [],
   "source": [
    "Y = data_for_pred[['loc_initiator_x', 'loc_initiator_y']]\n",
    "X = data_for_pred.drop([\"loc_initiator_x\",'loc_initiator_y'], axis=1, inplace=False)"
   ]
  },
  {
   "cell_type": "code",
   "execution_count": 425,
   "id": "2a66bebb",
   "metadata": {},
   "outputs": [
    {
     "data": {
      "text/plain": [
       "array([0.983855  , 0.98379606, 0.98349805, 0.98401519, 0.98640197])"
      ]
     },
     "execution_count": 425,
     "metadata": {},
     "output_type": "execute_result"
    }
   ],
   "source": [
    "reg = RandomForestRegressor()\n",
    "cross_val_score(reg, X, Y, cv=5)"
   ]
  }
 ],
 "metadata": {
  "kernelspec": {
   "display_name": "Python 3 (ipykernel)",
   "language": "python",
   "name": "python3"
  },
  "language_info": {
   "codemirror_mode": {
    "name": "ipython",
    "version": 3
   },
   "file_extension": ".py",
   "mimetype": "text/x-python",
   "name": "python",
   "nbconvert_exporter": "python",
   "pygments_lexer": "ipython3",
   "version": "3.9.7"
  }
 },
 "nbformat": 4,
 "nbformat_minor": 5
}
