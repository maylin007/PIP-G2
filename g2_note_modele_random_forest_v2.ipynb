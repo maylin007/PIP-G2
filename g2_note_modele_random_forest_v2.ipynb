{
 "cells": [
  {
   "cell_type": "code",
   "execution_count": 129,
   "id": "f376cefd",
   "metadata": {},
   "outputs": [],
   "source": [
    "import os\n",
    "import sys\n",
    "import math\n",
    "from sklearn.model_selection import train_test_split, cross_val_score\n",
    "import numpy as np\n",
    "import pandas as pd\n",
    "import matplotlib.pyplot as plt\n",
    "import seaborn as sns\n",
    "from sklearn.ensemble import RandomForestRegressor\n",
    "from sklearn.metrics import mean_squared_error, mean_absolute_error\n",
    "from sklearn.feature_selection import SequentialFeatureSelector\n",
    "from sklearn.model_selection import GridSearchCV\n",
    "from sklearn.inspection import permutation_importance"
   ]
  },
  {
   "cell_type": "code",
   "execution_count": 130,
   "id": "92d14231",
   "metadata": {},
   "outputs": [],
   "source": [
    "sns.set_style('darkgrid')"
   ]
  },
  {
   "cell_type": "code",
   "execution_count": 142,
   "id": "04e8e55f",
   "metadata": {},
   "outputs": [],
   "source": [
    "train = pd.read_csv(\"train_v3.csv\")\n",
    "test = pd.read_csv(\"test_v3.csv\")\n",
    "validation = pd.read_csv(\"validation_v3.csv\")"
   ]
  },
  {
   "cell_type": "raw",
   "id": "7c4f699a",
   "metadata": {},
   "source": [
    "test.drop(['temperature_initiator','temperature_target'], axis=1, inplace = True)\n",
    "train.drop(['temperature_initiator','temperature_target'], axis=1, inplace = True)\n",
    "validation.drop(['temperature_initiator','temperature_target'], axis=1, inplace = True)"
   ]
  },
  {
   "cell_type": "code",
   "execution_count": 143,
   "id": "b4067749",
   "metadata": {},
   "outputs": [],
   "source": [
    "Y_train = train[['loc_initiator_x', 'loc_initiator_y']]\n",
    "X_train = train.drop([\"loc_initiator_x\",'loc_initiator_y'], axis=1, inplace=False)\n",
    "\n",
    "Y_test = test[['loc_initiator_x', 'loc_initiator_y']]\n",
    "X_test = test.drop([\"loc_initiator_x\",'loc_initiator_y'], axis=1, inplace=False)\n",
    "\n",
    "Y_val = validation[['loc_initiator_x', 'loc_initiator_y']]\n",
    "X_val = validation.drop([\"loc_initiator_x\",'loc_initiator_y'], axis=1, inplace=False)"
   ]
  },
  {
   "cell_type": "code",
   "execution_count": 144,
   "id": "25fa398e",
   "metadata": {},
   "outputs": [
    {
     "data": {
      "text/plain": [
       "GridSearchCV(estimator=RandomForestRegressor(),\n",
       "             param_grid={'max_depth': [3, 6, 9, 12, 20, 30],\n",
       "                         'n_estimators': [1, 100, 150, 200]})"
      ]
     },
     "execution_count": 144,
     "metadata": {},
     "output_type": "execute_result"
    }
   ],
   "source": [
    "parameters = {'max_depth':[3,6,9,12,20,30],\n",
    "              'n_estimators':[1,100,150,200]}\n",
    "reg = RandomForestRegressor()\n",
    "clf = GridSearchCV(reg, parameters)\n",
    "clf.fit(X_train, Y_train)"
   ]
  },
  {
   "cell_type": "code",
   "execution_count": 145,
   "id": "d294044b",
   "metadata": {},
   "outputs": [
    {
     "data": {
      "text/plain": [
       "{'max_depth': 30, 'n_estimators': 100}"
      ]
     },
     "execution_count": 145,
     "metadata": {},
     "output_type": "execute_result"
    }
   ],
   "source": [
    "params_opti = clf.cv_results_['params'][clf.best_index_]\n",
    "params_opti"
   ]
  },
  {
   "cell_type": "code",
   "execution_count": 146,
   "id": "8ab59a20",
   "metadata": {},
   "outputs": [],
   "source": [
    "reg = RandomForestRegressor(max_depth = params_opti['max_depth'], n_estimators = params_opti['n_estimators'])\n",
    "reg = reg.fit(X_train, Y_train)\n",
    "pred_test=reg.predict(X_test)\n",
    "pred_val=reg.predict(X_val)"
   ]
  },
  {
   "cell_type": "code",
   "execution_count": 147,
   "id": "c9d234e6",
   "metadata": {},
   "outputs": [
    {
     "name": "stdout",
     "output_type": "stream",
     "text": [
      "mae test :  0.26257116855524115\n",
      "rmse test :  0.41359686222095926\n",
      "mae validation :  0.14118195696032249\n",
      "rmse validation :  0.21789647017516103\n"
     ]
    }
   ],
   "source": [
    "print(\"mae test : \", mean_absolute_error(Y_test, pred_test))\n",
    "print(\"rmse test : \", np.sqrt(mean_squared_error(Y_test,pred_test)))\n",
    "print(\"mae validation : \", mean_absolute_error(Y_val, pred_val))\n",
    "print(\"rmse validation : \", np.sqrt(mean_squared_error(Y_val,pred_val)))"
   ]
  },
  {
   "cell_type": "code",
   "execution_count": 148,
   "id": "4c48f37b",
   "metadata": {},
   "outputs": [
    {
     "data": {
      "text/plain": [
       "0.9184399513011405"
      ]
     },
     "execution_count": 148,
     "metadata": {},
     "output_type": "execute_result"
    }
   ],
   "source": [
    "reg.score(X_test,Y_test)"
   ]
  },
  {
   "cell_type": "code",
   "execution_count": 149,
   "id": "3fbbae71",
   "metadata": {},
   "outputs": [
    {
     "data": {
      "text/plain": [
       "0.9756404866621022"
      ]
     },
     "execution_count": 149,
     "metadata": {},
     "output_type": "execute_result"
    }
   ],
   "source": [
    "reg.score(X_val,Y_val)"
   ]
  },
  {
   "cell_type": "code",
   "execution_count": 150,
   "id": "f234f5bf",
   "metadata": {},
   "outputs": [
    {
     "data": {
      "text/plain": [
       "t_sig1                   1.466780e-03\n",
       "t_sig2                   1.527149e-03\n",
       "nlos_indicator           4.569900e-03\n",
       "skew                     1.626693e-03\n",
       "tof                      1.375095e-02\n",
       "tof_skew                 3.150434e-03\n",
       "range                    1.359759e-02\n",
       "range_skew               3.066011e-03\n",
       "loc_target_x             7.438293e-04\n",
       "loc_target_y             6.908343e-04\n",
       "temperature_initiator    9.460933e-01\n",
       "temperature_target       2.040252e-03\n",
       "rssi_request             2.012087e-03\n",
       "rssi_ack                 1.083938e-03\n",
       "rssi_data                9.801287e-04\n",
       "rssi_mean                2.197463e-03\n",
       "label_0                  4.081791e-04\n",
       "label_1                  0.000000e+00\n",
       "label_2                  4.933591e-04\n",
       "label_3                  1.924251e-05\n",
       "label_4                  3.106545e-07\n",
       "label_5                  6.695542e-06\n",
       "orientation              4.748490e-04\n",
       "dtype: float64"
      ]
     },
     "execution_count": 150,
     "metadata": {},
     "output_type": "execute_result"
    }
   ],
   "source": [
    "pd.Series(reg.feature_importances_, index=list(X_train.columns))"
   ]
  },
  {
   "cell_type": "code",
   "execution_count": 151,
   "id": "90cd8d4c",
   "metadata": {},
   "outputs": [
    {
     "data": {
      "image/png": "[encoded data removed]",
      "text/plain": [
       "<Figure size 720x504 with 1 Axes>"
      ]
     },
     "metadata": {},
     "output_type": "display_data"
    }
   ],
   "source": [
    "result = permutation_importance(reg, X_test, Y_test, n_repeats=10, random_state=42, n_jobs=2)\n",
    "forest_importances = pd.Series(result.importances_mean, index=list(X_train.columns))\n",
    "\n",
    "fig, ax = plt.subplots(figsize=(10, 7))\n",
    "forest_importances.plot.bar(yerr=result.importances_std, ax=ax)\n",
    "ax.set_title(\"Feature importances using permutation on full model\")\n",
    "ax.set_ylabel(\"Mean accuracy decrease\")\n",
    "fig.tight_layout()\n",
    "plt.show()"
   ]
  },
  {
   "cell_type": "code",
   "execution_count": null,
   "id": "e490da94",
   "metadata": {},
   "outputs": [],
   "source": []
  },
  {
   "cell_type": "code",
   "execution_count": null,
   "id": "0170cd57",
   "metadata": {},
   "outputs": [],
   "source": []
  }
 ],
 "metadata": {
  "kernelspec": {
   "display_name": "Python 3 (ipykernel)",
   "language": "python",
   "name": "python3"
  },
  "language_info": {
   "codemirror_mode": {
    "name": "ipython",
    "version": 3
   },
   "file_extension": ".py",
   "mimetype": "text/x-python",
   "name": "python",
   "nbconvert_exporter": "python",
   "pygments_lexer": "ipython3",
   "version": "3.9.7"
  }
 },
 "nbformat": 4,
 "nbformat_minor": 5
}
